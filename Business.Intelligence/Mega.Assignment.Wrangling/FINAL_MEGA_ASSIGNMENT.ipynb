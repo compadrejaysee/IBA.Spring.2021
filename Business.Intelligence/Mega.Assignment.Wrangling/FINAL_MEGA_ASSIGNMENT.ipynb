{
 "cells": [
  {
   "cell_type": "code",
   "execution_count": 7,
   "metadata": {},
   "outputs": [],
   "source": [
    "#Importing Libraries\n",
    "import pandas as pd\n",
    "import numpy as np\n",
    "import seaborn as sns\n",
    "import missingno as mano\n",
    "from sklearn.impute import SimpleImputer\n",
    "\n",
    "%matplotlib inline\n",
    "import matplotlib.pyplot as plt"
   ]
  },
  {
   "cell_type": "code",
   "execution_count": 8,
   "metadata": {},
   "outputs": [
    {
     "name": "stderr",
     "output_type": "stream",
     "text": [
      "C:\\Users\\HP\\anaconda3\\lib\\site-packages\\IPython\\core\\interactiveshell.py:3063: DtypeWarning: Columns (6) have mixed types.Specify dtype option on import or set low_memory=False.\n",
      "  interactivity=interactivity, compiler=compiler, result=result)\n"
     ]
    }
   ],
   "source": [
    "# Reading the dataset\n",
    "data = pd.read_csv(r'nyc-rolling-sales-dirty (1).csv')"
   ]
  },
  {
   "cell_type": "code",
   "execution_count": 9,
   "metadata": {},
   "outputs": [
    {
     "data": {
      "text/html": [
       "<div>\n",
       "<style scoped>\n",
       "    .dataframe tbody tr th:only-of-type {\n",
       "        vertical-align: middle;\n",
       "    }\n",
       "\n",
       "    .dataframe tbody tr th {\n",
       "        vertical-align: top;\n",
       "    }\n",
       "\n",
       "    .dataframe thead th {\n",
       "        text-align: right;\n",
       "    }\n",
       "</style>\n",
       "<table border=\"1\" class=\"dataframe\">\n",
       "  <thead>\n",
       "    <tr style=\"text-align: right;\">\n",
       "      <th></th>\n",
       "      <th>Unnamed: 0</th>\n",
       "      <th>BOROUGH</th>\n",
       "      <th>NEIGHBORHOOD</th>\n",
       "      <th>BUILDING CLASS CATEGORY</th>\n",
       "      <th>TAX CLASS AT PRESENT</th>\n",
       "      <th>BLOCK</th>\n",
       "      <th>LOT</th>\n",
       "      <th>EASE-MENT</th>\n",
       "      <th>BUILDING CLASS AT PRESENT</th>\n",
       "      <th>ADDRESS</th>\n",
       "      <th>...</th>\n",
       "      <th>RESIDENTIAL UNITS</th>\n",
       "      <th>COMMERCIAL UNITS</th>\n",
       "      <th>TOTAL UNITS</th>\n",
       "      <th>LAND SQUARE FEET</th>\n",
       "      <th>GROSS SQUARE FEET</th>\n",
       "      <th>YEAR BUILT</th>\n",
       "      <th>TAX CLASS AT TIME OF SALE</th>\n",
       "      <th>BUILDING CLASS AT TIME OF SALE</th>\n",
       "      <th>SALE PRICE</th>\n",
       "      <th>SALE DATE</th>\n",
       "    </tr>\n",
       "  </thead>\n",
       "  <tbody>\n",
       "    <tr>\n",
       "      <th>0</th>\n",
       "      <td>4</td>\n",
       "      <td>1</td>\n",
       "      <td>ALPHABET CITY</td>\n",
       "      <td>07 RENTALS - WALKUP APARTMENTS</td>\n",
       "      <td>2A</td>\n",
       "      <td>392.0</td>\n",
       "      <td>No Number</td>\n",
       "      <td></td>\n",
       "      <td>65000</td>\n",
       "      <td>NaN</td>\n",
       "      <td>...</td>\n",
       "      <td>5</td>\n",
       "      <td>0</td>\n",
       "      <td>5</td>\n",
       "      <td>1633</td>\n",
       "      <td>6440</td>\n",
       "      <td>1900</td>\n",
       "      <td>2</td>\n",
       "      <td>C2</td>\n",
       "      <td>6625000</td>\n",
       "      <td>why</td>\n",
       "    </tr>\n",
       "    <tr>\n",
       "      <th>1</th>\n",
       "      <td>5</td>\n",
       "      <td>1</td>\n",
       "      <td>ALPHABET CITY</td>\n",
       "      <td>07 RENTALS - WALKUP APARTMENTS</td>\n",
       "      <td>2</td>\n",
       "      <td>399.0</td>\n",
       "      <td>26</td>\n",
       "      <td></td>\n",
       "      <td>C7</td>\n",
       "      <td>NaN</td>\n",
       "      <td>...</td>\n",
       "      <td>28</td>\n",
       "      <td>3</td>\n",
       "      <td>31</td>\n",
       "      <td>4616</td>\n",
       "      <td>18690</td>\n",
       "      <td>1900</td>\n",
       "      <td>2</td>\n",
       "      <td>C7</td>\n",
       "      <td>-</td>\n",
       "      <td>12/14/2016 0:00</td>\n",
       "    </tr>\n",
       "    <tr>\n",
       "      <th>2</th>\n",
       "      <td>6</td>\n",
       "      <td>1</td>\n",
       "      <td>ALPHABET CITY</td>\n",
       "      <td>07 RENTALS - WALKUP APARTMENTS</td>\n",
       "      <td>NaN</td>\n",
       "      <td>399.0</td>\n",
       "      <td>39</td>\n",
       "      <td></td>\n",
       "      <td>C7</td>\n",
       "      <td>NaN</td>\n",
       "      <td>...</td>\n",
       "      <td>16</td>\n",
       "      <td>1</td>\n",
       "      <td>17</td>\n",
       "      <td>2212</td>\n",
       "      <td>7803</td>\n",
       "      <td>1900</td>\n",
       "      <td>2</td>\n",
       "      <td>C7</td>\n",
       "      <td>-</td>\n",
       "      <td>12/9/2016 0:00</td>\n",
       "    </tr>\n",
       "    <tr>\n",
       "      <th>3</th>\n",
       "      <td>7</td>\n",
       "      <td>1</td>\n",
       "      <td>ALPHABET CITY</td>\n",
       "      <td>07 RENTALS - WALKUP APARTMENTS</td>\n",
       "      <td>NaN</td>\n",
       "      <td>402.0</td>\n",
       "      <td>21</td>\n",
       "      <td></td>\n",
       "      <td>C4</td>\n",
       "      <td>NaN</td>\n",
       "      <td>...</td>\n",
       "      <td>10</td>\n",
       "      <td>0</td>\n",
       "      <td>10</td>\n",
       "      <td>2272</td>\n",
       "      <td>6794</td>\n",
       "      <td>1913</td>\n",
       "      <td>2</td>\n",
       "      <td>C4</td>\n",
       "      <td>3936272</td>\n",
       "      <td>9/23/2016 0:00</td>\n",
       "    </tr>\n",
       "    <tr>\n",
       "      <th>4</th>\n",
       "      <td>8</td>\n",
       "      <td>1</td>\n",
       "      <td>ALPHABET CITY</td>\n",
       "      <td>07 RENTALS - WALKUP APARTMENTS</td>\n",
       "      <td>NaN</td>\n",
       "      <td>404.0</td>\n",
       "      <td>55</td>\n",
       "      <td></td>\n",
       "      <td>C2</td>\n",
       "      <td>NaN</td>\n",
       "      <td>...</td>\n",
       "      <td>6</td>\n",
       "      <td>0</td>\n",
       "      <td>6</td>\n",
       "      <td>2369</td>\n",
       "      <td>4615</td>\n",
       "      <td>1900</td>\n",
       "      <td>2</td>\n",
       "      <td>C2</td>\n",
       "      <td>8000000</td>\n",
       "      <td>11/17/2016 0:00</td>\n",
       "    </tr>\n",
       "  </tbody>\n",
       "</table>\n",
       "<p>5 rows × 22 columns</p>\n",
       "</div>"
      ],
      "text/plain": [
       "   Unnamed: 0  BOROUGH   NEIGHBORHOOD  \\\n",
       "0           4        1  ALPHABET CITY   \n",
       "1           5        1  ALPHABET CITY   \n",
       "2           6        1  ALPHABET CITY   \n",
       "3           7        1  ALPHABET CITY   \n",
       "4           8        1  ALPHABET CITY   \n",
       "\n",
       "                       BUILDING CLASS CATEGORY TAX CLASS AT PRESENT  BLOCK  \\\n",
       "0  07 RENTALS - WALKUP APARTMENTS                                2A  392.0   \n",
       "1  07 RENTALS - WALKUP APARTMENTS                                 2  399.0   \n",
       "2  07 RENTALS - WALKUP APARTMENTS                               NaN  399.0   \n",
       "3  07 RENTALS - WALKUP APARTMENTS                               NaN  402.0   \n",
       "4  07 RENTALS - WALKUP APARTMENTS                               NaN  404.0   \n",
       "\n",
       "         LOT EASE-MENT BUILDING CLASS AT PRESENT ADDRESS  ...  \\\n",
       "0  No Number                               65000     NaN  ...   \n",
       "1         26                                  C7     NaN  ...   \n",
       "2         39                                  C7     NaN  ...   \n",
       "3         21                                  C4     NaN  ...   \n",
       "4         55                                  C2     NaN  ...   \n",
       "\n",
       "  RESIDENTIAL UNITS  COMMERCIAL UNITS  TOTAL UNITS  LAND SQUARE FEET  \\\n",
       "0                 5                 0            5              1633   \n",
       "1                28                 3           31              4616   \n",
       "2                16                 1           17              2212   \n",
       "3                10                 0           10              2272   \n",
       "4                 6                 0            6              2369   \n",
       "\n",
       "   GROSS SQUARE FEET YEAR BUILT TAX CLASS AT TIME OF SALE  \\\n",
       "0               6440       1900                         2   \n",
       "1              18690       1900                         2   \n",
       "2               7803       1900                         2   \n",
       "3               6794       1913                         2   \n",
       "4               4615       1900                         2   \n",
       "\n",
       "   BUILDING CLASS AT TIME OF SALE  SALE PRICE        SALE DATE  \n",
       "0                              C2     6625000             why   \n",
       "1                              C7         -    12/14/2016 0:00  \n",
       "2                              C7         -     12/9/2016 0:00  \n",
       "3                              C4     3936272   9/23/2016 0:00  \n",
       "4                              C2     8000000  11/17/2016 0:00  \n",
       "\n",
       "[5 rows x 22 columns]"
      ]
     },
     "execution_count": 9,
     "metadata": {},
     "output_type": "execute_result"
    }
   ],
   "source": [
    "data.head(5)"
   ]
  },
  {
   "cell_type": "code",
   "execution_count": 10,
   "metadata": {},
   "outputs": [
    {
     "data": {
      "text/plain": [
       "(84548, 22)"
      ]
     },
     "execution_count": 10,
     "metadata": {},
     "output_type": "execute_result"
    }
   ],
   "source": [
    "#We have 84548 rows and 22 columns \n",
    "data.shape"
   ]
  },
  {
   "cell_type": "code",
   "execution_count": 11,
   "metadata": {},
   "outputs": [
    {
     "name": "stdout",
     "output_type": "stream",
     "text": [
      "<class 'pandas.core.frame.DataFrame'>\n",
      "RangeIndex: 84548 entries, 0 to 84547\n",
      "Data columns (total 22 columns):\n",
      " #   Column                          Non-Null Count  Dtype  \n",
      "---  ------                          --------------  -----  \n",
      " 0   Unnamed: 0                      84548 non-null  int64  \n",
      " 1   BOROUGH                         84548 non-null  int64  \n",
      " 2   NEIGHBORHOOD                    84518 non-null  object \n",
      " 3   BUILDING CLASS CATEGORY         84497 non-null  object \n",
      " 4   TAX CLASS AT PRESENT            84541 non-null  object \n",
      " 5   BLOCK                           84532 non-null  float64\n",
      " 6   LOT                             84548 non-null  object \n",
      " 7   EASE-MENT                       84548 non-null  object \n",
      " 8   BUILDING CLASS AT PRESENT       84548 non-null  object \n",
      " 9   ADDRESS                         84503 non-null  object \n",
      " 10  APARTMENT NUMBER                84547 non-null  object \n",
      " 11  ZIP CODE                        84512 non-null  float64\n",
      " 12  RESIDENTIAL UNITS               84548 non-null  int64  \n",
      " 13  COMMERCIAL UNITS                84548 non-null  int64  \n",
      " 14  TOTAL UNITS                     84548 non-null  int64  \n",
      " 15  LAND SQUARE FEET                84548 non-null  object \n",
      " 16  GROSS SQUARE FEET               84548 non-null  object \n",
      " 17  YEAR BUILT                      84548 non-null  int64  \n",
      " 18  TAX CLASS AT TIME OF SALE       84548 non-null  int64  \n",
      " 19  BUILDING CLASS AT TIME OF SALE  84548 non-null  object \n",
      " 20  SALE PRICE                      84548 non-null  object \n",
      " 21  SALE DATE                       84548 non-null  object \n",
      "dtypes: float64(2), int64(7), object(13)\n",
      "memory usage: 14.2+ MB\n"
     ]
    }
   ],
   "source": [
    "data.info()"
   ]
  },
  {
   "cell_type": "markdown",
   "metadata": {},
   "source": [
    "## Remove any unnecessary data "
   ]
  },
  {
   "cell_type": "code",
   "execution_count": 12,
   "metadata": {},
   "outputs": [],
   "source": [
    "data.drop(['Unnamed: 0', 'EASE-MENT'],1, inplace=True)\n",
    "\n",
    "#Since Unnamed column is only used for iterating records, we will drop it. Ease-ment is the right use another's property so we will remove it for now"
   ]
  },
  {
   "cell_type": "code",
   "execution_count": 13,
   "metadata": {},
   "outputs": [
    {
     "name": "stdout",
     "output_type": "stream",
     "text": [
      "<class 'pandas.core.frame.DataFrame'>\n",
      "RangeIndex: 84548 entries, 0 to 84547\n",
      "Data columns (total 20 columns):\n",
      " #   Column                          Non-Null Count  Dtype  \n",
      "---  ------                          --------------  -----  \n",
      " 0   BOROUGH                         84548 non-null  int64  \n",
      " 1   NEIGHBORHOOD                    84518 non-null  object \n",
      " 2   BUILDING CLASS CATEGORY         84497 non-null  object \n",
      " 3   TAX CLASS AT PRESENT            84541 non-null  object \n",
      " 4   BLOCK                           84532 non-null  float64\n",
      " 5   LOT                             84548 non-null  object \n",
      " 6   BUILDING CLASS AT PRESENT       84548 non-null  object \n",
      " 7   ADDRESS                         84503 non-null  object \n",
      " 8   APARTMENT NUMBER                84547 non-null  object \n",
      " 9   ZIP CODE                        84512 non-null  float64\n",
      " 10  RESIDENTIAL UNITS               84548 non-null  int64  \n",
      " 11  COMMERCIAL UNITS                84548 non-null  int64  \n",
      " 12  TOTAL UNITS                     84548 non-null  int64  \n",
      " 13  LAND SQUARE FEET                84548 non-null  object \n",
      " 14  GROSS SQUARE FEET               84548 non-null  object \n",
      " 15  YEAR BUILT                      84548 non-null  int64  \n",
      " 16  TAX CLASS AT TIME OF SALE       84548 non-null  int64  \n",
      " 17  BUILDING CLASS AT TIME OF SALE  84548 non-null  object \n",
      " 18  SALE PRICE                      84548 non-null  object \n",
      " 19  SALE DATE                       84548 non-null  object \n",
      "dtypes: float64(2), int64(6), object(12)\n",
      "memory usage: 12.9+ MB\n"
     ]
    }
   ],
   "source": [
    "data.info()"
   ]
  },
  {
   "cell_type": "markdown",
   "metadata": {},
   "source": [
    "## Find out all the data entry errors"
   ]
  },
  {
   "cell_type": "code",
   "execution_count": 14,
   "metadata": {},
   "outputs": [
    {
     "data": {
      "text/plain": [
       "BOROUGH                            0\n",
       "NEIGHBORHOOD                      30\n",
       "BUILDING CLASS CATEGORY           51\n",
       "TAX CLASS AT PRESENT               7\n",
       "BLOCK                             16\n",
       "LOT                                0\n",
       "BUILDING CLASS AT PRESENT          0\n",
       "ADDRESS                           45\n",
       "APARTMENT NUMBER                   1\n",
       "ZIP CODE                          36\n",
       "RESIDENTIAL UNITS                  0\n",
       "COMMERCIAL UNITS                   0\n",
       "TOTAL UNITS                        0\n",
       "LAND SQUARE FEET                   0\n",
       "GROSS SQUARE FEET                  0\n",
       "YEAR BUILT                         0\n",
       "TAX CLASS AT TIME OF SALE          0\n",
       "BUILDING CLASS AT TIME OF SALE     0\n",
       "SALE PRICE                         0\n",
       "SALE DATE                          0\n",
       "dtype: int64"
      ]
     },
     "execution_count": 14,
     "metadata": {},
     "output_type": "execute_result"
    }
   ],
   "source": [
    "data.isna().sum()"
   ]
  },
  {
   "cell_type": "markdown",
   "metadata": {},
   "source": [
    "## Since the empty records are not being treated as NA. We convert columns to their appropriate data types to obtain NAs."
   ]
  },
  {
   "cell_type": "code",
   "execution_count": 15,
   "metadata": {},
   "outputs": [],
   "source": [
    "# Should be Numeric: LAND SQUARE FEET,GROSS SQUARE FEET, SALE PRICE, RESIDENTIAL UNITS,COMMERCIAL UNITS,TOTAL UNITS\n",
    "# Should be datetime format: SALE DATE\n",
    "# Should be categorical: BOROUGH,NEIGHBORHOOD,BUILDING CLASS CATEGORY, TAX CLASS AT PRESENT, BUILDING CLASS AT PRESENT,ZIP CODE, YEAR BUILT, BUILDING CLASS AT TIME OF SALE, TAX CLASS AT TIME OF SALE\n",
    "\n",
    "data['SALE DATE']= pd.to_datetime(data['SALE DATE'], errors='coerce')\n",
    "numeric = ['LAND SQUARE FEET', 'GROSS SQUARE FEET', 'SALE PRICE', 'YEAR BUILT','RESIDENTIAL UNITS', 'COMMERCIAL UNITS', 'TOTAL UNITS', 'LOT']\n",
    "for col in numeric: \n",
    "    # coerce for missing values\n",
    "    data[col] = pd.to_numeric(data[col], errors='coerce')\n",
    "\n",
    "categorical = ['BOROUGH', 'BUILDING CLASS CATEGORY', 'TAX CLASS AT PRESENT', 'BUILDING CLASS AT PRESENT',  'BUILDING CLASS AT TIME OF SALE', 'TAX CLASS AT TIME OF SALE']\n",
    "for col in categorical: \n",
    "    #coerce for missing values\n",
    "    data[col] = data[col].astype('category')"
   ]
  },
  {
   "cell_type": "code",
   "execution_count": 16,
   "metadata": {},
   "outputs": [
    {
     "data": {
      "text/plain": [
       "BOROUGH                               0\n",
       "NEIGHBORHOOD                         30\n",
       "BUILDING CLASS CATEGORY              51\n",
       "TAX CLASS AT PRESENT                  7\n",
       "BLOCK                                16\n",
       "LOT                                  10\n",
       "BUILDING CLASS AT PRESENT             0\n",
       "ADDRESS                              45\n",
       "APARTMENT NUMBER                      1\n",
       "ZIP CODE                             36\n",
       "RESIDENTIAL UNITS                     0\n",
       "COMMERCIAL UNITS                      0\n",
       "TOTAL UNITS                           0\n",
       "LAND SQUARE FEET                  26252\n",
       "GROSS SQUARE FEET                 27612\n",
       "YEAR BUILT                            0\n",
       "TAX CLASS AT TIME OF SALE             0\n",
       "BUILDING CLASS AT TIME OF SALE        0\n",
       "SALE PRICE                        14561\n",
       "SALE DATE                             3\n",
       "dtype: int64"
      ]
     },
     "execution_count": 16,
     "metadata": {},
     "output_type": "execute_result"
    }
   ],
   "source": [
    "data.isna().sum()\n",
    "\n",
    "#Number of missing values"
   ]
  },
  {
   "cell_type": "markdown",
   "metadata": {},
   "source": [
    "## Convert them to missing values or deal with them logically as appropriate"
   ]
  },
  {
   "cell_type": "markdown",
   "metadata": {},
   "source": [
    "## NEIGHBORHOOD"
   ]
  },
  {
   "cell_type": "code",
   "execution_count": 17,
   "metadata": {},
   "outputs": [
    {
     "data": {
      "text/plain": [
       "30"
      ]
     },
     "execution_count": 17,
     "metadata": {},
     "output_type": "execute_result"
    }
   ],
   "source": [
    "data['NEIGHBORHOOD'].isna().sum()\n",
    "\n",
    "#We have 30 missing values to deal with"
   ]
  },
  {
   "cell_type": "code",
   "execution_count": 18,
   "metadata": {},
   "outputs": [
    {
     "data": {
      "text/plain": [
       "FLUSHING-NORTH              3068\n",
       "UPPER EAST SIDE (59-79)     1736\n",
       "UPPER EAST SIDE (79-96)     1590\n",
       "UPPER WEST SIDE (59-79)     1439\n",
       "BEDFORD STUYVESANT          1436\n",
       "                            ... \n",
       "VAN CORTLANDT PARK             2\n",
       "BRONX PARK                     1\n",
       "CITY ISLAND-PELHAM STRIP       1\n",
       "PELHAM BAY                     1\n",
       "EAST RIVER                     1\n",
       "Name: NEIGHBORHOOD, Length: 254, dtype: int64"
      ]
     },
     "execution_count": 18,
     "metadata": {},
     "output_type": "execute_result"
    }
   ],
   "source": [
    "data['NEIGHBORHOOD'].value_counts()"
   ]
  },
  {
   "cell_type": "code",
   "execution_count": 19,
   "metadata": {},
   "outputs": [
    {
     "name": "stderr",
     "output_type": "stream",
     "text": [
      "C:\\Users\\HP\\anaconda3\\lib\\site-packages\\pandas\\core\\ops\\array_ops.py:253: FutureWarning: elementwise comparison failed; returning scalar instead, but in the future will perform elementwise comparison\n",
      "  res_values = method(rvalues)\n"
     ]
    },
    {
     "data": {
      "text/html": [
       "<div>\n",
       "<style scoped>\n",
       "    .dataframe tbody tr th:only-of-type {\n",
       "        vertical-align: middle;\n",
       "    }\n",
       "\n",
       "    .dataframe tbody tr th {\n",
       "        vertical-align: top;\n",
       "    }\n",
       "\n",
       "    .dataframe thead th {\n",
       "        text-align: right;\n",
       "    }\n",
       "</style>\n",
       "<table border=\"1\" class=\"dataframe\">\n",
       "  <thead>\n",
       "    <tr style=\"text-align: right;\">\n",
       "      <th></th>\n",
       "      <th>BOROUGH</th>\n",
       "      <th>NEIGHBORHOOD</th>\n",
       "      <th>BUILDING CLASS CATEGORY</th>\n",
       "      <th>TAX CLASS AT PRESENT</th>\n",
       "      <th>BLOCK</th>\n",
       "      <th>LOT</th>\n",
       "      <th>BUILDING CLASS AT PRESENT</th>\n",
       "      <th>ADDRESS</th>\n",
       "      <th>APARTMENT NUMBER</th>\n",
       "      <th>ZIP CODE</th>\n",
       "      <th>RESIDENTIAL UNITS</th>\n",
       "      <th>COMMERCIAL UNITS</th>\n",
       "      <th>TOTAL UNITS</th>\n",
       "      <th>LAND SQUARE FEET</th>\n",
       "      <th>GROSS SQUARE FEET</th>\n",
       "      <th>YEAR BUILT</th>\n",
       "      <th>TAX CLASS AT TIME OF SALE</th>\n",
       "      <th>BUILDING CLASS AT TIME OF SALE</th>\n",
       "      <th>SALE PRICE</th>\n",
       "      <th>SALE DATE</th>\n",
       "    </tr>\n",
       "  </thead>\n",
       "  <tbody>\n",
       "    <tr>\n",
       "      <th>0</th>\n",
       "      <td>1</td>\n",
       "      <td>ALPHABET CITY</td>\n",
       "      <td>07 RENTALS - WALKUP APARTMENTS</td>\n",
       "      <td>2A</td>\n",
       "      <td>392.0</td>\n",
       "      <td>NaN</td>\n",
       "      <td>65000</td>\n",
       "      <td>NaN</td>\n",
       "      <td>NaN</td>\n",
       "      <td>10009.0</td>\n",
       "      <td>5</td>\n",
       "      <td>0</td>\n",
       "      <td>5</td>\n",
       "      <td>1633.0</td>\n",
       "      <td>6440.0</td>\n",
       "      <td>1900</td>\n",
       "      <td>2</td>\n",
       "      <td>C2</td>\n",
       "      <td>6625000.0</td>\n",
       "      <td>NaT</td>\n",
       "    </tr>\n",
       "    <tr>\n",
       "      <th>1</th>\n",
       "      <td>1</td>\n",
       "      <td>ALPHABET CITY</td>\n",
       "      <td>07 RENTALS - WALKUP APARTMENTS</td>\n",
       "      <td>2</td>\n",
       "      <td>399.0</td>\n",
       "      <td>26.0</td>\n",
       "      <td>C7</td>\n",
       "      <td>NaN</td>\n",
       "      <td></td>\n",
       "      <td>10009.0</td>\n",
       "      <td>28</td>\n",
       "      <td>3</td>\n",
       "      <td>31</td>\n",
       "      <td>4616.0</td>\n",
       "      <td>18690.0</td>\n",
       "      <td>1900</td>\n",
       "      <td>2</td>\n",
       "      <td>C7</td>\n",
       "      <td>6625000.0</td>\n",
       "      <td>2016-12-14</td>\n",
       "    </tr>\n",
       "    <tr>\n",
       "      <th>2</th>\n",
       "      <td>1</td>\n",
       "      <td>ALPHABET CITY</td>\n",
       "      <td>07 RENTALS - WALKUP APARTMENTS</td>\n",
       "      <td>2</td>\n",
       "      <td>399.0</td>\n",
       "      <td>39.0</td>\n",
       "      <td>C7</td>\n",
       "      <td>NaN</td>\n",
       "      <td></td>\n",
       "      <td>10009.0</td>\n",
       "      <td>16</td>\n",
       "      <td>1</td>\n",
       "      <td>17</td>\n",
       "      <td>2212.0</td>\n",
       "      <td>7803.0</td>\n",
       "      <td>1900</td>\n",
       "      <td>2</td>\n",
       "      <td>C7</td>\n",
       "      <td>6625000.0</td>\n",
       "      <td>2016-12-09</td>\n",
       "    </tr>\n",
       "    <tr>\n",
       "      <th>3</th>\n",
       "      <td>1</td>\n",
       "      <td>ALPHABET CITY</td>\n",
       "      <td>07 RENTALS - WALKUP APARTMENTS</td>\n",
       "      <td>2</td>\n",
       "      <td>402.0</td>\n",
       "      <td>21.0</td>\n",
       "      <td>C4</td>\n",
       "      <td>NaN</td>\n",
       "      <td></td>\n",
       "      <td>10009.0</td>\n",
       "      <td>10</td>\n",
       "      <td>0</td>\n",
       "      <td>10</td>\n",
       "      <td>2272.0</td>\n",
       "      <td>6794.0</td>\n",
       "      <td>1913</td>\n",
       "      <td>2</td>\n",
       "      <td>C4</td>\n",
       "      <td>3936272.0</td>\n",
       "      <td>2016-09-23</td>\n",
       "    </tr>\n",
       "    <tr>\n",
       "      <th>4</th>\n",
       "      <td>1</td>\n",
       "      <td>ALPHABET CITY</td>\n",
       "      <td>07 RENTALS - WALKUP APARTMENTS</td>\n",
       "      <td>2</td>\n",
       "      <td>404.0</td>\n",
       "      <td>55.0</td>\n",
       "      <td>C2</td>\n",
       "      <td>NaN</td>\n",
       "      <td></td>\n",
       "      <td>10009.0</td>\n",
       "      <td>6</td>\n",
       "      <td>0</td>\n",
       "      <td>6</td>\n",
       "      <td>2369.0</td>\n",
       "      <td>4615.0</td>\n",
       "      <td>1900</td>\n",
       "      <td>2</td>\n",
       "      <td>C2</td>\n",
       "      <td>8000000.0</td>\n",
       "      <td>2016-11-17</td>\n",
       "    </tr>\n",
       "    <tr>\n",
       "      <th>...</th>\n",
       "      <td>...</td>\n",
       "      <td>...</td>\n",
       "      <td>...</td>\n",
       "      <td>...</td>\n",
       "      <td>...</td>\n",
       "      <td>...</td>\n",
       "      <td>...</td>\n",
       "      <td>...</td>\n",
       "      <td>...</td>\n",
       "      <td>...</td>\n",
       "      <td>...</td>\n",
       "      <td>...</td>\n",
       "      <td>...</td>\n",
       "      <td>...</td>\n",
       "      <td>...</td>\n",
       "      <td>...</td>\n",
       "      <td>...</td>\n",
       "      <td>...</td>\n",
       "      <td>...</td>\n",
       "      <td>...</td>\n",
       "    </tr>\n",
       "    <tr>\n",
       "      <th>84543</th>\n",
       "      <td>5</td>\n",
       "      <td>WOODROW</td>\n",
       "      <td>02 TWO FAMILY DWELLINGS</td>\n",
       "      <td>1</td>\n",
       "      <td>7349.0</td>\n",
       "      <td>34.0</td>\n",
       "      <td>B9</td>\n",
       "      <td>37 QUAIL LANE</td>\n",
       "      <td></td>\n",
       "      <td>10309.0</td>\n",
       "      <td>2</td>\n",
       "      <td>0</td>\n",
       "      <td>2</td>\n",
       "      <td>2400.0</td>\n",
       "      <td>2575.0</td>\n",
       "      <td>1998</td>\n",
       "      <td>1</td>\n",
       "      <td>B9</td>\n",
       "      <td>450000.0</td>\n",
       "      <td>2016-11-28</td>\n",
       "    </tr>\n",
       "    <tr>\n",
       "      <th>84544</th>\n",
       "      <td>5</td>\n",
       "      <td>WOODROW</td>\n",
       "      <td>02 TWO FAMILY DWELLINGS</td>\n",
       "      <td>1</td>\n",
       "      <td>7349.0</td>\n",
       "      <td>78.0</td>\n",
       "      <td>B9</td>\n",
       "      <td>32 PHEASANT LANE</td>\n",
       "      <td></td>\n",
       "      <td>10309.0</td>\n",
       "      <td>2</td>\n",
       "      <td>0</td>\n",
       "      <td>2</td>\n",
       "      <td>2498.0</td>\n",
       "      <td>2377.0</td>\n",
       "      <td>1998</td>\n",
       "      <td>1</td>\n",
       "      <td>B9</td>\n",
       "      <td>550000.0</td>\n",
       "      <td>2017-04-21</td>\n",
       "    </tr>\n",
       "    <tr>\n",
       "      <th>84545</th>\n",
       "      <td>5</td>\n",
       "      <td>WOODROW</td>\n",
       "      <td>02 TWO FAMILY DWELLINGS</td>\n",
       "      <td>1</td>\n",
       "      <td>7351.0</td>\n",
       "      <td>60.0</td>\n",
       "      <td>B2</td>\n",
       "      <td>49 PITNEY AVENUE</td>\n",
       "      <td></td>\n",
       "      <td>10309.0</td>\n",
       "      <td>2</td>\n",
       "      <td>0</td>\n",
       "      <td>2</td>\n",
       "      <td>4000.0</td>\n",
       "      <td>1496.0</td>\n",
       "      <td>1925</td>\n",
       "      <td>1</td>\n",
       "      <td>B2</td>\n",
       "      <td>460000.0</td>\n",
       "      <td>2017-07-05</td>\n",
       "    </tr>\n",
       "    <tr>\n",
       "      <th>84546</th>\n",
       "      <td>5</td>\n",
       "      <td>WOODROW</td>\n",
       "      <td>22 STORE BUILDINGS</td>\n",
       "      <td>4</td>\n",
       "      <td>7100.0</td>\n",
       "      <td>28.0</td>\n",
       "      <td>K6</td>\n",
       "      <td>2730 ARTHUR KILL ROAD</td>\n",
       "      <td></td>\n",
       "      <td>10309.0</td>\n",
       "      <td>0</td>\n",
       "      <td>7</td>\n",
       "      <td>7</td>\n",
       "      <td>208033.0</td>\n",
       "      <td>64117.0</td>\n",
       "      <td>2001</td>\n",
       "      <td>4</td>\n",
       "      <td>K6</td>\n",
       "      <td>11693337.0</td>\n",
       "      <td>2016-12-21</td>\n",
       "    </tr>\n",
       "    <tr>\n",
       "      <th>84547</th>\n",
       "      <td>5</td>\n",
       "      <td>WOODROW</td>\n",
       "      <td>35 INDOOR PUBLIC AND CULTURAL FACILITIES</td>\n",
       "      <td>4</td>\n",
       "      <td>7105.0</td>\n",
       "      <td>679.0</td>\n",
       "      <td>P9</td>\n",
       "      <td>155 CLAY PIT ROAD</td>\n",
       "      <td></td>\n",
       "      <td>10309.0</td>\n",
       "      <td>0</td>\n",
       "      <td>1</td>\n",
       "      <td>1</td>\n",
       "      <td>10796.0</td>\n",
       "      <td>2400.0</td>\n",
       "      <td>2006</td>\n",
       "      <td>4</td>\n",
       "      <td>P9</td>\n",
       "      <td>69300.0</td>\n",
       "      <td>2016-10-27</td>\n",
       "    </tr>\n",
       "  </tbody>\n",
       "</table>\n",
       "<p>84548 rows × 20 columns</p>\n",
       "</div>"
      ],
      "text/plain": [
       "      BOROUGH   NEIGHBORHOOD                      BUILDING CLASS CATEGORY  \\\n",
       "0           1  ALPHABET CITY  07 RENTALS - WALKUP APARTMENTS                \n",
       "1           1  ALPHABET CITY  07 RENTALS - WALKUP APARTMENTS                \n",
       "2           1  ALPHABET CITY  07 RENTALS - WALKUP APARTMENTS                \n",
       "3           1  ALPHABET CITY  07 RENTALS - WALKUP APARTMENTS                \n",
       "4           1  ALPHABET CITY  07 RENTALS - WALKUP APARTMENTS                \n",
       "...       ...            ...                                          ...   \n",
       "84543       5        WOODROW  02 TWO FAMILY DWELLINGS                       \n",
       "84544       5        WOODROW  02 TWO FAMILY DWELLINGS                       \n",
       "84545       5        WOODROW  02 TWO FAMILY DWELLINGS                       \n",
       "84546       5        WOODROW  22 STORE BUILDINGS                            \n",
       "84547       5        WOODROW  35 INDOOR PUBLIC AND CULTURAL FACILITIES      \n",
       "\n",
       "      TAX CLASS AT PRESENT   BLOCK    LOT BUILDING CLASS AT PRESENT  \\\n",
       "0                       2A   392.0    NaN                     65000   \n",
       "1                        2   399.0   26.0                        C7   \n",
       "2                        2   399.0   39.0                        C7   \n",
       "3                        2   402.0   21.0                        C4   \n",
       "4                        2   404.0   55.0                        C2   \n",
       "...                    ...     ...    ...                       ...   \n",
       "84543                    1  7349.0   34.0                        B9   \n",
       "84544                    1  7349.0   78.0                        B9   \n",
       "84545                    1  7351.0   60.0                        B2   \n",
       "84546                    4  7100.0   28.0                        K6   \n",
       "84547                    4  7105.0  679.0                        P9   \n",
       "\n",
       "                     ADDRESS APARTMENT NUMBER  ZIP CODE  RESIDENTIAL UNITS  \\\n",
       "0                        NaN              NaN   10009.0                  5   \n",
       "1                        NaN                    10009.0                 28   \n",
       "2                        NaN                    10009.0                 16   \n",
       "3                        NaN                    10009.0                 10   \n",
       "4                        NaN                    10009.0                  6   \n",
       "...                      ...              ...       ...                ...   \n",
       "84543          37 QUAIL LANE                    10309.0                  2   \n",
       "84544       32 PHEASANT LANE                    10309.0                  2   \n",
       "84545       49 PITNEY AVENUE                    10309.0                  2   \n",
       "84546  2730 ARTHUR KILL ROAD                    10309.0                  0   \n",
       "84547      155 CLAY PIT ROAD                    10309.0                  0   \n",
       "\n",
       "       COMMERCIAL UNITS  TOTAL UNITS  LAND SQUARE FEET  GROSS SQUARE FEET  \\\n",
       "0                     0            5            1633.0             6440.0   \n",
       "1                     3           31            4616.0            18690.0   \n",
       "2                     1           17            2212.0             7803.0   \n",
       "3                     0           10            2272.0             6794.0   \n",
       "4                     0            6            2369.0             4615.0   \n",
       "...                 ...          ...               ...                ...   \n",
       "84543                 0            2            2400.0             2575.0   \n",
       "84544                 0            2            2498.0             2377.0   \n",
       "84545                 0            2            4000.0             1496.0   \n",
       "84546                 7            7          208033.0            64117.0   \n",
       "84547                 1            1           10796.0             2400.0   \n",
       "\n",
       "       YEAR BUILT TAX CLASS AT TIME OF SALE BUILDING CLASS AT TIME OF SALE  \\\n",
       "0            1900                         2                             C2   \n",
       "1            1900                         2                             C7   \n",
       "2            1900                         2                             C7   \n",
       "3            1913                         2                             C4   \n",
       "4            1900                         2                             C2   \n",
       "...           ...                       ...                            ...   \n",
       "84543        1998                         1                             B9   \n",
       "84544        1998                         1                             B9   \n",
       "84545        1925                         1                             B2   \n",
       "84546        2001                         4                             K6   \n",
       "84547        2006                         4                             P9   \n",
       "\n",
       "       SALE PRICE  SALE DATE  \n",
       "0       6625000.0        NaT  \n",
       "1       6625000.0 2016-12-14  \n",
       "2       6625000.0 2016-12-09  \n",
       "3       3936272.0 2016-09-23  \n",
       "4       8000000.0 2016-11-17  \n",
       "...           ...        ...  \n",
       "84543    450000.0 2016-11-28  \n",
       "84544    550000.0 2017-04-21  \n",
       "84545    460000.0 2017-07-05  \n",
       "84546  11693337.0 2016-12-21  \n",
       "84547     69300.0 2016-10-27  \n",
       "\n",
       "[84548 rows x 20 columns]"
      ]
     },
     "execution_count": 19,
     "metadata": {},
     "output_type": "execute_result"
    }
   ],
   "source": [
    "data.mask(data=='nan', None).ffill()\n",
    "\n",
    "#Filling nan with None so it can not be counted as a string"
   ]
  },
  {
   "cell_type": "code",
   "execution_count": 20,
   "metadata": {},
   "outputs": [
    {
     "data": {
      "text/plain": [
       "BOROUGH                               0\n",
       "NEIGHBORHOOD                         30\n",
       "BUILDING CLASS CATEGORY              51\n",
       "TAX CLASS AT PRESENT                  7\n",
       "BLOCK                                16\n",
       "LOT                                  10\n",
       "BUILDING CLASS AT PRESENT             0\n",
       "ADDRESS                              45\n",
       "APARTMENT NUMBER                      1\n",
       "ZIP CODE                             36\n",
       "RESIDENTIAL UNITS                     0\n",
       "COMMERCIAL UNITS                      0\n",
       "TOTAL UNITS                           0\n",
       "LAND SQUARE FEET                  26252\n",
       "GROSS SQUARE FEET                 27612\n",
       "YEAR BUILT                            0\n",
       "TAX CLASS AT TIME OF SALE             0\n",
       "BUILDING CLASS AT TIME OF SALE        0\n",
       "SALE PRICE                        14561\n",
       "SALE DATE                             3\n",
       "dtype: int64"
      ]
     },
     "execution_count": 20,
     "metadata": {},
     "output_type": "execute_result"
    }
   ],
   "source": [
    "data.isna().sum()"
   ]
  },
  {
   "cell_type": "code",
   "execution_count": 21,
   "metadata": {},
   "outputs": [
    {
     "name": "stdout",
     "output_type": "stream",
     "text": [
      "21231    2\n",
      "21232    2\n",
      "21233    2\n",
      "21234    2\n",
      "21235    2\n",
      "21236    2\n",
      "21237    2\n",
      "21238    2\n",
      "21239    2\n",
      "21240    2\n",
      "21241    2\n",
      "21242    2\n",
      "21243    2\n",
      "21244    2\n",
      "21245    2\n",
      "21246    2\n",
      "21247    2\n",
      "21248    2\n",
      "40709    3\n",
      "40710    3\n",
      "40711    3\n",
      "40712    3\n",
      "40713    3\n",
      "40714    3\n",
      "40715    3\n",
      "40716    3\n",
      "40717    3\n",
      "40718    3\n",
      "40719    3\n",
      "40720    3\n",
      "Name: BOROUGH, dtype: category\n",
      "Categories (5, int64): [1, 2, 3, 4, 5]\n"
     ]
    }
   ],
   "source": [
    "#find out the BOROUGH  where NEIGHBORHOOD are missing (1,2,3,4,5)\n",
    "print(data[data['NEIGHBORHOOD'].isna()]['BOROUGH'])\n",
    "\n",
    "#This indicates that the missing values in NEIGHBORHOOD follows a sequence. So we can use forward-fill to fill it"
   ]
  },
  {
   "cell_type": "code",
   "execution_count": 22,
   "metadata": {},
   "outputs": [],
   "source": [
    "data['NEIGHBORHOOD'].fillna(method='ffill',inplace=True)"
   ]
  },
  {
   "cell_type": "code",
   "execution_count": 23,
   "metadata": {},
   "outputs": [
    {
     "data": {
      "text/plain": [
       "0"
      ]
     },
     "execution_count": 23,
     "metadata": {},
     "output_type": "execute_result"
    }
   ],
   "source": [
    "data['NEIGHBORHOOD'].isna().sum()"
   ]
  },
  {
   "cell_type": "code",
   "execution_count": 24,
   "metadata": {},
   "outputs": [
    {
     "data": {
      "text/plain": [
       "BOROUGH                               0\n",
       "NEIGHBORHOOD                          0\n",
       "BUILDING CLASS CATEGORY              51\n",
       "TAX CLASS AT PRESENT                  7\n",
       "BLOCK                                16\n",
       "LOT                                  10\n",
       "BUILDING CLASS AT PRESENT             0\n",
       "ADDRESS                              45\n",
       "APARTMENT NUMBER                      1\n",
       "ZIP CODE                             36\n",
       "RESIDENTIAL UNITS                     0\n",
       "COMMERCIAL UNITS                      0\n",
       "TOTAL UNITS                           0\n",
       "LAND SQUARE FEET                  26252\n",
       "GROSS SQUARE FEET                 27612\n",
       "YEAR BUILT                            0\n",
       "TAX CLASS AT TIME OF SALE             0\n",
       "BUILDING CLASS AT TIME OF SALE        0\n",
       "SALE PRICE                        14561\n",
       "SALE DATE                             3\n",
       "dtype: int64"
      ]
     },
     "execution_count": 24,
     "metadata": {},
     "output_type": "execute_result"
    }
   ],
   "source": [
    "data.isna().sum()"
   ]
  },
  {
   "cell_type": "markdown",
   "metadata": {},
   "source": [
    "## Apartment Number"
   ]
  },
  {
   "cell_type": "code",
   "execution_count": 25,
   "metadata": {},
   "outputs": [],
   "source": [
    "data.drop([\"APARTMENT NUMBER\"], axis=1, inplace=True)\n",
    "\n",
    "#We will drop apartment number column since its of no use"
   ]
  },
  {
   "cell_type": "code",
   "execution_count": 26,
   "metadata": {},
   "outputs": [
    {
     "data": {
      "text/plain": [
       "BOROUGH                               0\n",
       "NEIGHBORHOOD                          0\n",
       "BUILDING CLASS CATEGORY              51\n",
       "TAX CLASS AT PRESENT                  7\n",
       "BLOCK                                16\n",
       "LOT                                  10\n",
       "BUILDING CLASS AT PRESENT             0\n",
       "ADDRESS                              45\n",
       "ZIP CODE                             36\n",
       "RESIDENTIAL UNITS                     0\n",
       "COMMERCIAL UNITS                      0\n",
       "TOTAL UNITS                           0\n",
       "LAND SQUARE FEET                  26252\n",
       "GROSS SQUARE FEET                 27612\n",
       "YEAR BUILT                            0\n",
       "TAX CLASS AT TIME OF SALE             0\n",
       "BUILDING CLASS AT TIME OF SALE        0\n",
       "SALE PRICE                        14561\n",
       "SALE DATE                             3\n",
       "dtype: int64"
      ]
     },
     "execution_count": 26,
     "metadata": {},
     "output_type": "execute_result"
    }
   ],
   "source": [
    "data.isna().sum()"
   ]
  },
  {
   "cell_type": "markdown",
   "metadata": {},
   "source": [
    "## Tax Class at Present"
   ]
  },
  {
   "cell_type": "code",
   "execution_count": 27,
   "metadata": {},
   "outputs": [
    {
     "data": {
      "text/plain": [
       "1     38633\n",
       "2     30915\n",
       "4      6140\n",
       "2A     2520\n",
       "2C     1915\n",
       "1A     1444\n",
       "1B     1234\n",
       "2B      812\n",
       "        738\n",
       "1C      186\n",
       "3         4\n",
       "Name: TAX CLASS AT PRESENT, dtype: int64"
      ]
     },
     "execution_count": 27,
     "metadata": {},
     "output_type": "execute_result"
    }
   ],
   "source": [
    "data['TAX CLASS AT PRESENT'].value_counts()"
   ]
  },
  {
   "cell_type": "code",
   "execution_count": 28,
   "metadata": {},
   "outputs": [],
   "source": [
    "## In order to get 4 classes, we will get rid of extra classes by replacing the values"
   ]
  },
  {
   "cell_type": "code",
   "execution_count": 29,
   "metadata": {},
   "outputs": [],
   "source": [
    "data['TAX CLASS AT PRESENT'] = data['TAX CLASS AT PRESENT'].replace({'1A': '1','1B': '1','1C':'1','2A':'2','2B':'2','2C':'2'})"
   ]
  },
  {
   "cell_type": "code",
   "execution_count": 30,
   "metadata": {},
   "outputs": [
    {
     "data": {
      "text/plain": [
       "1    41497\n",
       "2    36162\n",
       "4     6140\n",
       "       738\n",
       "3        4\n",
       "Name: TAX CLASS AT PRESENT, dtype: int64"
      ]
     },
     "execution_count": 30,
     "metadata": {},
     "output_type": "execute_result"
    }
   ],
   "source": [
    "data['TAX CLASS AT PRESENT'].value_counts()"
   ]
  },
  {
   "cell_type": "code",
   "execution_count": 31,
   "metadata": {},
   "outputs": [
    {
     "name": "stdout",
     "output_type": "stream",
     "text": [
      "2    1\n",
      "3    1\n",
      "4    1\n",
      "5    1\n",
      "6    1\n",
      "7    1\n",
      "8    1\n",
      "Name: BOROUGH, dtype: category\n",
      "Categories (5, int64): [1, 2, 3, 4, 5]\n"
     ]
    }
   ],
   "source": [
    "print(data[data['TAX CLASS AT PRESENT'].isna()]['BOROUGH'])\n",
    "\n",
    "#find out the BOROUGH  where TAX CLASS AT PRESENT are missing (1,2,3,4,5)"
   ]
  },
  {
   "cell_type": "code",
   "execution_count": 32,
   "metadata": {},
   "outputs": [],
   "source": [
    "#indicates a sequence so we will apply fill forward"
   ]
  },
  {
   "cell_type": "code",
   "execution_count": 33,
   "metadata": {},
   "outputs": [],
   "source": [
    "data['TAX CLASS AT PRESENT'].fillna(method='ffill',inplace=True)"
   ]
  },
  {
   "cell_type": "code",
   "execution_count": 34,
   "metadata": {},
   "outputs": [
    {
     "data": {
      "text/plain": [
       "0"
      ]
     },
     "execution_count": 34,
     "metadata": {},
     "output_type": "execute_result"
    }
   ],
   "source": [
    "data['TAX CLASS AT PRESENT'].isna().sum()"
   ]
  },
  {
   "cell_type": "code",
   "execution_count": 35,
   "metadata": {},
   "outputs": [
    {
     "data": {
      "text/plain": [
       "BOROUGH                               0\n",
       "NEIGHBORHOOD                          0\n",
       "BUILDING CLASS CATEGORY              51\n",
       "TAX CLASS AT PRESENT                  0\n",
       "BLOCK                                16\n",
       "LOT                                  10\n",
       "BUILDING CLASS AT PRESENT             0\n",
       "ADDRESS                              45\n",
       "ZIP CODE                             36\n",
       "RESIDENTIAL UNITS                     0\n",
       "COMMERCIAL UNITS                      0\n",
       "TOTAL UNITS                           0\n",
       "LAND SQUARE FEET                  26252\n",
       "GROSS SQUARE FEET                 27612\n",
       "YEAR BUILT                            0\n",
       "TAX CLASS AT TIME OF SALE             0\n",
       "BUILDING CLASS AT TIME OF SALE        0\n",
       "SALE PRICE                        14561\n",
       "SALE DATE                             3\n",
       "dtype: int64"
      ]
     },
     "execution_count": 35,
     "metadata": {},
     "output_type": "execute_result"
    }
   ],
   "source": [
    "data.isna().sum()"
   ]
  },
  {
   "cell_type": "markdown",
   "metadata": {},
   "source": [
    "## Address"
   ]
  },
  {
   "cell_type": "code",
   "execution_count": 36,
   "metadata": {},
   "outputs": [],
   "source": [
    "data.drop([\"ADDRESS\"], axis=1, inplace=True)\n",
    "\n",
    "#We will drop the address for now "
   ]
  },
  {
   "cell_type": "code",
   "execution_count": 37,
   "metadata": {},
   "outputs": [
    {
     "data": {
      "text/plain": [
       "BOROUGH                               0\n",
       "NEIGHBORHOOD                          0\n",
       "BUILDING CLASS CATEGORY              51\n",
       "TAX CLASS AT PRESENT                  0\n",
       "BLOCK                                16\n",
       "LOT                                  10\n",
       "BUILDING CLASS AT PRESENT             0\n",
       "ZIP CODE                             36\n",
       "RESIDENTIAL UNITS                     0\n",
       "COMMERCIAL UNITS                      0\n",
       "TOTAL UNITS                           0\n",
       "LAND SQUARE FEET                  26252\n",
       "GROSS SQUARE FEET                 27612\n",
       "YEAR BUILT                            0\n",
       "TAX CLASS AT TIME OF SALE             0\n",
       "BUILDING CLASS AT TIME OF SALE        0\n",
       "SALE PRICE                        14561\n",
       "SALE DATE                             3\n",
       "dtype: int64"
      ]
     },
     "execution_count": 37,
     "metadata": {},
     "output_type": "execute_result"
    }
   ],
   "source": [
    "data.isna().sum()"
   ]
  },
  {
   "cell_type": "markdown",
   "metadata": {},
   "source": [
    "## SALE DATE"
   ]
  },
  {
   "cell_type": "code",
   "execution_count": 38,
   "metadata": {},
   "outputs": [],
   "source": [
    "#Since we have only 3 rows, we will simply remove them/not consider in our dataset\n",
    "data = data[data['SALE DATE'].notna()]"
   ]
  },
  {
   "cell_type": "code",
   "execution_count": 39,
   "metadata": {},
   "outputs": [
    {
     "data": {
      "text/plain": [
       "BOROUGH                               0\n",
       "NEIGHBORHOOD                          0\n",
       "BUILDING CLASS CATEGORY              50\n",
       "TAX CLASS AT PRESENT                  0\n",
       "BLOCK                                16\n",
       "LOT                                   9\n",
       "BUILDING CLASS AT PRESENT             0\n",
       "ZIP CODE                             35\n",
       "RESIDENTIAL UNITS                     0\n",
       "COMMERCIAL UNITS                      0\n",
       "TOTAL UNITS                           0\n",
       "LAND SQUARE FEET                  26251\n",
       "GROSS SQUARE FEET                 27611\n",
       "YEAR BUILT                            0\n",
       "TAX CLASS AT TIME OF SALE             0\n",
       "BUILDING CLASS AT TIME OF SALE        0\n",
       "SALE PRICE                        14559\n",
       "SALE DATE                             0\n",
       "dtype: int64"
      ]
     },
     "execution_count": 39,
     "metadata": {},
     "output_type": "execute_result"
    }
   ],
   "source": [
    "data.isna().sum()"
   ]
  },
  {
   "cell_type": "markdown",
   "metadata": {},
   "source": [
    "## BLOCK, LAND SQUARE FEET, GROSS SQUARE FEET, SALE PRICE"
   ]
  },
  {
   "cell_type": "code",
   "execution_count": 40,
   "metadata": {},
   "outputs": [
    {
     "data": {
      "text/plain": [
       "5066.0     404\n",
       "16.0       255\n",
       "2135.0     211\n",
       "4978.0     187\n",
       "1171.0     181\n",
       "          ... \n",
       "16194.0      1\n",
       "10386.0      1\n",
       "1898.0       1\n",
       "14027.0      1\n",
       "11994.0      1\n",
       "Name: BLOCK, Length: 11566, dtype: int64"
      ]
     },
     "execution_count": 40,
     "metadata": {},
     "output_type": "execute_result"
    }
   ],
   "source": [
    "data['BLOCK'].value_counts()"
   ]
  },
  {
   "cell_type": "code",
   "execution_count": 41,
   "metadata": {},
   "outputs": [
    {
     "name": "stdout",
     "output_type": "stream",
     "text": [
      "4238.0903476913245\n"
     ]
    },
    {
     "data": {
      "image/png": "[encoded data removed]",
      "text/plain": [
       "<Figure size 432x288 with 1 Axes>"
      ]
     },
     "metadata": {
      "needs_background": "light"
     },
     "output_type": "display_data"
    }
   ],
   "source": [
    "#let's see the distribution of Block\n",
    "data['BLOCK'].hist()\n",
    "print(data['BLOCK'].mean())"
   ]
  },
  {
   "cell_type": "markdown",
   "metadata": {},
   "source": [
    "# The graph is skewed hence we can not replace it with mean, median would be a better choice"
   ]
  },
  {
   "cell_type": "code",
   "execution_count": 42,
   "metadata": {},
   "outputs": [],
   "source": [
    "data['BLOCK'] = data['BLOCK'].fillna(data['BLOCK'].median())"
   ]
  },
  {
   "cell_type": "code",
   "execution_count": 43,
   "metadata": {},
   "outputs": [
    {
     "data": {
      "text/plain": [
       "<matplotlib.axes._subplots.AxesSubplot at 0x202f8af6048>"
      ]
     },
     "execution_count": 43,
     "metadata": {},
     "output_type": "execute_result"
    },
    {
     "data": {
      "image/png": "[encoded data removed]",
      "text/plain": [
       "<Figure size 432x288 with 1 Axes>"
      ]
     },
     "metadata": {
      "needs_background": "light"
     },
     "output_type": "display_data"
    }
   ],
   "source": [
    "data['BLOCK'].hist()"
   ]
  },
  {
   "cell_type": "code",
   "execution_count": 44,
   "metadata": {},
   "outputs": [
    {
     "data": {
      "text/plain": [
       "BOROUGH                               0\n",
       "NEIGHBORHOOD                          0\n",
       "BUILDING CLASS CATEGORY              50\n",
       "TAX CLASS AT PRESENT                  0\n",
       "BLOCK                                 0\n",
       "LOT                                   9\n",
       "BUILDING CLASS AT PRESENT             0\n",
       "ZIP CODE                             35\n",
       "RESIDENTIAL UNITS                     0\n",
       "COMMERCIAL UNITS                      0\n",
       "TOTAL UNITS                           0\n",
       "LAND SQUARE FEET                  26251\n",
       "GROSS SQUARE FEET                 27611\n",
       "YEAR BUILT                            0\n",
       "TAX CLASS AT TIME OF SALE             0\n",
       "BUILDING CLASS AT TIME OF SALE        0\n",
       "SALE PRICE                        14559\n",
       "SALE DATE                             0\n",
       "dtype: int64"
      ]
     },
     "execution_count": 44,
     "metadata": {},
     "output_type": "execute_result"
    }
   ],
   "source": [
    "data.isna().sum()"
   ]
  },
  {
   "cell_type": "code",
   "execution_count": 45,
   "metadata": {},
   "outputs": [
    {
     "data": {
      "text/plain": [
       "<matplotlib.axes._subplots.AxesSubplot at 0x202f8d0d508>"
      ]
     },
     "execution_count": 45,
     "metadata": {},
     "output_type": "execute_result"
    },
    {
     "data": {
      "image/png": "[encoded data removed]",
      "text/plain": [
       "<Figure size 1728x720 with 3 Axes>"
      ]
     },
     "metadata": {
      "needs_background": "light"
     },
     "output_type": "display_data"
    }
   ],
   "source": [
    "#see the completeness of the data using mano.bar\n",
    "mano.bar(data)"
   ]
  },
  {
   "cell_type": "markdown",
   "metadata": {},
   "source": [
    "## This indicates that LAND SQUARE FEET and GROSS SQUARE FEET can have some significance "
   ]
  },
  {
   "cell_type": "code",
   "execution_count": 46,
   "metadata": {},
   "outputs": [
    {
     "data": {
      "text/plain": [
       "<matplotlib.axes._subplots.AxesSubplot at 0x202f8248e48>"
      ]
     },
     "execution_count": 46,
     "metadata": {},
     "output_type": "execute_result"
    },
    {
     "data": {
      "image/png": "[encoded data removed]",
      "text/plain": [
       "<Figure size 1800x720 with 2 Axes>"
      ]
     },
     "metadata": {
      "needs_background": "light"
     },
     "output_type": "display_data"
    }
   ],
   "source": [
    "# visualize the location of the missingness of data using mano.matrix\n",
    "mano.matrix(data)"
   ]
  },
  {
   "cell_type": "markdown",
   "metadata": {},
   "source": [
    "## LAND SQUARE FEET, GROSS SQUARE FEET and SALES PRICE has similar missing patterns, hence we can do mean imputation"
   ]
  },
  {
   "cell_type": "code",
   "execution_count": 47,
   "metadata": {},
   "outputs": [
    {
     "data": {
      "text/plain": [
       "<matplotlib.axes._subplots.AxesSubplot at 0x202827e57c8>"
      ]
     },
     "execution_count": 47,
     "metadata": {},
     "output_type": "execute_result"
    },
    {
     "data": {
      "image/png": "[encoded data removed]",
      "text/plain": [
       "<Figure size 864x432 with 2 Axes>"
      ]
     },
     "metadata": {
      "needs_background": "light"
     },
     "output_type": "display_data"
    }
   ],
   "source": [
    "#plot the heatmap to determine the relationship (correlation) between missingness of columns\n",
    "mano.heatmap(data, figsize=(12,6))"
   ]
  },
  {
   "cell_type": "code",
   "execution_count": 48,
   "metadata": {},
   "outputs": [],
   "source": [
    "#create a separate data frame for mean imputation\n",
    "data2 = data.copy(deep=True)\n",
    "\n",
    "mean_imputation = SimpleImputer(strategy='mean')\n",
    "\n",
    "#take only columns where mean imputation matters, i.e., numerical columns\n",
    "data2[['LAND SQUARE FEET','GROSS SQUARE FEET','SALE PRICE']] = mean_imputation.fit_transform(data2[['LAND SQUARE FEET','GROSS SQUARE FEET','SALE PRICE']])"
   ]
  },
  {
   "cell_type": "code",
   "execution_count": 49,
   "metadata": {},
   "outputs": [
    {
     "data": {
      "text/plain": [
       "BOROUGH                            0\n",
       "NEIGHBORHOOD                       0\n",
       "BUILDING CLASS CATEGORY           50\n",
       "TAX CLASS AT PRESENT               0\n",
       "BLOCK                              0\n",
       "LOT                                9\n",
       "BUILDING CLASS AT PRESENT          0\n",
       "ZIP CODE                          35\n",
       "RESIDENTIAL UNITS                  0\n",
       "COMMERCIAL UNITS                   0\n",
       "TOTAL UNITS                        0\n",
       "LAND SQUARE FEET                   0\n",
       "GROSS SQUARE FEET                  0\n",
       "YEAR BUILT                         0\n",
       "TAX CLASS AT TIME OF SALE          0\n",
       "BUILDING CLASS AT TIME OF SALE     0\n",
       "SALE PRICE                         0\n",
       "SALE DATE                          0\n",
       "dtype: int64"
      ]
     },
     "execution_count": 49,
     "metadata": {},
     "output_type": "execute_result"
    }
   ],
   "source": [
    "data2.isna().sum()"
   ]
  },
  {
   "cell_type": "markdown",
   "metadata": {},
   "source": [
    "## Building Class Category"
   ]
  },
  {
   "cell_type": "code",
   "execution_count": 50,
   "metadata": {},
   "outputs": [
    {
     "data": {
      "text/plain": [
       "01 ONE FAMILY DWELLINGS                         18235\n",
       "02 TWO FAMILY DWELLINGS                         15828\n",
       "13 CONDOS - ELEVATOR APARTMENTS                 12989\n",
       "10 COOPS - ELEVATOR APARTMENTS                  12902\n",
       "03 THREE FAMILY DWELLINGS                        4348\n",
       "07 RENTALS - WALKUP APARTMENTS                   3464\n",
       "09 COOPS - WALKUP APARTMENTS                     2767\n",
       "04 TAX CLASS 1 CONDOS                            1656\n",
       "44 CONDO PARKING                                 1426\n",
       "15 CONDOS - 2-10 UNIT RESIDENTIAL                1281\n",
       "05 TAX CLASS 1 VACANT LAND                       1248\n",
       "17 CONDO COOPS                                   1201\n",
       "22 STORE BUILDINGS                                935\n",
       "12 CONDOS - WALKUP APARTMENTS                     926\n",
       "14 RENTALS - 4-10 UNIT                            671\n",
       "29 COMMERCIAL GARAGES                             587\n",
       "43 CONDO OFFICE BUILDINGS                         475\n",
       "31 COMMERCIAL VACANT LAND                         463\n",
       "08 RENTALS - ELEVATOR APARTMENTS                  382\n",
       "47 CONDO NON-BUSINESS STORAGE                     377\n",
       "21 OFFICE BUILDINGS                               350\n",
       "30 WAREHOUSES                                     326\n",
       "45 CONDO HOTELS                                   211\n",
       "27 FACTORIES                                      201\n",
       "06 TAX CLASS 1 - OTHER                            182\n",
       "41 TAX CLASS 4 - OTHER                            158\n",
       "46 CONDO STORE BUILDINGS                          154\n",
       "26 OTHER HOTELS                                   114\n",
       "37 RELIGIOUS FACILITIES                           100\n",
       "16 CONDOS - 2-10 UNIT WITH COMMERCIAL UNIT         96\n",
       "33 EDUCATIONAL FACILITIES                          69\n",
       "32 HOSPITAL AND HEALTH FACILITIES                  59\n",
       "48 CONDO TERRACES/GARDENS/CABANAS                  47\n",
       "23 LOFT BUILDINGS                                  46\n",
       "11A CONDO-RENTALS                                  43\n",
       "35 INDOOR PUBLIC AND CULTURAL FACILITIES           32\n",
       "49 CONDO WAREHOUSES/FACTORY/INDUS                  30\n",
       "28 COMMERCIAL CONDOS                               30\n",
       "38 ASYLUMS AND HOMES                               25\n",
       "36 OUTDOOR RECREATIONAL FACILITIES                 14\n",
       "42 CONDO CULTURAL/MEDICAL/EDUCATIONAL/ETC          13\n",
       "34 THEATRES                                        12\n",
       "25 LUXURY HOTELS                                   12\n",
       "18 TAX CLASS 3 - UNTILITY PROPERTIES                4\n",
       "11 SPECIAL CONDO BILLING LOTS                       2\n",
       "39 TRANSPORTATION FACILITIES                        2\n",
       "40 SELECTED GOVERNMENTAL FACILITIES                 2\n",
       "Name: BUILDING CLASS CATEGORY, dtype: int64"
      ]
     },
     "execution_count": 50,
     "metadata": {},
     "output_type": "execute_result"
    }
   ],
   "source": [
    "data2['BUILDING CLASS CATEGORY'].value_counts()"
   ]
  },
  {
   "cell_type": "code",
   "execution_count": 51,
   "metadata": {},
   "outputs": [
    {
     "data": {
      "text/plain": [
       "count                                           84495\n",
       "unique                                             47\n",
       "top       01 ONE FAMILY DWELLINGS                    \n",
       "freq                                            18235\n",
       "Name: BUILDING CLASS CATEGORY, dtype: object"
      ]
     },
     "execution_count": 51,
     "metadata": {},
     "output_type": "execute_result"
    }
   ],
   "source": [
    "data2['BUILDING CLASS CATEGORY'].describe()"
   ]
  },
  {
   "cell_type": "code",
   "execution_count": 52,
   "metadata": {},
   "outputs": [
    {
     "data": {
      "text/plain": [
       "<matplotlib.axes._subplots.AxesSubplot at 0x20282474b48>"
      ]
     },
     "execution_count": 52,
     "metadata": {},
     "output_type": "execute_result"
    },
    {
     "data": {
      "image/png": "[encoded data removed]",
      "text/plain": [
       "<Figure size 432x288 with 1 Axes>"
      ]
     },
     "metadata": {
      "needs_background": "light"
     },
     "output_type": "display_data"
    }
   ],
   "source": [
    "data2['BUILDING CLASS CATEGORY'].hist()"
   ]
  },
  {
   "cell_type": "code",
   "execution_count": 53,
   "metadata": {},
   "outputs": [
    {
     "name": "stdout",
     "output_type": "stream",
     "text": [
      "50055    4\n",
      "50056    4\n",
      "50057    4\n",
      "50058    4\n",
      "50059    4\n",
      "50060    4\n",
      "50061    4\n",
      "50062    4\n",
      "50063    4\n",
      "50064    4\n",
      "50065    4\n",
      "50066    4\n",
      "50067    4\n",
      "50068    4\n",
      "50069    4\n",
      "50070    4\n",
      "50071    4\n",
      "50072    4\n",
      "50073    4\n",
      "50074    4\n",
      "50075    4\n",
      "50076    4\n",
      "66614    4\n",
      "66615    4\n",
      "66616    4\n",
      "66617    4\n",
      "66618    4\n",
      "66619    4\n",
      "66620    4\n",
      "66621    4\n",
      "66622    4\n",
      "66624    4\n",
      "66625    4\n",
      "66626    4\n",
      "66627    4\n",
      "66628    4\n",
      "80248    5\n",
      "80249    5\n",
      "80250    5\n",
      "80251    5\n",
      "80252    5\n",
      "80253    5\n",
      "80254    5\n",
      "80255    5\n",
      "80256    5\n",
      "80257    5\n",
      "80258    5\n",
      "80259    5\n",
      "80260    5\n",
      "80261    5\n",
      "Name: BOROUGH, dtype: category\n",
      "Categories (5, int64): [1, 2, 3, 4, 5]\n"
     ]
    }
   ],
   "source": [
    "#find out the BOROUGH where BUILDING CLASS CATEGORY are missing \n",
    "print(data2[data2['BUILDING CLASS CATEGORY'].isna()]['BOROUGH'])"
   ]
  },
  {
   "cell_type": "markdown",
   "metadata": {},
   "source": [
    "# Predicts a sequence"
   ]
  },
  {
   "cell_type": "code",
   "execution_count": 54,
   "metadata": {},
   "outputs": [],
   "source": [
    "data2['BUILDING CLASS CATEGORY'].fillna(method='ffill',inplace=True)"
   ]
  },
  {
   "cell_type": "code",
   "execution_count": 55,
   "metadata": {},
   "outputs": [
    {
     "data": {
      "text/plain": [
       "BOROUGH                            0\n",
       "NEIGHBORHOOD                       0\n",
       "BUILDING CLASS CATEGORY            0\n",
       "TAX CLASS AT PRESENT               0\n",
       "BLOCK                              0\n",
       "LOT                                9\n",
       "BUILDING CLASS AT PRESENT          0\n",
       "ZIP CODE                          35\n",
       "RESIDENTIAL UNITS                  0\n",
       "COMMERCIAL UNITS                   0\n",
       "TOTAL UNITS                        0\n",
       "LAND SQUARE FEET                   0\n",
       "GROSS SQUARE FEET                  0\n",
       "YEAR BUILT                         0\n",
       "TAX CLASS AT TIME OF SALE          0\n",
       "BUILDING CLASS AT TIME OF SALE     0\n",
       "SALE PRICE                         0\n",
       "SALE DATE                          0\n",
       "dtype: int64"
      ]
     },
     "execution_count": 55,
     "metadata": {},
     "output_type": "execute_result"
    }
   ],
   "source": [
    "data2.isna().sum()"
   ]
  },
  {
   "cell_type": "code",
   "execution_count": 56,
   "metadata": {},
   "outputs": [
    {
     "name": "stdout",
     "output_type": "stream",
     "text": [
      "<class 'pandas.core.frame.DataFrame'>\n",
      "Int64Index: 84545 entries, 1 to 84547\n",
      "Data columns (total 18 columns):\n",
      " #   Column                          Non-Null Count  Dtype         \n",
      "---  ------                          --------------  -----         \n",
      " 0   BOROUGH                         84545 non-null  category      \n",
      " 1   NEIGHBORHOOD                    84545 non-null  object        \n",
      " 2   BUILDING CLASS CATEGORY         84545 non-null  category      \n",
      " 3   TAX CLASS AT PRESENT            84545 non-null  object        \n",
      " 4   BLOCK                           84545 non-null  float64       \n",
      " 5   LOT                             84536 non-null  float64       \n",
      " 6   BUILDING CLASS AT PRESENT       84545 non-null  category      \n",
      " 7   ZIP CODE                        84510 non-null  float64       \n",
      " 8   RESIDENTIAL UNITS               84545 non-null  int64         \n",
      " 9   COMMERCIAL UNITS                84545 non-null  int64         \n",
      " 10  TOTAL UNITS                     84545 non-null  int64         \n",
      " 11  LAND SQUARE FEET                84545 non-null  float64       \n",
      " 12  GROSS SQUARE FEET               84545 non-null  float64       \n",
      " 13  YEAR BUILT                      84545 non-null  int64         \n",
      " 14  TAX CLASS AT TIME OF SALE       84545 non-null  category      \n",
      " 15  BUILDING CLASS AT TIME OF SALE  84545 non-null  category      \n",
      " 16  SALE PRICE                      84545 non-null  float64       \n",
      " 17  SALE DATE                       84545 non-null  datetime64[ns]\n",
      "dtypes: category(5), datetime64[ns](1), float64(6), int64(4), object(2)\n",
      "memory usage: 9.6+ MB\n"
     ]
    }
   ],
   "source": [
    "data2.info()"
   ]
  },
  {
   "cell_type": "markdown",
   "metadata": {},
   "source": [
    "## ZIP Code"
   ]
  },
  {
   "cell_type": "markdown",
   "metadata": {},
   "source": [
    "## Let's fill some of the data with Forward fill"
   ]
  },
  {
   "cell_type": "code",
   "execution_count": 57,
   "metadata": {},
   "outputs": [],
   "source": [
    "data2['ZIP CODE'].fillna(method='ffill',inplace=True)"
   ]
  },
  {
   "cell_type": "code",
   "execution_count": 58,
   "metadata": {},
   "outputs": [
    {
     "data": {
      "text/plain": [
       "BOROUGH                            0\n",
       "NEIGHBORHOOD                       0\n",
       "BUILDING CLASS CATEGORY            0\n",
       "TAX CLASS AT PRESENT               0\n",
       "BLOCK                              0\n",
       "LOT                                9\n",
       "BUILDING CLASS AT PRESENT          0\n",
       "ZIP CODE                          14\n",
       "RESIDENTIAL UNITS                  0\n",
       "COMMERCIAL UNITS                   0\n",
       "TOTAL UNITS                        0\n",
       "LAND SQUARE FEET                   0\n",
       "GROSS SQUARE FEET                  0\n",
       "YEAR BUILT                         0\n",
       "TAX CLASS AT TIME OF SALE          0\n",
       "BUILDING CLASS AT TIME OF SALE     0\n",
       "SALE PRICE                         0\n",
       "SALE DATE                          0\n",
       "dtype: int64"
      ]
     },
     "execution_count": 58,
     "metadata": {},
     "output_type": "execute_result"
    }
   ],
   "source": [
    "data2.isna().sum()"
   ]
  },
  {
   "cell_type": "markdown",
   "metadata": {},
   "source": [
    "# We still have missing data, so now we will use KNN Imputation"
   ]
  },
  {
   "cell_type": "code",
   "execution_count": 59,
   "metadata": {},
   "outputs": [
    {
     "data": {
      "text/html": [
       "<div>\n",
       "<style scoped>\n",
       "    .dataframe tbody tr th:only-of-type {\n",
       "        vertical-align: middle;\n",
       "    }\n",
       "\n",
       "    .dataframe tbody tr th {\n",
       "        vertical-align: top;\n",
       "    }\n",
       "\n",
       "    .dataframe thead th {\n",
       "        text-align: right;\n",
       "    }\n",
       "</style>\n",
       "<table border=\"1\" class=\"dataframe\">\n",
       "  <thead>\n",
       "    <tr style=\"text-align: right;\">\n",
       "      <th></th>\n",
       "      <th>BOROUGH</th>\n",
       "      <th>NEIGHBORHOOD</th>\n",
       "      <th>BUILDING CLASS CATEGORY</th>\n",
       "      <th>TAX CLASS AT PRESENT</th>\n",
       "      <th>BLOCK</th>\n",
       "      <th>LOT</th>\n",
       "      <th>BUILDING CLASS AT PRESENT</th>\n",
       "      <th>ZIP CODE</th>\n",
       "      <th>RESIDENTIAL UNITS</th>\n",
       "      <th>COMMERCIAL UNITS</th>\n",
       "      <th>TOTAL UNITS</th>\n",
       "      <th>LAND SQUARE FEET</th>\n",
       "      <th>GROSS SQUARE FEET</th>\n",
       "      <th>YEAR BUILT</th>\n",
       "      <th>TAX CLASS AT TIME OF SALE</th>\n",
       "      <th>BUILDING CLASS AT TIME OF SALE</th>\n",
       "      <th>SALE PRICE</th>\n",
       "      <th>SALE DATE</th>\n",
       "    </tr>\n",
       "  </thead>\n",
       "  <tbody>\n",
       "    <tr>\n",
       "      <th>1</th>\n",
       "      <td>1</td>\n",
       "      <td>ALPHABET CITY</td>\n",
       "      <td>07 RENTALS - WALKUP APARTMENTS</td>\n",
       "      <td>2</td>\n",
       "      <td>399.0</td>\n",
       "      <td>26.0</td>\n",
       "      <td>C7</td>\n",
       "      <td>10732.124085</td>\n",
       "      <td>28</td>\n",
       "      <td>3</td>\n",
       "      <td>31</td>\n",
       "      <td>4616.0</td>\n",
       "      <td>18690.0</td>\n",
       "      <td>1900</td>\n",
       "      <td>2</td>\n",
       "      <td>C7</td>\n",
       "      <td>1.276380e+06</td>\n",
       "      <td>2016-12-14</td>\n",
       "    </tr>\n",
       "    <tr>\n",
       "      <th>2</th>\n",
       "      <td>1</td>\n",
       "      <td>ALPHABET CITY</td>\n",
       "      <td>07 RENTALS - WALKUP APARTMENTS</td>\n",
       "      <td>2</td>\n",
       "      <td>399.0</td>\n",
       "      <td>39.0</td>\n",
       "      <td>C7</td>\n",
       "      <td>10732.124085</td>\n",
       "      <td>16</td>\n",
       "      <td>1</td>\n",
       "      <td>17</td>\n",
       "      <td>2212.0</td>\n",
       "      <td>7803.0</td>\n",
       "      <td>1900</td>\n",
       "      <td>2</td>\n",
       "      <td>C7</td>\n",
       "      <td>1.276380e+06</td>\n",
       "      <td>2016-12-09</td>\n",
       "    </tr>\n",
       "    <tr>\n",
       "      <th>3</th>\n",
       "      <td>1</td>\n",
       "      <td>ALPHABET CITY</td>\n",
       "      <td>07 RENTALS - WALKUP APARTMENTS</td>\n",
       "      <td>2</td>\n",
       "      <td>402.0</td>\n",
       "      <td>21.0</td>\n",
       "      <td>C4</td>\n",
       "      <td>10732.124085</td>\n",
       "      <td>10</td>\n",
       "      <td>0</td>\n",
       "      <td>10</td>\n",
       "      <td>2272.0</td>\n",
       "      <td>6794.0</td>\n",
       "      <td>1913</td>\n",
       "      <td>2</td>\n",
       "      <td>C4</td>\n",
       "      <td>3.936272e+06</td>\n",
       "      <td>2016-09-23</td>\n",
       "    </tr>\n",
       "    <tr>\n",
       "      <th>4</th>\n",
       "      <td>1</td>\n",
       "      <td>ALPHABET CITY</td>\n",
       "      <td>07 RENTALS - WALKUP APARTMENTS</td>\n",
       "      <td>2</td>\n",
       "      <td>404.0</td>\n",
       "      <td>55.0</td>\n",
       "      <td>C2</td>\n",
       "      <td>10732.124085</td>\n",
       "      <td>6</td>\n",
       "      <td>0</td>\n",
       "      <td>6</td>\n",
       "      <td>2369.0</td>\n",
       "      <td>4615.0</td>\n",
       "      <td>1900</td>\n",
       "      <td>2</td>\n",
       "      <td>C2</td>\n",
       "      <td>8.000000e+06</td>\n",
       "      <td>2016-11-17</td>\n",
       "    </tr>\n",
       "    <tr>\n",
       "      <th>6</th>\n",
       "      <td>1</td>\n",
       "      <td>ALPHABET CITY</td>\n",
       "      <td>07 RENTALS - WALKUP APARTMENTS</td>\n",
       "      <td>2</td>\n",
       "      <td>406.0</td>\n",
       "      <td>32.0</td>\n",
       "      <td>C4</td>\n",
       "      <td>10732.124085</td>\n",
       "      <td>8</td>\n",
       "      <td>0</td>\n",
       "      <td>8</td>\n",
       "      <td>1750.0</td>\n",
       "      <td>4226.0</td>\n",
       "      <td>1920</td>\n",
       "      <td>2</td>\n",
       "      <td>C4</td>\n",
       "      <td>3.192840e+06</td>\n",
       "      <td>2016-09-23</td>\n",
       "    </tr>\n",
       "    <tr>\n",
       "      <th>...</th>\n",
       "      <td>...</td>\n",
       "      <td>...</td>\n",
       "      <td>...</td>\n",
       "      <td>...</td>\n",
       "      <td>...</td>\n",
       "      <td>...</td>\n",
       "      <td>...</td>\n",
       "      <td>...</td>\n",
       "      <td>...</td>\n",
       "      <td>...</td>\n",
       "      <td>...</td>\n",
       "      <td>...</td>\n",
       "      <td>...</td>\n",
       "      <td>...</td>\n",
       "      <td>...</td>\n",
       "      <td>...</td>\n",
       "      <td>...</td>\n",
       "      <td>...</td>\n",
       "    </tr>\n",
       "    <tr>\n",
       "      <th>84543</th>\n",
       "      <td>5</td>\n",
       "      <td>WOODROW</td>\n",
       "      <td>02 TWO FAMILY DWELLINGS</td>\n",
       "      <td>1</td>\n",
       "      <td>7349.0</td>\n",
       "      <td>34.0</td>\n",
       "      <td>B9</td>\n",
       "      <td>10309.000000</td>\n",
       "      <td>2</td>\n",
       "      <td>0</td>\n",
       "      <td>2</td>\n",
       "      <td>2400.0</td>\n",
       "      <td>2575.0</td>\n",
       "      <td>1998</td>\n",
       "      <td>1</td>\n",
       "      <td>B9</td>\n",
       "      <td>4.500000e+05</td>\n",
       "      <td>2016-11-28</td>\n",
       "    </tr>\n",
       "    <tr>\n",
       "      <th>84544</th>\n",
       "      <td>5</td>\n",
       "      <td>WOODROW</td>\n",
       "      <td>02 TWO FAMILY DWELLINGS</td>\n",
       "      <td>1</td>\n",
       "      <td>7349.0</td>\n",
       "      <td>78.0</td>\n",
       "      <td>B9</td>\n",
       "      <td>10309.000000</td>\n",
       "      <td>2</td>\n",
       "      <td>0</td>\n",
       "      <td>2</td>\n",
       "      <td>2498.0</td>\n",
       "      <td>2377.0</td>\n",
       "      <td>1998</td>\n",
       "      <td>1</td>\n",
       "      <td>B9</td>\n",
       "      <td>5.500000e+05</td>\n",
       "      <td>2017-04-21</td>\n",
       "    </tr>\n",
       "    <tr>\n",
       "      <th>84545</th>\n",
       "      <td>5</td>\n",
       "      <td>WOODROW</td>\n",
       "      <td>02 TWO FAMILY DWELLINGS</td>\n",
       "      <td>1</td>\n",
       "      <td>7351.0</td>\n",
       "      <td>60.0</td>\n",
       "      <td>B2</td>\n",
       "      <td>10309.000000</td>\n",
       "      <td>2</td>\n",
       "      <td>0</td>\n",
       "      <td>2</td>\n",
       "      <td>4000.0</td>\n",
       "      <td>1496.0</td>\n",
       "      <td>1925</td>\n",
       "      <td>1</td>\n",
       "      <td>B2</td>\n",
       "      <td>4.600000e+05</td>\n",
       "      <td>2017-07-05</td>\n",
       "    </tr>\n",
       "    <tr>\n",
       "      <th>84546</th>\n",
       "      <td>5</td>\n",
       "      <td>WOODROW</td>\n",
       "      <td>22 STORE BUILDINGS</td>\n",
       "      <td>4</td>\n",
       "      <td>7100.0</td>\n",
       "      <td>28.0</td>\n",
       "      <td>K6</td>\n",
       "      <td>10309.000000</td>\n",
       "      <td>0</td>\n",
       "      <td>7</td>\n",
       "      <td>7</td>\n",
       "      <td>208033.0</td>\n",
       "      <td>64117.0</td>\n",
       "      <td>2001</td>\n",
       "      <td>4</td>\n",
       "      <td>K6</td>\n",
       "      <td>1.169334e+07</td>\n",
       "      <td>2016-12-21</td>\n",
       "    </tr>\n",
       "    <tr>\n",
       "      <th>84547</th>\n",
       "      <td>5</td>\n",
       "      <td>WOODROW</td>\n",
       "      <td>35 INDOOR PUBLIC AND CULTURAL FACILITIES</td>\n",
       "      <td>4</td>\n",
       "      <td>7105.0</td>\n",
       "      <td>679.0</td>\n",
       "      <td>P9</td>\n",
       "      <td>10309.000000</td>\n",
       "      <td>0</td>\n",
       "      <td>1</td>\n",
       "      <td>1</td>\n",
       "      <td>10796.0</td>\n",
       "      <td>2400.0</td>\n",
       "      <td>2006</td>\n",
       "      <td>4</td>\n",
       "      <td>P9</td>\n",
       "      <td>6.930000e+04</td>\n",
       "      <td>2016-10-27</td>\n",
       "    </tr>\n",
       "  </tbody>\n",
       "</table>\n",
       "<p>84545 rows × 18 columns</p>\n",
       "</div>"
      ],
      "text/plain": [
       "      BOROUGH   NEIGHBORHOOD                      BUILDING CLASS CATEGORY  \\\n",
       "1           1  ALPHABET CITY  07 RENTALS - WALKUP APARTMENTS                \n",
       "2           1  ALPHABET CITY  07 RENTALS - WALKUP APARTMENTS                \n",
       "3           1  ALPHABET CITY  07 RENTALS - WALKUP APARTMENTS                \n",
       "4           1  ALPHABET CITY  07 RENTALS - WALKUP APARTMENTS                \n",
       "6           1  ALPHABET CITY  07 RENTALS - WALKUP APARTMENTS                \n",
       "...       ...            ...                                          ...   \n",
       "84543       5        WOODROW  02 TWO FAMILY DWELLINGS                       \n",
       "84544       5        WOODROW  02 TWO FAMILY DWELLINGS                       \n",
       "84545       5        WOODROW  02 TWO FAMILY DWELLINGS                       \n",
       "84546       5        WOODROW  22 STORE BUILDINGS                            \n",
       "84547       5        WOODROW  35 INDOOR PUBLIC AND CULTURAL FACILITIES      \n",
       "\n",
       "      TAX CLASS AT PRESENT   BLOCK    LOT BUILDING CLASS AT PRESENT  \\\n",
       "1                        2   399.0   26.0                        C7   \n",
       "2                        2   399.0   39.0                        C7   \n",
       "3                        2   402.0   21.0                        C4   \n",
       "4                        2   404.0   55.0                        C2   \n",
       "6                        2   406.0   32.0                        C4   \n",
       "...                    ...     ...    ...                       ...   \n",
       "84543                    1  7349.0   34.0                        B9   \n",
       "84544                    1  7349.0   78.0                        B9   \n",
       "84545                    1  7351.0   60.0                        B2   \n",
       "84546                    4  7100.0   28.0                        K6   \n",
       "84547                    4  7105.0  679.0                        P9   \n",
       "\n",
       "           ZIP CODE  RESIDENTIAL UNITS  COMMERCIAL UNITS  TOTAL UNITS  \\\n",
       "1      10732.124085                 28                 3           31   \n",
       "2      10732.124085                 16                 1           17   \n",
       "3      10732.124085                 10                 0           10   \n",
       "4      10732.124085                  6                 0            6   \n",
       "6      10732.124085                  8                 0            8   \n",
       "...             ...                ...               ...          ...   \n",
       "84543  10309.000000                  2                 0            2   \n",
       "84544  10309.000000                  2                 0            2   \n",
       "84545  10309.000000                  2                 0            2   \n",
       "84546  10309.000000                  0                 7            7   \n",
       "84547  10309.000000                  0                 1            1   \n",
       "\n",
       "       LAND SQUARE FEET  GROSS SQUARE FEET  YEAR BUILT  \\\n",
       "1                4616.0            18690.0        1900   \n",
       "2                2212.0             7803.0        1900   \n",
       "3                2272.0             6794.0        1913   \n",
       "4                2369.0             4615.0        1900   \n",
       "6                1750.0             4226.0        1920   \n",
       "...                 ...                ...         ...   \n",
       "84543            2400.0             2575.0        1998   \n",
       "84544            2498.0             2377.0        1998   \n",
       "84545            4000.0             1496.0        1925   \n",
       "84546          208033.0            64117.0        2001   \n",
       "84547           10796.0             2400.0        2006   \n",
       "\n",
       "      TAX CLASS AT TIME OF SALE BUILDING CLASS AT TIME OF SALE    SALE PRICE  \\\n",
       "1                             2                             C7  1.276380e+06   \n",
       "2                             2                             C7  1.276380e+06   \n",
       "3                             2                             C4  3.936272e+06   \n",
       "4                             2                             C2  8.000000e+06   \n",
       "6                             2                             C4  3.192840e+06   \n",
       "...                         ...                            ...           ...   \n",
       "84543                         1                             B9  4.500000e+05   \n",
       "84544                         1                             B9  5.500000e+05   \n",
       "84545                         1                             B2  4.600000e+05   \n",
       "84546                         4                             K6  1.169334e+07   \n",
       "84547                         4                             P9  6.930000e+04   \n",
       "\n",
       "       SALE DATE  \n",
       "1     2016-12-14  \n",
       "2     2016-12-09  \n",
       "3     2016-09-23  \n",
       "4     2016-11-17  \n",
       "6     2016-09-23  \n",
       "...          ...  \n",
       "84543 2016-11-28  \n",
       "84544 2017-04-21  \n",
       "84545 2017-07-05  \n",
       "84546 2016-12-21  \n",
       "84547 2016-10-27  \n",
       "\n",
       "[84545 rows x 18 columns]"
      ]
     },
     "execution_count": 59,
     "metadata": {},
     "output_type": "execute_result"
    }
   ],
   "source": [
    "from sklearn.impute import KNNImputer\n",
    "imputer = KNNImputer (n_neighbors=2)\n",
    "data2_knn = data2.copy(deep=True)\n",
    "data2_knn[['ZIP CODE']] = imputer.fit_transform(data2_knn[['ZIP CODE']])\n",
    "data2_knn"
   ]
  },
  {
   "cell_type": "code",
   "execution_count": 60,
   "metadata": {},
   "outputs": [
    {
     "data": {
      "text/plain": [
       "BOROUGH                           0\n",
       "NEIGHBORHOOD                      0\n",
       "BUILDING CLASS CATEGORY           0\n",
       "TAX CLASS AT PRESENT              0\n",
       "BLOCK                             0\n",
       "LOT                               9\n",
       "BUILDING CLASS AT PRESENT         0\n",
       "ZIP CODE                          0\n",
       "RESIDENTIAL UNITS                 0\n",
       "COMMERCIAL UNITS                  0\n",
       "TOTAL UNITS                       0\n",
       "LAND SQUARE FEET                  0\n",
       "GROSS SQUARE FEET                 0\n",
       "YEAR BUILT                        0\n",
       "TAX CLASS AT TIME OF SALE         0\n",
       "BUILDING CLASS AT TIME OF SALE    0\n",
       "SALE PRICE                        0\n",
       "SALE DATE                         0\n",
       "dtype: int64"
      ]
     },
     "execution_count": 60,
     "metadata": {},
     "output_type": "execute_result"
    }
   ],
   "source": [
    "data2_knn.isna().sum()"
   ]
  },
  {
   "cell_type": "markdown",
   "metadata": {},
   "source": [
    "## LOT "
   ]
  },
  {
   "cell_type": "code",
   "execution_count": 61,
   "metadata": {},
   "outputs": [
    {
     "name": "stdout",
     "output_type": "stream",
     "text": [
      "553      1\n",
      "967      1\n",
      "1519     1\n",
      "2003     1\n",
      "2509     1\n",
      "2601     1\n",
      "2624     1\n",
      "2647     1\n",
      "56295    4\n",
      "Name: BOROUGH, dtype: category\n",
      "Categories (5, int64): [1, 2, 3, 4, 5]\n"
     ]
    }
   ],
   "source": [
    "print(data2_knn[data2_knn['LOT'].isna()]['BOROUGH'])"
   ]
  },
  {
   "cell_type": "code",
   "execution_count": 62,
   "metadata": {},
   "outputs": [
    {
     "data": {
      "text/plain": [
       "count    84536.000000\n",
       "mean       376.204079\n",
       "std        658.144517\n",
       "min          1.000000\n",
       "25%         22.000000\n",
       "50%         50.000000\n",
       "75%       1001.000000\n",
       "max       9106.000000\n",
       "Name: LOT, dtype: float64"
      ]
     },
     "execution_count": 62,
     "metadata": {},
     "output_type": "execute_result"
    }
   ],
   "source": [
    "data2_knn['LOT'].describe()"
   ]
  },
  {
   "cell_type": "markdown",
   "metadata": {},
   "source": [
    "## We will simply impute it with mode"
   ]
  },
  {
   "cell_type": "code",
   "execution_count": 63,
   "metadata": {},
   "outputs": [],
   "source": [
    "data2_knn['LOT'] = data2_knn['LOT'].fillna(data2_knn['LOT'].mode())"
   ]
  },
  {
   "cell_type": "code",
   "execution_count": 64,
   "metadata": {},
   "outputs": [
    {
     "data": {
      "text/plain": [
       "BOROUGH                           0\n",
       "NEIGHBORHOOD                      0\n",
       "BUILDING CLASS CATEGORY           0\n",
       "TAX CLASS AT PRESENT              0\n",
       "BLOCK                             0\n",
       "LOT                               9\n",
       "BUILDING CLASS AT PRESENT         0\n",
       "ZIP CODE                          0\n",
       "RESIDENTIAL UNITS                 0\n",
       "COMMERCIAL UNITS                  0\n",
       "TOTAL UNITS                       0\n",
       "LAND SQUARE FEET                  0\n",
       "GROSS SQUARE FEET                 0\n",
       "YEAR BUILT                        0\n",
       "TAX CLASS AT TIME OF SALE         0\n",
       "BUILDING CLASS AT TIME OF SALE    0\n",
       "SALE PRICE                        0\n",
       "SALE DATE                         0\n",
       "dtype: int64"
      ]
     },
     "execution_count": 64,
     "metadata": {},
     "output_type": "execute_result"
    }
   ],
   "source": [
    "data2_knn.isna().sum()"
   ]
  },
  {
   "cell_type": "markdown",
   "metadata": {},
   "source": [
    "Lets drop the rows for now. Since they are only 9 "
   ]
  },
  {
   "cell_type": "code",
   "execution_count": 65,
   "metadata": {},
   "outputs": [],
   "source": [
    "data2_knn = data2_knn[data2_knn['LOT'].notna()]"
   ]
  },
  {
   "cell_type": "code",
   "execution_count": 66,
   "metadata": {},
   "outputs": [
    {
     "data": {
      "text/plain": [
       "BOROUGH                           0\n",
       "NEIGHBORHOOD                      0\n",
       "BUILDING CLASS CATEGORY           0\n",
       "TAX CLASS AT PRESENT              0\n",
       "BLOCK                             0\n",
       "LOT                               0\n",
       "BUILDING CLASS AT PRESENT         0\n",
       "ZIP CODE                          0\n",
       "RESIDENTIAL UNITS                 0\n",
       "COMMERCIAL UNITS                  0\n",
       "TOTAL UNITS                       0\n",
       "LAND SQUARE FEET                  0\n",
       "GROSS SQUARE FEET                 0\n",
       "YEAR BUILT                        0\n",
       "TAX CLASS AT TIME OF SALE         0\n",
       "BUILDING CLASS AT TIME OF SALE    0\n",
       "SALE PRICE                        0\n",
       "SALE DATE                         0\n",
       "dtype: int64"
      ]
     },
     "execution_count": 66,
     "metadata": {},
     "output_type": "execute_result"
    }
   ],
   "source": [
    "data2_knn.isna().sum()"
   ]
  },
  {
   "cell_type": "markdown",
   "metadata": {},
   "source": [
    "## Data is cleaned now! "
   ]
  },
  {
   "cell_type": "code",
   "execution_count": 67,
   "metadata": {},
   "outputs": [],
   "source": [
    "data = data2_knn.copy(deep=True)"
   ]
  },
  {
   "cell_type": "markdown",
   "metadata": {},
   "source": [
    "Copied the data "
   ]
  },
  {
   "cell_type": "code",
   "execution_count": 68,
   "metadata": {},
   "outputs": [
    {
     "data": {
      "text/plain": [
       "BOROUGH                           0\n",
       "NEIGHBORHOOD                      0\n",
       "BUILDING CLASS CATEGORY           0\n",
       "TAX CLASS AT PRESENT              0\n",
       "BLOCK                             0\n",
       "LOT                               0\n",
       "BUILDING CLASS AT PRESENT         0\n",
       "ZIP CODE                          0\n",
       "RESIDENTIAL UNITS                 0\n",
       "COMMERCIAL UNITS                  0\n",
       "TOTAL UNITS                       0\n",
       "LAND SQUARE FEET                  0\n",
       "GROSS SQUARE FEET                 0\n",
       "YEAR BUILT                        0\n",
       "TAX CLASS AT TIME OF SALE         0\n",
       "BUILDING CLASS AT TIME OF SALE    0\n",
       "SALE PRICE                        0\n",
       "SALE DATE                         0\n",
       "dtype: int64"
      ]
     },
     "execution_count": 68,
     "metadata": {},
     "output_type": "execute_result"
    }
   ],
   "source": [
    "data.isna().sum()"
   ]
  },
  {
   "cell_type": "markdown",
   "metadata": {},
   "source": [
    "# Detect Outliers"
   ]
  },
  {
   "cell_type": "code",
   "execution_count": 69,
   "metadata": {},
   "outputs": [],
   "source": [
    "# for visualization purposes, we replace borough numbering with their string names\n",
    "data['BOROUGH'] = data['BOROUGH'].astype(str)\n",
    "data['BOROUGH'] = data['BOROUGH'].str.replace(\"1\", \"Manhattan\")\n",
    "data['BOROUGH'] = data['BOROUGH'].str.replace(\"2\", \"Bronx\")\n",
    "data['BOROUGH'] = data['BOROUGH'].str.replace(\"3\", \"Brooklyn\")\n",
    "data['BOROUGH'] = data['BOROUGH'].str.replace(\"4\", \"Queens\")\n",
    "data['BOROUGH'] = data['BOROUGH'].str.replace(\"5\", \"Staten Island\")"
   ]
  },
  {
   "cell_type": "code",
   "execution_count": 70,
   "metadata": {},
   "outputs": [
    {
     "data": {
      "text/plain": [
       "Queens           26734\n",
       "Brooklyn         24047\n",
       "Manhattan        18296\n",
       "Staten Island     8410\n",
       "Bronx             7049\n",
       "Name: BOROUGH, dtype: int64"
      ]
     },
     "execution_count": 70,
     "metadata": {},
     "output_type": "execute_result"
    }
   ],
   "source": [
    "data['BOROUGH'].value_counts()"
   ]
  },
  {
   "cell_type": "markdown",
   "metadata": {},
   "source": [
    "Most of the properties are bought in Queens"
   ]
  },
  {
   "cell_type": "code",
   "execution_count": 71,
   "metadata": {},
   "outputs": [
    {
     "data": {
      "image/png": "[encoded data removed]",
      "text/plain": [
       "<Figure size 720x360 with 1 Axes>"
      ]
     },
     "metadata": {},
     "output_type": "display_data"
    }
   ],
   "source": [
    "# house prices greater than 10M probably represents outliers.\n",
    "import matplotlib.ticker as ticker\n",
    "\n",
    "sns.set_style(\"whitegrid\")\n",
    "plt.figure(figsize=(10,5))\n",
    "plotd = sns.distplot(data[(data['SALE PRICE']>100) & (data['SALE PRICE'] < 10000000)]['SALE PRICE'], kde=True, bins=100)\n",
    "\n",
    "tick_spacing=250000 # set spacing for each tick\n",
    "plotd.xaxis.set_major_locator(ticker.MultipleLocator(tick_spacing))\n",
    "plotd.set_xlim([-100000, 5000000]) # do not show negative values \n",
    "plt.xticks(rotation=30) # rotate x ticks by 30 degrees\n",
    "plt.axvline(data[(data['SALE PRICE']>100) & (data['SALE PRICE'] < 10000000)]['SALE PRICE'].mean(), c='red')\n",
    "plt.axvline(data[(data['SALE PRICE']>100) & (data['SALE PRICE'] < 10000000)]['SALE PRICE'].median(), c='blue')\n",
    "plt.text(250000,0.0000012, \"median\")\n",
    "plt.text(850000,0.0000010, \"mean\")\n",
    "plt.show()"
   ]
  },
  {
   "cell_type": "markdown",
   "metadata": {},
   "source": [
    "Prices are skewed to the right. Most of the prices are around 250 and 750 thousands range. The mean is around 10M"
   ]
  },
  {
   "cell_type": "markdown",
   "metadata": {},
   "source": [
    "## We will detect outliers using box plot and scatter plot"
   ]
  },
  {
   "cell_type": "code",
   "execution_count": 72,
   "metadata": {},
   "outputs": [
    {
     "data": {
      "image/png": "[encoded data removed]",
      "text/plain": [
       "<Figure size 432x288 with 1 Axes>"
      ]
     },
     "metadata": {},
     "output_type": "display_data"
    }
   ],
   "source": [
    "#Data contains many outliers, mainly due to commercial property sales\n",
    "sns.boxplot(x='RESIDENTIAL UNITS',data=data)\n",
    "plt.title('Average units per property')\n",
    "plt.show()"
   ]
  },
  {
   "cell_type": "code",
   "execution_count": 73,
   "metadata": {},
   "outputs": [
    {
     "data": {
      "image/png": "[encoded data removed]",
      "text/plain": [
       "<Figure size 432x288 with 1 Axes>"
      ]
     },
     "metadata": {},
     "output_type": "display_data"
    }
   ],
   "source": [
    "sns.boxplot(x='COMMERCIAL UNITS',data=data)\n",
    "plt.title('Commercial units at property')\n",
    "plt.show()"
   ]
  },
  {
   "cell_type": "code",
   "execution_count": 74,
   "metadata": {},
   "outputs": [
    {
     "data": {
      "image/png": "[encoded data removed]",
      "text/plain": [
       "<Figure size 432x288 with 1 Axes>"
      ]
     },
     "metadata": {},
     "output_type": "display_data"
    }
   ],
   "source": [
    "sns.boxplot(x='TOTAL UNITS',data=data)\n",
    "plt.title('total units at property')\n",
    "plt.show()"
   ]
  },
  {
   "cell_type": "code",
   "execution_count": 75,
   "metadata": {},
   "outputs": [
    {
     "data": {
      "image/png": "[encoded data removed]",
      "text/plain": [
       "<Figure size 432x288 with 1 Axes>"
      ]
     },
     "metadata": {},
     "output_type": "display_data"
    }
   ],
   "source": [
    "sns.boxplot(x='GROSS SQUARE FEET',data=data)\n",
    "plt.title('GROSS SQUARE FEET per property')\n",
    "plt.show()"
   ]
  },
  {
   "cell_type": "code",
   "execution_count": 76,
   "metadata": {},
   "outputs": [
    {
     "data": {
      "image/png": "[encoded data removed]",
      "text/plain": [
       "<Figure size 432x288 with 1 Axes>"
      ]
     },
     "metadata": {},
     "output_type": "display_data"
    }
   ],
   "source": [
    "sns.boxplot(x='SALE PRICE',data=data)\n",
    "plt.title('SALE PRICE per property')\n",
    "plt.show()"
   ]
  },
  {
   "cell_type": "code",
   "execution_count": 77,
   "metadata": {},
   "outputs": [
    {
     "data": {
      "image/png": "[encoded data removed]",
      "text/plain": [
       "<Figure size 720x360 with 1 Axes>"
      ]
     },
     "metadata": {},
     "output_type": "display_data"
    }
   ],
   "source": [
    "fig, ax = plt.subplots(figsize=(10,5))\n",
    "ax.scatter(data['COMMERCIAL UNITS'], data['SALE PRICE'])\n",
    "ax.set_xlabel('Commercial units at property')\n",
    "ax.set_ylabel('Sale price per property')\n",
    "plt.show()"
   ]
  },
  {
   "cell_type": "markdown",
   "metadata": {},
   "source": [
    "## You can notice the outliers in the top left and botton tight"
   ]
  },
  {
   "cell_type": "code",
   "execution_count": 78,
   "metadata": {},
   "outputs": [
    {
     "data": {
      "image/png": "[encoded data removed]",
      "text/plain": [
       "<Figure size 720x360 with 1 Axes>"
      ]
     },
     "metadata": {},
     "output_type": "display_data"
    }
   ],
   "source": [
    "fig, ax = plt.subplots(figsize=(10,5))\n",
    "ax.scatter(data['RESIDENTIAL UNITS'], data['SALE PRICE'])\n",
    "ax.set_xlabel('Residential units at property')\n",
    "ax.set_ylabel('Sale price per property')\n",
    "plt.show()"
   ]
  },
  {
   "cell_type": "markdown",
   "metadata": {},
   "source": [
    "## This has many outliers too "
   ]
  },
  {
   "cell_type": "code",
   "execution_count": 79,
   "metadata": {},
   "outputs": [
    {
     "data": {
      "text/plain": [
       "0       6969\n",
       "1111       1\n",
       "1680       1\n",
       "Name: YEAR BUILT, dtype: int64"
      ]
     },
     "execution_count": 79,
     "metadata": {},
     "output_type": "execute_result"
    }
   ],
   "source": [
    "data[data['YEAR BUILT']<1800]['YEAR BUILT'].value_counts()"
   ]
  },
  {
   "cell_type": "code",
   "execution_count": 80,
   "metadata": {},
   "outputs": [
    {
     "data": {
      "text/plain": [
       "13 CONDOS - ELEVATOR APARTMENTS                 3082\n",
       "05 TAX CLASS 1 VACANT LAND                      1171\n",
       "04 TAX CLASS 1 CONDOS                            424\n",
       "31 COMMERCIAL VACANT LAND                        419\n",
       "44 CONDO PARKING                                 387\n",
       "12 CONDOS - WALKUP APARTMENTS                    275\n",
       "29 COMMERCIAL GARAGES                            255\n",
       "15 CONDOS - 2-10 UNIT RESIDENTIAL                251\n",
       "17 CONDO COOPS                                   183\n",
       "47 CONDO NON-BUSINESS STORAGE                    118\n",
       "41 TAX CLASS 4 - OTHER                           109\n",
       "43 CONDO OFFICE BUILDINGS                         92\n",
       "45 CONDO HOTELS                                   53\n",
       "46 CONDO STORE BUILDINGS                          39\n",
       "48 CONDO TERRACES/GARDENS/CABANAS                 25\n",
       "16 CONDOS - 2-10 UNIT WITH COMMERCIAL UNIT        21\n",
       "06 TAX CLASS 1 - OTHER                            20\n",
       "36 OUTDOOR RECREATIONAL FACILITIES                12\n",
       "03 THREE FAMILY DWELLINGS                          7\n",
       "49 CONDO WAREHOUSES/FACTORY/INDUS                  5\n",
       "18 TAX CLASS 3 - UNTILITY PROPERTIES               4\n",
       "07 RENTALS - WALKUP APARTMENTS                     3\n",
       "02 TWO FAMILY DWELLINGS                            3\n",
       "01 ONE FAMILY DWELLINGS                            3\n",
       "42 CONDO CULTURAL/MEDICAL/EDUCATIONAL/ETC          3\n",
       "08 RENTALS - ELEVATOR APARTMENTS                   2\n",
       "25 LUXURY HOTELS                                   1\n",
       "32 HOSPITAL AND HEALTH FACILITIES                  1\n",
       "39 TRANSPORTATION FACILITIES                       1\n",
       "37 RELIGIOUS FACILITIES                            1\n",
       "11A CONDO-RENTALS                                  1\n",
       "30 WAREHOUSES                                      0\n",
       "14 RENTALS - 4-10 UNIT                             0\n",
       "33 EDUCATIONAL FACILITIES                          0\n",
       "34 THEATRES                                        0\n",
       "23 LOFT BUILDINGS                                  0\n",
       "11 SPECIAL CONDO BILLING LOTS                      0\n",
       "10 COOPS - ELEVATOR APARTMENTS                     0\n",
       "09 COOPS - WALKUP APARTMENTS                       0\n",
       "28 COMMERCIAL CONDOS                               0\n",
       "35 INDOOR PUBLIC AND CULTURAL FACILITIES           0\n",
       "27 FACTORIES                                       0\n",
       "38 ASYLUMS AND HOMES                               0\n",
       "21 OFFICE BUILDINGS                                0\n",
       "40 SELECTED GOVERNMENTAL FACILITIES                0\n",
       "22 STORE BUILDINGS                                 0\n",
       "26 OTHER HOTELS                                    0\n",
       "Name: BUILDING CLASS CATEGORY, dtype: int64"
      ]
     },
     "execution_count": 80,
     "metadata": {},
     "output_type": "execute_result"
    }
   ],
   "source": [
    "data[data['YEAR BUILT']<1800]['BUILDING CLASS CATEGORY'].value_counts()"
   ]
  },
  {
   "cell_type": "markdown",
   "metadata": {},
   "source": [
    "Above table brings some new insight into why some properties do not have a year or number of units in them. These are vacant lands, elevators, parking and garages"
   ]
  },
  {
   "cell_type": "code",
   "execution_count": 81,
   "metadata": {},
   "outputs": [
    {
     "data": {
      "image/png": "[encoded data removed]",
      "text/plain": [
       "<Figure size 720x432 with 1 Axes>"
      ]
     },
     "metadata": {},
     "output_type": "display_data"
    }
   ],
   "source": [
    "plt.figure(figsize=(10,6))\n",
    "plotd=sns.countplot(x=data[data['YEAR BUILT']>1900]['YEAR BUILT'])\n",
    "#tick_spacing=1 # set spacing for each tick\n",
    "#plotd.xaxis.set_major_locator(ticker.MultipleLocator(tick_spacing))\n",
    "#plotd.set_xlim([1900, 2020])\n",
    "plt.tick_params(labelbottom=False)\n",
    "plt.xticks(rotation=30) \n",
    "plt.title(\"Quantity of properties sold by year built\")\n",
    "plt.show()"
   ]
  },
  {
   "cell_type": "markdown",
   "metadata": {},
   "source": [
    "Most of the properties were built around 1920s."
   ]
  },
  {
   "cell_type": "code",
   "execution_count": 82,
   "metadata": {},
   "outputs": [
    {
     "data": {
      "image/png": "[encoded data removed]",
      "text/plain": [
       "<Figure size 720x432 with 1 Axes>"
      ]
     },
     "metadata": {},
     "output_type": "display_data"
    }
   ],
   "source": [
    "plt.figure(figsize=(10,6))\n",
    "order = sorted(data['BUILDING CLASS CATEGORY'].unique())\n",
    "sns.boxplot(x='BUILDING CLASS CATEGORY', y='SALE PRICE', data=data, order=order)\n",
    "plt.xticks(rotation=90)\n",
    "plt.title('Sale Price Distribution by Bulding Class Category')\n",
    "plt.show()"
   ]
  },
  {
   "cell_type": "code",
   "execution_count": 83,
   "metadata": {},
   "outputs": [
    {
     "data": {
      "image/png": "[encoded data removed]",
      "text/plain": [
       "<Figure size 720x432 with 1 Axes>"
      ]
     },
     "metadata": {},
     "output_type": "display_data"
    }
   ],
   "source": [
    "# Sales prices by borough\n",
    "plt.figure(figsize=(10,6))\n",
    "sns.boxplot(x='BOROUGH', y='SALE PRICE', data=data)\n",
    "plt.title('Sale Price Distribution by Borough')\n",
    "plt.show()"
   ]
  },
  {
   "cell_type": "markdown",
   "metadata": {},
   "source": [
    "As you can see, there are many outliers in the data"
   ]
  },
  {
   "cell_type": "markdown",
   "metadata": {},
   "source": [
    "## Conduct EDA (by using scatterplots, bar, correlation heatmaps, histograms, t-tests, anova, chisquared, normality tests, qqplots etc.) and describe at each step what you understand about the data"
   ]
  },
  {
   "cell_type": "code",
   "execution_count": 84,
   "metadata": {},
   "outputs": [],
   "source": [
    "from scipy.stats import shapiro\n",
    "from scipy.stats import normaltest\n",
    "from scipy.stats import anderson\n",
    "from scipy.stats import chi2_contingency\n",
    "from scipy.stats import chi2\n",
    "from scipy import stats\n",
    "\n",
    "import statsmodels.api as sm\n",
    "from statsmodels.formula.api import ols\n",
    "from statsmodels.stats.multicomp import pairwise_tukeyhsd\n",
    "from statsmodels.graphics.gofplots import qqplot"
   ]
  },
  {
   "cell_type": "code",
   "execution_count": 85,
   "metadata": {},
   "outputs": [
    {
     "data": {
      "text/plain": [
       "BOROUGH                           0\n",
       "NEIGHBORHOOD                      0\n",
       "BUILDING CLASS CATEGORY           0\n",
       "TAX CLASS AT PRESENT              0\n",
       "BLOCK                             0\n",
       "LOT                               0\n",
       "BUILDING CLASS AT PRESENT         0\n",
       "ZIP CODE                          0\n",
       "RESIDENTIAL UNITS                 0\n",
       "COMMERCIAL UNITS                  0\n",
       "TOTAL UNITS                       0\n",
       "LAND SQUARE FEET                  0\n",
       "GROSS SQUARE FEET                 0\n",
       "YEAR BUILT                        0\n",
       "TAX CLASS AT TIME OF SALE         0\n",
       "BUILDING CLASS AT TIME OF SALE    0\n",
       "SALE PRICE                        0\n",
       "SALE DATE                         0\n",
       "dtype: int64"
      ]
     },
     "execution_count": 85,
     "metadata": {},
     "output_type": "execute_result"
    }
   ],
   "source": [
    "data.isnull().sum()"
   ]
  },
  {
   "cell_type": "code",
   "execution_count": 86,
   "metadata": {},
   "outputs": [
    {
     "name": "stdout",
     "output_type": "stream",
     "text": [
      "(SALE PRICE, RESIDENTIAL UNITS) => t-value=35.76106976078185, p-value=4.956618253910918e-279\n"
     ]
    }
   ],
   "source": [
    "#t-test\n",
    "t_val, p_val = stats.ttest_ind(data['SALE PRICE'], data['RESIDENTIAL UNITS'])\n",
    "print(\"(SALE PRICE, RESIDENTIAL UNITS) => t-value=%s, p-value=%s\" % (str(t_val), str(p_val)))"
   ]
  },
  {
   "cell_type": "markdown",
   "metadata": {},
   "source": [
    "A large t-score tells us that the SALE PRICE is not associated with RESIDENTIAL UNITS."
   ]
  },
  {
   "cell_type": "code",
   "execution_count": 87,
   "metadata": {},
   "outputs": [
    {
     "name": "stdout",
     "output_type": "stream",
     "text": [
      "(SALE PRICE, YEAR BUILT) => t-value=35.71099409151857, p-value=2.931802040116634e-278\n"
     ]
    }
   ],
   "source": [
    "#t-test\n",
    "t_val, p_val = stats.ttest_ind(data['SALE PRICE'], data['YEAR BUILT'])\n",
    "print(\"(SALE PRICE, YEAR BUILT) => t-value=%s, p-value=%s\" % (str(t_val), str(p_val)))"
   ]
  },
  {
   "cell_type": "code",
   "execution_count": 88,
   "metadata": {},
   "outputs": [
    {
     "data": {
      "text/html": [
       "<div>\n",
       "<style scoped>\n",
       "    .dataframe tbody tr th:only-of-type {\n",
       "        vertical-align: middle;\n",
       "    }\n",
       "\n",
       "    .dataframe tbody tr th {\n",
       "        vertical-align: top;\n",
       "    }\n",
       "\n",
       "    .dataframe thead th {\n",
       "        text-align: right;\n",
       "    }\n",
       "</style>\n",
       "<table border=\"1\" class=\"dataframe\">\n",
       "  <thead>\n",
       "    <tr style=\"text-align: right;\">\n",
       "      <th>sale_year</th>\n",
       "      <th>2016</th>\n",
       "      <th>2017</th>\n",
       "    </tr>\n",
       "    <tr>\n",
       "      <th>sale_month</th>\n",
       "      <th></th>\n",
       "      <th></th>\n",
       "    </tr>\n",
       "  </thead>\n",
       "  <tbody>\n",
       "    <tr>\n",
       "      <th>1</th>\n",
       "      <td>0</td>\n",
       "      <td>6868</td>\n",
       "    </tr>\n",
       "    <tr>\n",
       "      <th>2</th>\n",
       "      <td>0</td>\n",
       "      <td>6323</td>\n",
       "    </tr>\n",
       "    <tr>\n",
       "      <th>3</th>\n",
       "      <td>0</td>\n",
       "      <td>7705</td>\n",
       "    </tr>\n",
       "    <tr>\n",
       "      <th>4</th>\n",
       "      <td>0</td>\n",
       "      <td>6402</td>\n",
       "    </tr>\n",
       "    <tr>\n",
       "      <th>5</th>\n",
       "      <td>0</td>\n",
       "      <td>7461</td>\n",
       "    </tr>\n",
       "    <tr>\n",
       "      <th>6</th>\n",
       "      <td>0</td>\n",
       "      <td>8293</td>\n",
       "    </tr>\n",
       "    <tr>\n",
       "      <th>7</th>\n",
       "      <td>0</td>\n",
       "      <td>6317</td>\n",
       "    </tr>\n",
       "    <tr>\n",
       "      <th>8</th>\n",
       "      <td>0</td>\n",
       "      <td>5680</td>\n",
       "    </tr>\n",
       "    <tr>\n",
       "      <th>9</th>\n",
       "      <td>7778</td>\n",
       "      <td>0</td>\n",
       "    </tr>\n",
       "    <tr>\n",
       "      <th>10</th>\n",
       "      <td>6750</td>\n",
       "      <td>0</td>\n",
       "    </tr>\n",
       "    <tr>\n",
       "      <th>11</th>\n",
       "      <td>7071</td>\n",
       "      <td>0</td>\n",
       "    </tr>\n",
       "    <tr>\n",
       "      <th>12</th>\n",
       "      <td>7888</td>\n",
       "      <td>0</td>\n",
       "    </tr>\n",
       "  </tbody>\n",
       "</table>\n",
       "</div>"
      ],
      "text/plain": [
       "sale_year   2016  2017\n",
       "sale_month            \n",
       "1              0  6868\n",
       "2              0  6323\n",
       "3              0  7705\n",
       "4              0  6402\n",
       "5              0  7461\n",
       "6              0  8293\n",
       "7              0  6317\n",
       "8              0  5680\n",
       "9           7778     0\n",
       "10          6750     0\n",
       "11          7071     0\n",
       "12          7888     0"
      ]
     },
     "execution_count": 88,
     "metadata": {},
     "output_type": "execute_result"
    }
   ],
   "source": [
    "data['sale_year'] = pd.DatetimeIndex(data['SALE DATE']).year.astype(\"category\")\n",
    "data['sale_month'] = pd.DatetimeIndex(data['SALE DATE']).month.astype(\"category\")\n",
    "pd.crosstab(data['sale_month'],data['sale_year'])"
   ]
  },
  {
   "cell_type": "code",
   "execution_count": 89,
   "metadata": {},
   "outputs": [
    {
     "data": {
      "text/html": [
       "<div>\n",
       "<style scoped>\n",
       "    .dataframe tbody tr th:only-of-type {\n",
       "        vertical-align: middle;\n",
       "    }\n",
       "\n",
       "    .dataframe tbody tr th {\n",
       "        vertical-align: top;\n",
       "    }\n",
       "\n",
       "    .dataframe thead th {\n",
       "        text-align: right;\n",
       "    }\n",
       "</style>\n",
       "<table border=\"1\" class=\"dataframe\">\n",
       "  <thead>\n",
       "    <tr style=\"text-align: right;\">\n",
       "      <th></th>\n",
       "      <th>sale_month</th>\n",
       "      <th>Sales_count</th>\n",
       "    </tr>\n",
       "  </thead>\n",
       "  <tbody>\n",
       "    <tr>\n",
       "      <th>0</th>\n",
       "      <td>1</td>\n",
       "      <td>6868</td>\n",
       "    </tr>\n",
       "    <tr>\n",
       "      <th>1</th>\n",
       "      <td>2</td>\n",
       "      <td>6323</td>\n",
       "    </tr>\n",
       "    <tr>\n",
       "      <th>2</th>\n",
       "      <td>3</td>\n",
       "      <td>7705</td>\n",
       "    </tr>\n",
       "    <tr>\n",
       "      <th>3</th>\n",
       "      <td>4</td>\n",
       "      <td>6402</td>\n",
       "    </tr>\n",
       "    <tr>\n",
       "      <th>4</th>\n",
       "      <td>5</td>\n",
       "      <td>7461</td>\n",
       "    </tr>\n",
       "    <tr>\n",
       "      <th>5</th>\n",
       "      <td>6</td>\n",
       "      <td>8293</td>\n",
       "    </tr>\n",
       "    <tr>\n",
       "      <th>6</th>\n",
       "      <td>7</td>\n",
       "      <td>6317</td>\n",
       "    </tr>\n",
       "    <tr>\n",
       "      <th>7</th>\n",
       "      <td>8</td>\n",
       "      <td>5680</td>\n",
       "    </tr>\n",
       "    <tr>\n",
       "      <th>8</th>\n",
       "      <td>9</td>\n",
       "      <td>7778</td>\n",
       "    </tr>\n",
       "    <tr>\n",
       "      <th>9</th>\n",
       "      <td>10</td>\n",
       "      <td>6750</td>\n",
       "    </tr>\n",
       "    <tr>\n",
       "      <th>10</th>\n",
       "      <td>11</td>\n",
       "      <td>7071</td>\n",
       "    </tr>\n",
       "    <tr>\n",
       "      <th>11</th>\n",
       "      <td>12</td>\n",
       "      <td>7888</td>\n",
       "    </tr>\n",
       "  </tbody>\n",
       "</table>\n",
       "</div>"
      ],
      "text/plain": [
       "   sale_month  Sales_count\n",
       "0           1         6868\n",
       "1           2         6323\n",
       "2           3         7705\n",
       "3           4         6402\n",
       "4           5         7461\n",
       "5           6         8293\n",
       "6           7         6317\n",
       "7           8         5680\n",
       "8           9         7778\n",
       "9          10         6750\n",
       "10         11         7071\n",
       "11         12         7888"
      ]
     },
     "execution_count": 89,
     "metadata": {},
     "output_type": "execute_result"
    }
   ],
   "source": [
    "df_bar=data[['sale_month', 'SALE PRICE']].groupby(by='sale_month').count().sort_values(by='sale_month', ascending=True).reset_index()\n",
    "df_bar.columns.values[1]='Sales_count'\n",
    "df_bar"
   ]
  },
  {
   "cell_type": "markdown",
   "metadata": {},
   "source": [
    "## Monthly Sales Count. Looks very consistent"
   ]
  },
  {
   "cell_type": "code",
   "execution_count": 90,
   "metadata": {},
   "outputs": [
    {
     "data": {
      "image/png": "[encoded data removed]",
      "text/plain": [
       "<Figure size 864x432 with 1 Axes>"
      ]
     },
     "metadata": {},
     "output_type": "display_data"
    }
   ],
   "source": [
    "plt.figure(figsize=(12,6))\n",
    "sns.barplot(y = 'sale_month', x = 'Sales_count', data = df_bar )\n",
    "plt.title('count SALEs by each month')\n",
    "plt.show()"
   ]
  },
  {
   "cell_type": "markdown",
   "metadata": {},
   "source": [
    "Most of the sales happen during the summer. This makes sense since summer time is the best time for most buyers to go out and explore options"
   ]
  },
  {
   "cell_type": "code",
   "execution_count": 91,
   "metadata": {},
   "outputs": [
    {
     "data": {
      "text/html": [
       "<div>\n",
       "<style scoped>\n",
       "    .dataframe tbody tr th:only-of-type {\n",
       "        vertical-align: middle;\n",
       "    }\n",
       "\n",
       "    .dataframe tbody tr th {\n",
       "        vertical-align: top;\n",
       "    }\n",
       "\n",
       "    .dataframe thead th {\n",
       "        text-align: right;\n",
       "    }\n",
       "</style>\n",
       "<table border=\"1\" class=\"dataframe\">\n",
       "  <thead>\n",
       "    <tr style=\"text-align: right;\">\n",
       "      <th></th>\n",
       "      <th>NEIGHBORHOOD</th>\n",
       "      <th>Sales_count</th>\n",
       "    </tr>\n",
       "  </thead>\n",
       "  <tbody>\n",
       "    <tr>\n",
       "      <th>0</th>\n",
       "      <td>AIRPORT LA GUARDIA</td>\n",
       "      <td>8</td>\n",
       "    </tr>\n",
       "    <tr>\n",
       "      <th>1</th>\n",
       "      <td>ALPHABET CITY</td>\n",
       "      <td>202</td>\n",
       "    </tr>\n",
       "    <tr>\n",
       "      <th>2</th>\n",
       "      <td>ANNADALE</td>\n",
       "      <td>198</td>\n",
       "    </tr>\n",
       "    <tr>\n",
       "      <th>3</th>\n",
       "      <td>ARDEN HEIGHTS</td>\n",
       "      <td>278</td>\n",
       "    </tr>\n",
       "    <tr>\n",
       "      <th>4</th>\n",
       "      <td>ARROCHAR</td>\n",
       "      <td>45</td>\n",
       "    </tr>\n",
       "    <tr>\n",
       "      <th>...</th>\n",
       "      <td>...</td>\n",
       "      <td>...</td>\n",
       "    </tr>\n",
       "    <tr>\n",
       "      <th>249</th>\n",
       "      <td>WOODHAVEN</td>\n",
       "      <td>413</td>\n",
       "    </tr>\n",
       "    <tr>\n",
       "      <th>250</th>\n",
       "      <td>WOODLAWN</td>\n",
       "      <td>85</td>\n",
       "    </tr>\n",
       "    <tr>\n",
       "      <th>251</th>\n",
       "      <td>WOODROW</td>\n",
       "      <td>131</td>\n",
       "    </tr>\n",
       "    <tr>\n",
       "      <th>252</th>\n",
       "      <td>WOODSIDE</td>\n",
       "      <td>440</td>\n",
       "    </tr>\n",
       "    <tr>\n",
       "      <th>253</th>\n",
       "      <td>WYCKOFF HEIGHTS</td>\n",
       "      <td>106</td>\n",
       "    </tr>\n",
       "  </tbody>\n",
       "</table>\n",
       "<p>254 rows × 2 columns</p>\n",
       "</div>"
      ],
      "text/plain": [
       "           NEIGHBORHOOD  Sales_count\n",
       "0    AIRPORT LA GUARDIA            8\n",
       "1         ALPHABET CITY          202\n",
       "2              ANNADALE          198\n",
       "3         ARDEN HEIGHTS          278\n",
       "4              ARROCHAR           45\n",
       "..                  ...          ...\n",
       "249           WOODHAVEN          413\n",
       "250            WOODLAWN           85\n",
       "251             WOODROW          131\n",
       "252            WOODSIDE          440\n",
       "253     WYCKOFF HEIGHTS          106\n",
       "\n",
       "[254 rows x 2 columns]"
      ]
     },
     "execution_count": 91,
     "metadata": {},
     "output_type": "execute_result"
    }
   ],
   "source": [
    "df_bar=data[['NEIGHBORHOOD', 'SALE PRICE']].groupby(by='NEIGHBORHOOD').count().sort_values(by='NEIGHBORHOOD', ascending=True).reset_index()\n",
    "df_bar.columns.values[1]='Sales_count'\n",
    "df_bar"
   ]
  },
  {
   "cell_type": "code",
   "execution_count": 94,
   "metadata": {},
   "outputs": [
    {
     "data": {
      "text/plain": [
       "<matplotlib.axes._subplots.AxesSubplot at 0x202878d0e48>"
      ]
     },
     "execution_count": 94,
     "metadata": {},
     "output_type": "execute_result"
    },
    {
     "data": {
      "image/png": "[encoded data removed]",
      "text/plain": [
       "<Figure size 432x288 with 2 Axes>"
      ]
     },
     "metadata": {},
     "output_type": "display_data"
    }
   ],
   "source": [
    "data.plot(x='NEIGHBORHOOD',y='SALE PRICE',kind='scatter',alpha=0.5,cmap='rainbow')"
   ]
  },
  {
   "cell_type": "markdown",
   "metadata": {},
   "source": [
    "## Distribution of SALE PRICE across NEIGHBORHOOD"
   ]
  },
  {
   "cell_type": "code",
   "execution_count": null,
   "metadata": {},
   "outputs": [],
   "source": []
  }
 ],
 "metadata": {
  "kernelspec": {
   "display_name": "Python 3",
   "language": "python",
   "name": "python3"
  },
  "language_info": {
   "codemirror_mode": {
    "name": "ipython",
    "version": 3
   },
   "file_extension": ".py",
   "mimetype": "text/x-python",
   "name": "python",
   "nbconvert_exporter": "python",
   "pygments_lexer": "ipython3",
   "version": "3.7.6"
  }
 },
 "nbformat": 4,
 "nbformat_minor": 4
}
