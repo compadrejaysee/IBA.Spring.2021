{
 "cells": [
  {
   "cell_type": "markdown",
   "metadata": {},
   "source": [
    "## Types of Missing Values"
   ]
  },
  {
   "cell_type": "markdown",
   "metadata": {},
   "source": [
    "MCAR (Missing Completely At Random): If there is no relationship between the missingness of the data and any values (observed or those values which are actually missing), then this is MCAR."
   ]
  },
  {
   "cell_type": "markdown",
   "metadata": {},
   "source": [
    "Missing at Random (MAR): If there is a relationship between the missingness and the observed values, then it is MAR. For example — Men are more likely to tell you their weight than Women, So if the column 'Weight' has missing values, then this is MAR. Specifically, the missingness in 'Weight' depends upon the observed values of variable ‘Gender’, i.e., male or female"
   ]
  },
  {
   "cell_type": "markdown",
   "metadata": {},
   "source": [
    " Missing Not at Random MNAR: If MCAR and MAR are not detected, then the missingness is an example of MNAR. It basically implies a strong relationship between the missingness of the data and the observed values and values which are actually missing. It can also be detected if 2 or more columns have the same missing value pattern"
   ]
  },
  {
   "cell_type": "markdown",
   "metadata": {},
   "source": [
    "### Loading Data and using missingno"
   ]
  },
  {
   "cell_type": "markdown",
   "metadata": {},
   "source": [
    "#### Press Ctrl + Enter in each cell below to show the result"
   ]
  },
  {
   "cell_type": "markdown",
   "metadata": {},
   "source": [
    "To get missingno module of Python (in cell below): \n",
    "1) Go to file + new launcher + terminal \n",
    "\n",
    "2) On terminal type: pip install missingno\n",
    "\n",
    "3) Once installation is complete, close terminal window and Restart Kernel of this window (Round Arrow Sign at top)"
   ]
  },
  {
   "cell_type": "code",
   "execution_count": 4,
   "metadata": {},
   "outputs": [
    {
     "ename": "SyntaxError",
     "evalue": "invalid syntax (<ipython-input-4-39cc8f1e1997>, line 2)",
     "output_type": "error",
     "traceback": [
      "\u001b[1;36m  File \u001b[1;32m\"<ipython-input-4-39cc8f1e1997>\"\u001b[1;36m, line \u001b[1;32m2\u001b[0m\n\u001b[1;33m    pip3 Install missingno\u001b[0m\n\u001b[1;37m               ^\u001b[0m\n\u001b[1;31mSyntaxError\u001b[0m\u001b[1;31m:\u001b[0m invalid syntax\n"
     ]
    }
   ],
   "source": [
    "#importing the basic libraries\n",
    "import pandas as pd\n",
    "import numpy as np\n",
    "import matplotlib.pyplot as plot\n",
    "import missingno as mano\n",
    "%matplotlib inline"
   ]
  },
  {
   "cell_type": "code",
   "execution_count": null,
   "metadata": {},
   "outputs": [],
   "source": [
    "#read the CSV file\n",
    "missingdf = pd.read_csv(\"Missing.Value.Data.csv\")"
   ]
  },
  {
   "cell_type": "code",
   "execution_count": null,
   "metadata": {},
   "outputs": [],
   "source": [
    "#we remove missings first. Let's see how many missings we have\n",
    "missingdf.isnull().sum()"
   ]
  },
  {
   "cell_type": "code",
   "execution_count": null,
   "metadata": {},
   "outputs": [],
   "source": [
    "#see the completeness of the data using mano.bar\n",
    "mano.bar(missingdf)"
   ]
  },
  {
   "cell_type": "code",
   "execution_count": null,
   "metadata": {},
   "outputs": [],
   "source": [
    "# visualize the location of the missingness of data using mano.matrix\n",
    "mano.matrix(missingdf)"
   ]
  },
  {
   "cell_type": "markdown",
   "metadata": {},
   "source": [
    "We can see above that none of the columns have exactly similar missing value patterns. So, none of them is an example of MNAR"
   ]
  },
  {
   "cell_type": "markdown",
   "metadata": {},
   "source": [
    "If there is no relation between missingness of any 2 or more variables, and also there is no relation between the missing values of one variable and the observed values of another variable, then this is MCAR.\n",
    "\n",
    "If there is a systematic relationship between the missingness and the observed values, then it is MAR. \n",
    "\n",
    "To determine the above, we need to plot some more charts"
   ]
  },
  {
   "cell_type": "code",
   "execution_count": 2,
   "metadata": {},
   "outputs": [
    {
     "ename": "NameError",
     "evalue": "name 'mano' is not defined",
     "output_type": "error",
     "traceback": [
      "\u001b[1;31m---------------------------------------------------------------------------\u001b[0m",
      "\u001b[1;31mNameError\u001b[0m                                 Traceback (most recent call last)",
      "\u001b[1;32m<ipython-input-2-993aba3429e1>\u001b[0m in \u001b[0;36m<module>\u001b[1;34m\u001b[0m\n\u001b[0;32m      1\u001b[0m \u001b[1;31m#plot the heatmap to determine the relationship (correlation) between missingness of columns\u001b[0m\u001b[1;33m\u001b[0m\u001b[1;33m\u001b[0m\u001b[1;33m\u001b[0m\u001b[0m\n\u001b[1;32m----> 2\u001b[1;33m \u001b[0mmano\u001b[0m\u001b[1;33m.\u001b[0m\u001b[0mheatmap\u001b[0m\u001b[1;33m(\u001b[0m\u001b[0mmissingdf\u001b[0m\u001b[1;33m,\u001b[0m \u001b[0mfigsize\u001b[0m\u001b[1;33m=\u001b[0m\u001b[1;33m(\u001b[0m\u001b[1;36m12\u001b[0m\u001b[1;33m,\u001b[0m\u001b[1;36m6\u001b[0m\u001b[1;33m)\u001b[0m\u001b[1;33m)\u001b[0m\u001b[1;33m\u001b[0m\u001b[1;33m\u001b[0m\u001b[0m\n\u001b[0m",
      "\u001b[1;31mNameError\u001b[0m: name 'mano' is not defined"
     ]
    }
   ],
   "source": [
    "#plot the heatmap to determine the relationship (correlation) between missingness of columns\n",
    "mano.heatmap(missingdf, figsize=(12,6))"
   ]
  },
  {
   "cell_type": "markdown",
   "metadata": {},
   "source": [
    "From the above we can see that a missingness in any column is related (or correlated) with missingness of at least one other column. So, all are examples of MAR"
   ]
  },
  {
   "cell_type": "code",
   "execution_count": null,
   "metadata": {},
   "outputs": [],
   "source": [
    "#dendogram will quantify and cluster the missingness\n",
    "mano.dendrogram(missingdf)"
   ]
  },
  {
   "cell_type": "markdown",
   "metadata": {},
   "source": [
    "From the above, we can see that S.No and Date are combined with a straight line, i.e., they do not contain any missing values. For all the remaining, there is a correlation so that further confirms MAR"
   ]
  },
  {
   "cell_type": "markdown",
   "metadata": {},
   "source": [
    "## Handling Missing Values"
   ]
  },
  {
   "cell_type": "markdown",
   "metadata": {},
   "source": [
    "### Dropping Entire Rows"
   ]
  },
  {
   "cell_type": "markdown",
   "metadata": {},
   "source": [
    "If the missing values are not that much (just a few rows), we can drop them. However, this is done for MCAR, which we have not been able to prove from the above diagrams\n",
    "\n",
    "Still, we show the dropping functionality below for an example"
   ]
  },
  {
   "cell_type": "code",
   "execution_count": null,
   "metadata": {},
   "outputs": [],
   "source": [
    "#drops all the missing values from the dataframe\n",
    "missingdf = missingdf.dropna(axis=0)"
   ]
  },
  {
   "cell_type": "code",
   "execution_count": null,
   "metadata": {},
   "outputs": [],
   "source": [
    "#check\n",
    "missingdf.isnull().sum()"
   ]
  },
  {
   "cell_type": "code",
   "execution_count": null,
   "metadata": {},
   "outputs": [],
   "source": [
    "#read the CSV file again\n",
    "missingdf = pd.read_csv(\"Missing.Value.Data.csv\")"
   ]
  },
  {
   "cell_type": "code",
   "execution_count": null,
   "metadata": {},
   "outputs": [],
   "source": [
    "#if you want to delete rows for one of the specified variable, say Customer.Name\n",
    "missingdf = missingdf.dropna(axis=0, subset=['Customer.Name'])"
   ]
  },
  {
   "cell_type": "code",
   "execution_count": null,
   "metadata": {},
   "outputs": [],
   "source": [
    "#check\n",
    "missingdf.isnull().sum()"
   ]
  },
  {
   "cell_type": "code",
   "execution_count": null,
   "metadata": {},
   "outputs": [],
   "source": [
    "#shape has also changed because the 2 rows of Customer.Name missing values have been deleted\n",
    "missingdf.shape"
   ]
  },
  {
   "cell_type": "markdown",
   "metadata": {},
   "source": [
    "### Imputation"
   ]
  },
  {
   "cell_type": "markdown",
   "metadata": {},
   "source": [
    "Now we discuss imputation. We can impute through mean, median and mode\n"
   ]
  },
  {
   "cell_type": "markdown",
   "metadata": {},
   "source": [
    "# Impute basically means to fill up. here we are using the strategy as mean which is, that we would use mean of the column to fill up missing values in the given column."
   ]
  },
  {
   "cell_type": "code",
   "execution_count": null,
   "metadata": {},
   "outputs": [],
   "source": [
    "from sklearn.impute import SimpleImputer\n",
    "\n",
    "#create a separate data frame for mean imputation\n",
    "missingdf_mean = missingdf.copy(deep=True)\n",
    "#here the we are using mean to impute\n",
    "mean_imputation = SimpleImputer(strategy='mean')\n",
    "\n",
    "#take only columns where mean imputation matters, i.e., numerical columns\n",
    "missingdf_mean[['Customer.Age','Sales','Quantity']] = mean_imputation.fit_transform(missingdf_mean[['Customer.Age','Sales','Quantity']])"
   ]
  },
  {
   "cell_type": "code",
   "execution_count": null,
   "metadata": {
    "scrolled": false
   },
   "outputs": [],
   "source": [
    "missingdf"
   ]
  },
  {
   "cell_type": "markdown",
   "metadata": {},
   "source": [
    "# Here we see the data frame without the imputation on the selected columns"
   ]
  },
  {
   "cell_type": "code",
   "execution_count": null,
   "metadata": {},
   "outputs": [],
   "source": [
    "missingdf_mean"
   ]
  },
  {
   "cell_type": "markdown",
   "metadata": {},
   "source": [
    "# This dataframe has the imputation applied to the selected columns customer.age, Sales and Quantity"
   ]
  },
  {
   "cell_type": "markdown",
   "metadata": {},
   "source": [
    "# Here we are checking the nulls in all columns of the missngdf_mean"
   ]
  },
  {
   "cell_type": "code",
   "execution_count": null,
   "metadata": {},
   "outputs": [],
   "source": [
    "\n",
    "missingdf_mean.isnull().sum()"
   ]
  },
  {
   "cell_type": "markdown",
   "metadata": {},
   "source": [
    "We now plot to see whether the distribution remains the same after the missing values have been filled in"
   ]
  },
  {
   "cell_type": "markdown",
   "metadata": {},
   "source": [
    "# Here we are making a scater plot with sales on xaxis and Quantity on yaxis, here we can see what is the trend in between them"
   ]
  },
  {
   "cell_type": "code",
   "execution_count": null,
   "metadata": {},
   "outputs": [],
   "source": [
    "#comparing sales vs quantity (values filled in by mean)\n",
    "missingdf_mean.plot(x='Sales',y='Quantity',kind='scatter',alpha=0.5,cmap='rainbow')"
   ]
  },
  {
   "cell_type": "markdown",
   "metadata": {},
   "source": [
    "# Here we are just taging each row in the missing df whether it has missing Sales value or Quantity value, wherever we have a True it means one of them or both are missing"
   ]
  },
  {
   "cell_type": "code",
   "execution_count": null,
   "metadata": {},
   "outputs": [],
   "source": [
    "#now, lets determine those rows where values of either sales or quantity went missing\n",
    "nulls =  missingdf['Sales'].isnull() + missingdf['Quantity'].isnull()\n",
    "nulls"
   ]
  },
  {
   "cell_type": "markdown",
   "metadata": {},
   "source": [
    "# Here again we made the scatter plot and here the red points are nulls in either the sales or quantity, c=nulls basically sets different color for these null values in nulls variable like True or False that we figured out above for each row. Here the red are True and purple points are False means not missing in both"
   ]
  },
  {
   "cell_type": "code",
   "execution_count": null,
   "metadata": {},
   "outputs": [],
   "source": [
    "#Now, lets plot them together\n",
    "missingdf_mean.plot(x='Sales',y='Quantity',kind='scatter',alpha=0.5,c=nulls,cmap='rainbow')"
   ]
  },
  {
   "cell_type": "markdown",
   "metadata": {},
   "source": [
    "From the above, we can conclude that values have been filled in according to the given distribution because the purple marks are following the same pattern as the red ones"
   ]
  },
  {
   "cell_type": "markdown",
   "metadata": {},
   "source": [
    "# Here we are first taging each row with True if we have a missing sales value or missing cutomer.Age value or both\n",
    "# Next we again make the scatter plot but between sales and Customer.Age with different color set for null value rows, c=nulls basically sets different color for these null values in nulls variable like True or False that we figured out above for each row. Here the red are True and purple points are False means not missing in both"
   ]
  },
  {
   "cell_type": "code",
   "execution_count": null,
   "metadata": {},
   "outputs": [],
   "source": [
    "nulls =  missingdf['Sales'].isnull() + missingdf['Customer.Age'].isnull()\n",
    "missingdf_mean.plot(x='Sales',y='Customer.Age',kind='scatter',alpha=0.5,c=nulls,cmap='rainbow')"
   ]
  },
  {
   "cell_type": "markdown",
   "metadata": {},
   "source": [
    "### K-NN Based Imputation"
   ]
  },
  {
   "cell_type": "code",
   "execution_count": null,
   "metadata": {},
   "outputs": [],
   "source": [
    "#read the CSV file again\n",
    "missingdf = pd.read_csv(\"Missing.Value.Data.csv\")"
   ]
  },
  {
   "cell_type": "markdown",
   "metadata": {},
   "source": [
    "# KNN imputer basically imputes missing value using the mean of the n_neighbors nearest neighbors.\n",
    "# The last code line is the same as we did for the simple imputer that we are filling the missing values in the Customer.Age, Sales and Quatity column but with one change that we are using the KNNImputer approach as described above. "
   ]
  },
  {
   "cell_type": "code",
   "execution_count": null,
   "metadata": {},
   "outputs": [],
   "source": [
    "from sklearn.impute import KNNImputer\n",
    "imputer = KNNImputer (n_neighbors=2)\n",
    "missingdf_knn = missingdf.copy(deep=True)\n",
    "missingdf_knn[['Customer.Age','Sales','Quantity']] = imputer.fit_transform(missingdf_knn[['Customer.Age','Sales','Quantity']])\n",
    "missingdf_knn"
   ]
  },
  {
   "cell_type": "markdown",
   "metadata": {},
   "source": [
    "# Here we are scatter ploting the new df whose values are filled, although a trend can not be understood by the given graph."
   ]
  },
  {
   "cell_type": "code",
   "execution_count": null,
   "metadata": {},
   "outputs": [],
   "source": [
    "#comparing sales vs quantity (values filled in by knn)\n",
    "missingdf_knn.plot(x='Sales',y='Quantity',kind='scatter',alpha=0.5,cmap='rainbow')"
   ]
  },
  {
   "cell_type": "markdown",
   "metadata": {},
   "source": [
    "# Here again we are taging row with True if either one or both are null in sales and quantity columns. next the scaller plot with c=nulls tags the true and false with different colors as we did above"
   ]
  },
  {
   "cell_type": "code",
   "execution_count": null,
   "metadata": {},
   "outputs": [],
   "source": [
    "nulls =  missingdf['Sales'].isnull() + missingdf['Quantity'].isnull()\n",
    "missingdf_knn.plot(x='Sales',y='Quantity',kind='scatter',alpha=0.5,c=nulls,cmap='rainbow')"
   ]
  },
  {
   "cell_type": "markdown",
   "metadata": {},
   "source": [
    "You can see from above that the gray dots are again following the same pattern of red dots so the filling up of missing values seems ok"
   ]
  }
 ],
 "metadata": {
  "kernelspec": {
   "display_name": "Python 3",
   "language": "python",
   "name": "python3"
  },
  "language_info": {
   "codemirror_mode": {
    "name": "ipython",
    "version": 3
   },
   "file_extension": ".py",
   "mimetype": "text/x-python",
   "name": "python",
   "nbconvert_exporter": "python",
   "pygments_lexer": "ipython3",
   "version": "3.7.4"
  }
 },
 "nbformat": 4,
 "nbformat_minor": 4
}
