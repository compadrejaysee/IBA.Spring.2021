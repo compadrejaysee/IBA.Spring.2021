{
 "cells": [
  {
   "cell_type": "code",
   "execution_count": 1,
   "metadata": {},
   "outputs": [],
   "source": [
    "#importing the libaries\n",
    "import pandas as pd\n",
    "import numpy as np\n",
    "from matplotlib import pyplot as plt\n",
    "\n",
    "from scipy.stats import shapiro\n",
    "from scipy.stats import normaltest\n",
    "from scipy.stats import anderson\n",
    "from scipy.stats import chi2_contingency\n",
    "from scipy.stats import chi2\n",
    "\n",
    "import statsmodels.api as sm\n",
    "from statsmodels.formula.api import ols\n",
    "from statsmodels.stats.multicomp import pairwise_tukeyhsd\n",
    "from statsmodels.graphics.gofplots import qqplot\n",
    "\n",
    "import seaborn as sns\n",
    "sns.set()"
   ]
  },
  {
   "cell_type": "code",
   "execution_count": 2,
   "metadata": {},
   "outputs": [
    {
     "name": "stderr",
     "output_type": "stream",
     "text": [
      "c:\\python\\python39\\lib\\site-packages\\IPython\\core\\interactiveshell.py:3165: DtypeWarning: Columns (0,27) have mixed types.Specify dtype option on import or set low_memory=False.\n",
      "  has_raised = await self.run_ast_nodes(code_ast.body, cell_name,\n"
     ]
    }
   ],
   "source": [
    "#import the data\n",
    "home_df = pd.read_csv(\"HomeC.csv\")"
   ]
  },
  {
   "cell_type": "markdown",
   "metadata": {},
   "source": [
    "# Understanding the dataset"
   ]
  },
  {
   "cell_type": "code",
   "execution_count": 3,
   "metadata": {},
   "outputs": [
    {
     "data": {
      "text/html": [
       "<div>\n",
       "<style scoped>\n",
       "    .dataframe tbody tr th:only-of-type {\n",
       "        vertical-align: middle;\n",
       "    }\n",
       "\n",
       "    .dataframe tbody tr th {\n",
       "        vertical-align: top;\n",
       "    }\n",
       "\n",
       "    .dataframe thead th {\n",
       "        text-align: right;\n",
       "    }\n",
       "</style>\n",
       "<table border=\"1\" class=\"dataframe\">\n",
       "  <thead>\n",
       "    <tr style=\"text-align: right;\">\n",
       "      <th></th>\n",
       "      <th>time</th>\n",
       "      <th>use [kW]</th>\n",
       "      <th>gen [kW]</th>\n",
       "      <th>House overall [kW]</th>\n",
       "      <th>Dishwasher [kW]</th>\n",
       "      <th>Furnace 1 [kW]</th>\n",
       "      <th>Furnace 2 [kW]</th>\n",
       "      <th>Home office [kW]</th>\n",
       "      <th>Fridge [kW]</th>\n",
       "      <th>Wine cellar [kW]</th>\n",
       "      <th>...</th>\n",
       "      <th>visibility</th>\n",
       "      <th>summary</th>\n",
       "      <th>apparentTemperature</th>\n",
       "      <th>pressure</th>\n",
       "      <th>windSpeed</th>\n",
       "      <th>cloudCover</th>\n",
       "      <th>windBearing</th>\n",
       "      <th>precipIntensity</th>\n",
       "      <th>dewPoint</th>\n",
       "      <th>precipProbability</th>\n",
       "    </tr>\n",
       "  </thead>\n",
       "  <tbody>\n",
       "    <tr>\n",
       "      <th>0</th>\n",
       "      <td>1451624400</td>\n",
       "      <td>0.932833</td>\n",
       "      <td>0.003483</td>\n",
       "      <td>0.932833</td>\n",
       "      <td>0.000033</td>\n",
       "      <td>0.020700</td>\n",
       "      <td>0.061917</td>\n",
       "      <td>0.442633</td>\n",
       "      <td>0.124150</td>\n",
       "      <td>0.006983</td>\n",
       "      <td>...</td>\n",
       "      <td>10.0</td>\n",
       "      <td>Clear</td>\n",
       "      <td>29.26</td>\n",
       "      <td>1016.91</td>\n",
       "      <td>9.18</td>\n",
       "      <td>cloudCover</td>\n",
       "      <td>282.0</td>\n",
       "      <td>0.0</td>\n",
       "      <td>24.4</td>\n",
       "      <td>0.0</td>\n",
       "    </tr>\n",
       "    <tr>\n",
       "      <th>1</th>\n",
       "      <td>1451624401</td>\n",
       "      <td>0.934333</td>\n",
       "      <td>0.003467</td>\n",
       "      <td>0.934333</td>\n",
       "      <td>0.000000</td>\n",
       "      <td>0.020717</td>\n",
       "      <td>0.063817</td>\n",
       "      <td>0.444067</td>\n",
       "      <td>0.124000</td>\n",
       "      <td>0.006983</td>\n",
       "      <td>...</td>\n",
       "      <td>10.0</td>\n",
       "      <td>Clear</td>\n",
       "      <td>29.26</td>\n",
       "      <td>1016.91</td>\n",
       "      <td>9.18</td>\n",
       "      <td>cloudCover</td>\n",
       "      <td>282.0</td>\n",
       "      <td>0.0</td>\n",
       "      <td>24.4</td>\n",
       "      <td>0.0</td>\n",
       "    </tr>\n",
       "    <tr>\n",
       "      <th>2</th>\n",
       "      <td>1451624402</td>\n",
       "      <td>0.931817</td>\n",
       "      <td>0.003467</td>\n",
       "      <td>0.931817</td>\n",
       "      <td>0.000017</td>\n",
       "      <td>0.020700</td>\n",
       "      <td>0.062317</td>\n",
       "      <td>0.446067</td>\n",
       "      <td>0.123533</td>\n",
       "      <td>0.006983</td>\n",
       "      <td>...</td>\n",
       "      <td>10.0</td>\n",
       "      <td>Clear</td>\n",
       "      <td>29.26</td>\n",
       "      <td>1016.91</td>\n",
       "      <td>9.18</td>\n",
       "      <td>cloudCover</td>\n",
       "      <td>282.0</td>\n",
       "      <td>0.0</td>\n",
       "      <td>24.4</td>\n",
       "      <td>0.0</td>\n",
       "    </tr>\n",
       "    <tr>\n",
       "      <th>3</th>\n",
       "      <td>1451624403</td>\n",
       "      <td>1.022050</td>\n",
       "      <td>0.003483</td>\n",
       "      <td>1.022050</td>\n",
       "      <td>0.000017</td>\n",
       "      <td>0.106900</td>\n",
       "      <td>0.068517</td>\n",
       "      <td>0.446583</td>\n",
       "      <td>0.123133</td>\n",
       "      <td>0.006983</td>\n",
       "      <td>...</td>\n",
       "      <td>10.0</td>\n",
       "      <td>Clear</td>\n",
       "      <td>29.26</td>\n",
       "      <td>1016.91</td>\n",
       "      <td>9.18</td>\n",
       "      <td>cloudCover</td>\n",
       "      <td>282.0</td>\n",
       "      <td>0.0</td>\n",
       "      <td>24.4</td>\n",
       "      <td>0.0</td>\n",
       "    </tr>\n",
       "    <tr>\n",
       "      <th>4</th>\n",
       "      <td>1451624404</td>\n",
       "      <td>1.139400</td>\n",
       "      <td>0.003467</td>\n",
       "      <td>1.139400</td>\n",
       "      <td>0.000133</td>\n",
       "      <td>0.236933</td>\n",
       "      <td>0.063983</td>\n",
       "      <td>0.446533</td>\n",
       "      <td>0.122850</td>\n",
       "      <td>0.006850</td>\n",
       "      <td>...</td>\n",
       "      <td>10.0</td>\n",
       "      <td>Clear</td>\n",
       "      <td>29.26</td>\n",
       "      <td>1016.91</td>\n",
       "      <td>9.18</td>\n",
       "      <td>cloudCover</td>\n",
       "      <td>282.0</td>\n",
       "      <td>0.0</td>\n",
       "      <td>24.4</td>\n",
       "      <td>0.0</td>\n",
       "    </tr>\n",
       "  </tbody>\n",
       "</table>\n",
       "<p>5 rows × 32 columns</p>\n",
       "</div>"
      ],
      "text/plain": [
       "         time  use [kW]  gen [kW]  House overall [kW]  Dishwasher [kW]  \\\n",
       "0  1451624400  0.932833  0.003483            0.932833         0.000033   \n",
       "1  1451624401  0.934333  0.003467            0.934333         0.000000   \n",
       "2  1451624402  0.931817  0.003467            0.931817         0.000017   \n",
       "3  1451624403  1.022050  0.003483            1.022050         0.000017   \n",
       "4  1451624404  1.139400  0.003467            1.139400         0.000133   \n",
       "\n",
       "   Furnace 1 [kW]  Furnace 2 [kW]  Home office [kW]  Fridge [kW]  \\\n",
       "0        0.020700        0.061917          0.442633     0.124150   \n",
       "1        0.020717        0.063817          0.444067     0.124000   \n",
       "2        0.020700        0.062317          0.446067     0.123533   \n",
       "3        0.106900        0.068517          0.446583     0.123133   \n",
       "4        0.236933        0.063983          0.446533     0.122850   \n",
       "\n",
       "   Wine cellar [kW]  ...  visibility  summary  apparentTemperature  pressure  \\\n",
       "0          0.006983  ...        10.0    Clear                29.26   1016.91   \n",
       "1          0.006983  ...        10.0    Clear                29.26   1016.91   \n",
       "2          0.006983  ...        10.0    Clear                29.26   1016.91   \n",
       "3          0.006983  ...        10.0    Clear                29.26   1016.91   \n",
       "4          0.006850  ...        10.0    Clear                29.26   1016.91   \n",
       "\n",
       "   windSpeed  cloudCover  windBearing  precipIntensity  dewPoint  \\\n",
       "0       9.18  cloudCover        282.0              0.0      24.4   \n",
       "1       9.18  cloudCover        282.0              0.0      24.4   \n",
       "2       9.18  cloudCover        282.0              0.0      24.4   \n",
       "3       9.18  cloudCover        282.0              0.0      24.4   \n",
       "4       9.18  cloudCover        282.0              0.0      24.4   \n",
       "\n",
       "   precipProbability  \n",
       "0                0.0  \n",
       "1                0.0  \n",
       "2                0.0  \n",
       "3                0.0  \n",
       "4                0.0  \n",
       "\n",
       "[5 rows x 32 columns]"
      ]
     },
     "execution_count": 3,
     "metadata": {},
     "output_type": "execute_result"
    }
   ],
   "source": [
    "#printing top 5 rows of my dataframe to have an idea about the data\n",
    "home_df.head()"
   ]
  },
  {
   "cell_type": "code",
   "execution_count": 4,
   "metadata": {},
   "outputs": [
    {
     "data": {
      "text/plain": [
       "(503911, 32)"
      ]
     },
     "execution_count": 4,
     "metadata": {},
     "output_type": "execute_result"
    }
   ],
   "source": [
    "#printing the rows and columns of the data\n",
    "home_df.shape"
   ]
  },
  {
   "cell_type": "code",
   "execution_count": 5,
   "metadata": {},
   "outputs": [
    {
     "data": {
      "text/plain": [
       "Index(['time', 'use [kW]', 'gen [kW]', 'House overall [kW]', 'Dishwasher [kW]',\n",
       "       'Furnace 1 [kW]', 'Furnace 2 [kW]', 'Home office [kW]', 'Fridge [kW]',\n",
       "       'Wine cellar [kW]', 'Garage door [kW]', 'Kitchen 12 [kW]',\n",
       "       'Kitchen 14 [kW]', 'Kitchen 38 [kW]', 'Barn [kW]', 'Well [kW]',\n",
       "       'Microwave [kW]', 'Living room [kW]', 'Solar [kW]', 'temperature',\n",
       "       'icon', 'humidity', 'visibility', 'summary', 'apparentTemperature',\n",
       "       'pressure', 'windSpeed', 'cloudCover', 'windBearing', 'precipIntensity',\n",
       "       'dewPoint', 'precipProbability'],\n",
       "      dtype='object')"
      ]
     },
     "execution_count": 5,
     "metadata": {},
     "output_type": "execute_result"
    }
   ],
   "source": [
    "#Printing all columns\n",
    "home_df.columns"
   ]
  },
  {
   "cell_type": "code",
   "execution_count": 6,
   "metadata": {},
   "outputs": [
    {
     "data": {
      "text/plain": [
       "time                    object\n",
       "use [kW]               float64\n",
       "gen [kW]               float64\n",
       "House overall [kW]     float64\n",
       "Dishwasher [kW]        float64\n",
       "Furnace 1 [kW]         float64\n",
       "Furnace 2 [kW]         float64\n",
       "Home office [kW]       float64\n",
       "Fridge [kW]            float64\n",
       "Wine cellar [kW]       float64\n",
       "Garage door [kW]       float64\n",
       "Kitchen 12 [kW]        float64\n",
       "Kitchen 14 [kW]        float64\n",
       "Kitchen 38 [kW]        float64\n",
       "Barn [kW]              float64\n",
       "Well [kW]              float64\n",
       "Microwave [kW]         float64\n",
       "Living room [kW]       float64\n",
       "Solar [kW]             float64\n",
       "temperature            float64\n",
       "icon                    object\n",
       "humidity               float64\n",
       "visibility             float64\n",
       "summary                 object\n",
       "apparentTemperature    float64\n",
       "pressure               float64\n",
       "windSpeed              float64\n",
       "cloudCover              object\n",
       "windBearing            float64\n",
       "precipIntensity        float64\n",
       "dewPoint               float64\n",
       "precipProbability      float64\n",
       "dtype: object"
      ]
     },
     "execution_count": 6,
     "metadata": {},
     "output_type": "execute_result"
    }
   ],
   "source": [
    "#Checking datatypes of the columns\n",
    "home_df.dtypes"
   ]
  },
  {
   "cell_type": "markdown",
   "metadata": {},
   "source": [
    "# Removing Data Entry Errors"
   ]
  },
  {
   "cell_type": "code",
   "execution_count": 7,
   "metadata": {},
   "outputs": [
    {
     "data": {
      "text/plain": [
       "0         0.932833\n",
       "1         0.934333\n",
       "2         0.931817\n",
       "3         1.022050\n",
       "4         1.139400\n",
       "503906    1.599333\n",
       "503907    1.924267\n",
       "503908    1.978200\n",
       "503909    1.990950\n",
       "503910         NaN\n",
       "Name: use [kW], dtype: float64"
      ]
     },
     "execution_count": 7,
     "metadata": {},
     "output_type": "execute_result"
    }
   ],
   "source": [
    "#As seen above the time column is an object whereas it should be in datetime.\n",
    "#Dropping the original time column and replacing with a new one, Time Stamp, with the corrected datatype \n",
    "time_index = pd.date_range('2016-01-01 05:00', periods=len(home_df),  freq='min')  \n",
    "time_index = pd.DatetimeIndex(time_index)\n",
    "home_df['Time Stamp'] = time_index\n",
    "home_df = home_df.drop(['time'], axis=1)\n",
    "home_df.iloc[np.r_[0:5,-5:0]].iloc[:,0]"
   ]
  },
  {
   "cell_type": "code",
   "execution_count": 8,
   "metadata": {},
   "outputs": [
    {
     "data": {
      "text/plain": [
       "array([0.75, 0.  , 1.  , 0.31, 0.44, 0.13, 0.19, 0.25, 0.16, 0.21, 0.15,\n",
       "       0.14, 0.27, 0.28, 0.17, 0.05, 0.1 , 0.26, 0.29, 0.11, 0.09, 0.12,\n",
       "       0.06, 0.02, 0.08, 0.04, 0.35, 0.22, 0.23, 0.54, 0.39, 0.03, 0.07,\n",
       "       0.76, 0.62, 0.18, 0.79, 0.48, 0.24, 0.57, 0.41, 0.78, 0.2 , 0.77,\n",
       "       0.46, 0.55, 0.01, 0.51, 0.47, 0.5 , 0.4 , 0.3 , 0.43, 0.33, 0.6 ,\n",
       "       0.68, 0.66, 0.45, 0.34, 0.52, 0.67, 0.49, 0.37, 0.36, 0.61, 0.38,\n",
       "       0.42, 0.53, 0.63, 0.32, 0.56, 0.58, 0.72, 0.73, 0.71, 0.64, 0.59,\n",
       "        nan])"
      ]
     },
     "execution_count": 8,
     "metadata": {},
     "output_type": "execute_result"
    }
   ],
   "source": [
    "#Changing the datatypes of the column cloud cover to float\n",
    "home_df['cloudCover'].replace(['cloudCover'], method='bfill', inplace=True)\n",
    "home_df['cloudCover'] = home_df['cloudCover'].astype('float')\n",
    "home_df['cloudCover'].unique()"
   ]
  },
  {
   "cell_type": "code",
   "execution_count": 10,
   "metadata": {},
   "outputs": [
    {
     "data": {
      "text/plain": [
       "<AxesSubplot:>"
      ]
     },
     "execution_count": 10,
     "metadata": {},
     "output_type": "execute_result"
    },
    {
     "data": {
      "image/png": "[encoded data removed]",
      "text/plain": [
       "<Figure size 432x288 with 1 Axes>"
      ]
     },
     "metadata": {},
     "output_type": "display_data"
    }
   ],
   "source": [
    "#Plotting box plot to check for outliers\n",
    "home_df.boxplot(column='temperature', sym='o', return_type='axes')"
   ]
  },
  {
   "cell_type": "code",
   "execution_count": 30,
   "metadata": {},
   "outputs": [
    {
     "name": "stdout",
     "output_type": "stream",
     "text": [
      "Time Stamp      1      2      3      4     5      6      7      8      9   \\\n",
      "temperature  28.72  30.47  42.42  46.51  61.4  68.05  73.18  72.56  59.96   \n",
      "\n",
      "Time Stamp      10     11     12  \n",
      "temperature  47.92  36.55  28.67  \n"
     ]
    },
    {
     "data": {
      "text/plain": [
       "<AxesSubplot:>"
      ]
     },
     "execution_count": 30,
     "metadata": {},
     "output_type": "execute_result"
    },
    {
     "data": {
      "image/png": "[encoded data removed]",
      "text/plain": [
       "<Figure size 432x288 with 1 Axes>"
      ]
     },
     "metadata": {},
     "output_type": "display_data"
    }
   ],
   "source": [
    "#Finding the average monthly temperature value \n",
    "Month = []\n",
    "Month = home_df['Time Stamp'].apply(lambda x: x.month)\n",
    "avg_monthly_temp = home_df.pivot_table(columns=Month, values='temperature', aggfunc='mean').round(2)\n",
    "print(avg_monthly_temp)\n",
    "avg_monthly_temp.plot.bar()"
   ]
  },
  {
   "cell_type": "markdown",
   "metadata": {},
   "source": [
    "The above two plots are used to identify and understand the temperature variation throughout the year. \n",
    "The first one i.e. the box plot presents the 5 number summary of the temperature. \n",
    "The second one i.e. the bar chart finds out the trends in temperature over the months. It can be seen that the May-September is the summer season and it is warmer while in the remaining months are winters. "
   ]
  },
  {
   "cell_type": "markdown",
   "metadata": {},
   "source": [
    "# Dealing with Missing values and removing unnecessary columns and rows"
   ]
  },
  {
   "cell_type": "code",
   "execution_count": 12,
   "metadata": {},
   "outputs": [],
   "source": [
    "#Dropping the Furnace 1 and Furnace 2 column and replacing it with the aggregated Furnace column\n",
    "home_df['Furnace'] = home_df[['Furnace 1 [kW]','Furnace 2 [kW]']].sum(axis=1)\n",
    "\n",
    "home_df = home_df.drop(['Furnace 1 [kW]','Furnace 2 [kW]'], axis=1)"
   ]
  },
  {
   "cell_type": "code",
   "execution_count": 13,
   "metadata": {},
   "outputs": [],
   "source": [
    "#Dropping the Kitchen 12, Kitchen 14 and Kitchen 38 column and replacing it with the sum and avg Kitchen column\n",
    "home_df['sum_Kitchen'] = home_df[['Kitchen 12 [kW]','Kitchen 14 [kW]','Kitchen 38 [kW]']].sum(axis=1)\n",
    "\n",
    "home_df = home_df.drop(['Kitchen 12 [kW]','Kitchen 14 [kW]','Kitchen 38 [kW]'],axis=1)"
   ]
  },
  {
   "cell_type": "code",
   "execution_count": 14,
   "metadata": {},
   "outputs": [
    {
     "data": {
      "text/plain": [
       "Index(['use [kW]', 'gen [kW]', 'House overall [kW]', 'Dishwasher [kW]',\n",
       "       'Home office [kW]', 'Fridge [kW]', 'Wine cellar [kW]',\n",
       "       'Garage door [kW]', 'Barn [kW]', 'Well [kW]', 'Microwave [kW]',\n",
       "       'Living room [kW]', 'Solar [kW]', 'temperature', 'icon', 'humidity',\n",
       "       'visibility', 'summary', 'apparentTemperature', 'pressure', 'windSpeed',\n",
       "       'cloudCover', 'windBearing', 'precipIntensity', 'dewPoint',\n",
       "       'precipProbability', 'Time Stamp', 'Furnace', 'sum_Kitchen'],\n",
       "      dtype='object')"
      ]
     },
     "execution_count": 14,
     "metadata": {},
     "output_type": "execute_result"
    }
   ],
   "source": [
    "home_df.columns"
   ]
  },
  {
   "cell_type": "code",
   "execution_count": 15,
   "metadata": {},
   "outputs": [
    {
     "data": {
      "text/plain": [
       "<AxesSubplot:>"
      ]
     },
     "execution_count": 15,
     "metadata": {},
     "output_type": "execute_result"
    },
    {
     "data": {
      "image/png": "[encoded data removed]",
      "text/plain": [
       "<Figure size 432x288 with 2 Axes>"
      ]
     },
     "metadata": {},
     "output_type": "display_data"
    }
   ],
   "source": [
    "#Analyzing the trends in Total energy used and the overall house energy \n",
    "fig, axes = plt.subplots(nrows=2, ncols=1)\n",
    "home_df['use [kW]'].plot(ax=axes[0])\n",
    "home_df['House overall [kW]'].plot(ax=axes[1])"
   ]
  },
  {
   "cell_type": "code",
   "execution_count": 16,
   "metadata": {},
   "outputs": [
    {
     "data": {
      "text/plain": [
       "True"
      ]
     },
     "execution_count": 16,
     "metadata": {},
     "output_type": "execute_result"
    }
   ],
   "source": [
    "#checking if both the columns are identicial\n",
    "home_df['use [kW]'].equals(home_df['House overall [kW]'])"
   ]
  },
  {
   "cell_type": "markdown",
   "metadata": {},
   "source": [
    "The above two plots were plotted to observe the trends in the values of energy used and the overall house energy used. It can be seen that both follow the exact same pattern. \n",
    "This observation was further confirmed by using the .equals function, which confirms that both the columns are identical.\n",
    "Hence dropping the House overall column to reduce redundancy."
   ]
  },
  {
   "cell_type": "code",
   "execution_count": 17,
   "metadata": {},
   "outputs": [],
   "source": [
    "#Dropping House overall column for the above mentioned reason.\n",
    "home_df = home_df.drop(['House overall [kW]'], axis=1)"
   ]
  },
  {
   "cell_type": "code",
   "execution_count": 18,
   "metadata": {},
   "outputs": [
    {
     "data": {
      "text/plain": [
       "use [kW]               1\n",
       "gen [kW]               1\n",
       "Dishwasher [kW]        1\n",
       "Home office [kW]       1\n",
       "Fridge [kW]            1\n",
       "Wine cellar [kW]       1\n",
       "Garage door [kW]       1\n",
       "Barn [kW]              1\n",
       "Well [kW]              1\n",
       "Microwave [kW]         1\n",
       "Living room [kW]       1\n",
       "Solar [kW]             1\n",
       "temperature            1\n",
       "icon                   1\n",
       "humidity               1\n",
       "visibility             1\n",
       "summary                1\n",
       "apparentTemperature    1\n",
       "pressure               1\n",
       "windSpeed              1\n",
       "cloudCover             1\n",
       "windBearing            1\n",
       "precipIntensity        1\n",
       "dewPoint               1\n",
       "precipProbability      1\n",
       "Time Stamp             0\n",
       "Furnace                0\n",
       "sum_Kitchen            0\n",
       "dtype: int64"
      ]
     },
     "execution_count": 18,
     "metadata": {},
     "output_type": "execute_result"
    }
   ],
   "source": [
    "home_df.isnull().sum()"
   ]
  },
  {
   "cell_type": "code",
   "execution_count": 19,
   "metadata": {},
   "outputs": [],
   "source": [
    "#Dropping the missing rows since there is only 1 row with missing values\n",
    "home_df = home_df.drop(home_df[home_df['use [kW]'].isnull()].index)"
   ]
  },
  {
   "cell_type": "code",
   "execution_count": 20,
   "metadata": {},
   "outputs": [
    {
     "data": {
      "text/plain": [
       "use [kW]               0\n",
       "gen [kW]               0\n",
       "Dishwasher [kW]        0\n",
       "Home office [kW]       0\n",
       "Fridge [kW]            0\n",
       "Wine cellar [kW]       0\n",
       "Garage door [kW]       0\n",
       "Barn [kW]              0\n",
       "Well [kW]              0\n",
       "Microwave [kW]         0\n",
       "Living room [kW]       0\n",
       "Solar [kW]             0\n",
       "temperature            0\n",
       "icon                   0\n",
       "humidity               0\n",
       "visibility             0\n",
       "summary                0\n",
       "apparentTemperature    0\n",
       "pressure               0\n",
       "windSpeed              0\n",
       "cloudCover             0\n",
       "windBearing            0\n",
       "precipIntensity        0\n",
       "dewPoint               0\n",
       "precipProbability      0\n",
       "Time Stamp             0\n",
       "Furnace                0\n",
       "sum_Kitchen            0\n",
       "dtype: int64"
      ]
     },
     "execution_count": 20,
     "metadata": {},
     "output_type": "execute_result"
    }
   ],
   "source": [
    "home_df.isnull().sum()"
   ]
  },
  {
   "cell_type": "markdown",
   "metadata": {},
   "source": [
    "# Anova Test"
   ]
  },
  {
   "cell_type": "markdown",
   "metadata": {},
   "source": [
    "Here I'm conducting anova test on my two main KPIs i.e., Used, Generated and since anova is between one categorical and one numercial column I'll be conducting it with the categorical column Icon and summary which are the only other categorical column in this dataset."
   ]
  },
  {
   "cell_type": "code",
   "execution_count": 21,
   "metadata": {},
   "outputs": [
    {
     "name": "stdout",
     "output_type": "stream",
     "text": [
      "\n",
      "Anova => Used [KW] - Icon\n"
     ]
    },
    {
     "data": {
      "text/html": [
       "<div>\n",
       "<style scoped>\n",
       "    .dataframe tbody tr th:only-of-type {\n",
       "        vertical-align: middle;\n",
       "    }\n",
       "\n",
       "    .dataframe tbody tr th {\n",
       "        vertical-align: top;\n",
       "    }\n",
       "\n",
       "    .dataframe thead th {\n",
       "        text-align: right;\n",
       "    }\n",
       "</style>\n",
       "<table border=\"1\" class=\"dataframe\">\n",
       "  <thead>\n",
       "    <tr style=\"text-align: right;\">\n",
       "      <th></th>\n",
       "      <th>sum_sq</th>\n",
       "      <th>df</th>\n",
       "      <th>F</th>\n",
       "      <th>PR(&gt;F)</th>\n",
       "    </tr>\n",
       "  </thead>\n",
       "  <tbody>\n",
       "    <tr>\n",
       "      <th>C(Q(\"icon\"))</th>\n",
       "      <td>497.184470</td>\n",
       "      <td>8.0</td>\n",
       "      <td>55.547171</td>\n",
       "      <td>6.515651e-91</td>\n",
       "    </tr>\n",
       "    <tr>\n",
       "      <th>Residual</th>\n",
       "      <td>563781.530931</td>\n",
       "      <td>503901.0</td>\n",
       "      <td>NaN</td>\n",
       "      <td>NaN</td>\n",
       "    </tr>\n",
       "  </tbody>\n",
       "</table>\n",
       "</div>"
      ],
      "text/plain": [
       "                     sum_sq        df          F        PR(>F)\n",
       "C(Q(\"icon\"))     497.184470       8.0  55.547171  6.515651e-91\n",
       "Residual      563781.530931  503901.0        NaN           NaN"
      ]
     },
     "metadata": {},
     "output_type": "display_data"
    },
    {
     "name": "stdout",
     "output_type": "stream",
     "text": [
      "\n",
      "Anova => Used [KW] - summary\n"
     ]
    },
    {
     "data": {
      "text/html": [
       "<div>\n",
       "<style scoped>\n",
       "    .dataframe tbody tr th:only-of-type {\n",
       "        vertical-align: middle;\n",
       "    }\n",
       "\n",
       "    .dataframe tbody tr th {\n",
       "        vertical-align: top;\n",
       "    }\n",
       "\n",
       "    .dataframe thead th {\n",
       "        text-align: right;\n",
       "    }\n",
       "</style>\n",
       "<table border=\"1\" class=\"dataframe\">\n",
       "  <thead>\n",
       "    <tr style=\"text-align: right;\">\n",
       "      <th></th>\n",
       "      <th>sum_sq</th>\n",
       "      <th>df</th>\n",
       "      <th>F</th>\n",
       "      <th>PR(&gt;F)</th>\n",
       "    </tr>\n",
       "  </thead>\n",
       "  <tbody>\n",
       "    <tr>\n",
       "      <th>C(Q(\"summary\"))</th>\n",
       "      <td>1462.918537</td>\n",
       "      <td>17.0</td>\n",
       "      <td>77.044636</td>\n",
       "      <td>8.493588e-268</td>\n",
       "    </tr>\n",
       "    <tr>\n",
       "      <th>Residual</th>\n",
       "      <td>562815.796864</td>\n",
       "      <td>503892.0</td>\n",
       "      <td>NaN</td>\n",
       "      <td>NaN</td>\n",
       "    </tr>\n",
       "  </tbody>\n",
       "</table>\n",
       "</div>"
      ],
      "text/plain": [
       "                        sum_sq        df          F         PR(>F)\n",
       "C(Q(\"summary\"))    1462.918537      17.0  77.044636  8.493588e-268\n",
       "Residual         562815.796864  503892.0        NaN            NaN"
      ]
     },
     "metadata": {},
     "output_type": "display_data"
    }
   ],
   "source": [
    "y = home_df['use [kW]']\n",
    "model = ols('y ~ C(Q(\"icon\"))', data=home_df).fit()\n",
    "anova_table = sm.stats.anova_lm(model, typ=2)\n",
    "print (\"\\nAnova => Used [KW] - Icon\")\n",
    "display(anova_table)\n",
    "\n",
    "model = ols('y ~ C(Q(\"summary\"))', data=home_df).fit()\n",
    "anova_table = sm.stats.anova_lm(model, typ=2)\n",
    "print (\"\\nAnova => Used [KW] - summary\")\n",
    "display(anova_table)"
   ]
  },
  {
   "cell_type": "raw",
   "metadata": {},
   "source": [
    "From the above results, it can be said that since the p-value is less than 5% for both Icon and Summary with Used, we reject the null hypothesis and conclude that there us a significant difference between thier means."
   ]
  },
  {
   "cell_type": "code",
   "execution_count": 22,
   "metadata": {},
   "outputs": [
    {
     "name": "stdout",
     "output_type": "stream",
     "text": [
      "\n",
      "Anova => Generated [KW] - Icon\n"
     ]
    },
    {
     "data": {
      "text/html": [
       "<div>\n",
       "<style scoped>\n",
       "    .dataframe tbody tr th:only-of-type {\n",
       "        vertical-align: middle;\n",
       "    }\n",
       "\n",
       "    .dataframe tbody tr th {\n",
       "        vertical-align: top;\n",
       "    }\n",
       "\n",
       "    .dataframe thead th {\n",
       "        text-align: right;\n",
       "    }\n",
       "</style>\n",
       "<table border=\"1\" class=\"dataframe\">\n",
       "  <thead>\n",
       "    <tr style=\"text-align: right;\">\n",
       "      <th></th>\n",
       "      <th>sum_sq</th>\n",
       "      <th>df</th>\n",
       "      <th>F</th>\n",
       "      <th>PR(&gt;F)</th>\n",
       "    </tr>\n",
       "  </thead>\n",
       "  <tbody>\n",
       "    <tr>\n",
       "      <th>C(Q(\"icon\"))</th>\n",
       "      <td>25.483047</td>\n",
       "      <td>8.0</td>\n",
       "      <td>193.718321</td>\n",
       "      <td>0.0</td>\n",
       "    </tr>\n",
       "    <tr>\n",
       "      <th>Residual</th>\n",
       "      <td>8285.827508</td>\n",
       "      <td>503901.0</td>\n",
       "      <td>NaN</td>\n",
       "      <td>NaN</td>\n",
       "    </tr>\n",
       "  </tbody>\n",
       "</table>\n",
       "</div>"
      ],
      "text/plain": [
       "                   sum_sq        df           F  PR(>F)\n",
       "C(Q(\"icon\"))    25.483047       8.0  193.718321     0.0\n",
       "Residual      8285.827508  503901.0         NaN     NaN"
      ]
     },
     "metadata": {},
     "output_type": "display_data"
    },
    {
     "name": "stdout",
     "output_type": "stream",
     "text": [
      "\n",
      "Anova => Generated [KW] - summary\n"
     ]
    },
    {
     "data": {
      "text/html": [
       "<div>\n",
       "<style scoped>\n",
       "    .dataframe tbody tr th:only-of-type {\n",
       "        vertical-align: middle;\n",
       "    }\n",
       "\n",
       "    .dataframe tbody tr th {\n",
       "        vertical-align: top;\n",
       "    }\n",
       "\n",
       "    .dataframe thead th {\n",
       "        text-align: right;\n",
       "    }\n",
       "</style>\n",
       "<table border=\"1\" class=\"dataframe\">\n",
       "  <thead>\n",
       "    <tr style=\"text-align: right;\">\n",
       "      <th></th>\n",
       "      <th>sum_sq</th>\n",
       "      <th>df</th>\n",
       "      <th>F</th>\n",
       "      <th>PR(&gt;F)</th>\n",
       "    </tr>\n",
       "  </thead>\n",
       "  <tbody>\n",
       "    <tr>\n",
       "      <th>C(Q(\"summary\"))</th>\n",
       "      <td>32.160311</td>\n",
       "      <td>17.0</td>\n",
       "      <td>115.139148</td>\n",
       "      <td>0.0</td>\n",
       "    </tr>\n",
       "    <tr>\n",
       "      <th>Residual</th>\n",
       "      <td>8279.150244</td>\n",
       "      <td>503892.0</td>\n",
       "      <td>NaN</td>\n",
       "      <td>NaN</td>\n",
       "    </tr>\n",
       "  </tbody>\n",
       "</table>\n",
       "</div>"
      ],
      "text/plain": [
       "                      sum_sq        df           F  PR(>F)\n",
       "C(Q(\"summary\"))    32.160311      17.0  115.139148     0.0\n",
       "Residual         8279.150244  503892.0         NaN     NaN"
      ]
     },
     "metadata": {},
     "output_type": "display_data"
    }
   ],
   "source": [
    "y = home_df['gen [kW]']\n",
    "model = ols('y ~ C(Q(\"icon\"))', data=home_df).fit()\n",
    "anova_table = sm.stats.anova_lm(model, typ=2)\n",
    "print (\"\\nAnova => Generated [KW] - Icon\")\n",
    "display(anova_table)\n",
    "\n",
    "model = ols('y ~ C(Q(\"summary\"))', data=home_df).fit()\n",
    "anova_table = sm.stats.anova_lm(model, typ=2)\n",
    "print (\"\\nAnova => Generated [KW] - summary\")\n",
    "display(anova_table)"
   ]
  },
  {
   "cell_type": "raw",
   "metadata": {},
   "source": [
    "From the above results, it can be said that since the p-value is less than 5% for both Icon and Summary with Gen, we reject the null hypothesis and conclude that there us a significant difference between thier means."
   ]
  },
  {
   "cell_type": "markdown",
   "metadata": {},
   "source": [
    "# Chi-squared test"
   ]
  },
  {
   "cell_type": "markdown",
   "metadata": {},
   "source": [
    "Since chi squared test can only be performed on categorical columns so here I'm using the only two categorical columns availbe in this datast i.e., summary and icon"
   ]
  },
  {
   "cell_type": "code",
   "execution_count": 23,
   "metadata": {},
   "outputs": [
    {
     "name": "stdout",
     "output_type": "stream",
     "text": [
      "summary              Breezy  Breezy and Mostly Cloudy  \\\n",
      "icon                                                    \n",
      "clear-day                 0                         0   \n",
      "clear-night               0                         0   \n",
      "cloudy                    0                         0   \n",
      "fog                       0                         0   \n",
      "partly-cloudy-day         0                         0   \n",
      "partly-cloudy-night       0                         0   \n",
      "rain                      0                         0   \n",
      "snow                      0                         0   \n",
      "wind                   1561                        58   \n",
      "\n",
      "summary              Breezy and Partly Cloudy   Clear  Drizzle  Dry  Flurries  \\\n",
      "icon                                                                            \n",
      "clear-day                                   0  182194        0   58         0   \n",
      "clear-night                                 0  194536        0    0         0   \n",
      "cloudy                                      0       0        0    0         0   \n",
      "fog                                         0       0        0    0         0   \n",
      "partly-cloudy-day                           0       0        0    0         0   \n",
      "partly-cloudy-night                         0       0        0    0         0   \n",
      "rain                                        0       0    10370    0         0   \n",
      "snow                                        0       0        0    0      1789   \n",
      "wind                                     1041       0        0    0         0   \n",
      "\n",
      "summary              Flurries and Breezy  Foggy  Heavy Snow  Light Rain  \\\n",
      "icon                                                                      \n",
      "clear-day                              0      0           0           0   \n",
      "clear-night                            0      0           0           0   \n",
      "cloudy                                 0      0           0           0   \n",
      "fog                                    0    974           0           0   \n",
      "partly-cloudy-day                      0      0           0           0   \n",
      "partly-cloudy-night                    0      0           0           0   \n",
      "rain                                   0      0           0       27368   \n",
      "snow                                 115      0         171           0   \n",
      "wind                                   0      0           0           0   \n",
      "\n",
      "summary              Light Snow  Mostly Cloudy  Overcast  Partly Cloudy  Rain  \\\n",
      "icon                                                                            \n",
      "clear-day                     0              0         0              0     0   \n",
      "clear-night                   0              0         0              0     0   \n",
      "cloudy                        0              0      6041              0     0   \n",
      "fog                           0              0         0              0     0   \n",
      "partly-cloudy-day             0           2128         0          37364     0   \n",
      "partly-cloudy-night           0           2420         0          24904     0   \n",
      "rain                          0              0         0              0  5169   \n",
      "snow                       4323              0         0              0     0   \n",
      "wind                          0              0         0              0     0   \n",
      "\n",
      "summary              Rain and Breezy  Snow  \n",
      "icon                                        \n",
      "clear-day                          0     0  \n",
      "clear-night                        0     0  \n",
      "cloudy                             0     0  \n",
      "fog                                0     0  \n",
      "partly-cloudy-day                  0     0  \n",
      "partly-cloudy-night                0     0  \n",
      "rain                             174     0  \n",
      "snow                               0  1152  \n",
      "wind                               0     0  \n",
      "dof=136\n",
      "[[5.64575762e+02 2.09771904e+01 3.76504400e+02 1.36254085e+05\n",
      "  3.75057697e+03 2.09771904e+01 6.47037820e+02 4.15927050e+01\n",
      "  3.52272128e+02 6.18465440e+01 9.89834045e+03 1.56352403e+03\n",
      "  1.64490107e+03 2.18488288e+03 2.25208222e+04 1.86950167e+03\n",
      "  6.29315711e+01 4.16650402e+02]\n",
      " [6.02628835e+02 2.23910778e+01 4.01881241e+02 1.45437771e+05\n",
      "  4.00337028e+03 2.23910778e+01 6.90648933e+02 4.43961025e+01\n",
      "  3.76015685e+02 6.60150741e+01 1.05655003e+04 1.66890740e+03\n",
      "  1.75576934e+03 2.33214657e+03 2.40387523e+04 1.99550829e+03\n",
      "  6.71732333e+01 4.44733131e+02]\n",
      " [1.87136612e+01 6.95318608e-01 1.24797702e+01 4.51633413e+03\n",
      "  1.24318172e+02 6.95318608e-01 2.14469826e+01 1.37864897e+00\n",
      "  1.16765573e+01 2.04999107e+00 3.28094477e+02 5.18252128e+01\n",
      "  5.45225695e+01 7.24210295e+01 7.46484467e+02 6.19672739e+01\n",
      "  2.08595583e+00 1.38104662e+01]\n",
      " [3.01723324e+00 1.12107321e-01 2.01213312e+00 7.28175706e+02\n",
      "  2.00440158e+01 1.12107321e-01 3.45793098e+00 2.22281757e-01\n",
      "  1.88262983e+00 3.30523308e-01 5.28991923e+01 8.35586117e+00\n",
      "  8.79076025e+00 1.16765573e+01 1.20356873e+02 9.99108174e+00\n",
      "  3.36321962e-01 2.22668334e+00]\n",
      " [1.22337346e+02 4.54552599e+00 8.15843543e+01 2.95247587e+04\n",
      "  8.12708698e+02 4.54552599e+00 1.40205965e+02 9.01268084e+00\n",
      "  7.63334881e+01 1.34014645e+01 2.14486130e+03 3.38798428e+02\n",
      "  3.56431934e+02 4.73440043e+02 4.88001400e+03 4.05100411e+02\n",
      "  1.36365780e+01 9.02835506e+01]\n",
      " [8.46436149e+01 3.14499018e+00 5.64471513e+01 2.04277957e+04\n",
      "  5.62302554e+02 3.14499018e+00 9.70066798e+01 6.23575639e+00\n",
      "  5.28141454e+01 9.27229862e+00 1.48400157e+03 2.34410216e+02\n",
      "  2.46610609e+02 3.27566994e+02 3.37641807e+03 2.80283694e+02\n",
      "  9.43497053e+00 6.24660118e+01]\n",
      " [1.33455262e+02 4.95861959e+00 8.89986724e+01 3.22079441e+04\n",
      "  8.86566986e+02 4.95861959e+00 1.52947766e+02 9.83174575e+00\n",
      "  8.32706118e+01 1.46193785e+01 2.33978450e+03 3.69588147e+02\n",
      "  3.88824171e+02 5.16465879e+02 5.32350560e+03 4.41915598e+02\n",
      "  1.48758588e+01 9.84884444e+01]\n",
      " [2.33882042e+01 8.69004386e-01 1.55971304e+01 5.64448314e+03\n",
      "  1.55371991e+02 8.69004386e-01 2.68042904e+01 1.72302594e+00\n",
      "  1.45932805e+01 2.56206465e+00 4.10050207e+02 6.47707924e+01\n",
      "  6.81419301e+01 9.05113016e+01 9.32951122e+02 7.74462702e+01\n",
      "  2.60701316e+00 1.72602250e+01]\n",
      " [8.24008255e+00 3.06165784e-01 5.49514794e+00 1.98865234e+03\n",
      "  5.47403306e+01 3.06165784e-01 9.44363081e+00 6.07052847e-01\n",
      "  5.14147368e+00 9.02661189e-01 1.44468020e+02 2.28199083e+01\n",
      "  2.40076204e+01 3.18887500e+01 3.28695362e+02 2.72857058e+01\n",
      "  9.18497351e-01 6.08108591e+00]]\n",
      "significance=0.050, p=0.000\n",
      "Dependent (reject H0)\n"
     ]
    }
   ],
   "source": [
    "from scipy.stats import chi2_contingency\n",
    "from scipy.stats import chi2\n",
    "\n",
    "data_crosstab = pd.crosstab(home_df['icon'], home_df['summary'], \n",
    "margins = False) \n",
    "print(data_crosstab) \n",
    "\n",
    "stat, p, dof, expected = chi2_contingency(data_crosstab)\n",
    "print('dof=%d' % dof)\n",
    "print(expected)\n",
    "\n",
    "# interpret p-value\n",
    "alpha = 0.05\n",
    "print('significance=%.3f, p=%.3f' % (alpha, p))\n",
    "if p <= alpha:\n",
    "    print('Dependent (reject H0)')\n",
    "else:\n",
    "    print('Independent (fail to reject H0)')"
   ]
  },
  {
   "cell_type": "raw",
   "metadata": {},
   "source": [
    "From the above results, it can be said that since the p-value is less than 5%, therefore we reject the null hypothesis and conclude that there us a significant difference between thier means."
   ]
  },
  {
   "cell_type": "markdown",
   "metadata": {},
   "source": [
    "# Corelation Matrix"
   ]
  },
  {
   "cell_type": "code",
   "execution_count": 26,
   "metadata": {},
   "outputs": [
    {
     "data": {
      "text/plain": [
       "<AxesSubplot:>"
      ]
     },
     "execution_count": 26,
     "metadata": {},
     "output_type": "execute_result"
    },
    {
     "data": {
      "image/png": "[encoded data removed]",
      "text/plain": [
       "<Figure size 576x576 with 2 Axes>"
      ]
     },
     "metadata": {},
     "output_type": "display_data"
    }
   ],
   "source": [
    "#let us check the correlation of all numerical columns with each other\n",
    "corrmatrix = home_df.corr()\n",
    "f, axis = plt.subplots(figsize =(8, 8)) \n",
    "sns.heatmap(corrmatrix, ax = axis, linewidths = 0.2)"
   ]
  },
  {
   "cell_type": "markdown",
   "metadata": {},
   "source": [
    "This heatmap shows the correlation of all numerical values with each other. \n",
    "From this heatmap we can clearly identify that energy generated is highly positively correlated with Solar.\n",
    "Apart from that no major consclusions can be drawn due to the large number of columns which causes difficulty in finding relations."
   ]
  },
  {
   "cell_type": "markdown",
   "metadata": {},
   "source": [
    "For this reason plotting correlataion matrices separately for each KPI with the 15 highest related columns"
   ]
  },
  {
   "cell_type": "code",
   "execution_count": 27,
   "metadata": {},
   "outputs": [
    {
     "data": {
      "text/plain": [
       "<AxesSubplot:>"
      ]
     },
     "execution_count": 27,
     "metadata": {},
     "output_type": "execute_result"
    },
    {
     "data": {
      "image/png": "[encoded data removed]",
      "text/plain": [
       "<Figure size 576x576 with 2 Axes>"
      ]
     },
     "metadata": {},
     "output_type": "display_data"
    }
   ],
   "source": [
    "# let us plot a correlation matrix only for Use (v vars with largest correlation with grand total)\n",
    "v= 15\n",
    "\n",
    "cols = corrmatrix.nlargest(v, 'use [kW]')['use [kW]'].index \n",
    "  \n",
    "coeffs = np.corrcoef(home_df[cols].values.T) \n",
    "f, axis = plt.subplots(figsize =(8, 8)) \n",
    "  \n",
    "sns.heatmap(coeffs, ax = axis, cmap =\"YlGnBu\", \n",
    "            linewidths = 0.2, yticklabels = cols.values,  \n",
    "                              xticklabels = cols.values) "
   ]
  },
  {
   "cell_type": "markdown",
   "metadata": {},
   "source": [
    "It can be clearly seen here that the most energy that is being used is by the Furnace as it is highly positively related with energy used."
   ]
  },
  {
   "cell_type": "code",
   "execution_count": 28,
   "metadata": {},
   "outputs": [
    {
     "data": {
      "text/plain": [
       "<AxesSubplot:>"
      ]
     },
     "execution_count": 28,
     "metadata": {},
     "output_type": "execute_result"
    },
    {
     "data": {
      "image/png": "[encoded data removed]",
      "text/plain": [
       "<Figure size 576x576 with 2 Axes>"
      ]
     },
     "metadata": {},
     "output_type": "display_data"
    }
   ],
   "source": [
    "# let us plot a correlation matrix only for saleprice (v vars with largest correlation with grand total)\n",
    "v=15\n",
    "\n",
    "cols = corrmatrix.nlargest(v, 'gen [kW]')['gen [kW]'].index \n",
    "  \n",
    "coeffs = np.corrcoef(home_df[cols].values.T) \n",
    "f, axis = plt.subplots(figsize =(8, 8)) \n",
    "  \n",
    "sns.heatmap(coeffs, ax = axis, cmap =\"YlGnBu\", \n",
    "            linewidths = 0.2, yticklabels = cols.values,  \n",
    "                              xticklabels = cols.values) "
   ]
  },
  {
   "cell_type": "markdown",
   "metadata": {},
   "source": [
    "This heatmap shows that generation of energy is more dependant upon the weather conditions majorly the solar energy which again makes sense as well."
   ]
  },
  {
   "cell_type": "code",
   "execution_count": 29,
   "metadata": {},
   "outputs": [],
   "source": [
    "home_df.to_csv('home_data.clean.csv')"
   ]
  },
  {
   "cell_type": "code",
   "execution_count": null,
   "metadata": {},
   "outputs": [],
   "source": []
  }
 ],
 "metadata": {
  "kernelspec": {
   "display_name": "Python 3",
   "language": "python",
   "name": "python3"
  },
  "language_info": {
   "codemirror_mode": {
    "name": "ipython",
    "version": 3
   },
   "file_extension": ".py",
   "mimetype": "text/x-python",
   "name": "python",
   "nbconvert_exporter": "python",
   "pygments_lexer": "ipython3",
   "version": "3.7.6"
  }
 },
 "nbformat": 4,
 "nbformat_minor": 5
}
