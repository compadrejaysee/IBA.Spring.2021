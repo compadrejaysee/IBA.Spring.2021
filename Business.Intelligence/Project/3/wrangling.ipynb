{
 "cells": [
  {
   "cell_type": "code",
   "execution_count": 7,
   "metadata": {},
   "outputs": [],
   "source": [
    "import pandas as pd\n",
    "import numpy as np\n",
    "from matplotlib import pyplot\n",
    "import sklearn\n",
    "\n",
    "from scipy.stats import shapiro\n",
    "from scipy.stats import normaltest\n",
    "from scipy.stats import anderson\n",
    "from scipy.stats import chi2_contingency\n",
    "from scipy.stats import chi2\n",
    "\n",
    "\n",
    "import scipy.stats as stats\n",
    "import statsmodels.api as sm\n",
    "from statsmodels.formula.api import ols\n",
    "from statsmodels.stats.multicomp import pairwise_tukeyhsd\n",
    "from statsmodels.graphics.gofplots import qqplot"
   ]
  },
  {
   "cell_type": "code",
   "execution_count": 8,
   "metadata": {},
   "outputs": [],
   "source": [
    "#import the data\n",
    "scdf = pd.read_csv(\"Pakistan Largest Ecommerce Dataset.csv\", low_memory=False)"
   ]
  },
  {
   "cell_type": "code",
   "execution_count": 9,
   "metadata": {},
   "outputs": [
    {
     "data": {
      "text/plain": [
       "(584524, 21)"
      ]
     },
     "execution_count": 9,
     "metadata": {},
     "output_type": "execute_result"
    }
   ],
   "source": [
    "scdf.shape"
   ]
  },
  {
   "cell_type": "code",
   "execution_count": 10,
   "metadata": {},
   "outputs": [
    {
     "data": {
      "text/plain": [
       "item_id                    int64\n",
       "status                    object\n",
       "created_at                object\n",
       "sku                       object\n",
       "price                    float64\n",
       "qty_ordered                int64\n",
       "grand_total              float64\n",
       "increment_id              object\n",
       "category_name_1           object\n",
       "sales_commission_code     object\n",
       "discount_amount          float64\n",
       "payment_method            object\n",
       "Working Date              object\n",
       "BI Status                 object\n",
       " MV                       object\n",
       "Year                       int64\n",
       "Month                      int64\n",
       "Customer_Since            object\n",
       "M-Y                       object\n",
       "FY                        object\n",
       "Customer_ID              float64\n",
       "dtype: object"
      ]
     },
     "execution_count": 10,
     "metadata": {},
     "output_type": "execute_result"
    }
   ],
   "source": [
    "scdf.dtypes"
   ]
  },
  {
   "cell_type": "code",
   "execution_count": 11,
   "metadata": {
    "scrolled": true
   },
   "outputs": [
    {
     "data": {
      "text/plain": [
       "item_id                       0\n",
       "status                       15\n",
       "created_at                    0\n",
       "sku                          20\n",
       "price                         0\n",
       "qty_ordered                   0\n",
       "grand_total                   0\n",
       "increment_id                  0\n",
       "category_name_1             164\n",
       "sales_commission_code    137175\n",
       "discount_amount               0\n",
       "payment_method                0\n",
       "Working Date                  0\n",
       "BI Status                     0\n",
       " MV                           0\n",
       "Year                          0\n",
       "Month                         0\n",
       "Customer_Since               11\n",
       "M-Y                           0\n",
       "FY                            0\n",
       "Customer_ID                  11\n",
       "dtype: int64"
      ]
     },
     "execution_count": 11,
     "metadata": {},
     "output_type": "execute_result"
    }
   ],
   "source": [
    "scdf.isnull().sum()"
   ]
  },
  {
   "cell_type": "code",
   "execution_count": 12,
   "metadata": {},
   "outputs": [],
   "source": [
    "# scdf = scdf.drop(scdf.columns[[-1,-2,-3,-4,-5]], axis=1)\n",
    "scdf = scdf.drop(columns=['Working Date', 'M-Y', 'Year','sales_commission_code','item_id', 'Month'])\n"
   ]
  },
  {
   "cell_type": "code",
   "execution_count": 13,
   "metadata": {},
   "outputs": [
    {
     "data": {
      "text/plain": [
       "status                        complete\n",
       "created_at                   7/24/2016\n",
       "sku                infinix_Note 2 Grey\n",
       "price                            16000\n",
       "qty_ordered                          1\n",
       "grand_total                      16000\n",
       "increment_id                 100152216\n",
       "category_name_1      Mobiles & Tablets\n",
       "discount_amount                      0\n",
       "payment_method                     cod\n",
       "BI Status                          Net\n",
       " MV                             16,000\n",
       "Customer_Since                  2016-7\n",
       "FY                                FY17\n",
       "Customer_ID                       1807\n",
       "Name: 5913, dtype: object"
      ]
     },
     "execution_count": 13,
     "metadata": {},
     "output_type": "execute_result"
    }
   ],
   "source": [
    "# scdf['trip_start_date'] = pd.to_datetime(scdf['trip_start_date'], errors='coerce')\n",
    "# scdf['Data_Ping_time'] = pd.to_timedelta(scdf['Data_Ping_time'], errors='coerce')\n",
    "# scdf = scdf[scdf['trip_start_date'].dt.year > 2000]\n",
    "scdf.loc[scdf.index[5913]]"
   ]
  },
  {
   "cell_type": "code",
   "execution_count": 14,
   "metadata": {},
   "outputs": [
    {
     "data": {
      "text/plain": [
       "status             0\n",
       "created_at         0\n",
       "sku                0\n",
       "price              0\n",
       "qty_ordered        0\n",
       "grand_total        0\n",
       "increment_id       0\n",
       "category_name_1    0\n",
       "discount_amount    0\n",
       "payment_method     0\n",
       "BI Status          0\n",
       " MV                0\n",
       "Customer_Since     0\n",
       "FY                 0\n",
       "Customer_ID        0\n",
       "dtype: int64"
      ]
     },
     "execution_count": 14,
     "metadata": {},
     "output_type": "execute_result"
    }
   ],
   "source": [
    "scdf.drop(scdf[scdf['sku'].isnull()].index, inplace=True)\n",
    "scdf.drop(scdf[scdf['created_at'].isnull()].index, inplace=True)\n",
    "scdf.drop(scdf[scdf['category_name_1'].isnull()].index, inplace=True)\n",
    "scdf.drop(scdf[scdf['Customer_ID'].isnull()].index, inplace=True)\n",
    "scdf.drop(scdf[scdf['status'].isnull()].index, inplace=True)\n",
    "val = [5914,145788,145789,145790,168684,169738,184587,186870,191504,192053,201209,227127,227153,227174,287272,463620,555299,560281,560282,564965]\n",
    "for a in val:\n",
    "    scdf.drop(scdf.index[a], inplace=True)\n",
    "    \n",
    "scdf.drop(scdf[scdf['status']== '\\\\N'].index, inplace=True)\n",
    "scdf.drop(scdf[scdf['category_name_1']== '\\\\N'].index, inplace=True)\n",
    "scdf = scdf.replace(r'\\\\n',' ', regex=True)\n",
    "scdf.isnull().sum()\n"
   ]
  },
  {
   "cell_type": "code",
   "execution_count": 15,
   "metadata": {},
   "outputs": [],
   "source": [
    "scdf.to_csv('ecomdf.clean.csv', index=False)"
   ]
  },
  {
   "cell_type": "code",
   "execution_count": 16,
   "metadata": {
    "scrolled": true
   },
   "outputs": [
    {
     "data": {
      "text/html": [
       "<div>\n",
       "<style scoped>\n",
       "    .dataframe tbody tr th:only-of-type {\n",
       "        vertical-align: middle;\n",
       "    }\n",
       "\n",
       "    .dataframe tbody tr th {\n",
       "        vertical-align: top;\n",
       "    }\n",
       "\n",
       "    .dataframe thead th {\n",
       "        text-align: right;\n",
       "    }\n",
       "</style>\n",
       "<table border=\"1\" class=\"dataframe\">\n",
       "  <thead>\n",
       "    <tr style=\"text-align: right;\">\n",
       "      <th></th>\n",
       "      <th>status</th>\n",
       "      <th>created_at</th>\n",
       "      <th>sku</th>\n",
       "      <th>price</th>\n",
       "      <th>qty_ordered</th>\n",
       "      <th>grand_total</th>\n",
       "      <th>increment_id</th>\n",
       "      <th>category_name_1</th>\n",
       "      <th>discount_amount</th>\n",
       "      <th>payment_method</th>\n",
       "      <th>BI Status</th>\n",
       "      <th>MV</th>\n",
       "      <th>Customer_Since</th>\n",
       "      <th>FY</th>\n",
       "      <th>Customer_ID</th>\n",
       "    </tr>\n",
       "  </thead>\n",
       "  <tbody>\n",
       "    <tr>\n",
       "      <th>0</th>\n",
       "      <td>complete</td>\n",
       "      <td>7/1/2016</td>\n",
       "      <td>kreations_YI 06-L</td>\n",
       "      <td>1950.0</td>\n",
       "      <td>1</td>\n",
       "      <td>1950.0</td>\n",
       "      <td>100147443</td>\n",
       "      <td>Women's Fashion</td>\n",
       "      <td>0.0</td>\n",
       "      <td>cod</td>\n",
       "      <td>#REF!</td>\n",
       "      <td>1,950</td>\n",
       "      <td>2016-7</td>\n",
       "      <td>FY17</td>\n",
       "      <td>1.0</td>\n",
       "    </tr>\n",
       "    <tr>\n",
       "      <th>1</th>\n",
       "      <td>canceled</td>\n",
       "      <td>7/1/2016</td>\n",
       "      <td>kcc_Buy 2 Frey Air Freshener &amp; Get 1 Kasual Bo...</td>\n",
       "      <td>240.0</td>\n",
       "      <td>1</td>\n",
       "      <td>240.0</td>\n",
       "      <td>100147444</td>\n",
       "      <td>Beauty &amp; Grooming</td>\n",
       "      <td>0.0</td>\n",
       "      <td>cod</td>\n",
       "      <td>Gross</td>\n",
       "      <td>240</td>\n",
       "      <td>2016-7</td>\n",
       "      <td>FY17</td>\n",
       "      <td>2.0</td>\n",
       "    </tr>\n",
       "    <tr>\n",
       "      <th>2</th>\n",
       "      <td>canceled</td>\n",
       "      <td>7/1/2016</td>\n",
       "      <td>Ego_UP0017-999-MR0</td>\n",
       "      <td>2450.0</td>\n",
       "      <td>1</td>\n",
       "      <td>2450.0</td>\n",
       "      <td>100147445</td>\n",
       "      <td>Women's Fashion</td>\n",
       "      <td>0.0</td>\n",
       "      <td>cod</td>\n",
       "      <td>Gross</td>\n",
       "      <td>2,450</td>\n",
       "      <td>2016-7</td>\n",
       "      <td>FY17</td>\n",
       "      <td>3.0</td>\n",
       "    </tr>\n",
       "    <tr>\n",
       "      <th>3</th>\n",
       "      <td>complete</td>\n",
       "      <td>7/1/2016</td>\n",
       "      <td>kcc_krone deal</td>\n",
       "      <td>360.0</td>\n",
       "      <td>1</td>\n",
       "      <td>60.0</td>\n",
       "      <td>100147446</td>\n",
       "      <td>Beauty &amp; Grooming</td>\n",
       "      <td>300.0</td>\n",
       "      <td>cod</td>\n",
       "      <td>Net</td>\n",
       "      <td>360</td>\n",
       "      <td>2016-7</td>\n",
       "      <td>FY17</td>\n",
       "      <td>4.0</td>\n",
       "    </tr>\n",
       "    <tr>\n",
       "      <th>4</th>\n",
       "      <td>order_refunded</td>\n",
       "      <td>7/1/2016</td>\n",
       "      <td>BK7010400AG</td>\n",
       "      <td>555.0</td>\n",
       "      <td>2</td>\n",
       "      <td>1110.0</td>\n",
       "      <td>100147447</td>\n",
       "      <td>Soghaat</td>\n",
       "      <td>0.0</td>\n",
       "      <td>cod</td>\n",
       "      <td>Valid</td>\n",
       "      <td>1,110</td>\n",
       "      <td>2016-7</td>\n",
       "      <td>FY17</td>\n",
       "      <td>5.0</td>\n",
       "    </tr>\n",
       "  </tbody>\n",
       "</table>\n",
       "</div>"
      ],
      "text/plain": [
       "           status created_at  \\\n",
       "0        complete   7/1/2016   \n",
       "1        canceled   7/1/2016   \n",
       "2        canceled   7/1/2016   \n",
       "3        complete   7/1/2016   \n",
       "4  order_refunded   7/1/2016   \n",
       "\n",
       "                                                 sku   price  qty_ordered  \\\n",
       "0                                  kreations_YI 06-L  1950.0            1   \n",
       "1  kcc_Buy 2 Frey Air Freshener & Get 1 Kasual Bo...   240.0            1   \n",
       "2                                 Ego_UP0017-999-MR0  2450.0            1   \n",
       "3                                     kcc_krone deal   360.0            1   \n",
       "4                                        BK7010400AG   555.0            2   \n",
       "\n",
       "   grand_total increment_id    category_name_1  discount_amount  \\\n",
       "0       1950.0    100147443    Women's Fashion              0.0   \n",
       "1        240.0    100147444  Beauty & Grooming              0.0   \n",
       "2       2450.0    100147445    Women's Fashion              0.0   \n",
       "3         60.0    100147446  Beauty & Grooming            300.0   \n",
       "4       1110.0    100147447            Soghaat              0.0   \n",
       "\n",
       "  payment_method BI Status    MV  Customer_Since    FY  Customer_ID  \n",
       "0            cod     #REF!  1,950         2016-7  FY17          1.0  \n",
       "1            cod     Gross    240         2016-7  FY17          2.0  \n",
       "2            cod     Gross  2,450         2016-7  FY17          3.0  \n",
       "3            cod       Net    360         2016-7  FY17          4.0  \n",
       "4            cod     Valid  1,110         2016-7  FY17          5.0  "
      ]
     },
     "execution_count": 16,
     "metadata": {},
     "output_type": "execute_result"
    }
   ],
   "source": [
    "scdf.head()"
   ]
  }
 ],
 "metadata": {
  "kernelspec": {
   "display_name": "Python 3",
   "language": "python",
   "name": "python3"
  },
  "language_info": {
   "codemirror_mode": {
    "name": "ipython",
    "version": 3
   },
   "file_extension": ".py",
   "mimetype": "text/x-python",
   "name": "python",
   "nbconvert_exporter": "python",
   "pygments_lexer": "ipython3",
   "version": "3.7.4"
  }
 },
 "nbformat": 4,
 "nbformat_minor": 4
}
