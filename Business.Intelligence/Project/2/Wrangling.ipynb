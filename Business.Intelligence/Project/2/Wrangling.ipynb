{
 "cells": [
  {
   "cell_type": "code",
   "execution_count": 1,
   "metadata": {},
   "outputs": [],
   "source": [
    "import pandas as pd\n",
    "import numpy as np\n",
    "from matplotlib import pyplot\n",
    "import time\n",
    "from scipy import stats\n",
    "\n",
    "from scipy.stats import shapiro\n",
    "from scipy.stats import normaltest\n",
    "from scipy.stats import anderson\n",
    "from scipy.stats import chi2_contingency\n",
    "from scipy.stats import chi2\n",
    "\n",
    "import statsmodels.api as sm\n",
    "from statsmodels.formula.api import ols\n",
    "from statsmodels.stats.multicomp import pairwise_tukeyhsd\n",
    "from statsmodels.graphics.gofplots import qqplot"
   ]
  },
  {
   "cell_type": "markdown",
   "metadata": {},
   "source": [
    "# Import the data"
   ]
  },
  {
   "cell_type": "code",
   "execution_count": 2,
   "metadata": {},
   "outputs": [],
   "source": [
    "df = pd.read_csv(\"HomeC.csv\",low_memory=False)"
   ]
  },
  {
   "cell_type": "markdown",
   "metadata": {},
   "source": [
    "# Lets have a look at the data"
   ]
  },
  {
   "cell_type": "code",
   "execution_count": 3,
   "metadata": {},
   "outputs": [
    {
     "data": {
      "text/plain": [
       "(503911, 32)"
      ]
     },
     "execution_count": 3,
     "metadata": {},
     "output_type": "execute_result"
    }
   ],
   "source": [
    "df.shape"
   ]
  },
  {
   "cell_type": "code",
   "execution_count": 4,
   "metadata": {},
   "outputs": [
    {
     "data": {
      "text/html": [
       "<div>\n",
       "<style scoped>\n",
       "    .dataframe tbody tr th:only-of-type {\n",
       "        vertical-align: middle;\n",
       "    }\n",
       "\n",
       "    .dataframe tbody tr th {\n",
       "        vertical-align: top;\n",
       "    }\n",
       "\n",
       "    .dataframe thead th {\n",
       "        text-align: right;\n",
       "    }\n",
       "</style>\n",
       "<table border=\"1\" class=\"dataframe\">\n",
       "  <thead>\n",
       "    <tr style=\"text-align: right;\">\n",
       "      <th></th>\n",
       "      <th>time</th>\n",
       "      <th>use [kW]</th>\n",
       "      <th>gen [kW]</th>\n",
       "      <th>House overall [kW]</th>\n",
       "      <th>Dishwasher [kW]</th>\n",
       "      <th>Furnace 1 [kW]</th>\n",
       "      <th>Furnace 2 [kW]</th>\n",
       "      <th>Home office [kW]</th>\n",
       "      <th>Fridge [kW]</th>\n",
       "      <th>Wine cellar [kW]</th>\n",
       "      <th>...</th>\n",
       "      <th>visibility</th>\n",
       "      <th>summary</th>\n",
       "      <th>apparentTemperature</th>\n",
       "      <th>pressure</th>\n",
       "      <th>windSpeed</th>\n",
       "      <th>cloudCover</th>\n",
       "      <th>windBearing</th>\n",
       "      <th>precipIntensity</th>\n",
       "      <th>dewPoint</th>\n",
       "      <th>precipProbability</th>\n",
       "    </tr>\n",
       "  </thead>\n",
       "  <tbody>\n",
       "    <tr>\n",
       "      <th>0</th>\n",
       "      <td>1451624400</td>\n",
       "      <td>0.932833</td>\n",
       "      <td>0.003483</td>\n",
       "      <td>0.932833</td>\n",
       "      <td>0.000033</td>\n",
       "      <td>0.020700</td>\n",
       "      <td>0.061917</td>\n",
       "      <td>0.442633</td>\n",
       "      <td>0.124150</td>\n",
       "      <td>0.006983</td>\n",
       "      <td>...</td>\n",
       "      <td>10.0</td>\n",
       "      <td>Clear</td>\n",
       "      <td>29.26</td>\n",
       "      <td>1016.91</td>\n",
       "      <td>9.18</td>\n",
       "      <td>cloudCover</td>\n",
       "      <td>282.0</td>\n",
       "      <td>0.0</td>\n",
       "      <td>24.4</td>\n",
       "      <td>0.0</td>\n",
       "    </tr>\n",
       "    <tr>\n",
       "      <th>1</th>\n",
       "      <td>1451624401</td>\n",
       "      <td>0.934333</td>\n",
       "      <td>0.003467</td>\n",
       "      <td>0.934333</td>\n",
       "      <td>0.000000</td>\n",
       "      <td>0.020717</td>\n",
       "      <td>0.063817</td>\n",
       "      <td>0.444067</td>\n",
       "      <td>0.124000</td>\n",
       "      <td>0.006983</td>\n",
       "      <td>...</td>\n",
       "      <td>10.0</td>\n",
       "      <td>Clear</td>\n",
       "      <td>29.26</td>\n",
       "      <td>1016.91</td>\n",
       "      <td>9.18</td>\n",
       "      <td>cloudCover</td>\n",
       "      <td>282.0</td>\n",
       "      <td>0.0</td>\n",
       "      <td>24.4</td>\n",
       "      <td>0.0</td>\n",
       "    </tr>\n",
       "    <tr>\n",
       "      <th>2</th>\n",
       "      <td>1451624402</td>\n",
       "      <td>0.931817</td>\n",
       "      <td>0.003467</td>\n",
       "      <td>0.931817</td>\n",
       "      <td>0.000017</td>\n",
       "      <td>0.020700</td>\n",
       "      <td>0.062317</td>\n",
       "      <td>0.446067</td>\n",
       "      <td>0.123533</td>\n",
       "      <td>0.006983</td>\n",
       "      <td>...</td>\n",
       "      <td>10.0</td>\n",
       "      <td>Clear</td>\n",
       "      <td>29.26</td>\n",
       "      <td>1016.91</td>\n",
       "      <td>9.18</td>\n",
       "      <td>cloudCover</td>\n",
       "      <td>282.0</td>\n",
       "      <td>0.0</td>\n",
       "      <td>24.4</td>\n",
       "      <td>0.0</td>\n",
       "    </tr>\n",
       "    <tr>\n",
       "      <th>3</th>\n",
       "      <td>1451624403</td>\n",
       "      <td>1.022050</td>\n",
       "      <td>0.003483</td>\n",
       "      <td>1.022050</td>\n",
       "      <td>0.000017</td>\n",
       "      <td>0.106900</td>\n",
       "      <td>0.068517</td>\n",
       "      <td>0.446583</td>\n",
       "      <td>0.123133</td>\n",
       "      <td>0.006983</td>\n",
       "      <td>...</td>\n",
       "      <td>10.0</td>\n",
       "      <td>Clear</td>\n",
       "      <td>29.26</td>\n",
       "      <td>1016.91</td>\n",
       "      <td>9.18</td>\n",
       "      <td>cloudCover</td>\n",
       "      <td>282.0</td>\n",
       "      <td>0.0</td>\n",
       "      <td>24.4</td>\n",
       "      <td>0.0</td>\n",
       "    </tr>\n",
       "    <tr>\n",
       "      <th>4</th>\n",
       "      <td>1451624404</td>\n",
       "      <td>1.139400</td>\n",
       "      <td>0.003467</td>\n",
       "      <td>1.139400</td>\n",
       "      <td>0.000133</td>\n",
       "      <td>0.236933</td>\n",
       "      <td>0.063983</td>\n",
       "      <td>0.446533</td>\n",
       "      <td>0.122850</td>\n",
       "      <td>0.006850</td>\n",
       "      <td>...</td>\n",
       "      <td>10.0</td>\n",
       "      <td>Clear</td>\n",
       "      <td>29.26</td>\n",
       "      <td>1016.91</td>\n",
       "      <td>9.18</td>\n",
       "      <td>cloudCover</td>\n",
       "      <td>282.0</td>\n",
       "      <td>0.0</td>\n",
       "      <td>24.4</td>\n",
       "      <td>0.0</td>\n",
       "    </tr>\n",
       "  </tbody>\n",
       "</table>\n",
       "<p>5 rows × 32 columns</p>\n",
       "</div>"
      ],
      "text/plain": [
       "         time  use [kW]  gen [kW]  House overall [kW]  Dishwasher [kW]  \\\n",
       "0  1451624400  0.932833  0.003483            0.932833         0.000033   \n",
       "1  1451624401  0.934333  0.003467            0.934333         0.000000   \n",
       "2  1451624402  0.931817  0.003467            0.931817         0.000017   \n",
       "3  1451624403  1.022050  0.003483            1.022050         0.000017   \n",
       "4  1451624404  1.139400  0.003467            1.139400         0.000133   \n",
       "\n",
       "   Furnace 1 [kW]  Furnace 2 [kW]  Home office [kW]  Fridge [kW]  \\\n",
       "0        0.020700        0.061917          0.442633     0.124150   \n",
       "1        0.020717        0.063817          0.444067     0.124000   \n",
       "2        0.020700        0.062317          0.446067     0.123533   \n",
       "3        0.106900        0.068517          0.446583     0.123133   \n",
       "4        0.236933        0.063983          0.446533     0.122850   \n",
       "\n",
       "   Wine cellar [kW]  ...  visibility  summary  apparentTemperature  pressure  \\\n",
       "0          0.006983  ...        10.0    Clear                29.26   1016.91   \n",
       "1          0.006983  ...        10.0    Clear                29.26   1016.91   \n",
       "2          0.006983  ...        10.0    Clear                29.26   1016.91   \n",
       "3          0.006983  ...        10.0    Clear                29.26   1016.91   \n",
       "4          0.006850  ...        10.0    Clear                29.26   1016.91   \n",
       "\n",
       "   windSpeed  cloudCover  windBearing  precipIntensity  dewPoint  \\\n",
       "0       9.18  cloudCover        282.0              0.0      24.4   \n",
       "1       9.18  cloudCover        282.0              0.0      24.4   \n",
       "2       9.18  cloudCover        282.0              0.0      24.4   \n",
       "3       9.18  cloudCover        282.0              0.0      24.4   \n",
       "4       9.18  cloudCover        282.0              0.0      24.4   \n",
       "\n",
       "   precipProbability  \n",
       "0                0.0  \n",
       "1                0.0  \n",
       "2                0.0  \n",
       "3                0.0  \n",
       "4                0.0  \n",
       "\n",
       "[5 rows x 32 columns]"
      ]
     },
     "execution_count": 4,
     "metadata": {},
     "output_type": "execute_result"
    }
   ],
   "source": [
    "df.head()"
   ]
  },
  {
   "cell_type": "code",
   "execution_count": 5,
   "metadata": {},
   "outputs": [
    {
     "data": {
      "text/html": [
       "<div>\n",
       "<style scoped>\n",
       "    .dataframe tbody tr th:only-of-type {\n",
       "        vertical-align: middle;\n",
       "    }\n",
       "\n",
       "    .dataframe tbody tr th {\n",
       "        vertical-align: top;\n",
       "    }\n",
       "\n",
       "    .dataframe thead th {\n",
       "        text-align: right;\n",
       "    }\n",
       "</style>\n",
       "<table border=\"1\" class=\"dataframe\">\n",
       "  <thead>\n",
       "    <tr style=\"text-align: right;\">\n",
       "      <th></th>\n",
       "      <th>time</th>\n",
       "      <th>use [kW]</th>\n",
       "      <th>gen [kW]</th>\n",
       "      <th>House overall [kW]</th>\n",
       "      <th>Dishwasher [kW]</th>\n",
       "      <th>Furnace 1 [kW]</th>\n",
       "      <th>Furnace 2 [kW]</th>\n",
       "      <th>Home office [kW]</th>\n",
       "      <th>Fridge [kW]</th>\n",
       "      <th>Wine cellar [kW]</th>\n",
       "      <th>...</th>\n",
       "      <th>visibility</th>\n",
       "      <th>summary</th>\n",
       "      <th>apparentTemperature</th>\n",
       "      <th>pressure</th>\n",
       "      <th>windSpeed</th>\n",
       "      <th>cloudCover</th>\n",
       "      <th>windBearing</th>\n",
       "      <th>precipIntensity</th>\n",
       "      <th>dewPoint</th>\n",
       "      <th>precipProbability</th>\n",
       "    </tr>\n",
       "  </thead>\n",
       "  <tbody>\n",
       "    <tr>\n",
       "      <th>503906</th>\n",
       "      <td>1452128306</td>\n",
       "      <td>1.599333</td>\n",
       "      <td>0.003233</td>\n",
       "      <td>1.599333</td>\n",
       "      <td>0.000050</td>\n",
       "      <td>0.104017</td>\n",
       "      <td>0.625033</td>\n",
       "      <td>0.041750</td>\n",
       "      <td>0.005233</td>\n",
       "      <td>0.008433</td>\n",
       "      <td>...</td>\n",
       "      <td>8.74</td>\n",
       "      <td>Light Rain</td>\n",
       "      <td>29.45</td>\n",
       "      <td>1011.49</td>\n",
       "      <td>6.72</td>\n",
       "      <td>0.31</td>\n",
       "      <td>186.0</td>\n",
       "      <td>0.0101</td>\n",
       "      <td>31.27</td>\n",
       "      <td>0.51</td>\n",
       "    </tr>\n",
       "    <tr>\n",
       "      <th>503907</th>\n",
       "      <td>1452128307</td>\n",
       "      <td>1.924267</td>\n",
       "      <td>0.003217</td>\n",
       "      <td>1.924267</td>\n",
       "      <td>0.000033</td>\n",
       "      <td>0.422383</td>\n",
       "      <td>0.637733</td>\n",
       "      <td>0.042033</td>\n",
       "      <td>0.004983</td>\n",
       "      <td>0.008467</td>\n",
       "      <td>...</td>\n",
       "      <td>8.74</td>\n",
       "      <td>Light Rain</td>\n",
       "      <td>29.45</td>\n",
       "      <td>1011.49</td>\n",
       "      <td>6.72</td>\n",
       "      <td>0.31</td>\n",
       "      <td>186.0</td>\n",
       "      <td>0.0101</td>\n",
       "      <td>31.27</td>\n",
       "      <td>0.51</td>\n",
       "    </tr>\n",
       "    <tr>\n",
       "      <th>503908</th>\n",
       "      <td>1452128308</td>\n",
       "      <td>1.978200</td>\n",
       "      <td>0.003217</td>\n",
       "      <td>1.978200</td>\n",
       "      <td>0.000050</td>\n",
       "      <td>0.495667</td>\n",
       "      <td>0.620367</td>\n",
       "      <td>0.042100</td>\n",
       "      <td>0.005333</td>\n",
       "      <td>0.008233</td>\n",
       "      <td>...</td>\n",
       "      <td>8.74</td>\n",
       "      <td>Light Rain</td>\n",
       "      <td>29.45</td>\n",
       "      <td>1011.49</td>\n",
       "      <td>6.72</td>\n",
       "      <td>0.31</td>\n",
       "      <td>186.0</td>\n",
       "      <td>0.0101</td>\n",
       "      <td>31.27</td>\n",
       "      <td>0.51</td>\n",
       "    </tr>\n",
       "    <tr>\n",
       "      <th>503909</th>\n",
       "      <td>1452128309</td>\n",
       "      <td>1.990950</td>\n",
       "      <td>0.003233</td>\n",
       "      <td>1.990950</td>\n",
       "      <td>0.000050</td>\n",
       "      <td>0.494700</td>\n",
       "      <td>0.634133</td>\n",
       "      <td>0.042100</td>\n",
       "      <td>0.004917</td>\n",
       "      <td>0.008133</td>\n",
       "      <td>...</td>\n",
       "      <td>8.74</td>\n",
       "      <td>Light Rain</td>\n",
       "      <td>29.45</td>\n",
       "      <td>1011.49</td>\n",
       "      <td>6.72</td>\n",
       "      <td>0.31</td>\n",
       "      <td>186.0</td>\n",
       "      <td>0.0101</td>\n",
       "      <td>31.27</td>\n",
       "      <td>0.51</td>\n",
       "    </tr>\n",
       "    <tr>\n",
       "      <th>503910</th>\n",
       "      <td>\\</td>\n",
       "      <td>NaN</td>\n",
       "      <td>NaN</td>\n",
       "      <td>NaN</td>\n",
       "      <td>NaN</td>\n",
       "      <td>NaN</td>\n",
       "      <td>NaN</td>\n",
       "      <td>NaN</td>\n",
       "      <td>NaN</td>\n",
       "      <td>NaN</td>\n",
       "      <td>...</td>\n",
       "      <td>NaN</td>\n",
       "      <td>NaN</td>\n",
       "      <td>NaN</td>\n",
       "      <td>NaN</td>\n",
       "      <td>NaN</td>\n",
       "      <td>NaN</td>\n",
       "      <td>NaN</td>\n",
       "      <td>NaN</td>\n",
       "      <td>NaN</td>\n",
       "      <td>NaN</td>\n",
       "    </tr>\n",
       "  </tbody>\n",
       "</table>\n",
       "<p>5 rows × 32 columns</p>\n",
       "</div>"
      ],
      "text/plain": [
       "              time  use [kW]  gen [kW]  House overall [kW]  Dishwasher [kW]  \\\n",
       "503906  1452128306  1.599333  0.003233            1.599333         0.000050   \n",
       "503907  1452128307  1.924267  0.003217            1.924267         0.000033   \n",
       "503908  1452128308  1.978200  0.003217            1.978200         0.000050   \n",
       "503909  1452128309  1.990950  0.003233            1.990950         0.000050   \n",
       "503910           \\       NaN       NaN                 NaN              NaN   \n",
       "\n",
       "        Furnace 1 [kW]  Furnace 2 [kW]  Home office [kW]  Fridge [kW]  \\\n",
       "503906        0.104017        0.625033          0.041750     0.005233   \n",
       "503907        0.422383        0.637733          0.042033     0.004983   \n",
       "503908        0.495667        0.620367          0.042100     0.005333   \n",
       "503909        0.494700        0.634133          0.042100     0.004917   \n",
       "503910             NaN             NaN               NaN          NaN   \n",
       "\n",
       "        Wine cellar [kW]  ...  visibility     summary  apparentTemperature  \\\n",
       "503906          0.008433  ...        8.74  Light Rain                29.45   \n",
       "503907          0.008467  ...        8.74  Light Rain                29.45   \n",
       "503908          0.008233  ...        8.74  Light Rain                29.45   \n",
       "503909          0.008133  ...        8.74  Light Rain                29.45   \n",
       "503910               NaN  ...         NaN         NaN                  NaN   \n",
       "\n",
       "        pressure  windSpeed  cloudCover  windBearing  precipIntensity  \\\n",
       "503906   1011.49       6.72        0.31        186.0           0.0101   \n",
       "503907   1011.49       6.72        0.31        186.0           0.0101   \n",
       "503908   1011.49       6.72        0.31        186.0           0.0101   \n",
       "503909   1011.49       6.72        0.31        186.0           0.0101   \n",
       "503910       NaN        NaN         NaN          NaN              NaN   \n",
       "\n",
       "        dewPoint  precipProbability  \n",
       "503906     31.27               0.51  \n",
       "503907     31.27               0.51  \n",
       "503908     31.27               0.51  \n",
       "503909     31.27               0.51  \n",
       "503910       NaN                NaN  \n",
       "\n",
       "[5 rows x 32 columns]"
      ]
     },
     "execution_count": 5,
     "metadata": {},
     "output_type": "execute_result"
    }
   ],
   "source": [
    "df.tail()"
   ]
  },
  {
   "cell_type": "code",
   "execution_count": 6,
   "metadata": {},
   "outputs": [
    {
     "data": {
      "text/plain": [
       "time                   0\n",
       "use [kW]               1\n",
       "gen [kW]               1\n",
       "House overall [kW]     1\n",
       "Dishwasher [kW]        1\n",
       "Furnace 1 [kW]         1\n",
       "Furnace 2 [kW]         1\n",
       "Home office [kW]       1\n",
       "Fridge [kW]            1\n",
       "Wine cellar [kW]       1\n",
       "Garage door [kW]       1\n",
       "Kitchen 12 [kW]        1\n",
       "Kitchen 14 [kW]        1\n",
       "Kitchen 38 [kW]        1\n",
       "Barn [kW]              1\n",
       "Well [kW]              1\n",
       "Microwave [kW]         1\n",
       "Living room [kW]       1\n",
       "Solar [kW]             1\n",
       "temperature            1\n",
       "icon                   1\n",
       "humidity               1\n",
       "visibility             1\n",
       "summary                1\n",
       "apparentTemperature    1\n",
       "pressure               1\n",
       "windSpeed              1\n",
       "cloudCover             1\n",
       "windBearing            1\n",
       "precipIntensity        1\n",
       "dewPoint               1\n",
       "precipProbability      1\n",
       "dtype: int64"
      ]
     },
     "execution_count": 6,
     "metadata": {},
     "output_type": "execute_result"
    }
   ],
   "source": [
    "df.isnull().sum()"
   ]
  },
  {
   "cell_type": "markdown",
   "metadata": {},
   "source": [
    "# From the df.tail and isnull we realize that all the nulls are present in the last row so its logical to delete the nulls"
   ]
  },
  {
   "cell_type": "code",
   "execution_count": 7,
   "metadata": {},
   "outputs": [],
   "source": [
    "df=df.dropna()"
   ]
  },
  {
   "cell_type": "code",
   "execution_count": 8,
   "metadata": {},
   "outputs": [
    {
     "data": {
      "text/plain": [
       "time                   0\n",
       "use [kW]               0\n",
       "gen [kW]               0\n",
       "House overall [kW]     0\n",
       "Dishwasher [kW]        0\n",
       "Furnace 1 [kW]         0\n",
       "Furnace 2 [kW]         0\n",
       "Home office [kW]       0\n",
       "Fridge [kW]            0\n",
       "Wine cellar [kW]       0\n",
       "Garage door [kW]       0\n",
       "Kitchen 12 [kW]        0\n",
       "Kitchen 14 [kW]        0\n",
       "Kitchen 38 [kW]        0\n",
       "Barn [kW]              0\n",
       "Well [kW]              0\n",
       "Microwave [kW]         0\n",
       "Living room [kW]       0\n",
       "Solar [kW]             0\n",
       "temperature            0\n",
       "icon                   0\n",
       "humidity               0\n",
       "visibility             0\n",
       "summary                0\n",
       "apparentTemperature    0\n",
       "pressure               0\n",
       "windSpeed              0\n",
       "cloudCover             0\n",
       "windBearing            0\n",
       "precipIntensity        0\n",
       "dewPoint               0\n",
       "precipProbability      0\n",
       "dtype: int64"
      ]
     },
     "execution_count": 8,
     "metadata": {},
     "output_type": "execute_result"
    }
   ],
   "source": [
    "df.isnull().sum()"
   ]
  },
  {
   "cell_type": "code",
   "execution_count": 9,
   "metadata": {},
   "outputs": [
    {
     "data": {
      "text/plain": [
       "time                    object\n",
       "use [kW]               float64\n",
       "gen [kW]               float64\n",
       "House overall [kW]     float64\n",
       "Dishwasher [kW]        float64\n",
       "Furnace 1 [kW]         float64\n",
       "Furnace 2 [kW]         float64\n",
       "Home office [kW]       float64\n",
       "Fridge [kW]            float64\n",
       "Wine cellar [kW]       float64\n",
       "Garage door [kW]       float64\n",
       "Kitchen 12 [kW]        float64\n",
       "Kitchen 14 [kW]        float64\n",
       "Kitchen 38 [kW]        float64\n",
       "Barn [kW]              float64\n",
       "Well [kW]              float64\n",
       "Microwave [kW]         float64\n",
       "Living room [kW]       float64\n",
       "Solar [kW]             float64\n",
       "temperature            float64\n",
       "icon                    object\n",
       "humidity               float64\n",
       "visibility             float64\n",
       "summary                 object\n",
       "apparentTemperature    float64\n",
       "pressure               float64\n",
       "windSpeed              float64\n",
       "cloudCover              object\n",
       "windBearing            float64\n",
       "precipIntensity        float64\n",
       "dewPoint               float64\n",
       "precipProbability      float64\n",
       "dtype: object"
      ]
     },
     "execution_count": 9,
     "metadata": {},
     "output_type": "execute_result"
    }
   ],
   "source": [
    "df.dtypes"
   ]
  },
  {
   "cell_type": "markdown",
   "metadata": {},
   "source": [
    "# df['time'] = pd.to_datetime(df[\"time\"], unit='m') dont work here since there is some issue with the dataset so lets generate our own date time column with min intervals as stated on the datset website."
   ]
  },
  {
   "cell_type": "code",
   "execution_count": 10,
   "metadata": {},
   "outputs": [],
   "source": [
    "time = pd.date_range('2016-01-01 05:00', periods=len(df),  freq='min')  \n",
    "time = pd.DatetimeIndex(time)\n",
    "df['time']=time"
   ]
  },
  {
   "cell_type": "code",
   "execution_count": 11,
   "metadata": {},
   "outputs": [
    {
     "data": {
      "text/plain": [
       "0        2016-01-01 05:00:00\n",
       "1        2016-01-01 05:01:00\n",
       "2        2016-01-01 05:02:00\n",
       "3        2016-01-01 05:03:00\n",
       "4        2016-01-01 05:04:00\n",
       "                 ...        \n",
       "503905   2016-12-16 03:25:00\n",
       "503906   2016-12-16 03:26:00\n",
       "503907   2016-12-16 03:27:00\n",
       "503908   2016-12-16 03:28:00\n",
       "503909   2016-12-16 03:29:00\n",
       "Name: time, Length: 503910, dtype: datetime64[ns]"
      ]
     },
     "execution_count": 11,
     "metadata": {},
     "output_type": "execute_result"
    }
   ],
   "source": [
    "df['time']"
   ]
  },
  {
   "cell_type": "markdown",
   "metadata": {},
   "source": [
    "# Cloud cover is numeric column but from dataset we can see that it has string values in it in the start, the amount of such values is very less, moreover bfill seems to be best option since such values are in the start and they repeat consecutively."
   ]
  },
  {
   "cell_type": "code",
   "execution_count": 12,
   "metadata": {},
   "outputs": [
    {
     "name": "stdout",
     "output_type": "stream",
     "text": [
      "0             68236\n",
      "0.31          49899\n",
      "1             48705\n",
      "0.03          33940\n",
      "0.04          24117\n",
      "              ...  \n",
      "0.73            114\n",
      "0.56             58\n",
      "0.53             58\n",
      "cloudCover       58\n",
      "0.59             57\n",
      "Name: cloudCover, Length: 78, dtype: int64\n",
      "0.01150999186362644 %\n",
      "\n",
      "0.00    68236\n",
      "0.31    49899\n",
      "1.00    48705\n",
      "0.03    33940\n",
      "0.04    24117\n",
      "        ...  \n",
      "0.73      114\n",
      "0.71      114\n",
      "0.56       58\n",
      "0.53       58\n",
      "0.59       57\n",
      "Name: cloudCover, Length: 77, dtype: int64\n"
     ]
    }
   ],
   "source": [
    "print(df['cloudCover'].value_counts())\n",
    "#lets replace cloud cover with backfill\n",
    "df['cloudCover'] = df['cloudCover'].replace('cloudCover', np.nan)\n",
    "print((df['cloudCover'].isnull().sum()/df.shape[0])*100, '%\\n')\n",
    "df['cloudCover'] = df['cloudCover'].fillna(method='bfill')\n",
    "df['cloudCover'] = df['cloudCover'].astype(float)\n",
    "print(df['cloudCover'].value_counts())"
   ]
  },
  {
   "cell_type": "markdown",
   "metadata": {},
   "source": [
    "# These three columns that are being dropped below have similar columns in the dataset that present the very similar same data."
   ]
  },
  {
   "cell_type": "code",
   "execution_count": 13,
   "metadata": {},
   "outputs": [],
   "source": [
    "df.drop('use [kW]', axis=1, inplace=True)\n",
    "df.drop('icon', axis=1, inplace=True)\n",
    "df.drop('Solar [kW]', axis=1, inplace=True)"
   ]
  },
  {
   "cell_type": "markdown",
   "metadata": {},
   "source": [
    "# I want to have cost as a KPI as well, so i have used the price in PKR for KW/min. Cost incured has the price for total use of electricity in house for each minute, Since we are also generating electricity so i have also made a cost.saved column so that we know what is the savings we are making as we generate electricity, that is also in per min."
   ]
  },
  {
   "cell_type": "code",
   "execution_count": 14,
   "metadata": {},
   "outputs": [],
   "source": [
    "df['Cost.Incured']=0.15676*df['House overall [kW]']\n",
    "df['Cost.Saved']=0.15676*df['gen [kW]']"
   ]
  },
  {
   "cell_type": "markdown",
   "metadata": {},
   "source": [
    "# All the data types now look good."
   ]
  },
  {
   "cell_type": "code",
   "execution_count": 15,
   "metadata": {},
   "outputs": [
    {
     "data": {
      "text/plain": [
       "time                   datetime64[ns]\n",
       "gen [kW]                      float64\n",
       "House overall [kW]            float64\n",
       "Dishwasher [kW]               float64\n",
       "Furnace 1 [kW]                float64\n",
       "Furnace 2 [kW]                float64\n",
       "Home office [kW]              float64\n",
       "Fridge [kW]                   float64\n",
       "Wine cellar [kW]              float64\n",
       "Garage door [kW]              float64\n",
       "Kitchen 12 [kW]               float64\n",
       "Kitchen 14 [kW]               float64\n",
       "Kitchen 38 [kW]               float64\n",
       "Barn [kW]                     float64\n",
       "Well [kW]                     float64\n",
       "Microwave [kW]                float64\n",
       "Living room [kW]              float64\n",
       "temperature                   float64\n",
       "humidity                      float64\n",
       "visibility                    float64\n",
       "summary                        object\n",
       "apparentTemperature           float64\n",
       "pressure                      float64\n",
       "windSpeed                     float64\n",
       "cloudCover                    float64\n",
       "windBearing                   float64\n",
       "precipIntensity               float64\n",
       "dewPoint                      float64\n",
       "precipProbability             float64\n",
       "Cost.Incured                  float64\n",
       "Cost.Saved                    float64\n",
       "dtype: object"
      ]
     },
     "execution_count": 15,
     "metadata": {},
     "output_type": "execute_result"
    }
   ],
   "source": [
    "df.dtypes"
   ]
  },
  {
   "cell_type": "markdown",
   "metadata": {},
   "source": [
    "# anova"
   ]
  },
  {
   "cell_type": "code",
   "execution_count": 16,
   "metadata": {},
   "outputs": [
    {
     "name": "stdout",
     "output_type": "stream",
     "text": [
      "\n",
      "Anova => House overall Usage - summary\n"
     ]
    },
    {
     "data": {
      "text/html": [
       "<div>\n",
       "<style scoped>\n",
       "    .dataframe tbody tr th:only-of-type {\n",
       "        vertical-align: middle;\n",
       "    }\n",
       "\n",
       "    .dataframe tbody tr th {\n",
       "        vertical-align: top;\n",
       "    }\n",
       "\n",
       "    .dataframe thead th {\n",
       "        text-align: right;\n",
       "    }\n",
       "</style>\n",
       "<table border=\"1\" class=\"dataframe\">\n",
       "  <thead>\n",
       "    <tr style=\"text-align: right;\">\n",
       "      <th></th>\n",
       "      <th>sum_sq</th>\n",
       "      <th>df</th>\n",
       "      <th>F</th>\n",
       "      <th>PR(&gt;F)</th>\n",
       "    </tr>\n",
       "  </thead>\n",
       "  <tbody>\n",
       "    <tr>\n",
       "      <th>C(Q(\"summary\"))</th>\n",
       "      <td>1462.918537</td>\n",
       "      <td>17.0</td>\n",
       "      <td>77.044636</td>\n",
       "      <td>8.493588e-268</td>\n",
       "    </tr>\n",
       "    <tr>\n",
       "      <th>Residual</th>\n",
       "      <td>562815.796864</td>\n",
       "      <td>503892.0</td>\n",
       "      <td>NaN</td>\n",
       "      <td>NaN</td>\n",
       "    </tr>\n",
       "  </tbody>\n",
       "</table>\n",
       "</div>"
      ],
      "text/plain": [
       "                        sum_sq        df          F         PR(>F)\n",
       "C(Q(\"summary\"))    1462.918537      17.0  77.044636  8.493588e-268\n",
       "Residual         562815.796864  503892.0        NaN            NaN"
      ]
     },
     "metadata": {},
     "output_type": "display_data"
    },
    {
     "name": "stdout",
     "output_type": "stream",
     "text": [
      "\n",
      "Anova => Energy Generation - summary\n"
     ]
    },
    {
     "data": {
      "text/html": [
       "<div>\n",
       "<style scoped>\n",
       "    .dataframe tbody tr th:only-of-type {\n",
       "        vertical-align: middle;\n",
       "    }\n",
       "\n",
       "    .dataframe tbody tr th {\n",
       "        vertical-align: top;\n",
       "    }\n",
       "\n",
       "    .dataframe thead th {\n",
       "        text-align: right;\n",
       "    }\n",
       "</style>\n",
       "<table border=\"1\" class=\"dataframe\">\n",
       "  <thead>\n",
       "    <tr style=\"text-align: right;\">\n",
       "      <th></th>\n",
       "      <th>sum_sq</th>\n",
       "      <th>df</th>\n",
       "      <th>F</th>\n",
       "      <th>PR(&gt;F)</th>\n",
       "    </tr>\n",
       "  </thead>\n",
       "  <tbody>\n",
       "    <tr>\n",
       "      <th>C(Q(\"summary\"))</th>\n",
       "      <td>32.160311</td>\n",
       "      <td>17.0</td>\n",
       "      <td>115.139148</td>\n",
       "      <td>0.0</td>\n",
       "    </tr>\n",
       "    <tr>\n",
       "      <th>Residual</th>\n",
       "      <td>8279.150244</td>\n",
       "      <td>503892.0</td>\n",
       "      <td>NaN</td>\n",
       "      <td>NaN</td>\n",
       "    </tr>\n",
       "  </tbody>\n",
       "</table>\n",
       "</div>"
      ],
      "text/plain": [
       "                      sum_sq        df           F  PR(>F)\n",
       "C(Q(\"summary\"))    32.160311      17.0  115.139148     0.0\n",
       "Residual         8279.150244  503892.0         NaN     NaN"
      ]
     },
     "metadata": {},
     "output_type": "display_data"
    }
   ],
   "source": [
    "\n",
    "y = df['House overall [kW]']\n",
    "model = ols('y ~ C(Q(\"summary\"))', data=df).fit()\n",
    "anova_table = sm.stats.anova_lm(model, typ=2)\n",
    "print (\"\\nAnova => House overall Usage - summary\")\n",
    "display(anova_table)\n",
    "\n",
    "y = df['gen [kW]']\n",
    "model = ols('y ~ C(Q(\"summary\"))', data=df).fit()\n",
    "anova_table = sm.stats.anova_lm(model, typ=2)\n",
    "print (\"\\nAnova => Energy Generation - summary\")\n",
    "display(anova_table)"
   ]
  },
  {
   "cell_type": "markdown",
   "metadata": {},
   "source": [
    "Anova result shows that overall use of electricity and Electric generation against weather summary is significant"
   ]
  },
  {
   "cell_type": "markdown",
   "metadata": {},
   "source": [
    "# Correlation"
   ]
  },
  {
   "cell_type": "code",
   "execution_count": 17,
   "metadata": {},
   "outputs": [
    {
     "data": {
      "image/png": "[encoded data removed]",
      "text/plain": [
       "<Figure size 1800x1440 with 2 Axes>"
      ]
     },
     "metadata": {},
     "output_type": "display_data"
    }
   ],
   "source": [
    "import seaborn as sns\n",
    "sns.set(color_codes=True, font_scale=1.2)\n",
    "test_df = df.copy()\n",
    "test_df.drop('time', axis=1, inplace=True)\n",
    "test_df.drop('summary', axis=1, inplace=True)\n",
    "corr = test_df.corr()\n",
    "\n",
    "#corr.style.background_gradient(cmap='coolwarm')\n",
    "pyplot.figure(figsize = (25,20))\n",
    "ax = sns.heatmap(\n",
    "    corr, \n",
    "    vmin=-1, vmax=1, center=0,\n",
    "    cmap=sns.diverging_palette(20, 220, n=200),\n",
    "    square=True\n",
    ")\n",
    "ax.set_xticklabels(\n",
    "    ax.get_xticklabels(),\n",
    "    rotation=45,\n",
    "    horizontalalignment='right'\n",
    ");"
   ]
  },
  {
   "cell_type": "markdown",
   "metadata": {},
   "source": []
  },
  {
   "cell_type": "markdown",
   "metadata": {},
   "source": [
    "# T-Test"
   ]
  },
  {
   "cell_type": "code",
   "execution_count": 18,
   "metadata": {},
   "outputs": [
    {
     "name": "stdout",
     "output_type": "stream",
     "text": [
      "['Dishwasher [kW]', 'Furnace 1 [kW]', 'Furnace 2 [kW]', 'Home office [kW]', 'Fridge [kW]', 'Wine cellar [kW]', 'Garage door [kW]', 'Kitchen 12 [kW]', 'Kitchen 14 [kW]', 'Kitchen 38 [kW]', 'Barn [kW]', 'Well [kW]', 'Microwave [kW]', 'Living room [kW]']\n",
      "(Dishwasher [kW],Furnace 1 [kW]) => t-value=-188.83322552742646, p-value=0.0\n",
      "(Dishwasher [kW],Furnace 2 [kW]) => t-value=-286.1721793337311, p-value=0.0\n",
      "(Dishwasher [kW],Home office [kW]) => t-value=-162.8052306239252, p-value=0.0\n",
      "(Dishwasher [kW],Fridge [kW]) => t-value=-111.14078014432731, p-value=0.0\n",
      "(Dishwasher [kW],Wine cellar [kW]) => t-value=-38.30824517058043, p-value=0.0\n",
      "(Dishwasher [kW],Garage door [kW]) => t-value=63.86837358121533, p-value=0.0\n",
      "(Dishwasher [kW],Kitchen 12 [kW]) => t-value=105.67630850369983, p-value=0.0\n",
      "(Dishwasher [kW],Kitchen 14 [kW]) => t-value=83.97351980175974, p-value=0.0\n",
      "(Dishwasher [kW],Kitchen 38 [kW]) => t-value=116.57472346760788, p-value=0.0\n",
      "(Dishwasher [kW],Barn [kW]) => t-value=-69.23756195423603, p-value=0.0\n",
      "(Dishwasher [kW],Well [kW]) => t-value=47.40032941642572, p-value=0.0\n",
      "(Dishwasher [kW],Microwave [kW]) => t-value=67.29607516648211, p-value=0.0\n",
      "(Dishwasher [kW],Living room [kW]) => t-value=-13.102306946990907, p-value=3.217701520268452e-39\n",
      "(Furnace 1 [kW],Furnace 2 [kW]) => t-value=-108.43317300528061, p-value=0.0\n",
      "(Furnace 1 [kW],Home office [kW]) => t-value=64.02214872063885, p-value=0.0\n",
      "(Furnace 1 [kW],Fridge [kW]) => t-value=136.4848788562009, p-value=0.0\n",
      "(Furnace 1 [kW],Wine cellar [kW]) => t-value=226.69204677107444, p-value=0.0\n",
      "(Furnace 1 [kW],Garage door [kW]) => t-value=355.93732537222354, p-value=0.0\n",
      "(Furnace 1 [kW],Kitchen 12 [kW]) => t-value=401.66275614760286, p-value=0.0\n",
      "(Furnace 1 [kW],Kitchen 14 [kW]) => t-value=352.47347510279246, p-value=0.0\n",
      "(Furnace 1 [kW],Kitchen 38 [kW]) => t-value=416.5366069116952, p-value=0.0\n",
      "(Furnace 1 [kW],Barn [kW]) => t-value=109.40561194408048, p-value=0.0\n",
      "(Furnace 1 [kW],Well [kW]) => t-value=271.95689169287465, p-value=0.0\n",
      "(Furnace 1 [kW],Microwave [kW]) => t-value=319.79642423279967, p-value=0.0\n",
      "(Furnace 1 [kW],Living room [kW]) => t-value=233.27554110411083, p-value=0.0\n",
      "(Furnace 2 [kW],Home office [kW]) => t-value=190.35917571294385, p-value=0.0\n",
      "(Furnace 2 [kW],Fridge [kW]) => t-value=267.6475471529655, p-value=0.0\n",
      "(Furnace 2 [kW],Wine cellar [kW]) => t-value=357.737128112753, p-value=0.0\n",
      "(Furnace 2 [kW],Garage door [kW]) => t-value=485.80891924301, p-value=0.0\n",
      "(Furnace 2 [kW],Kitchen 12 [kW]) => t-value=528.6559064703271, p-value=0.0\n",
      "(Furnace 2 [kW],Kitchen 14 [kW]) => t-value=473.7716102789579, p-value=0.0\n",
      "(Furnace 2 [kW],Kitchen 38 [kW]) => t-value=543.5117741371503, p-value=0.0\n",
      "(Furnace 2 [kW],Barn [kW]) => t-value=205.58914669855062, p-value=0.0\n",
      "(Furnace 2 [kW],Well [kW]) => t-value=381.1140832133386, p-value=0.0\n",
      "(Furnace 2 [kW],Microwave [kW]) => t-value=437.38963882068623, p-value=0.0\n",
      "(Furnace 2 [kW],Living room [kW]) => t-value=355.13019854947987, p-value=0.0\n",
      "(Home office [kW],Fridge [kW]) => t-value=97.33889818914413, p-value=0.0\n",
      "(Home office [kW],Wine cellar [kW]) => t-value=232.62023591806715, p-value=0.0\n",
      "(Home office [kW],Garage door [kW]) => t-value=452.06982247599257, p-value=0.0\n",
      "(Home office [kW],Kitchen 12 [kW]) => t-value=522.3229946799493, p-value=0.0\n",
      "(Home office [kW],Kitchen 14 [kW]) => t-value=406.6971899508597, p-value=0.0\n",
      "(Home office [kW],Kitchen 38 [kW]) => t-value=552.29494810826, p-value=0.0\n",
      "(Home office [kW],Barn [kW]) => t-value=70.84078798151572, p-value=0.0\n",
      "(Home office [kW],Well [kW]) => t-value=269.42908070719386, p-value=0.0\n",
      "(Home office [kW],Microwave [kW]) => t-value=346.98845665072855, p-value=0.0\n",
      "(Home office [kW],Living room [kW]) => t-value=229.9639039939466, p-value=0.0\n",
      "(Fridge [kW],Wine cellar [kW]) => t-value=158.8148384311214, p-value=0.0\n",
      "(Fridge [kW],Garage door [kW]) => t-value=452.4810532742612, p-value=0.0\n",
      "(Fridge [kW],Kitchen 12 [kW]) => t-value=544.4613678553065, p-value=0.0\n",
      "(Fridge [kW],Kitchen 14 [kW]) => t-value=371.0882371533266, p-value=0.0\n",
      "(Fridge [kW],Kitchen 38 [kW]) => t-value=592.0039009577309, p-value=0.0\n",
      "(Fridge [kW],Barn [kW]) => t-value=16.477967009501, p-value=5.381389397118558e-61\n",
      "(Fridge [kW],Well [kW]) => t-value=215.9535215959703, p-value=0.0\n",
      "(Fridge [kW],Microwave [kW]) => t-value=298.99837628689653, p-value=0.0\n",
      "(Fridge [kW],Living room [kW]) => t-value=163.52075774127889, p-value=0.0\n",
      "(Wine cellar [kW],Garage door [kW]) => t-value=332.8891981456782, p-value=0.0\n",
      "(Wine cellar [kW],Kitchen 12 [kW]) => t-value=451.24473925121066, p-value=0.0\n",
      "(Wine cellar [kW],Kitchen 14 [kW]) => t-value=259.1792142998726, p-value=0.0\n",
      "(Wine cellar [kW],Kitchen 38 [kW]) => t-value=515.8906593716237, p-value=0.0\n",
      "(Wine cellar [kW],Barn [kW]) => t-value=-55.19460543701042, p-value=0.0\n",
      "(Wine cellar [kW],Well [kW]) => t-value=125.77510642736752, p-value=0.0\n",
      "(Wine cellar [kW],Microwave [kW]) => t-value=192.97424339763592, p-value=0.0\n",
      "(Wine cellar [kW],Living room [kW]) => t-value=43.17615964817937, p-value=0.0\n",
      "(Garage door [kW],Kitchen 12 [kW]) => t-value=309.41357706010206, p-value=0.0\n",
      "(Garage door [kW],Kitchen 14 [kW]) => t-value=64.71282920218825, p-value=0.0\n",
      "(Garage door [kW],Kitchen 38 [kW]) => t-value=701.8119640875567, p-value=0.0\n",
      "(Garage door [kW],Barn [kW]) => t-value=-155.06790224975617, p-value=0.0\n",
      "(Garage door [kW],Well [kW]) => t-value=-7.698387260774723, p-value=1.3791835926998015e-14\n",
      "(Garage door [kW],Microwave [kW]) => t-value=22.429773901868057, p-value=2.14775212778068e-111\n",
      "(Garage door [kW],Living room [kW]) => t-value=-154.7718545273762, p-value=0.0\n",
      "(Kitchen 12 [kW],Kitchen 14 [kW]) => t-value=-37.967791374369305, p-value=0.0\n",
      "(Kitchen 12 [kW],Kitchen 38 [kW]) => t-value=89.17261461276885, p-value=0.0\n",
      "(Kitchen 12 [kW],Barn [kW]) => t-value=-194.1923173289999, p-value=0.0\n",
      "(Kitchen 12 [kW],Well [kW]) => t-value=-65.54566506008857, p-value=0.0\n",
      "(Kitchen 12 [kW],Microwave [kW]) => t-value=-57.68606916717358, p-value=0.0\n",
      "(Kitchen 12 [kW],Living room [kW]) => t-value=-234.6046594693967, p-value=0.0\n",
      "(Kitchen 14 [kW],Kitchen 38 [kW]) => t-value=64.87928597996128, p-value=0.0\n",
      "(Kitchen 14 [kW],Barn [kW]) => t-value=-168.68917687509952, p-value=0.0\n",
      "(Kitchen 14 [kW],Well [kW]) => t-value=-38.78137533734248, p-value=0.0\n",
      "(Kitchen 14 [kW],Microwave [kW]) => t-value=-22.461335445893873, p-value=1.056497783430865e-111\n",
      "(Kitchen 14 [kW],Living room [kW]) => t-value=-163.3388430848913, p-value=0.0\n",
      "(Kitchen 38 [kW],Barn [kW]) => t-value=-204.93444220419005, p-value=0.0\n",
      "(Kitchen 38 [kW],Well [kW]) => t-value=-80.50619089642245, p-value=0.0\n",
      "(Kitchen 38 [kW],Microwave [kW]) => t-value=-78.79723166960207, p-value=0.0\n",
      "(Kitchen 38 [kW],Living room [kW]) => t-value=-260.8958547109183, p-value=0.0\n",
      "(Barn [kW],Well [kW]) => t-value=124.19568273500262, p-value=0.0\n",
      "(Barn [kW],Microwave [kW]) => t-value=149.65634155508673, p-value=0.0\n",
      "(Barn [kW],Living room [kW]) => t-value=73.47204387848988, p-value=0.0\n",
      "(Well [kW],Microwave [kW]) => t-value=19.497361230261482, p-value=1.1983473218012784e-84\n",
      "(Well [kW],Living room [kW]) => t-value=-83.11240045155618, p-value=0.0\n",
      "(Microwave [kW],Living room [kW]) => t-value=-125.29673511674937, p-value=0.0\n"
     ]
    }
   ],
   "source": [
    "\n",
    "types_map = df.dtypes.to_dict()\n",
    "num_columns = [          \n",
    "'Dishwasher [kW]',             \n",
    "'Furnace 1 [kW]',                \n",
    "'Furnace 2 [kW]',                \n",
    "'Home office [kW]',              \n",
    "'Fridge [kW]',                   \n",
    "'Wine cellar [kW]',              \n",
    "'Garage door [kW]',              \n",
    "'Kitchen 12 [kW]',               \n",
    "'Kitchen 14 [kW]',               \n",
    "'Kitchen 38 [kW]',               \n",
    "'Barn [kW]',                     \n",
    "'Well [kW]',                     \n",
    "'Microwave [kW]',                \n",
    "'Living room [kW]']\n",
    "\n",
    "\n",
    "print(num_columns)\n",
    "\n",
    "for i in range(len(num_columns)-1):\n",
    "    for j in range(i+1,len(num_columns)):\n",
    "        col1 = num_columns[i]\n",
    "        col2 = num_columns[j]\n",
    "        t_val, p_val = stats.ttest_ind(df[col1], df[col2])\n",
    "        print(\"(%s,%s) => t-value=%s, p-value=%s\" % (num_columns[i], num_columns[j], str(t_val), str(p_val)))"
   ]
  },
  {
   "cell_type": "markdown",
   "metadata": {},
   "source": [
    "It can be seen from the results that all the ttest are significant."
   ]
  },
  {
   "cell_type": "markdown",
   "metadata": {},
   "source": [
    "# Exporting Transformed data into csv."
   ]
  },
  {
   "cell_type": "code",
   "execution_count": 19,
   "metadata": {},
   "outputs": [],
   "source": [
    "df.to_csv('smart.clean.csv')"
   ]
  }
 ],
 "metadata": {
  "kernelspec": {
   "display_name": "Python 3",
   "language": "python",
   "name": "python3"
  },
  "language_info": {
   "codemirror_mode": {
    "name": "ipython",
    "version": 3
   },
   "file_extension": ".py",
   "mimetype": "text/x-python",
   "name": "python",
   "nbconvert_exporter": "python",
   "pygments_lexer": "ipython3",
   "version": "3.8.5"
  }
 },
 "nbformat": 4,
 "nbformat_minor": 4
}
