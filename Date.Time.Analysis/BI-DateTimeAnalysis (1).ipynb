{
 "cells": [
  {
   "cell_type": "code",
   "execution_count": 1,
   "metadata": {},
   "outputs": [],
   "source": [
    "#importing the basic libraries\n",
    "import pandas as pd\n",
    "import numpy as np\n",
    "%matplotlib inline"
   ]
  },
  {
   "cell_type": "code",
   "execution_count": 2,
   "metadata": {},
   "outputs": [
    {
     "name": "stdout",
     "output_type": "stream",
     "text": [
      "(99441, 8)\n",
      "order_id                         object\n",
      "customer_id                      object\n",
      "order_status                     object\n",
      "order_purchase_timestamp         object\n",
      "order_approved_at                object\n",
      "order_delivered_carrier_date     object\n",
      "order_delivered_customer_date    object\n",
      "order_estimated_delivery_date    object\n",
      "dtype: object\n"
     ]
    }
   ],
   "source": [
    "#reading Orders CSV file\n",
    "ordersdf = pd.read_csv(\"Orders.Data.csv\")\n",
    "\n",
    "#print out the basic info\n",
    "print(ordersdf.shape)\n",
    "print(ordersdf.dtypes)"
   ]
  },
  {
   "cell_type": "code",
   "execution_count": 3,
   "metadata": {},
   "outputs": [
    {
     "data": {
      "text/html": [
       "<div>\n",
       "<style scoped>\n",
       "    .dataframe tbody tr th:only-of-type {\n",
       "        vertical-align: middle;\n",
       "    }\n",
       "\n",
       "    .dataframe tbody tr th {\n",
       "        vertical-align: top;\n",
       "    }\n",
       "\n",
       "    .dataframe thead th {\n",
       "        text-align: right;\n",
       "    }\n",
       "</style>\n",
       "<table border=\"1\" class=\"dataframe\">\n",
       "  <thead>\n",
       "    <tr style=\"text-align: right;\">\n",
       "      <th></th>\n",
       "      <th>order_id</th>\n",
       "      <th>customer_id</th>\n",
       "      <th>order_status</th>\n",
       "      <th>order_purchase_timestamp</th>\n",
       "      <th>order_approved_at</th>\n",
       "      <th>order_delivered_carrier_date</th>\n",
       "      <th>order_delivered_customer_date</th>\n",
       "      <th>order_estimated_delivery_date</th>\n",
       "    </tr>\n",
       "  </thead>\n",
       "  <tbody>\n",
       "    <tr>\n",
       "      <td>0</td>\n",
       "      <td>e481f51cbdc54678b7cc49136f2d6af7</td>\n",
       "      <td>9ef432eb6251297304e76186b10a928d</td>\n",
       "      <td>delivered</td>\n",
       "      <td>10/2/2017 10:56</td>\n",
       "      <td>10/2/2017 11:07</td>\n",
       "      <td>10/4/2017 19:55</td>\n",
       "      <td>10/10/2017 21:25</td>\n",
       "      <td>10/18/2017 0:00</td>\n",
       "    </tr>\n",
       "    <tr>\n",
       "      <td>1</td>\n",
       "      <td>53cdb2fc8bc7dce0b6741e2150273451</td>\n",
       "      <td>b0830fb4747a6c6d20dea0b8c802d7ef</td>\n",
       "      <td>delivered</td>\n",
       "      <td>7/24/2018 20:41</td>\n",
       "      <td>7/26/2018 3:24</td>\n",
       "      <td>7/26/2018 14:31</td>\n",
       "      <td>8/7/2018 15:27</td>\n",
       "      <td>8/13/2018 0:00</td>\n",
       "    </tr>\n",
       "    <tr>\n",
       "      <td>2</td>\n",
       "      <td>47770eb9100c2d0c44946d9cf07ec65d</td>\n",
       "      <td>41ce2a54c0b03bf3443c3d931a367089</td>\n",
       "      <td>delivered</td>\n",
       "      <td>8/8/2018 8:38</td>\n",
       "      <td>8/8/2018 8:55</td>\n",
       "      <td>8/8/2018 13:50</td>\n",
       "      <td>8/17/2018 18:06</td>\n",
       "      <td>9/4/2018 0:00</td>\n",
       "    </tr>\n",
       "    <tr>\n",
       "      <td>3</td>\n",
       "      <td>949d5b44dbf5de918fe9c16f97b45f8a</td>\n",
       "      <td>f88197465ea7920adcdbec7375364d82</td>\n",
       "      <td>delivered</td>\n",
       "      <td>11/18/2017 19:28</td>\n",
       "      <td>11/18/2017 19:45</td>\n",
       "      <td>11/22/2017 13:39</td>\n",
       "      <td>12/2/2017 0:28</td>\n",
       "      <td>12/15/2017 0:00</td>\n",
       "    </tr>\n",
       "    <tr>\n",
       "      <td>4</td>\n",
       "      <td>ad21c59c0840e6cb83a9ceb5573f8159</td>\n",
       "      <td>8ab97904e6daea8866dbdbc4fb7aad2c</td>\n",
       "      <td>delivered</td>\n",
       "      <td>2/13/2018 21:18</td>\n",
       "      <td>2/13/2018 22:20</td>\n",
       "      <td>2/14/2018 19:46</td>\n",
       "      <td>2/16/2018 18:17</td>\n",
       "      <td>2/26/2018 0:00</td>\n",
       "    </tr>\n",
       "    <tr>\n",
       "      <td>5</td>\n",
       "      <td>a4591c265e18cb1dcee52889e2d8acc3</td>\n",
       "      <td>503740e9ca751ccdda7ba28e9ab8f608</td>\n",
       "      <td>delivered</td>\n",
       "      <td>7/9/2017 21:57</td>\n",
       "      <td>7/9/2017 22:10</td>\n",
       "      <td>7/11/2017 14:58</td>\n",
       "      <td>7/26/2017 10:57</td>\n",
       "      <td>8/1/2017 0:00</td>\n",
       "    </tr>\n",
       "    <tr>\n",
       "      <td>6</td>\n",
       "      <td>136cce7faa42fdb2cefd53fdc79a6098</td>\n",
       "      <td>ed0271e0b7da060a393796590e7b737a</td>\n",
       "      <td>invoiced</td>\n",
       "      <td>4/11/2017 12:22</td>\n",
       "      <td>4/13/2017 13:25</td>\n",
       "      <td>NaN</td>\n",
       "      <td>NaN</td>\n",
       "      <td>5/9/2017 0:00</td>\n",
       "    </tr>\n",
       "    <tr>\n",
       "      <td>7</td>\n",
       "      <td>6514b8ad8028c9f2cc2374ded245783f</td>\n",
       "      <td>9bdf08b4b3b52b5526ff42d37d47f222</td>\n",
       "      <td>delivered</td>\n",
       "      <td>5/16/2017 13:10</td>\n",
       "      <td>5/16/2017 13:22</td>\n",
       "      <td>5/22/2017 10:07</td>\n",
       "      <td>5/26/2017 12:55</td>\n",
       "      <td>6/7/2017 0:00</td>\n",
       "    </tr>\n",
       "    <tr>\n",
       "      <td>8</td>\n",
       "      <td>76c6e866289321a7c93b82b54852dc33</td>\n",
       "      <td>f54a9f0e6b351c431402b8461ea51999</td>\n",
       "      <td>delivered</td>\n",
       "      <td>1/23/2017 18:29</td>\n",
       "      <td>1/25/2017 2:50</td>\n",
       "      <td>1/26/2017 14:16</td>\n",
       "      <td>2/2/2017 14:08</td>\n",
       "      <td>3/6/2017 0:00</td>\n",
       "    </tr>\n",
       "    <tr>\n",
       "      <td>9</td>\n",
       "      <td>e69bfb5eb88e0ed6a785585b27e16dbf</td>\n",
       "      <td>31ad1d1b63eb9962463f764d4e6e0c9d</td>\n",
       "      <td>delivered</td>\n",
       "      <td>7/29/2017 11:55</td>\n",
       "      <td>7/29/2017 12:05</td>\n",
       "      <td>8/10/2017 19:45</td>\n",
       "      <td>8/16/2017 17:14</td>\n",
       "      <td>8/23/2017 0:00</td>\n",
       "    </tr>\n",
       "  </tbody>\n",
       "</table>\n",
       "</div>"
      ],
      "text/plain": [
       "                           order_id                       customer_id  \\\n",
       "0  e481f51cbdc54678b7cc49136f2d6af7  9ef432eb6251297304e76186b10a928d   \n",
       "1  53cdb2fc8bc7dce0b6741e2150273451  b0830fb4747a6c6d20dea0b8c802d7ef   \n",
       "2  47770eb9100c2d0c44946d9cf07ec65d  41ce2a54c0b03bf3443c3d931a367089   \n",
       "3  949d5b44dbf5de918fe9c16f97b45f8a  f88197465ea7920adcdbec7375364d82   \n",
       "4  ad21c59c0840e6cb83a9ceb5573f8159  8ab97904e6daea8866dbdbc4fb7aad2c   \n",
       "5  a4591c265e18cb1dcee52889e2d8acc3  503740e9ca751ccdda7ba28e9ab8f608   \n",
       "6  136cce7faa42fdb2cefd53fdc79a6098  ed0271e0b7da060a393796590e7b737a   \n",
       "7  6514b8ad8028c9f2cc2374ded245783f  9bdf08b4b3b52b5526ff42d37d47f222   \n",
       "8  76c6e866289321a7c93b82b54852dc33  f54a9f0e6b351c431402b8461ea51999   \n",
       "9  e69bfb5eb88e0ed6a785585b27e16dbf  31ad1d1b63eb9962463f764d4e6e0c9d   \n",
       "\n",
       "  order_status order_purchase_timestamp order_approved_at  \\\n",
       "0    delivered          10/2/2017 10:56   10/2/2017 11:07   \n",
       "1    delivered          7/24/2018 20:41    7/26/2018 3:24   \n",
       "2    delivered            8/8/2018 8:38     8/8/2018 8:55   \n",
       "3    delivered         11/18/2017 19:28  11/18/2017 19:45   \n",
       "4    delivered          2/13/2018 21:18   2/13/2018 22:20   \n",
       "5    delivered           7/9/2017 21:57    7/9/2017 22:10   \n",
       "6     invoiced          4/11/2017 12:22   4/13/2017 13:25   \n",
       "7    delivered          5/16/2017 13:10   5/16/2017 13:22   \n",
       "8    delivered          1/23/2017 18:29    1/25/2017 2:50   \n",
       "9    delivered          7/29/2017 11:55   7/29/2017 12:05   \n",
       "\n",
       "  order_delivered_carrier_date order_delivered_customer_date  \\\n",
       "0              10/4/2017 19:55              10/10/2017 21:25   \n",
       "1              7/26/2018 14:31                8/7/2018 15:27   \n",
       "2               8/8/2018 13:50               8/17/2018 18:06   \n",
       "3             11/22/2017 13:39                12/2/2017 0:28   \n",
       "4              2/14/2018 19:46               2/16/2018 18:17   \n",
       "5              7/11/2017 14:58               7/26/2017 10:57   \n",
       "6                          NaN                           NaN   \n",
       "7              5/22/2017 10:07               5/26/2017 12:55   \n",
       "8              1/26/2017 14:16                2/2/2017 14:08   \n",
       "9              8/10/2017 19:45               8/16/2017 17:14   \n",
       "\n",
       "  order_estimated_delivery_date  \n",
       "0               10/18/2017 0:00  \n",
       "1                8/13/2018 0:00  \n",
       "2                 9/4/2018 0:00  \n",
       "3               12/15/2017 0:00  \n",
       "4                2/26/2018 0:00  \n",
       "5                 8/1/2017 0:00  \n",
       "6                 5/9/2017 0:00  \n",
       "7                 6/7/2017 0:00  \n",
       "8                 3/6/2017 0:00  \n",
       "9                8/23/2017 0:00  "
      ]
     },
     "execution_count": 3,
     "metadata": {},
     "output_type": "execute_result"
    }
   ],
   "source": [
    "ordersdf.head(10)"
   ]
  },
  {
   "cell_type": "code",
   "execution_count": 4,
   "metadata": {},
   "outputs": [
    {
     "data": {
      "text/html": [
       "<div>\n",
       "<style scoped>\n",
       "    .dataframe tbody tr th:only-of-type {\n",
       "        vertical-align: middle;\n",
       "    }\n",
       "\n",
       "    .dataframe tbody tr th {\n",
       "        vertical-align: top;\n",
       "    }\n",
       "\n",
       "    .dataframe thead th {\n",
       "        text-align: right;\n",
       "    }\n",
       "</style>\n",
       "<table border=\"1\" class=\"dataframe\">\n",
       "  <thead>\n",
       "    <tr style=\"text-align: right;\">\n",
       "      <th></th>\n",
       "      <th>order_id</th>\n",
       "      <th>customer_id</th>\n",
       "      <th>order_status</th>\n",
       "      <th>Purchased_At</th>\n",
       "      <th>Approved_At</th>\n",
       "      <th>order_delivered_carrier_date</th>\n",
       "      <th>order_delivered_customer_date</th>\n",
       "      <th>order_estimated_delivery_date</th>\n",
       "    </tr>\n",
       "  </thead>\n",
       "  <tbody>\n",
       "    <tr>\n",
       "      <td>0</td>\n",
       "      <td>e481f51cbdc54678b7cc49136f2d6af7</td>\n",
       "      <td>9ef432eb6251297304e76186b10a928d</td>\n",
       "      <td>delivered</td>\n",
       "      <td>10/2/2017 10:56</td>\n",
       "      <td>10/2/2017 11:07</td>\n",
       "      <td>10/4/2017 19:55</td>\n",
       "      <td>10/10/2017 21:25</td>\n",
       "      <td>10/18/2017 0:00</td>\n",
       "    </tr>\n",
       "    <tr>\n",
       "      <td>1</td>\n",
       "      <td>53cdb2fc8bc7dce0b6741e2150273451</td>\n",
       "      <td>b0830fb4747a6c6d20dea0b8c802d7ef</td>\n",
       "      <td>delivered</td>\n",
       "      <td>7/24/2018 20:41</td>\n",
       "      <td>7/26/2018 3:24</td>\n",
       "      <td>7/26/2018 14:31</td>\n",
       "      <td>8/7/2018 15:27</td>\n",
       "      <td>8/13/2018 0:00</td>\n",
       "    </tr>\n",
       "    <tr>\n",
       "      <td>2</td>\n",
       "      <td>47770eb9100c2d0c44946d9cf07ec65d</td>\n",
       "      <td>41ce2a54c0b03bf3443c3d931a367089</td>\n",
       "      <td>delivered</td>\n",
       "      <td>8/8/2018 8:38</td>\n",
       "      <td>8/8/2018 8:55</td>\n",
       "      <td>8/8/2018 13:50</td>\n",
       "      <td>8/17/2018 18:06</td>\n",
       "      <td>9/4/2018 0:00</td>\n",
       "    </tr>\n",
       "    <tr>\n",
       "      <td>3</td>\n",
       "      <td>949d5b44dbf5de918fe9c16f97b45f8a</td>\n",
       "      <td>f88197465ea7920adcdbec7375364d82</td>\n",
       "      <td>delivered</td>\n",
       "      <td>11/18/2017 19:28</td>\n",
       "      <td>11/18/2017 19:45</td>\n",
       "      <td>11/22/2017 13:39</td>\n",
       "      <td>12/2/2017 0:28</td>\n",
       "      <td>12/15/2017 0:00</td>\n",
       "    </tr>\n",
       "    <tr>\n",
       "      <td>4</td>\n",
       "      <td>ad21c59c0840e6cb83a9ceb5573f8159</td>\n",
       "      <td>8ab97904e6daea8866dbdbc4fb7aad2c</td>\n",
       "      <td>delivered</td>\n",
       "      <td>2/13/2018 21:18</td>\n",
       "      <td>2/13/2018 22:20</td>\n",
       "      <td>2/14/2018 19:46</td>\n",
       "      <td>2/16/2018 18:17</td>\n",
       "      <td>2/26/2018 0:00</td>\n",
       "    </tr>\n",
       "    <tr>\n",
       "      <td>5</td>\n",
       "      <td>a4591c265e18cb1dcee52889e2d8acc3</td>\n",
       "      <td>503740e9ca751ccdda7ba28e9ab8f608</td>\n",
       "      <td>delivered</td>\n",
       "      <td>7/9/2017 21:57</td>\n",
       "      <td>7/9/2017 22:10</td>\n",
       "      <td>7/11/2017 14:58</td>\n",
       "      <td>7/26/2017 10:57</td>\n",
       "      <td>8/1/2017 0:00</td>\n",
       "    </tr>\n",
       "    <tr>\n",
       "      <td>6</td>\n",
       "      <td>136cce7faa42fdb2cefd53fdc79a6098</td>\n",
       "      <td>ed0271e0b7da060a393796590e7b737a</td>\n",
       "      <td>invoiced</td>\n",
       "      <td>4/11/2017 12:22</td>\n",
       "      <td>4/13/2017 13:25</td>\n",
       "      <td>NaN</td>\n",
       "      <td>NaN</td>\n",
       "      <td>5/9/2017 0:00</td>\n",
       "    </tr>\n",
       "    <tr>\n",
       "      <td>7</td>\n",
       "      <td>6514b8ad8028c9f2cc2374ded245783f</td>\n",
       "      <td>9bdf08b4b3b52b5526ff42d37d47f222</td>\n",
       "      <td>delivered</td>\n",
       "      <td>5/16/2017 13:10</td>\n",
       "      <td>5/16/2017 13:22</td>\n",
       "      <td>5/22/2017 10:07</td>\n",
       "      <td>5/26/2017 12:55</td>\n",
       "      <td>6/7/2017 0:00</td>\n",
       "    </tr>\n",
       "    <tr>\n",
       "      <td>8</td>\n",
       "      <td>76c6e866289321a7c93b82b54852dc33</td>\n",
       "      <td>f54a9f0e6b351c431402b8461ea51999</td>\n",
       "      <td>delivered</td>\n",
       "      <td>1/23/2017 18:29</td>\n",
       "      <td>1/25/2017 2:50</td>\n",
       "      <td>1/26/2017 14:16</td>\n",
       "      <td>2/2/2017 14:08</td>\n",
       "      <td>3/6/2017 0:00</td>\n",
       "    </tr>\n",
       "    <tr>\n",
       "      <td>9</td>\n",
       "      <td>e69bfb5eb88e0ed6a785585b27e16dbf</td>\n",
       "      <td>31ad1d1b63eb9962463f764d4e6e0c9d</td>\n",
       "      <td>delivered</td>\n",
       "      <td>7/29/2017 11:55</td>\n",
       "      <td>7/29/2017 12:05</td>\n",
       "      <td>8/10/2017 19:45</td>\n",
       "      <td>8/16/2017 17:14</td>\n",
       "      <td>8/23/2017 0:00</td>\n",
       "    </tr>\n",
       "  </tbody>\n",
       "</table>\n",
       "</div>"
      ],
      "text/plain": [
       "                           order_id                       customer_id  \\\n",
       "0  e481f51cbdc54678b7cc49136f2d6af7  9ef432eb6251297304e76186b10a928d   \n",
       "1  53cdb2fc8bc7dce0b6741e2150273451  b0830fb4747a6c6d20dea0b8c802d7ef   \n",
       "2  47770eb9100c2d0c44946d9cf07ec65d  41ce2a54c0b03bf3443c3d931a367089   \n",
       "3  949d5b44dbf5de918fe9c16f97b45f8a  f88197465ea7920adcdbec7375364d82   \n",
       "4  ad21c59c0840e6cb83a9ceb5573f8159  8ab97904e6daea8866dbdbc4fb7aad2c   \n",
       "5  a4591c265e18cb1dcee52889e2d8acc3  503740e9ca751ccdda7ba28e9ab8f608   \n",
       "6  136cce7faa42fdb2cefd53fdc79a6098  ed0271e0b7da060a393796590e7b737a   \n",
       "7  6514b8ad8028c9f2cc2374ded245783f  9bdf08b4b3b52b5526ff42d37d47f222   \n",
       "8  76c6e866289321a7c93b82b54852dc33  f54a9f0e6b351c431402b8461ea51999   \n",
       "9  e69bfb5eb88e0ed6a785585b27e16dbf  31ad1d1b63eb9962463f764d4e6e0c9d   \n",
       "\n",
       "  order_status      Purchased_At       Approved_At  \\\n",
       "0    delivered   10/2/2017 10:56   10/2/2017 11:07   \n",
       "1    delivered   7/24/2018 20:41    7/26/2018 3:24   \n",
       "2    delivered     8/8/2018 8:38     8/8/2018 8:55   \n",
       "3    delivered  11/18/2017 19:28  11/18/2017 19:45   \n",
       "4    delivered   2/13/2018 21:18   2/13/2018 22:20   \n",
       "5    delivered    7/9/2017 21:57    7/9/2017 22:10   \n",
       "6     invoiced   4/11/2017 12:22   4/13/2017 13:25   \n",
       "7    delivered   5/16/2017 13:10   5/16/2017 13:22   \n",
       "8    delivered   1/23/2017 18:29    1/25/2017 2:50   \n",
       "9    delivered   7/29/2017 11:55   7/29/2017 12:05   \n",
       "\n",
       "  order_delivered_carrier_date order_delivered_customer_date  \\\n",
       "0              10/4/2017 19:55              10/10/2017 21:25   \n",
       "1              7/26/2018 14:31                8/7/2018 15:27   \n",
       "2               8/8/2018 13:50               8/17/2018 18:06   \n",
       "3             11/22/2017 13:39                12/2/2017 0:28   \n",
       "4              2/14/2018 19:46               2/16/2018 18:17   \n",
       "5              7/11/2017 14:58               7/26/2017 10:57   \n",
       "6                          NaN                           NaN   \n",
       "7              5/22/2017 10:07               5/26/2017 12:55   \n",
       "8              1/26/2017 14:16                2/2/2017 14:08   \n",
       "9              8/10/2017 19:45               8/16/2017 17:14   \n",
       "\n",
       "  order_estimated_delivery_date  \n",
       "0               10/18/2017 0:00  \n",
       "1                8/13/2018 0:00  \n",
       "2                 9/4/2018 0:00  \n",
       "3               12/15/2017 0:00  \n",
       "4                2/26/2018 0:00  \n",
       "5                 8/1/2017 0:00  \n",
       "6                 5/9/2017 0:00  \n",
       "7                 6/7/2017 0:00  \n",
       "8                 3/6/2017 0:00  \n",
       "9                8/23/2017 0:00  "
      ]
     },
     "execution_count": 4,
     "metadata": {},
     "output_type": "execute_result"
    }
   ],
   "source": [
    "#Renaming the columns that are important for us\n",
    "ordersdf = ordersdf.rename(columns = {\"order_purchase_timestamp\": \"Purchased_At\",\n",
    "                         \"order_approved_at\":\"Approved_At\"}) \n",
    "ordersdf.head(10)"
   ]
  },
  {
   "cell_type": "code",
   "execution_count": 5,
   "metadata": {},
   "outputs": [
    {
     "data": {
      "text/html": [
       "<div>\n",
       "<style scoped>\n",
       "    .dataframe tbody tr th:only-of-type {\n",
       "        vertical-align: middle;\n",
       "    }\n",
       "\n",
       "    .dataframe tbody tr th {\n",
       "        vertical-align: top;\n",
       "    }\n",
       "\n",
       "    .dataframe thead th {\n",
       "        text-align: right;\n",
       "    }\n",
       "</style>\n",
       "<table border=\"1\" class=\"dataframe\">\n",
       "  <thead>\n",
       "    <tr style=\"text-align: right;\">\n",
       "      <th></th>\n",
       "      <th>Purchased_At</th>\n",
       "      <th>Approved_At</th>\n",
       "    </tr>\n",
       "  </thead>\n",
       "  <tbody>\n",
       "    <tr>\n",
       "      <td>0</td>\n",
       "      <td>10/2/2017 10:56</td>\n",
       "      <td>10/2/2017 11:07</td>\n",
       "    </tr>\n",
       "    <tr>\n",
       "      <td>1</td>\n",
       "      <td>7/24/2018 20:41</td>\n",
       "      <td>7/26/2018 3:24</td>\n",
       "    </tr>\n",
       "    <tr>\n",
       "      <td>2</td>\n",
       "      <td>8/8/2018 8:38</td>\n",
       "      <td>8/8/2018 8:55</td>\n",
       "    </tr>\n",
       "    <tr>\n",
       "      <td>3</td>\n",
       "      <td>11/18/2017 19:28</td>\n",
       "      <td>11/18/2017 19:45</td>\n",
       "    </tr>\n",
       "    <tr>\n",
       "      <td>4</td>\n",
       "      <td>2/13/2018 21:18</td>\n",
       "      <td>2/13/2018 22:20</td>\n",
       "    </tr>\n",
       "    <tr>\n",
       "      <td>5</td>\n",
       "      <td>7/9/2017 21:57</td>\n",
       "      <td>7/9/2017 22:10</td>\n",
       "    </tr>\n",
       "    <tr>\n",
       "      <td>6</td>\n",
       "      <td>4/11/2017 12:22</td>\n",
       "      <td>4/13/2017 13:25</td>\n",
       "    </tr>\n",
       "    <tr>\n",
       "      <td>7</td>\n",
       "      <td>5/16/2017 13:10</td>\n",
       "      <td>5/16/2017 13:22</td>\n",
       "    </tr>\n",
       "    <tr>\n",
       "      <td>8</td>\n",
       "      <td>1/23/2017 18:29</td>\n",
       "      <td>1/25/2017 2:50</td>\n",
       "    </tr>\n",
       "    <tr>\n",
       "      <td>9</td>\n",
       "      <td>7/29/2017 11:55</td>\n",
       "      <td>7/29/2017 12:05</td>\n",
       "    </tr>\n",
       "  </tbody>\n",
       "</table>\n",
       "</div>"
      ],
      "text/plain": [
       "       Purchased_At       Approved_At\n",
       "0   10/2/2017 10:56   10/2/2017 11:07\n",
       "1   7/24/2018 20:41    7/26/2018 3:24\n",
       "2     8/8/2018 8:38     8/8/2018 8:55\n",
       "3  11/18/2017 19:28  11/18/2017 19:45\n",
       "4   2/13/2018 21:18   2/13/2018 22:20\n",
       "5    7/9/2017 21:57    7/9/2017 22:10\n",
       "6   4/11/2017 12:22   4/13/2017 13:25\n",
       "7   5/16/2017 13:10   5/16/2017 13:22\n",
       "8   1/23/2017 18:29    1/25/2017 2:50\n",
       "9   7/29/2017 11:55   7/29/2017 12:05"
      ]
     },
     "execution_count": 5,
     "metadata": {},
     "output_type": "execute_result"
    }
   ],
   "source": [
    "#Keeping relevant columns only\n",
    "ordersdf = ordersdf[['Purchased_At', 'Approved_At']]\n",
    "ordersdf.head(10)"
   ]
  },
  {
   "cell_type": "code",
   "execution_count": 6,
   "metadata": {},
   "outputs": [
    {
     "data": {
      "text/plain": [
       "Purchased_At    datetime64[ns]\n",
       "Approved_At     datetime64[ns]\n",
       "dtype: object"
      ]
     },
     "execution_count": 6,
     "metadata": {},
     "output_type": "execute_result"
    }
   ],
   "source": [
    "#typecasting from object to datetime\n",
    "ordersdf['Purchased_At'] = pd.to_datetime(ordersdf['Purchased_At'])\n",
    "ordersdf['Approved_At'] = pd.to_datetime(ordersdf['Approved_At'])\n",
    "ordersdf.dtypes"
   ]
  },
  {
   "cell_type": "code",
   "execution_count": 7,
   "metadata": {},
   "outputs": [
    {
     "data": {
      "text/plain": [
       "0         0.183333\n",
       "1        30.716667\n",
       "2         0.283333\n",
       "3         0.283333\n",
       "4         1.033333\n",
       "           ...    \n",
       "99436     0.000000\n",
       "99437     0.200000\n",
       "99438     0.300000\n",
       "99439     0.133333\n",
       "99440    14.383333\n",
       "Length: 99441, dtype: float64"
      ]
     },
     "execution_count": 7,
     "metadata": {},
     "output_type": "execute_result"
    }
   ],
   "source": [
    "#calculating the difference between order purchase time and order approval time\n",
    "between_order_approval = ordersdf['Approved_At'] - ordersdf['Purchased_At']\n",
    "\n",
    "#let's see the time difference between order and approval for each order\n",
    "timediffseries = between_order_approval.apply(lambda x: (x.total_seconds())/3600)\n",
    "timediffseries"
   ]
  },
  {
   "cell_type": "code",
   "execution_count": 8,
   "metadata": {},
   "outputs": [
    {
     "data": {
      "text/plain": [
       "10.4199069644067"
      ]
     },
     "execution_count": 8,
     "metadata": {},
     "output_type": "execute_result"
    }
   ],
   "source": [
    "#calculating the average of time difference b/w order purchase time & order approval time\n",
    "between_order_approval.apply(lambda x: (x.total_seconds())/3600).mean()"
   ]
  },
  {
   "cell_type": "code",
   "execution_count": 9,
   "metadata": {},
   "outputs": [
    {
     "data": {
      "text/html": [
       "<div>\n",
       "<style scoped>\n",
       "    .dataframe tbody tr th:only-of-type {\n",
       "        vertical-align: middle;\n",
       "    }\n",
       "\n",
       "    .dataframe tbody tr th {\n",
       "        vertical-align: top;\n",
       "    }\n",
       "\n",
       "    .dataframe thead th {\n",
       "        text-align: right;\n",
       "    }\n",
       "</style>\n",
       "<table border=\"1\" class=\"dataframe\">\n",
       "  <thead>\n",
       "    <tr style=\"text-align: right;\">\n",
       "      <th></th>\n",
       "      <th>TimeDiff</th>\n",
       "    </tr>\n",
       "  </thead>\n",
       "  <tbody>\n",
       "    <tr>\n",
       "      <td>0</td>\n",
       "      <td>0.183333</td>\n",
       "    </tr>\n",
       "    <tr>\n",
       "      <td>1</td>\n",
       "      <td>30.716667</td>\n",
       "    </tr>\n",
       "    <tr>\n",
       "      <td>2</td>\n",
       "      <td>0.283333</td>\n",
       "    </tr>\n",
       "    <tr>\n",
       "      <td>3</td>\n",
       "      <td>0.283333</td>\n",
       "    </tr>\n",
       "    <tr>\n",
       "      <td>4</td>\n",
       "      <td>1.033333</td>\n",
       "    </tr>\n",
       "    <tr>\n",
       "      <td>...</td>\n",
       "      <td>...</td>\n",
       "    </tr>\n",
       "    <tr>\n",
       "      <td>95</td>\n",
       "      <td>0.533333</td>\n",
       "    </tr>\n",
       "    <tr>\n",
       "      <td>96</td>\n",
       "      <td>0.283333</td>\n",
       "    </tr>\n",
       "    <tr>\n",
       "      <td>97</td>\n",
       "      <td>0.233333</td>\n",
       "    </tr>\n",
       "    <tr>\n",
       "      <td>98</td>\n",
       "      <td>0.250000</td>\n",
       "    </tr>\n",
       "    <tr>\n",
       "      <td>99</td>\n",
       "      <td>0.366667</td>\n",
       "    </tr>\n",
       "  </tbody>\n",
       "</table>\n",
       "<p>100 rows × 1 columns</p>\n",
       "</div>"
      ],
      "text/plain": [
       "     TimeDiff\n",
       "0    0.183333\n",
       "1   30.716667\n",
       "2    0.283333\n",
       "3    0.283333\n",
       "4    1.033333\n",
       "..        ...\n",
       "95   0.533333\n",
       "96   0.283333\n",
       "97   0.233333\n",
       "98   0.250000\n",
       "99   0.366667\n",
       "\n",
       "[100 rows x 1 columns]"
      ]
     },
     "execution_count": 9,
     "metadata": {},
     "output_type": "execute_result"
    }
   ],
   "source": [
    "#Storing time difference in a dataframe\n",
    "time_diff_df = pd.DataFrame(timediffseries,index = np.arange(len(timediffseries)),columns=['TimeDiff'])\n",
    "\n",
    "time_diff_df.head(100)"
   ]
  },
  {
   "cell_type": "code",
   "execution_count": 10,
   "metadata": {},
   "outputs": [
    {
     "data": {
      "text/plain": [
       "<matplotlib.axes._subplots.AxesSubplot at 0x151c69db348>"
      ]
     },
     "execution_count": 10,
     "metadata": {},
     "output_type": "execute_result"
    },
    {
     "data": {
      "image/png": "[encoded data removed]",
      "text/plain": [
       "<Figure size 432x288 with 1 Axes>"
      ]
     },
     "metadata": {
      "needs_background": "light"
     },
     "output_type": "display_data"
    }
   ],
   "source": [
    "#box plot\n",
    "time_diff_df.boxplot(column='TimeDiff', sym='o', return_type='axes') "
   ]
  },
  {
   "cell_type": "code",
   "execution_count": 11,
   "metadata": {},
   "outputs": [
    {
     "data": {
      "text/html": [
       "<div>\n",
       "<style scoped>\n",
       "    .dataframe tbody tr th:only-of-type {\n",
       "        vertical-align: middle;\n",
       "    }\n",
       "\n",
       "    .dataframe tbody tr th {\n",
       "        vertical-align: top;\n",
       "    }\n",
       "\n",
       "    .dataframe thead th {\n",
       "        text-align: right;\n",
       "    }\n",
       "</style>\n",
       "<table border=\"1\" class=\"dataframe\">\n",
       "  <thead>\n",
       "    <tr style=\"text-align: right;\">\n",
       "      <th></th>\n",
       "      <th>TimeDiff</th>\n",
       "    </tr>\n",
       "  </thead>\n",
       "  <tbody>\n",
       "    <tr>\n",
       "      <td>47552</td>\n",
       "      <td>4509.183333</td>\n",
       "    </tr>\n",
       "    <tr>\n",
       "      <td>62293</td>\n",
       "      <td>1450.866667</td>\n",
       "    </tr>\n",
       "  </tbody>\n",
       "</table>\n",
       "</div>"
      ],
      "text/plain": [
       "          TimeDiff\n",
       "47552  4509.183333\n",
       "62293  1450.866667"
      ]
     },
     "execution_count": 11,
     "metadata": {},
     "output_type": "execute_result"
    }
   ],
   "source": [
    "#values above 4k & 1k can be considered as extreme outliers\n",
    "#hence, finding out their indices\n",
    "time_diff_df[time_diff_df['TimeDiff']>1000]"
   ]
  },
  {
   "cell_type": "code",
   "execution_count": 13,
   "metadata": {},
   "outputs": [
    {
     "data": {
      "text/plain": [
       "TimeDiff    99279\n",
       "dtype: int64"
      ]
     },
     "execution_count": 13,
     "metadata": {},
     "output_type": "execute_result"
    }
   ],
   "source": [
    "#removing these extreme outliers\n",
    "subset = time_diff_df[(time_diff_df.index != 47552) & (time_diff_df.index != 62293)]\n",
    "subset.count()"
   ]
  },
  {
   "cell_type": "code",
   "execution_count": 14,
   "metadata": {},
   "outputs": [
    {
     "data": {
      "text/plain": [
       "<matplotlib.axes._subplots.AxesSubplot at 0x151c6eb04c8>"
      ]
     },
     "execution_count": 14,
     "metadata": {},
     "output_type": "execute_result"
    },
    {
     "data": {
      "image/png": "[encoded data removed]",
      "text/plain": [
       "<Figure size 432x288 with 1 Axes>"
      ]
     },
     "metadata": {
      "needs_background": "light"
     },
     "output_type": "display_data"
    }
   ],
   "source": [
    "#99441 - 99279 = 102 records are outliers, making the box plot by removing them\n",
    "subset.boxplot(column='TimeDiff', sym='o', return_type='axes')"
   ]
  },
  {
   "cell_type": "code",
   "execution_count": 15,
   "metadata": {},
   "outputs": [
    {
     "name": "stdout",
     "output_type": "stream",
     "text": [
      "TimeDiff    99269\n",
      "dtype: int64\n"
     ]
    },
    {
     "data": {
      "text/plain": [
       "<matplotlib.axes._subplots.AxesSubplot at 0x151c6f21648>"
      ]
     },
     "execution_count": 15,
     "metadata": {},
     "output_type": "execute_result"
    },
    {
     "data": {
      "image/png": "[encoded data removed]",
      "text/plain": [
       "<Figure size 432x288 with 1 Axes>"
      ]
     },
     "metadata": {
      "needs_background": "light"
     },
     "output_type": "display_data"
    }
   ],
   "source": [
    "#multiple outliers are still found, applying multiple conditions to get the best box plot without compromising much of the data\n",
    "subset = time_diff_df[time_diff_df['TimeDiff']<400]\n",
    "print(subset.count())\n",
    "\n",
    "subset.boxplot(column='TimeDiff', sym='o', return_type='axes')"
   ]
  },
  {
   "cell_type": "code",
   "execution_count": 17,
   "metadata": {},
   "outputs": [
    {
     "name": "stdout",
     "output_type": "stream",
     "text": [
      "TimeDiff    98627\n",
      "dtype: int64\n"
     ]
    },
    {
     "data": {
      "text/plain": [
       "<matplotlib.axes._subplots.AxesSubplot at 0x151c6fed748>"
      ]
     },
     "execution_count": 17,
     "metadata": {},
     "output_type": "execute_result"
    },
    {
     "data": {
      "image/png": "[encoded data removed]",
      "text/plain": [
       "<Figure size 432x288 with 1 Axes>"
      ]
     },
     "metadata": {
      "needs_background": "light"
     },
     "output_type": "display_data"
    }
   ],
   "source": [
    "subset = time_diff_df[time_diff_df['TimeDiff']<100]\n",
    "print(subset.count())\n",
    "\n",
    "subset.boxplot(column='TimeDiff', sym='o', return_type='axes')"
   ]
  },
  {
   "cell_type": "code",
   "execution_count": 18,
   "metadata": {},
   "outputs": [
    {
     "name": "stdout",
     "output_type": "stream",
     "text": [
      "TimeDiff    97583\n",
      "dtype: int64\n"
     ]
    },
    {
     "data": {
      "text/plain": [
       "<matplotlib.axes._subplots.AxesSubplot at 0x151c768fd08>"
      ]
     },
     "execution_count": 18,
     "metadata": {},
     "output_type": "execute_result"
    },
    {
     "data": {
      "image/png": "[encoded data removed]",
      "text/plain": [
       "<Figure size 432x288 with 1 Axes>"
      ]
     },
     "metadata": {
      "needs_background": "light"
     },
     "output_type": "display_data"
    }
   ],
   "source": [
    "subset = time_diff_df[time_diff_df['TimeDiff']<80]\n",
    "print(subset.count())\n",
    "\n",
    "subset.boxplot(column='TimeDiff', sym='o', return_type='axes')"
   ]
  },
  {
   "cell_type": "code",
   "execution_count": 19,
   "metadata": {},
   "outputs": [
    {
     "name": "stdout",
     "output_type": "stream",
     "text": [
      "TimeDiff    63360\n",
      "dtype: int64\n"
     ]
    },
    {
     "data": {
      "text/plain": [
       "<matplotlib.axes._subplots.AxesSubplot at 0x151c770ab08>"
      ]
     },
     "execution_count": 19,
     "metadata": {},
     "output_type": "execute_result"
    },
    {
     "data": {
      "image/png": "[encoded data removed]",
      "text/plain": [
       "<Figure size 432x288 with 1 Axes>"
      ]
     },
     "metadata": {
      "needs_background": "light"
     },
     "output_type": "display_data"
    }
   ],
   "source": [
    "subset = time_diff_df[time_diff_df['TimeDiff']<1]\n",
    "print(subset.count())\n",
    "\n",
    "subset.boxplot(column='TimeDiff', sym='o', return_type='axes')"
   ]
  },
  {
   "cell_type": "code",
   "execution_count": 20,
   "metadata": {},
   "outputs": [
    {
     "name": "stdout",
     "output_type": "stream",
     "text": [
      "TimeDiff    96906\n",
      "dtype: int64\n"
     ]
    },
    {
     "data": {
      "text/plain": [
       "<matplotlib.axes._subplots.AxesSubplot at 0x151c776b9c8>"
      ]
     },
     "execution_count": 20,
     "metadata": {},
     "output_type": "execute_result"
    },
    {
     "data": {
      "image/png": "[encoded data removed]",
      "text/plain": [
       "<Figure size 432x288 with 1 Axes>"
      ]
     },
     "metadata": {
      "needs_background": "light"
     },
     "output_type": "display_data"
    }
   ],
   "source": [
    "#Although the best box plot is observed for values < 1 but this led to compromising approx 36k of data which cannot be done practically.\n",
    "subset = time_diff_df[time_diff_df['TimeDiff']<70]\n",
    "print(subset.count())\n",
    "\n",
    "subset.boxplot(column='TimeDiff', sym='o', return_type='axes')"
   ]
  },
  {
   "cell_type": "code",
   "execution_count": 21,
   "metadata": {},
   "outputs": [
    {
     "name": "stdout",
     "output_type": "stream",
     "text": [
      "TimeDiff    94547\n",
      "dtype: int64\n"
     ]
    },
    {
     "data": {
      "text/plain": [
       "<matplotlib.axes._subplots.AxesSubplot at 0x151c77e0dc8>"
      ]
     },
     "execution_count": 21,
     "metadata": {},
     "output_type": "execute_result"
    },
    {
     "data": {
      "image/png": "[encoded data removed]",
      "text/plain": [
       "<Figure size 432x288 with 1 Axes>"
      ]
     },
     "metadata": {
      "needs_background": "light"
     },
     "output_type": "display_data"
    }
   ],
   "source": [
    "subset = time_diff_df[time_diff_df['TimeDiff']<50]\n",
    "print(subset.count())\n",
    "\n",
    "subset.boxplot(column='TimeDiff', sym='o', return_type='axes')"
   ]
  },
  {
   "cell_type": "code",
   "execution_count": 22,
   "metadata": {},
   "outputs": [
    {
     "name": "stdout",
     "output_type": "stream",
     "text": [
      "TimeDiff    71216\n",
      "dtype: int64\n"
     ]
    },
    {
     "data": {
      "text/plain": [
       "<matplotlib.axes._subplots.AxesSubplot at 0x151c7840088>"
      ]
     },
     "execution_count": 22,
     "metadata": {},
     "output_type": "execute_result"
    },
    {
     "data": {
      "image/png": "[encoded data removed]",
      "text/plain": [
       "<Figure size 432x288 with 1 Axes>"
      ]
     },
     "metadata": {
      "needs_background": "light"
     },
     "output_type": "display_data"
    }
   ],
   "source": [
    "subset = time_diff_df[time_diff_df['TimeDiff']<10]\n",
    "print(subset.count())\n",
    "\n",
    "subset.boxplot(column='TimeDiff', sym='o', return_type='axes')"
   ]
  },
  {
   "cell_type": "code",
   "execution_count": 23,
   "metadata": {},
   "outputs": [],
   "source": [
    "#Based on the box plots observed above, all the records that have time difference of less than 50 can be taken into account for BI analysis\n",
    "#because the data compromised for time difference less than 50 is only 4894(5%) which is acceptable for data as big as 99441."
   ]
  },
  {
   "cell_type": "code",
   "execution_count": null,
   "metadata": {},
   "outputs": [],
   "source": []
  }
 ],
 "metadata": {
  "kernelspec": {
   "display_name": "Python 3",
   "language": "python",
   "name": "python3"
  },
  "language_info": {
   "codemirror_mode": {
    "name": "ipython",
    "version": 3
   },
   "file_extension": ".py",
   "mimetype": "text/x-python",
   "name": "python",
   "nbconvert_exporter": "python",
   "pygments_lexer": "ipython3",
   "version": "3.7.4"
  }
 },
 "nbformat": 4,
 "nbformat_minor": 2
}
