{
 "cells": [
  {
   "cell_type": "markdown",
   "metadata": {},
   "source": [
    "# Questions that I've taken into consideraton while solving this assignmment are:\n",
    "1)in which borough, people prefer to buy their properties?\n",
    "\n",
    "2)Which neighborhoods are considered as hi-fi areas in terms of financial value?\n",
    "\n",
    "3)In which time of the year, property dealers make the most sales?\n",
    "\n",
    "4)What is the average number of residential and commercial units on different properties?\n",
    "\n",
    "5)Which neighborhood is most famous among the public?\n",
    "\n",
    "6)What is the highest number of properties in a LOT?"
   ]
  },
  {
   "cell_type": "code",
   "execution_count": 1,
   "metadata": {},
   "outputs": [],
   "source": [
    "#importing basic libraries\n",
    "import pandas as pd\n",
    "import numpy as np\n",
    "import matplotlib.pyplot as plt\n",
    "%matplotlib inline"
   ]
  },
  {
   "cell_type": "code",
   "execution_count": 2,
   "metadata": {},
   "outputs": [
    {
     "name": "stderr",
     "output_type": "stream",
     "text": [
      "C:\\Users\\Abc\\Anaconda3\\lib\\site-packages\\IPython\\core\\interactiveshell.py:3058: DtypeWarning: Columns (6) have mixed types. Specify dtype option on import or set low_memory=False.\n",
      "  interactivity=interactivity, compiler=compiler, result=result)\n"
     ]
    }
   ],
   "source": [
    "#reading data\n",
    "df = pd.read_csv(\"nyc-rolling-sales-dirty.csv\")"
   ]
  },
  {
   "cell_type": "code",
   "execution_count": 3,
   "metadata": {},
   "outputs": [
    {
     "data": {
      "text/html": [
       "<div>\n",
       "<style scoped>\n",
       "    .dataframe tbody tr th:only-of-type {\n",
       "        vertical-align: middle;\n",
       "    }\n",
       "\n",
       "    .dataframe tbody tr th {\n",
       "        vertical-align: top;\n",
       "    }\n",
       "\n",
       "    .dataframe thead th {\n",
       "        text-align: right;\n",
       "    }\n",
       "</style>\n",
       "<table border=\"1\" class=\"dataframe\">\n",
       "  <thead>\n",
       "    <tr style=\"text-align: right;\">\n",
       "      <th></th>\n",
       "      <th>Unnamed: 0</th>\n",
       "      <th>BOROUGH</th>\n",
       "      <th>NEIGHBORHOOD</th>\n",
       "      <th>BUILDING CLASS CATEGORY</th>\n",
       "      <th>TAX CLASS AT PRESENT</th>\n",
       "      <th>BLOCK</th>\n",
       "      <th>LOT</th>\n",
       "      <th>EASE-MENT</th>\n",
       "      <th>BUILDING CLASS AT PRESENT</th>\n",
       "      <th>ADDRESS</th>\n",
       "      <th>...</th>\n",
       "      <th>RESIDENTIAL UNITS</th>\n",
       "      <th>COMMERCIAL UNITS</th>\n",
       "      <th>TOTAL UNITS</th>\n",
       "      <th>LAND SQUARE FEET</th>\n",
       "      <th>GROSS SQUARE FEET</th>\n",
       "      <th>YEAR BUILT</th>\n",
       "      <th>TAX CLASS AT TIME OF SALE</th>\n",
       "      <th>BUILDING CLASS AT TIME OF SALE</th>\n",
       "      <th>SALE PRICE</th>\n",
       "      <th>SALE DATE</th>\n",
       "    </tr>\n",
       "  </thead>\n",
       "  <tbody>\n",
       "    <tr>\n",
       "      <td>0</td>\n",
       "      <td>4</td>\n",
       "      <td>1</td>\n",
       "      <td>ALPHABET CITY</td>\n",
       "      <td>07 RENTALS - WALKUP APARTMENTS</td>\n",
       "      <td>2A</td>\n",
       "      <td>392.0</td>\n",
       "      <td>No Number</td>\n",
       "      <td></td>\n",
       "      <td>65000</td>\n",
       "      <td>NaN</td>\n",
       "      <td>...</td>\n",
       "      <td>5</td>\n",
       "      <td>0</td>\n",
       "      <td>5</td>\n",
       "      <td>1633</td>\n",
       "      <td>6440</td>\n",
       "      <td>1900</td>\n",
       "      <td>2</td>\n",
       "      <td>C2</td>\n",
       "      <td>6625000</td>\n",
       "      <td>why</td>\n",
       "    </tr>\n",
       "    <tr>\n",
       "      <td>1</td>\n",
       "      <td>5</td>\n",
       "      <td>1</td>\n",
       "      <td>ALPHABET CITY</td>\n",
       "      <td>07 RENTALS - WALKUP APARTMENTS</td>\n",
       "      <td>2</td>\n",
       "      <td>399.0</td>\n",
       "      <td>26</td>\n",
       "      <td></td>\n",
       "      <td>C7</td>\n",
       "      <td>NaN</td>\n",
       "      <td>...</td>\n",
       "      <td>28</td>\n",
       "      <td>3</td>\n",
       "      <td>31</td>\n",
       "      <td>4616</td>\n",
       "      <td>18690</td>\n",
       "      <td>1900</td>\n",
       "      <td>2</td>\n",
       "      <td>C7</td>\n",
       "      <td>-</td>\n",
       "      <td>12/14/2016 0:00</td>\n",
       "    </tr>\n",
       "    <tr>\n",
       "      <td>2</td>\n",
       "      <td>6</td>\n",
       "      <td>1</td>\n",
       "      <td>ALPHABET CITY</td>\n",
       "      <td>07 RENTALS - WALKUP APARTMENTS</td>\n",
       "      <td>NaN</td>\n",
       "      <td>399.0</td>\n",
       "      <td>39</td>\n",
       "      <td></td>\n",
       "      <td>C7</td>\n",
       "      <td>NaN</td>\n",
       "      <td>...</td>\n",
       "      <td>16</td>\n",
       "      <td>1</td>\n",
       "      <td>17</td>\n",
       "      <td>2212</td>\n",
       "      <td>7803</td>\n",
       "      <td>1900</td>\n",
       "      <td>2</td>\n",
       "      <td>C7</td>\n",
       "      <td>-</td>\n",
       "      <td>12/9/2016 0:00</td>\n",
       "    </tr>\n",
       "    <tr>\n",
       "      <td>3</td>\n",
       "      <td>7</td>\n",
       "      <td>1</td>\n",
       "      <td>ALPHABET CITY</td>\n",
       "      <td>07 RENTALS - WALKUP APARTMENTS</td>\n",
       "      <td>NaN</td>\n",
       "      <td>402.0</td>\n",
       "      <td>21</td>\n",
       "      <td></td>\n",
       "      <td>C4</td>\n",
       "      <td>NaN</td>\n",
       "      <td>...</td>\n",
       "      <td>10</td>\n",
       "      <td>0</td>\n",
       "      <td>10</td>\n",
       "      <td>2272</td>\n",
       "      <td>6794</td>\n",
       "      <td>1913</td>\n",
       "      <td>2</td>\n",
       "      <td>C4</td>\n",
       "      <td>3936272</td>\n",
       "      <td>9/23/2016 0:00</td>\n",
       "    </tr>\n",
       "    <tr>\n",
       "      <td>4</td>\n",
       "      <td>8</td>\n",
       "      <td>1</td>\n",
       "      <td>ALPHABET CITY</td>\n",
       "      <td>07 RENTALS - WALKUP APARTMENTS</td>\n",
       "      <td>NaN</td>\n",
       "      <td>404.0</td>\n",
       "      <td>55</td>\n",
       "      <td></td>\n",
       "      <td>C2</td>\n",
       "      <td>NaN</td>\n",
       "      <td>...</td>\n",
       "      <td>6</td>\n",
       "      <td>0</td>\n",
       "      <td>6</td>\n",
       "      <td>2369</td>\n",
       "      <td>4615</td>\n",
       "      <td>1900</td>\n",
       "      <td>2</td>\n",
       "      <td>C2</td>\n",
       "      <td>8000000</td>\n",
       "      <td>11/17/2016 0:00</td>\n",
       "    </tr>\n",
       "  </tbody>\n",
       "</table>\n",
       "<p>5 rows × 22 columns</p>\n",
       "</div>"
      ],
      "text/plain": [
       "   Unnamed: 0  BOROUGH   NEIGHBORHOOD  \\\n",
       "0           4        1  ALPHABET CITY   \n",
       "1           5        1  ALPHABET CITY   \n",
       "2           6        1  ALPHABET CITY   \n",
       "3           7        1  ALPHABET CITY   \n",
       "4           8        1  ALPHABET CITY   \n",
       "\n",
       "                       BUILDING CLASS CATEGORY TAX CLASS AT PRESENT  BLOCK  \\\n",
       "0  07 RENTALS - WALKUP APARTMENTS                                2A  392.0   \n",
       "1  07 RENTALS - WALKUP APARTMENTS                                 2  399.0   \n",
       "2  07 RENTALS - WALKUP APARTMENTS                               NaN  399.0   \n",
       "3  07 RENTALS - WALKUP APARTMENTS                               NaN  402.0   \n",
       "4  07 RENTALS - WALKUP APARTMENTS                               NaN  404.0   \n",
       "\n",
       "         LOT EASE-MENT BUILDING CLASS AT PRESENT ADDRESS  ...  \\\n",
       "0  No Number                               65000     NaN  ...   \n",
       "1         26                                  C7     NaN  ...   \n",
       "2         39                                  C7     NaN  ...   \n",
       "3         21                                  C4     NaN  ...   \n",
       "4         55                                  C2     NaN  ...   \n",
       "\n",
       "  RESIDENTIAL UNITS  COMMERCIAL UNITS  TOTAL UNITS  LAND SQUARE FEET  \\\n",
       "0                 5                 0            5              1633   \n",
       "1                28                 3           31              4616   \n",
       "2                16                 1           17              2212   \n",
       "3                10                 0           10              2272   \n",
       "4                 6                 0            6              2369   \n",
       "\n",
       "   GROSS SQUARE FEET YEAR BUILT TAX CLASS AT TIME OF SALE  \\\n",
       "0               6440       1900                         2   \n",
       "1              18690       1900                         2   \n",
       "2               7803       1900                         2   \n",
       "3               6794       1913                         2   \n",
       "4               4615       1900                         2   \n",
       "\n",
       "   BUILDING CLASS AT TIME OF SALE  SALE PRICE        SALE DATE  \n",
       "0                              C2     6625000             why   \n",
       "1                              C7         -    12/14/2016 0:00  \n",
       "2                              C7         -     12/9/2016 0:00  \n",
       "3                              C4     3936272   9/23/2016 0:00  \n",
       "4                              C2     8000000  11/17/2016 0:00  \n",
       "\n",
       "[5 rows x 22 columns]"
      ]
     },
     "execution_count": 3,
     "metadata": {},
     "output_type": "execute_result"
    }
   ],
   "source": [
    "df.head()"
   ]
  },
  {
   "cell_type": "code",
   "execution_count": 4,
   "metadata": {},
   "outputs": [
    {
     "data": {
      "text/plain": [
       "Unnamed: 0                          int64\n",
       "BOROUGH                             int64\n",
       "NEIGHBORHOOD                       object\n",
       "BUILDING CLASS CATEGORY            object\n",
       "TAX CLASS AT PRESENT               object\n",
       "BLOCK                             float64\n",
       "LOT                                object\n",
       "EASE-MENT                          object\n",
       "BUILDING CLASS AT PRESENT          object\n",
       "ADDRESS                            object\n",
       "APARTMENT NUMBER                   object\n",
       "ZIP CODE                          float64\n",
       "RESIDENTIAL UNITS                   int64\n",
       "COMMERCIAL UNITS                    int64\n",
       "TOTAL UNITS                         int64\n",
       "LAND SQUARE FEET                   object\n",
       "GROSS SQUARE FEET                  object\n",
       "YEAR BUILT                          int64\n",
       "TAX CLASS AT TIME OF SALE           int64\n",
       "BUILDING CLASS AT TIME OF SALE     object\n",
       "SALE PRICE                         object\n",
       "SALE DATE                          object\n",
       "dtype: object"
      ]
     },
     "execution_count": 4,
     "metadata": {},
     "output_type": "execute_result"
    }
   ],
   "source": [
    "df.dtypes"
   ]
  },
  {
   "cell_type": "code",
   "execution_count": 5,
   "metadata": {},
   "outputs": [
    {
     "name": "stdout",
     "output_type": "stream",
     "text": [
      "Incorrect sale date = 3\n",
      "Incorrect year built = 0\n"
     ]
    }
   ],
   "source": [
    "#checking how many incorrect values are there for dates column\n",
    "incorrect_sale_date = pd.to_datetime(df['SALE DATE'], errors='coerce').isnull().sum() - df['SALE DATE'].isnull().sum()\n",
    "print(\"Incorrect sale date = %d\" % incorrect_sale_date)\n",
    "\n",
    "incorrect_year_built = pd.to_datetime(df['YEAR BUILT'], errors='coerce').isnull().sum() - df['YEAR BUILT'].isnull().sum()\n",
    "print(\"Incorrect year built = %d\" % incorrect_year_built)"
   ]
  },
  {
   "cell_type": "code",
   "execution_count": 6,
   "metadata": {},
   "outputs": [],
   "source": [
    "#Since only SALE DATE column has incorrect values (YEAR BUILT column is already int type, its not detetcing 0 as incorrect)\n",
    "#replacing incorrect values of SALE DATE column with nulls\n",
    "df['SALE DATE'] = pd.to_datetime(df['SALE DATE'], errors='coerce')"
   ]
  },
  {
   "cell_type": "code",
   "execution_count": 7,
   "metadata": {},
   "outputs": [
    {
     "data": {
      "text/plain": [
       "Unnamed: 0                         0\n",
       "BOROUGH                            0\n",
       "NEIGHBORHOOD                      30\n",
       "BUILDING CLASS CATEGORY           51\n",
       "TAX CLASS AT PRESENT               7\n",
       "BLOCK                             16\n",
       "LOT                                0\n",
       "EASE-MENT                          0\n",
       "BUILDING CLASS AT PRESENT          0\n",
       "ADDRESS                           45\n",
       "APARTMENT NUMBER                   1\n",
       "ZIP CODE                          36\n",
       "RESIDENTIAL UNITS                  0\n",
       "COMMERCIAL UNITS                   0\n",
       "TOTAL UNITS                        0\n",
       "LAND SQUARE FEET                   0\n",
       "GROSS SQUARE FEET                  0\n",
       "YEAR BUILT                         0\n",
       "TAX CLASS AT TIME OF SALE          0\n",
       "BUILDING CLASS AT TIME OF SALE     0\n",
       "SALE PRICE                         0\n",
       "SALE DATE                          3\n",
       "dtype: int64"
      ]
     },
     "execution_count": 7,
     "metadata": {},
     "output_type": "execute_result"
    }
   ],
   "source": [
    "#checking for total number of missing values in the entire dataset\n",
    "df.isnull().sum()"
   ]
  },
  {
   "cell_type": "code",
   "execution_count": 8,
   "metadata": {},
   "outputs": [],
   "source": [
    "#Dropping irrelevant columns that contain null values\n",
    "df = df.drop('TAX CLASS AT PRESENT', axis=1)\n",
    "df = df.drop('BLOCK', axis=1)\n",
    "df = df.drop('ADDRESS', axis=1)\n",
    "df = df.drop('APARTMENT NUMBER', axis=1)\n",
    "df = df.drop('ZIP CODE', axis=1)"
   ]
  },
  {
   "cell_type": "code",
   "execution_count": 9,
   "metadata": {},
   "outputs": [
    {
     "data": {
      "text/plain": [
       "Unnamed: 0                         0\n",
       "BOROUGH                            0\n",
       "NEIGHBORHOOD                      30\n",
       "BUILDING CLASS CATEGORY           51\n",
       "LOT                                0\n",
       "EASE-MENT                          0\n",
       "BUILDING CLASS AT PRESENT          0\n",
       "RESIDENTIAL UNITS                  0\n",
       "COMMERCIAL UNITS                   0\n",
       "TOTAL UNITS                        0\n",
       "LAND SQUARE FEET                   0\n",
       "GROSS SQUARE FEET                  0\n",
       "YEAR BUILT                         0\n",
       "TAX CLASS AT TIME OF SALE          0\n",
       "BUILDING CLASS AT TIME OF SALE     0\n",
       "SALE PRICE                         0\n",
       "SALE DATE                          3\n",
       "dtype: int64"
      ]
     },
     "execution_count": 9,
     "metadata": {},
     "output_type": "execute_result"
    }
   ],
   "source": [
    "df.isnull().sum()"
   ]
  },
  {
   "cell_type": "code",
   "execution_count": 10,
   "metadata": {},
   "outputs": [
    {
     "name": "stdout",
     "output_type": "stream",
     "text": [
      "0    FLUSHING-NORTH\n",
      "dtype: object\n",
      "0    01 ONE FAMILY DWELLINGS                    \n",
      "dtype: object\n"
     ]
    }
   ],
   "source": [
    "#finding modes of all categroical data that has null value\n",
    "print(df['NEIGHBORHOOD'].mode())\n",
    "print(df['BUILDING CLASS CATEGORY'].mode())"
   ]
  },
  {
   "cell_type": "code",
   "execution_count": 11,
   "metadata": {},
   "outputs": [],
   "source": [
    "#filling null values of categorical data with their mode value \n",
    "df['NEIGHBORHOOD'].fillna('FLUSHING-NORTH', inplace=True)\n",
    "df['BUILDING CLASS CATEGORY'].fillna('01 ONE FAMILY DWELLINGS', inplace=True)\n"
   ]
  },
  {
   "cell_type": "code",
   "execution_count": 12,
   "metadata": {},
   "outputs": [],
   "source": [
    "#dropping the rows that has null sale date\n",
    "df = df.drop(df[(df['SALE DATE'].isnull())].index)\n"
   ]
  },
  {
   "cell_type": "code",
   "execution_count": 13,
   "metadata": {},
   "outputs": [
    {
     "data": {
      "text/plain": [
       "Unnamed: 0                        0\n",
       "BOROUGH                           0\n",
       "NEIGHBORHOOD                      0\n",
       "BUILDING CLASS CATEGORY           0\n",
       "LOT                               0\n",
       "EASE-MENT                         0\n",
       "BUILDING CLASS AT PRESENT         0\n",
       "RESIDENTIAL UNITS                 0\n",
       "COMMERCIAL UNITS                  0\n",
       "TOTAL UNITS                       0\n",
       "LAND SQUARE FEET                  0\n",
       "GROSS SQUARE FEET                 0\n",
       "YEAR BUILT                        0\n",
       "TAX CLASS AT TIME OF SALE         0\n",
       "BUILDING CLASS AT TIME OF SALE    0\n",
       "SALE PRICE                        0\n",
       "SALE DATE                         0\n",
       "dtype: int64"
      ]
     },
     "execution_count": 13,
     "metadata": {},
     "output_type": "execute_result"
    }
   ],
   "source": [
    "df.isnull().sum()"
   ]
  },
  {
   "cell_type": "code",
   "execution_count": 14,
   "metadata": {},
   "outputs": [],
   "source": [
    "#dropping columns that do not seem to aid us in finding the solution to above mentioned questions\n",
    "df = df.drop('EASE-MENT', axis=1)\n",
    "df = df.drop('TOTAL UNITS', axis=1)\n",
    "df = df.drop('LAND SQUARE FEET', axis=1)\n",
    "df = df.drop('GROSS SQUARE FEET', axis=1)\n",
    "df = df.drop('TAX CLASS AT TIME OF SALE', axis=1)\n",
    "df = df.drop('BUILDING CLASS AT TIME OF SALE', axis=1)"
   ]
  },
  {
   "cell_type": "code",
   "execution_count": 15,
   "metadata": {},
   "outputs": [
    {
     "data": {
      "text/plain": [
       "Unnamed: 0                            int64\n",
       "BOROUGH                               int64\n",
       "NEIGHBORHOOD                         object\n",
       "BUILDING CLASS CATEGORY              object\n",
       "LOT                                  object\n",
       "BUILDING CLASS AT PRESENT            object\n",
       "RESIDENTIAL UNITS                     int64\n",
       "COMMERCIAL UNITS                      int64\n",
       "YEAR BUILT                            int64\n",
       "SALE PRICE                           object\n",
       "SALE DATE                    datetime64[ns]\n",
       "dtype: object"
      ]
     },
     "execution_count": 15,
     "metadata": {},
     "output_type": "execute_result"
    }
   ],
   "source": [
    "df.dtypes"
   ]
  },
  {
   "cell_type": "code",
   "execution_count": 16,
   "metadata": {},
   "outputs": [],
   "source": [
    "#replacing hyphens with null values in sale price\n",
    "df['SALE PRICE'] = pd.to_numeric(df['SALE PRICE'], downcast='integer', errors='coerce')"
   ]
  },
  {
   "cell_type": "code",
   "execution_count": 17,
   "metadata": {},
   "outputs": [
    {
     "data": {
      "text/plain": [
       "Unnamed: 0                       0\n",
       "BOROUGH                          0\n",
       "NEIGHBORHOOD                     0\n",
       "BUILDING CLASS CATEGORY          0\n",
       "LOT                              0\n",
       "BUILDING CLASS AT PRESENT        0\n",
       "RESIDENTIAL UNITS                0\n",
       "COMMERCIAL UNITS                 0\n",
       "YEAR BUILT                       0\n",
       "SALE PRICE                   14559\n",
       "SALE DATE                        0\n",
       "dtype: int64"
      ]
     },
     "execution_count": 17,
     "metadata": {},
     "output_type": "execute_result"
    }
   ],
   "source": [
    "df.isnull().sum()"
   ]
  },
  {
   "cell_type": "code",
   "execution_count": 18,
   "metadata": {},
   "outputs": [],
   "source": [
    "#replacing nul values with mean of the sale price\n",
    "df['SALE PRICE'].fillna(df['SALE PRICE'].mean(), inplace=True)"
   ]
  },
  {
   "cell_type": "code",
   "execution_count": 19,
   "metadata": {},
   "outputs": [
    {
     "data": {
      "text/plain": [
       "Unnamed: 0                   0\n",
       "BOROUGH                      0\n",
       "NEIGHBORHOOD                 0\n",
       "BUILDING CLASS CATEGORY      0\n",
       "LOT                          0\n",
       "BUILDING CLASS AT PRESENT    0\n",
       "RESIDENTIAL UNITS            0\n",
       "COMMERCIAL UNITS             0\n",
       "YEAR BUILT                   0\n",
       "SALE PRICE                   0\n",
       "SALE DATE                    0\n",
       "dtype: int64"
      ]
     },
     "execution_count": 19,
     "metadata": {},
     "output_type": "execute_result"
    }
   ],
   "source": [
    "df.isnull().sum()"
   ]
  },
  {
   "cell_type": "code",
   "execution_count": 20,
   "metadata": {},
   "outputs": [
    {
     "data": {
      "text/plain": [
       "(array([18304.,     0.,  7049.,     0.,     0., 24047.,     0., 26735.,\n",
       "            0.,  8410.]),\n",
       " array([1. , 1.4, 1.8, 2.2, 2.6, 3. , 3.4, 3.8, 4.2, 4.6, 5. ]),\n",
       " <a list of 10 Patch objects>)"
      ]
     },
     "execution_count": 20,
     "metadata": {},
     "output_type": "execute_result"
    },
    {
     "data": {
      "image/png": "[encoded data removed]",
      "text/plain": [
       "<Figure size 1440x576 with 1 Axes>"
      ]
     },
     "metadata": {
      "needs_background": "light"
     },
     "output_type": "display_data"
    }
   ],
   "source": [
    "plt.figure(figsize=[20,8])\n",
    "plt.hist(df['BOROUGH'])"
   ]
  },
  {
   "cell_type": "code",
   "execution_count": 21,
   "metadata": {},
   "outputs": [],
   "source": [
    "#Above histogram answers the first question that large number of properties are located in Borough no. 4(queens) & 3(Brooklyn) \n",
    "#which means that people prefer to buy their property mostly in Queens borough and then in Brooklyn"
   ]
  },
  {
   "cell_type": "code",
   "execution_count": 22,
   "metadata": {},
   "outputs": [
    {
     "name": "stderr",
     "output_type": "stream",
     "text": [
      "C:\\Users\\Abc\\Anaconda3\\lib\\site-packages\\pandas\\plotting\\_matplotlib\\converter.py:103: FutureWarning: Using an implicitly registered datetime converter for a matplotlib plotting method. The converter was registered by pandas on import. Future versions of pandas will require you to explicitly register matplotlib converters.\n",
      "\n",
      "To register the converters:\n",
      "\t>>> from pandas.plotting import register_matplotlib_converters\n",
      "\t>>> register_matplotlib_converters()\n",
      "  warnings.warn(msg, FutureWarning)\n"
     ]
    },
    {
     "data": {
      "text/plain": [
       "(array([12338., 12400., 12595., 11386., 12599., 12190., 11037.]),\n",
       " array([736208., 736260., 736312., 736364., 736416., 736468., 736520.,\n",
       "        736572.]),\n",
       " <a list of 7 Patch objects>)"
      ]
     },
     "execution_count": 22,
     "metadata": {},
     "output_type": "execute_result"
    },
    {
     "data": {
      "image/png": "[encoded data removed]",
      "text/plain": [
       "<Figure size 432x288 with 1 Axes>"
      ]
     },
     "metadata": {
      "needs_background": "light"
     },
     "output_type": "display_data"
    }
   ],
   "source": [
    "#plt.figure(figsize=[20,8])\n",
    "plt.hist(df['SALE DATE'], rwidth=0.7, bins = 7)"
   ]
  },
  {
   "cell_type": "code",
   "execution_count": 23,
   "metadata": {},
   "outputs": [],
   "source": [
    "#Above histogram answers the 3rd question i.e. the month of january and may bring the most number of sales for property dealers."
   ]
  },
  {
   "cell_type": "code",
   "execution_count": 24,
   "metadata": {},
   "outputs": [
    {
     "data": {
      "text/plain": [
       "<BarContainer object of 84545 artists>"
      ]
     },
     "execution_count": 24,
     "metadata": {},
     "output_type": "execute_result"
    },
    {
     "data": {
      "image/png": "[encoded data removed]",
      "text/plain": [
       "<Figure size 432x288 with 1 Axes>"
      ]
     },
     "metadata": {
      "needs_background": "light"
     },
     "output_type": "display_data"
    }
   ],
   "source": [
    "plt.bar(df['NEIGHBORHOOD'], df['SALE PRICE']) #proper visualization of below bargraph will answer question no 2 "
   ]
  },
  {
   "cell_type": "code",
   "execution_count": 32,
   "metadata": {},
   "outputs": [
    {
     "name": "stdout",
     "output_type": "stream",
     "text": [
      "0    1.0\n",
      "dtype: float64\n"
     ]
    }
   ],
   "source": [
    "#replacing non-numeric data with null values in LOT\n",
    "df['LOT'] = pd.to_numeric(df['LOT'], downcast='integer', errors='coerce')\n",
    "\n",
    "print(df['LOT'].mode())"
   ]
  },
  {
   "cell_type": "code",
   "execution_count": 33,
   "metadata": {},
   "outputs": [],
   "source": [
    "#replacing nul values with mode of LOT\n",
    "df['LOT'].fillna(1.0, inplace=True)"
   ]
  },
  {
   "cell_type": "code",
   "execution_count": 36,
   "metadata": {},
   "outputs": [
    {
     "data": {
      "text/plain": [
       "(array([6.3272e+04, 1.9368e+04, 1.1480e+03, 2.9600e+02, 2.8100e+02,\n",
       "        7.8000e+01, 3.1000e+01, 2.0000e+01, 2.0000e+01, 3.1000e+01]),\n",
       " array([1.0000e+00, 9.1150e+02, 1.8220e+03, 2.7325e+03, 3.6430e+03,\n",
       "        4.5535e+03, 5.4640e+03, 6.3745e+03, 7.2850e+03, 8.1955e+03,\n",
       "        9.1060e+03]),\n",
       " <a list of 10 Patch objects>)"
      ]
     },
     "execution_count": 36,
     "metadata": {},
     "output_type": "execute_result"
    },
    {
     "data": {
      "image/png": "[encoded data removed]",
      "text/plain": [
       "<Figure size 432x288 with 1 Axes>"
      ]
     },
     "metadata": {
      "needs_background": "light"
     },
     "output_type": "display_data"
    }
   ],
   "source": [
    "plt.hist(df['LOT'], rwidth=0.7)"
   ]
  },
  {
   "cell_type": "code",
   "execution_count": 37,
   "metadata": {},
   "outputs": [],
   "source": [
    "#Above histogram answers the last question i.e. largest number of properties is above 60K in a LOT."
   ]
  },
  {
   "cell_type": "code",
   "execution_count": null,
   "metadata": {},
   "outputs": [],
   "source": []
  }
 ],
 "metadata": {
  "kernelspec": {
   "display_name": "Python 3",
   "language": "python",
   "name": "python3"
  },
  "language_info": {
   "codemirror_mode": {
    "name": "ipython",
    "version": 3
   },
   "file_extension": ".py",
   "mimetype": "text/x-python",
   "name": "python",
   "nbconvert_exporter": "python",
   "pygments_lexer": "ipython3",
   "version": "3.7.4"
  }
 },
 "nbformat": 4,
 "nbformat_minor": 2
}
