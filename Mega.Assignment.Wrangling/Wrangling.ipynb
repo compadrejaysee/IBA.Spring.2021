{
 "cells": [
  {
   "cell_type": "code",
   "execution_count": 88,
   "metadata": {},
   "outputs": [],
   "source": [
    "import pandas as pd\n",
    "import numpy as np\n",
    "from matplotlib import pyplot\n",
    "\n",
    "from scipy.stats import shapiro\n",
    "from scipy.stats import normaltest\n",
    "from scipy.stats import anderson\n",
    "from scipy.stats import chi2_contingency\n",
    "from scipy.stats import chi2\n",
    "from scipy import stats\n",
    "\n",
    "import statsmodels.api as sm\n",
    "from statsmodels.formula.api import ols\n",
    "from statsmodels.stats.multicomp import pairwise_tukeyhsd\n",
    "from statsmodels.graphics.gofplots import qqplot"
   ]
  },
  {
   "cell_type": "code",
   "execution_count": 19,
   "metadata": {},
   "outputs": [
    {
     "name": "stderr",
     "output_type": "stream",
     "text": [
      "C:\\ProgramData\\Anaconda3\\lib\\site-packages\\IPython\\core\\interactiveshell.py:3063: DtypeWarning: Columns (6) have mixed types.Specify dtype option on import or set low_memory=False.\n",
      "  interactivity=interactivity, compiler=compiler, result=result)\n"
     ]
    }
   ],
   "source": [
    "#import the data\n",
    "nycdf = pd.read_csv(\"nyc-rolling-sales-dirty.csv\")"
   ]
  },
  {
   "cell_type": "code",
   "execution_count": 20,
   "metadata": {},
   "outputs": [
    {
     "data": {
      "text/html": [
       "<div>\n",
       "<style scoped>\n",
       "    .dataframe tbody tr th:only-of-type {\n",
       "        vertical-align: middle;\n",
       "    }\n",
       "\n",
       "    .dataframe tbody tr th {\n",
       "        vertical-align: top;\n",
       "    }\n",
       "\n",
       "    .dataframe thead th {\n",
       "        text-align: right;\n",
       "    }\n",
       "</style>\n",
       "<table border=\"1\" class=\"dataframe\">\n",
       "  <thead>\n",
       "    <tr style=\"text-align: right;\">\n",
       "      <th></th>\n",
       "      <th>Unnamed: 0</th>\n",
       "      <th>BOROUGH</th>\n",
       "      <th>NEIGHBORHOOD</th>\n",
       "      <th>BUILDING CLASS CATEGORY</th>\n",
       "      <th>TAX CLASS AT PRESENT</th>\n",
       "      <th>BLOCK</th>\n",
       "      <th>LOT</th>\n",
       "      <th>EASE-MENT</th>\n",
       "      <th>BUILDING CLASS AT PRESENT</th>\n",
       "      <th>ADDRESS</th>\n",
       "      <th>...</th>\n",
       "      <th>RESIDENTIAL UNITS</th>\n",
       "      <th>COMMERCIAL UNITS</th>\n",
       "      <th>TOTAL UNITS</th>\n",
       "      <th>LAND SQUARE FEET</th>\n",
       "      <th>GROSS SQUARE FEET</th>\n",
       "      <th>YEAR BUILT</th>\n",
       "      <th>TAX CLASS AT TIME OF SALE</th>\n",
       "      <th>BUILDING CLASS AT TIME OF SALE</th>\n",
       "      <th>SALE PRICE</th>\n",
       "      <th>SALE DATE</th>\n",
       "    </tr>\n",
       "  </thead>\n",
       "  <tbody>\n",
       "    <tr>\n",
       "      <th>0</th>\n",
       "      <td>4</td>\n",
       "      <td>1</td>\n",
       "      <td>ALPHABET CITY</td>\n",
       "      <td>07 RENTALS - WALKUP APARTMENTS</td>\n",
       "      <td>2A</td>\n",
       "      <td>392.0</td>\n",
       "      <td>No Number</td>\n",
       "      <td></td>\n",
       "      <td>65000</td>\n",
       "      <td>NaN</td>\n",
       "      <td>...</td>\n",
       "      <td>5</td>\n",
       "      <td>0</td>\n",
       "      <td>5</td>\n",
       "      <td>1633</td>\n",
       "      <td>6440</td>\n",
       "      <td>1900</td>\n",
       "      <td>2</td>\n",
       "      <td>C2</td>\n",
       "      <td>6625000</td>\n",
       "      <td>why</td>\n",
       "    </tr>\n",
       "    <tr>\n",
       "      <th>1</th>\n",
       "      <td>5</td>\n",
       "      <td>1</td>\n",
       "      <td>ALPHABET CITY</td>\n",
       "      <td>07 RENTALS - WALKUP APARTMENTS</td>\n",
       "      <td>2</td>\n",
       "      <td>399.0</td>\n",
       "      <td>26</td>\n",
       "      <td></td>\n",
       "      <td>C7</td>\n",
       "      <td>NaN</td>\n",
       "      <td>...</td>\n",
       "      <td>28</td>\n",
       "      <td>3</td>\n",
       "      <td>31</td>\n",
       "      <td>4616</td>\n",
       "      <td>18690</td>\n",
       "      <td>1900</td>\n",
       "      <td>2</td>\n",
       "      <td>C7</td>\n",
       "      <td>-</td>\n",
       "      <td>12/14/2016 0:00</td>\n",
       "    </tr>\n",
       "    <tr>\n",
       "      <th>2</th>\n",
       "      <td>6</td>\n",
       "      <td>1</td>\n",
       "      <td>ALPHABET CITY</td>\n",
       "      <td>07 RENTALS - WALKUP APARTMENTS</td>\n",
       "      <td>NaN</td>\n",
       "      <td>399.0</td>\n",
       "      <td>39</td>\n",
       "      <td></td>\n",
       "      <td>C7</td>\n",
       "      <td>NaN</td>\n",
       "      <td>...</td>\n",
       "      <td>16</td>\n",
       "      <td>1</td>\n",
       "      <td>17</td>\n",
       "      <td>2212</td>\n",
       "      <td>7803</td>\n",
       "      <td>1900</td>\n",
       "      <td>2</td>\n",
       "      <td>C7</td>\n",
       "      <td>-</td>\n",
       "      <td>12/9/2016 0:00</td>\n",
       "    </tr>\n",
       "    <tr>\n",
       "      <th>3</th>\n",
       "      <td>7</td>\n",
       "      <td>1</td>\n",
       "      <td>ALPHABET CITY</td>\n",
       "      <td>07 RENTALS - WALKUP APARTMENTS</td>\n",
       "      <td>NaN</td>\n",
       "      <td>402.0</td>\n",
       "      <td>21</td>\n",
       "      <td></td>\n",
       "      <td>C4</td>\n",
       "      <td>NaN</td>\n",
       "      <td>...</td>\n",
       "      <td>10</td>\n",
       "      <td>0</td>\n",
       "      <td>10</td>\n",
       "      <td>2272</td>\n",
       "      <td>6794</td>\n",
       "      <td>1913</td>\n",
       "      <td>2</td>\n",
       "      <td>C4</td>\n",
       "      <td>3936272</td>\n",
       "      <td>9/23/2016 0:00</td>\n",
       "    </tr>\n",
       "    <tr>\n",
       "      <th>4</th>\n",
       "      <td>8</td>\n",
       "      <td>1</td>\n",
       "      <td>ALPHABET CITY</td>\n",
       "      <td>07 RENTALS - WALKUP APARTMENTS</td>\n",
       "      <td>NaN</td>\n",
       "      <td>404.0</td>\n",
       "      <td>55</td>\n",
       "      <td></td>\n",
       "      <td>C2</td>\n",
       "      <td>NaN</td>\n",
       "      <td>...</td>\n",
       "      <td>6</td>\n",
       "      <td>0</td>\n",
       "      <td>6</td>\n",
       "      <td>2369</td>\n",
       "      <td>4615</td>\n",
       "      <td>1900</td>\n",
       "      <td>2</td>\n",
       "      <td>C2</td>\n",
       "      <td>8000000</td>\n",
       "      <td>11/17/2016 0:00</td>\n",
       "    </tr>\n",
       "  </tbody>\n",
       "</table>\n",
       "<p>5 rows × 22 columns</p>\n",
       "</div>"
      ],
      "text/plain": [
       "   Unnamed: 0  BOROUGH   NEIGHBORHOOD  \\\n",
       "0           4        1  ALPHABET CITY   \n",
       "1           5        1  ALPHABET CITY   \n",
       "2           6        1  ALPHABET CITY   \n",
       "3           7        1  ALPHABET CITY   \n",
       "4           8        1  ALPHABET CITY   \n",
       "\n",
       "                       BUILDING CLASS CATEGORY TAX CLASS AT PRESENT  BLOCK  \\\n",
       "0  07 RENTALS - WALKUP APARTMENTS                                2A  392.0   \n",
       "1  07 RENTALS - WALKUP APARTMENTS                                 2  399.0   \n",
       "2  07 RENTALS - WALKUP APARTMENTS                               NaN  399.0   \n",
       "3  07 RENTALS - WALKUP APARTMENTS                               NaN  402.0   \n",
       "4  07 RENTALS - WALKUP APARTMENTS                               NaN  404.0   \n",
       "\n",
       "         LOT EASE-MENT BUILDING CLASS AT PRESENT ADDRESS  ...  \\\n",
       "0  No Number                               65000     NaN  ...   \n",
       "1         26                                  C7     NaN  ...   \n",
       "2         39                                  C7     NaN  ...   \n",
       "3         21                                  C4     NaN  ...   \n",
       "4         55                                  C2     NaN  ...   \n",
       "\n",
       "  RESIDENTIAL UNITS  COMMERCIAL UNITS  TOTAL UNITS  LAND SQUARE FEET  \\\n",
       "0                 5                 0            5              1633   \n",
       "1                28                 3           31              4616   \n",
       "2                16                 1           17              2212   \n",
       "3                10                 0           10              2272   \n",
       "4                 6                 0            6              2369   \n",
       "\n",
       "   GROSS SQUARE FEET YEAR BUILT TAX CLASS AT TIME OF SALE  \\\n",
       "0               6440       1900                         2   \n",
       "1              18690       1900                         2   \n",
       "2               7803       1900                         2   \n",
       "3               6794       1913                         2   \n",
       "4               4615       1900                         2   \n",
       "\n",
       "   BUILDING CLASS AT TIME OF SALE  SALE PRICE        SALE DATE  \n",
       "0                              C2     6625000             why   \n",
       "1                              C7         -    12/14/2016 0:00  \n",
       "2                              C7         -     12/9/2016 0:00  \n",
       "3                              C4     3936272   9/23/2016 0:00  \n",
       "4                              C2     8000000  11/17/2016 0:00  \n",
       "\n",
       "[5 rows x 22 columns]"
      ]
     },
     "execution_count": 20,
     "metadata": {},
     "output_type": "execute_result"
    }
   ],
   "source": [
    "nycdf.head(5)"
   ]
  },
  {
   "cell_type": "code",
   "execution_count": 21,
   "metadata": {},
   "outputs": [
    {
     "name": "stdout",
     "output_type": "stream",
     "text": [
      "Rows=84548, Columns=22\n",
      "Unnamed: 0                          int64\n",
      "BOROUGH                             int64\n",
      "NEIGHBORHOOD                       object\n",
      "BUILDING CLASS CATEGORY            object\n",
      "TAX CLASS AT PRESENT               object\n",
      "BLOCK                             float64\n",
      "LOT                                object\n",
      "EASE-MENT                          object\n",
      "BUILDING CLASS AT PRESENT          object\n",
      "ADDRESS                            object\n",
      "APARTMENT NUMBER                   object\n",
      "ZIP CODE                          float64\n",
      "RESIDENTIAL UNITS                   int64\n",
      "COMMERCIAL UNITS                    int64\n",
      "TOTAL UNITS                         int64\n",
      "LAND SQUARE FEET                   object\n",
      "GROSS SQUARE FEET                  object\n",
      "YEAR BUILT                          int64\n",
      "TAX CLASS AT TIME OF SALE           int64\n",
      "BUILDING CLASS AT TIME OF SALE     object\n",
      "SALE PRICE                         object\n",
      "SALE DATE                          object\n",
      "dtype: object\n"
     ]
    }
   ],
   "source": [
    "print(\"Rows=%d, Columns=%d\" % (nycdf.shape[0], nycdf.shape[1]))\n",
    "print(nycdf.dtypes)"
   ]
  },
  {
   "cell_type": "code",
   "execution_count": 23,
   "metadata": {},
   "outputs": [
    {
     "name": "stdout",
     "output_type": "stream",
     "text": [
      "Affected sale date records= 3\n",
      "Affected year built records= 0\n",
      "Affected sale price records= 84020\n"
     ]
    }
   ],
   "source": [
    "# Dealing with incorrect values\n",
    "\n",
    "# Lets see how many rows will be affected if we replace incorrect values with NaT\n",
    "affected_date_records = pd.to_datetime(nycdf['SALE DATE'], errors='coerce').isnull().sum() - nycdf['SALE DATE'].isnull().sum()\n",
    "print(\"Affected sale date records = %d\" % affected_date_records)\n",
    "\n",
    "# Same for year built\n",
    "affected_year_built_records = pd.to_datetime(nycdf['YEAR BUILT'], errors='coerce').isnull().sum() - nycdf['YEAR BUILT'].isnull().sum()\n",
    "print(\"Affected year built records = %d\" % affected_year_built_records)\n",
    "\n",
    "# Same for sale price\n",
    "affected_sale_price_records = pd.to_datetime(nycdf['SALE PRICE'], errors='coerce').isnull().sum() - nycdf['SALE PRICE'].isnull().sum()\n",
    "print(\"Affected sale price records = %d\" % affected_sale_price_records)"
   ]
  },
  {
   "cell_type": "code",
   "execution_count": 12,
   "metadata": {},
   "outputs": [],
   "source": [
    "# Very few rows are being affected, so safe to replace\n",
    "nycdf['SALE DATE'] = pd.to_datetime(nycdf['SALE DATE'], errors='coerce') # Replace incorrect values with NaT\n",
    "\n",
    "nycdf['YEAR BUILT'] = pd.to_datetime(nycdf['YEAR BUILT'], errors='coerce') # Replace incorrect values with NaT\n",
    "\n",
    "# Lets deal with incorrect Sales value in the same way for now\n",
    "nycdf['SALE PRICE'] = pd.to_numeric(nycdf['SALE PRICE'], errors='coerce')"
   ]
  },
  {
   "cell_type": "code",
   "execution_count": 13,
   "metadata": {},
   "outputs": [
    {
     "data": {
      "text/plain": [
       "Unnamed: 0                                 int64\n",
       "BOROUGH                                    int64\n",
       "NEIGHBORHOOD                              object\n",
       "BUILDING CLASS CATEGORY                   object\n",
       "TAX CLASS AT PRESENT                      object\n",
       "BLOCK                                    float64\n",
       "LOT                                       object\n",
       "EASE-MENT                                 object\n",
       "BUILDING CLASS AT PRESENT                 object\n",
       "ADDRESS                                   object\n",
       "APARTMENT NUMBER                          object\n",
       "ZIP CODE                                 float64\n",
       "RESIDENTIAL UNITS                          int64\n",
       "COMMERCIAL UNITS                           int64\n",
       "TOTAL UNITS                                int64\n",
       "LAND SQUARE FEET                          object\n",
       "GROSS SQUARE FEET                         object\n",
       "YEAR BUILT                        datetime64[ns]\n",
       "TAX CLASS AT TIME OF SALE                  int64\n",
       "BUILDING CLASS AT TIME OF SALE            object\n",
       "SALE PRICE                               float64\n",
       "SALE DATE                         datetime64[ns]\n",
       "dtype: object"
      ]
     },
     "execution_count": 13,
     "metadata": {},
     "output_type": "execute_result"
    }
   ],
   "source": [
    "nycdf.dtypes"
   ]
  },
  {
   "cell_type": "code",
   "execution_count": null,
   "metadata": {},
   "outputs": [],
   "source": []
  },
  {
   "cell_type": "code",
   "execution_count": 15,
   "metadata": {},
   "outputs": [
    {
     "data": {
      "text/plain": [
       "0      6625000.0\n",
       "1            NaN\n",
       "2            NaN\n",
       "3      3936272.0\n",
       "4      8000000.0\n",
       "5            NaN\n",
       "6      3192840.0\n",
       "7            NaN\n",
       "8            NaN\n",
       "9     16232000.0\n",
       "10           NaN\n",
       "11    10350000.0\n",
       "12           1.0\n",
       "13      499000.0\n",
       "14          10.0\n",
       "15      529500.0\n",
       "16      423000.0\n",
       "17      501000.0\n",
       "18      450000.0\n",
       "19      510000.0\n",
       "20           NaN\n",
       "21      350000.0\n",
       "22    11900000.0\n",
       "23    11900000.0\n",
       "24      350000.0\n",
       "25      404000.0\n",
       "26      535000.0\n",
       "27     1400000.0\n",
       "28      866000.0\n",
       "29      355000.0\n",
       "30           NaN\n",
       "31      805000.0\n",
       "32      475000.0\n",
       "33      450000.0\n",
       "34      450000.0\n",
       "35      810000.0\n",
       "36           NaN\n",
       "37      300000.0\n",
       "38      300000.0\n",
       "39      579000.0\n",
       "40     1500000.0\n",
       "41       25000.0\n",
       "42      512000.0\n",
       "43      410000.0\n",
       "44      500000.0\n",
       "45      510000.0\n",
       "46      475000.0\n",
       "47      789019.0\n",
       "48           NaN\n",
       "49           NaN\n",
       "Name: SALE PRICE, dtype: float64"
      ]
     },
     "execution_count": 15,
     "metadata": {},
     "output_type": "execute_result"
    }
   ],
   "source": [
    "nycdf['SALE PRICE'].head(50)"
   ]
  },
  {
   "cell_type": "code",
   "execution_count": 25,
   "metadata": {},
   "outputs": [],
   "source": [
    "import re\n",
    "def eliminate_numeric_values(item):\n",
    "    if isinstance(item, str):\n",
    "        return item if not re.match(r\"^[0-9]+$\", item) else pd.NaT\n",
    "    else:\n",
    "        return pd.NaT\n",
    "\n",
    "# Customer Name values seems to be incorrect in some cases, they are just numbers, \n",
    "#lets replace incorrect values with NaN\n",
    "nycdf['BUILDING CLASS AT PRESENT'] = nycdf['BUILDING CLASS AT PRESENT'].map(eliminate_numeric_values)"
   ]
  },
  {
   "cell_type": "code",
   "execution_count": 26,
   "metadata": {},
   "outputs": [
    {
     "data": {
      "text/plain": [
       "Unnamed: 0                         0\n",
       "BOROUGH                            0\n",
       "NEIGHBORHOOD                      30\n",
       "BUILDING CLASS CATEGORY           51\n",
       "TAX CLASS AT PRESENT               7\n",
       "BLOCK                             16\n",
       "LOT                                0\n",
       "EASE-MENT                          0\n",
       "BUILDING CLASS AT PRESENT          1\n",
       "ADDRESS                           45\n",
       "APARTMENT NUMBER                   1\n",
       "ZIP CODE                          36\n",
       "RESIDENTIAL UNITS                  0\n",
       "COMMERCIAL UNITS                   0\n",
       "TOTAL UNITS                        0\n",
       "LAND SQUARE FEET                   0\n",
       "GROSS SQUARE FEET                  0\n",
       "YEAR BUILT                         0\n",
       "TAX CLASS AT TIME OF SALE          0\n",
       "BUILDING CLASS AT TIME OF SALE     0\n",
       "SALE PRICE                         0\n",
       "SALE DATE                          0\n",
       "dtype: int64"
      ]
     },
     "execution_count": 26,
     "metadata": {},
     "output_type": "execute_result"
    }
   ],
   "source": [
    "# missing values in our dataset\n",
    "nycdf.isnull().sum()"
   ]
  },
  {
   "cell_type": "code",
   "execution_count": 30,
   "metadata": {},
   "outputs": [
    {
     "name": "stdout",
     "output_type": "stream",
     "text": [
      "False\n"
     ]
    }
   ],
   "source": [
    "# building class seems to have alot of null values\n",
    "#and it cannot be used as unique identifier for our records\n",
    "print(nycdf['BUILDING CLASS CATEGORY'].is_unique)"
   ]
  },
  {
   "cell_type": "code",
   "execution_count": 31,
   "metadata": {},
   "outputs": [],
   "source": [
    "# so there is no real significance of keeping building class,\n",
    "# Lets drop this column\n",
    "nycdf = nycdf.drop('BUILDING CLASS CATEGORY', axis=1)"
   ]
  },
  {
   "cell_type": "code",
   "execution_count": 46,
   "metadata": {},
   "outputs": [
    {
     "data": {
      "text/plain": [
       "<matplotlib.axes._subplots.AxesSubplot at 0x27fd0bab248>"
      ]
     },
     "execution_count": 46,
     "metadata": {},
     "output_type": "execute_result"
    },
    {
     "data": {
      "image/png": "[encoded data removed]",
      "text/plain": [
       "<Figure size 432x288 with 1 Axes>"
      ]
     },
     "metadata": {
      "needs_background": "light"
     },
     "output_type": "display_data"
    }
   ],
   "source": [
    "#create a separate column for the year and see boxplot\n",
    "nycdf['sale_date_year'] = pd.to_datetime(nycdf['SALE DATE'], errors='coerce').apply(lambda x: x.year)\n",
    "nycdf.boxplot(column='sale_date_year', sym='o', return_type='axes')\n"
   ]
  },
  {
   "cell_type": "code",
   "execution_count": 47,
   "metadata": {},
   "outputs": [
    {
     "data": {
      "text/plain": [
       "<matplotlib.axes._subplots.AxesSubplot at 0x27fcb393948>"
      ]
     },
     "execution_count": 47,
     "metadata": {},
     "output_type": "execute_result"
    },
    {
     "data": {
      "image/png": "[encoded data removed]",
      "text/plain": [
       "<Figure size 432x288 with 1 Axes>"
      ]
     },
     "metadata": {
      "needs_background": "light"
     },
     "output_type": "display_data"
    }
   ],
   "source": [
    "#create a separate column for the year and see boxplot\n",
    "nycdf['built_year'] = pd.to_datetime(nycdf['YEAR BUILT'], errors='coerce').apply(lambda x: x.year)\n",
    "nycdf.boxplot(column='built_year', sym='o', return_type='axes')"
   ]
  },
  {
   "cell_type": "code",
   "execution_count": 48,
   "metadata": {},
   "outputs": [],
   "source": [
    "nycdf = nycdf.drop('sale_date_year', axis=1)\n",
    "nycdf = nycdf.drop('built_year', axis=1)"
   ]
  },
  {
   "cell_type": "code",
   "execution_count": 49,
   "metadata": {},
   "outputs": [
    {
     "data": {
      "text/html": [
       "<div>\n",
       "<style scoped>\n",
       "    .dataframe tbody tr th:only-of-type {\n",
       "        vertical-align: middle;\n",
       "    }\n",
       "\n",
       "    .dataframe tbody tr th {\n",
       "        vertical-align: top;\n",
       "    }\n",
       "\n",
       "    .dataframe thead th {\n",
       "        text-align: right;\n",
       "    }\n",
       "</style>\n",
       "<table border=\"1\" class=\"dataframe\">\n",
       "  <thead>\n",
       "    <tr style=\"text-align: right;\">\n",
       "      <th></th>\n",
       "      <th>Unnamed: 0</th>\n",
       "      <th>BOROUGH</th>\n",
       "      <th>NEIGHBORHOOD</th>\n",
       "      <th>TAX CLASS AT PRESENT</th>\n",
       "      <th>BLOCK</th>\n",
       "      <th>LOT</th>\n",
       "      <th>EASE-MENT</th>\n",
       "      <th>BUILDING CLASS AT PRESENT</th>\n",
       "      <th>ADDRESS</th>\n",
       "      <th>APARTMENT NUMBER</th>\n",
       "      <th>...</th>\n",
       "      <th>RESIDENTIAL UNITS</th>\n",
       "      <th>COMMERCIAL UNITS</th>\n",
       "      <th>TOTAL UNITS</th>\n",
       "      <th>LAND SQUARE FEET</th>\n",
       "      <th>GROSS SQUARE FEET</th>\n",
       "      <th>YEAR BUILT</th>\n",
       "      <th>TAX CLASS AT TIME OF SALE</th>\n",
       "      <th>BUILDING CLASS AT TIME OF SALE</th>\n",
       "      <th>SALE PRICE</th>\n",
       "      <th>SALE DATE</th>\n",
       "    </tr>\n",
       "  </thead>\n",
       "  <tbody>\n",
       "    <tr>\n",
       "      <th>0</th>\n",
       "      <td>4</td>\n",
       "      <td>1</td>\n",
       "      <td>ALPHABET CITY</td>\n",
       "      <td>2A</td>\n",
       "      <td>392.0</td>\n",
       "      <td>No Number</td>\n",
       "      <td></td>\n",
       "      <td>NaT</td>\n",
       "      <td>NaN</td>\n",
       "      <td>NaN</td>\n",
       "      <td>...</td>\n",
       "      <td>5</td>\n",
       "      <td>0</td>\n",
       "      <td>5</td>\n",
       "      <td>1633</td>\n",
       "      <td>6440</td>\n",
       "      <td>1900</td>\n",
       "      <td>2</td>\n",
       "      <td>C2</td>\n",
       "      <td>6625000</td>\n",
       "      <td>why</td>\n",
       "    </tr>\n",
       "    <tr>\n",
       "      <th>1</th>\n",
       "      <td>5</td>\n",
       "      <td>1</td>\n",
       "      <td>ALPHABET CITY</td>\n",
       "      <td>2</td>\n",
       "      <td>399.0</td>\n",
       "      <td>26</td>\n",
       "      <td></td>\n",
       "      <td>C7</td>\n",
       "      <td>NaN</td>\n",
       "      <td></td>\n",
       "      <td>...</td>\n",
       "      <td>28</td>\n",
       "      <td>3</td>\n",
       "      <td>31</td>\n",
       "      <td>4616</td>\n",
       "      <td>18690</td>\n",
       "      <td>1900</td>\n",
       "      <td>2</td>\n",
       "      <td>C7</td>\n",
       "      <td>-</td>\n",
       "      <td>12/14/2016 0:00</td>\n",
       "    </tr>\n",
       "    <tr>\n",
       "      <th>2</th>\n",
       "      <td>6</td>\n",
       "      <td>1</td>\n",
       "      <td>ALPHABET CITY</td>\n",
       "      <td>NaN</td>\n",
       "      <td>399.0</td>\n",
       "      <td>39</td>\n",
       "      <td></td>\n",
       "      <td>C7</td>\n",
       "      <td>NaN</td>\n",
       "      <td></td>\n",
       "      <td>...</td>\n",
       "      <td>16</td>\n",
       "      <td>1</td>\n",
       "      <td>17</td>\n",
       "      <td>2212</td>\n",
       "      <td>7803</td>\n",
       "      <td>1900</td>\n",
       "      <td>2</td>\n",
       "      <td>C7</td>\n",
       "      <td>-</td>\n",
       "      <td>12/9/2016 0:00</td>\n",
       "    </tr>\n",
       "    <tr>\n",
       "      <th>3</th>\n",
       "      <td>7</td>\n",
       "      <td>1</td>\n",
       "      <td>ALPHABET CITY</td>\n",
       "      <td>NaN</td>\n",
       "      <td>402.0</td>\n",
       "      <td>21</td>\n",
       "      <td></td>\n",
       "      <td>C4</td>\n",
       "      <td>NaN</td>\n",
       "      <td></td>\n",
       "      <td>...</td>\n",
       "      <td>10</td>\n",
       "      <td>0</td>\n",
       "      <td>10</td>\n",
       "      <td>2272</td>\n",
       "      <td>6794</td>\n",
       "      <td>1913</td>\n",
       "      <td>2</td>\n",
       "      <td>C4</td>\n",
       "      <td>3936272</td>\n",
       "      <td>9/23/2016 0:00</td>\n",
       "    </tr>\n",
       "    <tr>\n",
       "      <th>4</th>\n",
       "      <td>8</td>\n",
       "      <td>1</td>\n",
       "      <td>ALPHABET CITY</td>\n",
       "      <td>NaN</td>\n",
       "      <td>404.0</td>\n",
       "      <td>55</td>\n",
       "      <td></td>\n",
       "      <td>C2</td>\n",
       "      <td>NaN</td>\n",
       "      <td></td>\n",
       "      <td>...</td>\n",
       "      <td>6</td>\n",
       "      <td>0</td>\n",
       "      <td>6</td>\n",
       "      <td>2369</td>\n",
       "      <td>4615</td>\n",
       "      <td>1900</td>\n",
       "      <td>2</td>\n",
       "      <td>C2</td>\n",
       "      <td>8000000</td>\n",
       "      <td>11/17/2016 0:00</td>\n",
       "    </tr>\n",
       "    <tr>\n",
       "      <th>...</th>\n",
       "      <td>...</td>\n",
       "      <td>...</td>\n",
       "      <td>...</td>\n",
       "      <td>...</td>\n",
       "      <td>...</td>\n",
       "      <td>...</td>\n",
       "      <td>...</td>\n",
       "      <td>...</td>\n",
       "      <td>...</td>\n",
       "      <td>...</td>\n",
       "      <td>...</td>\n",
       "      <td>...</td>\n",
       "      <td>...</td>\n",
       "      <td>...</td>\n",
       "      <td>...</td>\n",
       "      <td>...</td>\n",
       "      <td>...</td>\n",
       "      <td>...</td>\n",
       "      <td>...</td>\n",
       "      <td>...</td>\n",
       "      <td>...</td>\n",
       "    </tr>\n",
       "    <tr>\n",
       "      <th>84543</th>\n",
       "      <td>8409</td>\n",
       "      <td>5</td>\n",
       "      <td>WOODROW</td>\n",
       "      <td>1</td>\n",
       "      <td>7349.0</td>\n",
       "      <td>34</td>\n",
       "      <td></td>\n",
       "      <td>B9</td>\n",
       "      <td>37 QUAIL LANE</td>\n",
       "      <td></td>\n",
       "      <td>...</td>\n",
       "      <td>2</td>\n",
       "      <td>0</td>\n",
       "      <td>2</td>\n",
       "      <td>2400</td>\n",
       "      <td>2575</td>\n",
       "      <td>1998</td>\n",
       "      <td>1</td>\n",
       "      <td>B9</td>\n",
       "      <td>450000</td>\n",
       "      <td>11/28/2016 0:00</td>\n",
       "    </tr>\n",
       "    <tr>\n",
       "      <th>84544</th>\n",
       "      <td>8410</td>\n",
       "      <td>5</td>\n",
       "      <td>WOODROW</td>\n",
       "      <td>1</td>\n",
       "      <td>7349.0</td>\n",
       "      <td>78</td>\n",
       "      <td></td>\n",
       "      <td>B9</td>\n",
       "      <td>32 PHEASANT LANE</td>\n",
       "      <td></td>\n",
       "      <td>...</td>\n",
       "      <td>2</td>\n",
       "      <td>0</td>\n",
       "      <td>2</td>\n",
       "      <td>2498</td>\n",
       "      <td>2377</td>\n",
       "      <td>1998</td>\n",
       "      <td>1</td>\n",
       "      <td>B9</td>\n",
       "      <td>550000</td>\n",
       "      <td>4/21/2017 0:00</td>\n",
       "    </tr>\n",
       "    <tr>\n",
       "      <th>84545</th>\n",
       "      <td>8411</td>\n",
       "      <td>5</td>\n",
       "      <td>WOODROW</td>\n",
       "      <td>1</td>\n",
       "      <td>7351.0</td>\n",
       "      <td>60</td>\n",
       "      <td></td>\n",
       "      <td>B2</td>\n",
       "      <td>49 PITNEY AVENUE</td>\n",
       "      <td></td>\n",
       "      <td>...</td>\n",
       "      <td>2</td>\n",
       "      <td>0</td>\n",
       "      <td>2</td>\n",
       "      <td>4000</td>\n",
       "      <td>1496</td>\n",
       "      <td>1925</td>\n",
       "      <td>1</td>\n",
       "      <td>B2</td>\n",
       "      <td>460000</td>\n",
       "      <td>7/5/2017 0:00</td>\n",
       "    </tr>\n",
       "    <tr>\n",
       "      <th>84546</th>\n",
       "      <td>8412</td>\n",
       "      <td>5</td>\n",
       "      <td>WOODROW</td>\n",
       "      <td>4</td>\n",
       "      <td>7100.0</td>\n",
       "      <td>28</td>\n",
       "      <td></td>\n",
       "      <td>K6</td>\n",
       "      <td>2730 ARTHUR KILL ROAD</td>\n",
       "      <td></td>\n",
       "      <td>...</td>\n",
       "      <td>0</td>\n",
       "      <td>7</td>\n",
       "      <td>7</td>\n",
       "      <td>208033</td>\n",
       "      <td>64117</td>\n",
       "      <td>2001</td>\n",
       "      <td>4</td>\n",
       "      <td>K6</td>\n",
       "      <td>11693337</td>\n",
       "      <td>12/21/2016 0:00</td>\n",
       "    </tr>\n",
       "    <tr>\n",
       "      <th>84547</th>\n",
       "      <td>8413</td>\n",
       "      <td>5</td>\n",
       "      <td>WOODROW</td>\n",
       "      <td>4</td>\n",
       "      <td>7105.0</td>\n",
       "      <td>679</td>\n",
       "      <td></td>\n",
       "      <td>P9</td>\n",
       "      <td>155 CLAY PIT ROAD</td>\n",
       "      <td></td>\n",
       "      <td>...</td>\n",
       "      <td>0</td>\n",
       "      <td>1</td>\n",
       "      <td>1</td>\n",
       "      <td>10796</td>\n",
       "      <td>2400</td>\n",
       "      <td>2006</td>\n",
       "      <td>4</td>\n",
       "      <td>P9</td>\n",
       "      <td>69300</td>\n",
       "      <td>10/27/2016 0:00</td>\n",
       "    </tr>\n",
       "  </tbody>\n",
       "</table>\n",
       "<p>84548 rows × 21 columns</p>\n",
       "</div>"
      ],
      "text/plain": [
       "       Unnamed: 0  BOROUGH   NEIGHBORHOOD TAX CLASS AT PRESENT   BLOCK  \\\n",
       "0               4        1  ALPHABET CITY                   2A   392.0   \n",
       "1               5        1  ALPHABET CITY                    2   399.0   \n",
       "2               6        1  ALPHABET CITY                  NaN   399.0   \n",
       "3               7        1  ALPHABET CITY                  NaN   402.0   \n",
       "4               8        1  ALPHABET CITY                  NaN   404.0   \n",
       "...           ...      ...            ...                  ...     ...   \n",
       "84543        8409        5        WOODROW                    1  7349.0   \n",
       "84544        8410        5        WOODROW                    1  7349.0   \n",
       "84545        8411        5        WOODROW                    1  7351.0   \n",
       "84546        8412        5        WOODROW                    4  7100.0   \n",
       "84547        8413        5        WOODROW                    4  7105.0   \n",
       "\n",
       "             LOT EASE-MENT BUILDING CLASS AT PRESENT                ADDRESS  \\\n",
       "0      No Number                                 NaT                    NaN   \n",
       "1             26                                  C7                    NaN   \n",
       "2             39                                  C7                    NaN   \n",
       "3             21                                  C4                    NaN   \n",
       "4             55                                  C2                    NaN   \n",
       "...          ...       ...                       ...                    ...   \n",
       "84543         34                                  B9          37 QUAIL LANE   \n",
       "84544         78                                  B9       32 PHEASANT LANE   \n",
       "84545         60                                  B2       49 PITNEY AVENUE   \n",
       "84546         28                                  K6  2730 ARTHUR KILL ROAD   \n",
       "84547        679                                  P9      155 CLAY PIT ROAD   \n",
       "\n",
       "      APARTMENT NUMBER  ...  RESIDENTIAL UNITS  COMMERCIAL UNITS  TOTAL UNITS  \\\n",
       "0                  NaN  ...                  5                 0            5   \n",
       "1                       ...                 28                 3           31   \n",
       "2                       ...                 16                 1           17   \n",
       "3                       ...                 10                 0           10   \n",
       "4                       ...                  6                 0            6   \n",
       "...                ...  ...                ...               ...          ...   \n",
       "84543                   ...                  2                 0            2   \n",
       "84544                   ...                  2                 0            2   \n",
       "84545                   ...                  2                 0            2   \n",
       "84546                   ...                  0                 7            7   \n",
       "84547                   ...                  0                 1            1   \n",
       "\n",
       "       LAND SQUARE FEET GROSS SQUARE FEET YEAR BUILT  \\\n",
       "0                  1633              6440       1900   \n",
       "1                  4616             18690       1900   \n",
       "2                  2212              7803       1900   \n",
       "3                  2272              6794       1913   \n",
       "4                  2369              4615       1900   \n",
       "...                 ...               ...        ...   \n",
       "84543              2400              2575       1998   \n",
       "84544              2498              2377       1998   \n",
       "84545              4000              1496       1925   \n",
       "84546            208033             64117       2001   \n",
       "84547             10796              2400       2006   \n",
       "\n",
       "       TAX CLASS AT TIME OF SALE  BUILDING CLASS AT TIME OF SALE SALE PRICE  \\\n",
       "0                              2                              C2    6625000   \n",
       "1                              2                              C7        -     \n",
       "2                              2                              C7        -     \n",
       "3                              2                              C4    3936272   \n",
       "4                              2                              C2    8000000   \n",
       "...                          ...                             ...        ...   \n",
       "84543                          1                              B9     450000   \n",
       "84544                          1                              B9     550000   \n",
       "84545                          1                              B2     460000   \n",
       "84546                          4                              K6   11693337   \n",
       "84547                          4                              P9      69300   \n",
       "\n",
       "             SALE DATE  \n",
       "0                 why   \n",
       "1      12/14/2016 0:00  \n",
       "2       12/9/2016 0:00  \n",
       "3       9/23/2016 0:00  \n",
       "4      11/17/2016 0:00  \n",
       "...                ...  \n",
       "84543  11/28/2016 0:00  \n",
       "84544   4/21/2017 0:00  \n",
       "84545    7/5/2017 0:00  \n",
       "84546  12/21/2016 0:00  \n",
       "84547  10/27/2016 0:00  \n",
       "\n",
       "[84548 rows x 21 columns]"
      ]
     },
     "execution_count": 49,
     "metadata": {},
     "output_type": "execute_result"
    }
   ],
   "source": [
    "nycdf = nycdf[(nycdf['SALE PRICE'].isna() & nycdf['SALE DATE'].isna()) == False]\n",
    "nycdf"
   ]
  },
  {
   "cell_type": "code",
   "execution_count": 52,
   "metadata": {},
   "outputs": [],
   "source": [
    "nycdf = nycdf.drop(nycdf[(nycdf['SALE DATE'].isnull()) & (nycdf['YEAR BUILT'].isnull())].index)"
   ]
  },
  {
   "cell_type": "code",
   "execution_count": 53,
   "metadata": {},
   "outputs": [
    {
     "name": "stdout",
     "output_type": "stream",
     "text": [
      "FLUSHING-NORTH              3068\n",
      "UPPER EAST SIDE (59-79)     1736\n",
      "UPPER EAST SIDE (79-96)     1590\n",
      "UPPER WEST SIDE (59-79)     1439\n",
      "BEDFORD STUYVESANT          1436\n",
      "                            ... \n",
      "FRESH KILLS                    2\n",
      "PELHAM BAY                     1\n",
      "BRONX PARK                     1\n",
      "CITY ISLAND-PELHAM STRIP       1\n",
      "EAST RIVER                     1\n",
      "Name: NEIGHBORHOOD, Length: 254, dtype: int64\n"
     ]
    },
    {
     "data": {
      "text/plain": [
       "<matplotlib.axes._subplots.AxesSubplot at 0x27fd0bb4508>"
      ]
     },
     "execution_count": 53,
     "metadata": {},
     "output_type": "execute_result"
    },
    {
     "data": {
      "image/png": "[encoded data removed]",
      "text/plain": [
       "<Figure size 432x288 with 1 Axes>"
      ]
     },
     "metadata": {
      "needs_background": "light"
     },
     "output_type": "display_data"
    }
   ],
   "source": [
    "# For neighbourhood\n",
    "print(nycdf['NEIGHBORHOOD'].value_counts())\n",
    "nycdf['NEIGHBORHOOD'].value_counts().plot(kind='bar')"
   ]
  },
  {
   "cell_type": "code",
   "execution_count": 54,
   "metadata": {},
   "outputs": [
    {
     "name": "stdout",
     "output_type": "stream",
     "text": [
      "4    26736\n",
      "3    24047\n",
      "1    18306\n",
      "5     8410\n",
      "2     7049\n",
      "Name: BOROUGH, dtype: int64\n"
     ]
    },
    {
     "data": {
      "text/plain": [
       "<matplotlib.axes._subplots.AxesSubplot at 0x27fccd4a288>"
      ]
     },
     "execution_count": 54,
     "metadata": {},
     "output_type": "execute_result"
    },
    {
     "data": {
      "image/png": "[encoded data removed]",
      "text/plain": [
       "<Figure size 432x288 with 1 Axes>"
      ]
     },
     "metadata": {
      "needs_background": "light"
     },
     "output_type": "display_data"
    }
   ],
   "source": [
    "# For BOROUGH\n",
    "print(nycdf['BOROUGH'].value_counts())\n",
    "nycdf['BOROUGH'].value_counts().plot(kind='bar')"
   ]
  },
  {
   "cell_type": "code",
   "execution_count": 56,
   "metadata": {},
   "outputs": [
    {
     "name": "stdout",
     "output_type": "stream",
     "text": [
      "1      34722\n",
      "0      24783\n",
      "2      16049\n",
      "3       4608\n",
      "4       1346\n",
      "       ...  \n",
      "164        1\n",
      "420        1\n",
      "165        1\n",
      "550        1\n",
      "283        1\n",
      "Name: RESIDENTIAL UNITS, Length: 176, dtype: int64\n"
     ]
    },
    {
     "data": {
      "text/plain": [
       "<matplotlib.axes._subplots.AxesSubplot at 0x27fcd2f9608>"
      ]
     },
     "execution_count": 56,
     "metadata": {},
     "output_type": "execute_result"
    },
    {
     "data": {
      "image/png": "[encoded data removed]",
      "text/plain": [
       "<Figure size 432x288 with 1 Axes>"
      ]
     },
     "metadata": {
      "needs_background": "light"
     },
     "output_type": "display_data"
    }
   ],
   "source": [
    "\n",
    "# For RESIDENTIAL UNITS\n",
    "print(nycdf['RESIDENTIAL UNITS'].value_counts())\n",
    "nycdf['RESIDENTIAL UNITS'].value_counts().plot(kind='bar')"
   ]
  },
  {
   "cell_type": "code",
   "execution_count": 58,
   "metadata": {},
   "outputs": [
    {
     "name": "stdout",
     "output_type": "stream",
     "text": [
      "0       79429\n",
      "1        3558\n",
      "2         817\n",
      "3         259\n",
      "4         137\n",
      "5          74\n",
      "6          70\n",
      "7          31\n",
      "8          26\n",
      "9          20\n",
      "10         17\n",
      "12         12\n",
      "15         11\n",
      "11         10\n",
      "17          6\n",
      "14          6\n",
      "254         4\n",
      "13          4\n",
      "35          4\n",
      "20          4\n",
      "19          3\n",
      "42          3\n",
      "22          3\n",
      "18          3\n",
      "422         2\n",
      "436         2\n",
      "26          2\n",
      "25          2\n",
      "16          2\n",
      "126         2\n",
      "73          1\n",
      "67          1\n",
      "318         1\n",
      "147         1\n",
      "2261        1\n",
      "62          1\n",
      "59          1\n",
      "184         1\n",
      "56          1\n",
      "55          1\n",
      "52          1\n",
      "51          1\n",
      "49          1\n",
      "172         1\n",
      "38          1\n",
      "34          1\n",
      "32          1\n",
      "31          1\n",
      "30          1\n",
      "28          1\n",
      "91          1\n",
      "27          1\n",
      "24          1\n",
      "21          1\n",
      "23          1\n",
      "Name: COMMERCIAL UNITS, dtype: int64\n"
     ]
    },
    {
     "data": {
      "text/plain": [
       "<matplotlib.axes._subplots.AxesSubplot at 0x27fd0a03208>"
      ]
     },
     "execution_count": 58,
     "metadata": {},
     "output_type": "execute_result"
    },
    {
     "data": {
      "image/png": "[encoded data removed]",
      "text/plain": [
       "<Figure size 432x288 with 1 Axes>"
      ]
     },
     "metadata": {
      "needs_background": "light"
     },
     "output_type": "display_data"
    }
   ],
   "source": [
    "# For COMMERCIAL UNITS\n",
    "print(nycdf['COMMERCIAL UNITS'].value_counts())\n",
    "nycdf['COMMERCIAL UNITS'].value_counts().plot(kind='bar')"
   ]
  },
  {
   "cell_type": "code",
   "execution_count": 59,
   "metadata": {},
   "outputs": [],
   "source": [
    "nycdf = nycdf.drop('COMMERCIAL UNITS', axis=1)"
   ]
  },
  {
   "cell_type": "code",
   "execution_count": 68,
   "metadata": {},
   "outputs": [
    {
     "name": "stderr",
     "output_type": "stream",
     "text": [
      "C:\\ProgramData\\Anaconda3\\lib\\site-packages\\ipykernel_launcher.py:10: SettingWithCopyWarning: \n",
      "A value is trying to be set on a copy of a slice from a DataFrame.\n",
      "Try using .loc[row_indexer,col_indexer] = value instead\n",
      "\n",
      "See the caveats in the documentation: https://pandas.pydata.org/pandas-docs/stable/user_guide/indexing.html#returning-a-view-versus-a-copy\n",
      "  # Remove the CWD from sys.path while we load stuff.\n",
      "C:\\ProgramData\\Anaconda3\\lib\\site-packages\\ipykernel_launcher.py:16: SettingWithCopyWarning: \n",
      "A value is trying to be set on a copy of a slice from a DataFrame.\n",
      "Try using .loc[row_indexer,col_indexer] = value instead\n",
      "\n",
      "See the caveats in the documentation: https://pandas.pydata.org/pandas-docs/stable/user_guide/indexing.html#returning-a-view-versus-a-copy\n",
      "  app.launch_new_instance()\n"
     ]
    },
    {
     "data": {
      "image/png": "[encoded data removed]",
      "text/plain": [
       "<Figure size 432x288 with 1 Axes>"
      ]
     },
     "metadata": {
      "needs_background": "light"
     },
     "output_type": "display_data"
    },
    {
     "data": {
      "image/png": "[encoded data removed]",
      "text/plain": [
       "<Figure size 432x288 with 1 Axes>"
      ]
     },
     "metadata": {
      "needs_background": "light"
     },
     "output_type": "display_data"
    },
    {
     "data": {
      "image/png": "[encoded data removed]",
      "text/plain": [
       "<Figure size 432x288 with 1 Axes>"
      ]
     },
     "metadata": {
      "needs_background": "light"
     },
     "output_type": "display_data"
    }
   ],
   "source": [
    "# convert all columns holding categorical data to pandas category type\n",
    "\n",
    "# Lets pick categorical columns in a separate dataframe to be on safe side\n",
    "nycdf_cat = nycdf[['TAX CLASS AT PRESENT', 'YEAR BUILT', 'TAX CLASS AT TIME OF SALE']]\n",
    "\n",
    "\n",
    "mapper = {}\n",
    "\n",
    "for i in nycdf_cat.columns:\n",
    "    nycdf_cat[i] = nycdf_cat[i].astype('category')\n",
    "    k = i.lower().replace(' ', '_')\n",
    "    \n",
    "    # Save map to use later for better understanding\n",
    "    d = dict(enumerate(nycdf_cat[i].cat.categories))\n",
    "    mapper[k] = d\n",
    "    nycdf_cat[k] = nycdf_cat[i].cat.codes\n",
    "    nycdf_cat = nycdf_cat.drop(i, axis=1)\n",
    "\n",
    "import matplotlib.pyplot as plt    \n",
    "\n",
    "for i in nycdf_cat.columns:\n",
    "    text_to_display = \"\"\n",
    "    count = 0\n",
    "    for k,v in mapper[i].items():\n",
    "        count += 1\n",
    "        text_to_display += \"%s = %s\"%(str(k),v)\n",
    "        if count%2 == 0:\n",
    "            text_to_display += \"\\n\"\n",
    "        else:\n",
    "            text_to_display += \", \"\n",
    "    fig = plt.figure()\n",
    "    plt.text(2, 1, text_to_display)\n",
    "    nycdf_cat.boxplot(column=i, sym='o', return_type='axes')\n"
   ]
  },
  {
   "cell_type": "code",
   "execution_count": 82,
   "metadata": {},
   "outputs": [
    {
     "data": {
      "text/plain": [
       "1276456.4977638705"
      ]
     },
     "execution_count": 82,
     "metadata": {},
     "output_type": "execute_result"
    }
   ],
   "source": [
    "pd.to_numeric(nycdf['SALE PRICE'],errors='coerce').mean()"
   ]
  },
  {
   "cell_type": "code",
   "execution_count": 83,
   "metadata": {},
   "outputs": [
    {
     "data": {
      "text/plain": [
       "Unnamed: 0                          int64\n",
       "BOROUGH                             int64\n",
       "NEIGHBORHOOD                       object\n",
       "TAX CLASS AT PRESENT               object\n",
       "BLOCK                             float64\n",
       "LOT                                object\n",
       "EASE-MENT                          object\n",
       "BUILDING CLASS AT PRESENT          object\n",
       "ADDRESS                            object\n",
       "APARTMENT NUMBER                   object\n",
       "ZIP CODE                          float64\n",
       "RESIDENTIAL UNITS                   int64\n",
       "TOTAL UNITS                         int64\n",
       "LAND SQUARE FEET                   object\n",
       "GROSS SQUARE FEET                  object\n",
       "YEAR BUILT                          int64\n",
       "TAX CLASS AT TIME OF SALE           int64\n",
       "BUILDING CLASS AT TIME OF SALE     object\n",
       "SALE PRICE                         object\n",
       "SALE DATE                          object\n",
       "dtype: object"
      ]
     },
     "execution_count": 83,
     "metadata": {},
     "output_type": "execute_result"
    }
   ],
   "source": [
    "nycdf.dtypes"
   ]
  },
  {
   "cell_type": "code",
   "execution_count": 95,
   "metadata": {},
   "outputs": [
    {
     "name": "stdout",
     "output_type": "stream",
     "text": [
      "t-value=nan\n"
     ]
    }
   ],
   "source": [
    "t_val, p_val = stats.ttest_ind(pd.to_numeric(nycdf['SALE PRICE'],errors='coerce'), pd.to_numeric(nycdf['SALE PRICE'],errors='coerce'))\n",
    "print('t-value=%s' % str(t_val))"
   ]
  },
  {
   "cell_type": "markdown",
   "metadata": {},
   "source": [
    "# T-Test"
   ]
  },
  {
   "cell_type": "code",
   "execution_count": 89,
   "metadata": {},
   "outputs": [
    {
     "name": "stdout",
     "output_type": "stream",
     "text": [
      "['Unnamed: 0', 'BOROUGH', 'BLOCK', 'ZIP CODE', 'RESIDENTIAL UNITS', 'TOTAL UNITS', 'YEAR BUILT', 'TAX CLASS AT TIME OF SALE']\n",
      "(Unnamed: 0,BOROUGH) => t-value=420.4508686562742, p-value=0.0\n",
      "(Unnamed: 0,BLOCK) => t-value=nan, p-value=nan\n",
      "(Unnamed: 0,ZIP CODE) => t-value=nan, p-value=nan\n",
      "(Unnamed: 0,RESIDENTIAL UNITS) => t-value=420.48930578508714, p-value=0.0\n",
      "(Unnamed: 0,TOTAL UNITS) => t-value=420.4798715059521, p-value=0.0\n",
      "(Unnamed: 0,YEAR BUILT) => t-value=346.8462912797462, p-value=0.0\n",
      "(Unnamed: 0,TAX CLASS AT TIME OF SALE) => t-value=420.50540517444216, p-value=0.0\n",
      "(BOROUGH,BLOCK) => t-value=nan, p-value=nan\n",
      "(BOROUGH,ZIP CODE) => t-value=nan, p-value=nan\n",
      "(BOROUGH,RESIDENTIAL UNITS) => t-value=16.878494755154488, p-value=7.308498467764613e-64\n",
      "(BOROUGH,TOTAL UNITS) => t-value=11.461423757872115, p-value=2.1150352048246938e-30\n",
      "(BOROUGH,YEAR BUILT) => t-value=-966.6238304439144, p-value=0.0\n",
      "(BOROUGH,TAX CLASS AT TIME OF SALE) => t-value=255.23305079874913, p-value=0.0\n",
      "(BLOCK,ZIP CODE) => t-value=nan, p-value=nan\n",
      "(BLOCK,RESIDENTIAL UNITS) => t-value=nan, p-value=nan\n",
      "(BLOCK,TOTAL UNITS) => t-value=nan, p-value=nan\n",
      "(BLOCK,YEAR BUILT) => t-value=nan, p-value=nan\n",
      "(BLOCK,TAX CLASS AT TIME OF SALE) => t-value=nan, p-value=nan\n",
      "(ZIP CODE,RESIDENTIAL UNITS) => t-value=nan, p-value=nan\n",
      "(ZIP CODE,TOTAL UNITS) => t-value=nan, p-value=nan\n",
      "(ZIP CODE,YEAR BUILT) => t-value=nan, p-value=nan\n",
      "(ZIP CODE,TAX CLASS AT TIME OF SALE) => t-value=nan, p-value=nan\n",
      "(RESIDENTIAL UNITS,TOTAL UNITS) => t-value=-2.574582912623367, p-value=0.01003694535713003\n",
      "(RESIDENTIAL UNITS,YEAR BUILT) => t-value=-966.6854798104058, p-value=0.0\n",
      "(RESIDENTIAL UNITS,TAX CLASS AT TIME OF SALE) => t-value=6.387853166183052, p-value=1.6866546570284775e-10\n",
      "(TOTAL UNITS,YEAR BUILT) => t-value=-966.4300139866992, p-value=0.0\n",
      "(TOTAL UNITS,TAX CLASS AT TIME OF SALE) => t-value=9.059864369489537, p-value=1.319517974234359e-19\n",
      "(YEAR BUILT,TAX CLASS AT TIME OF SALE) => t-value=967.3512885886074, p-value=0.0\n"
     ]
    },
    {
     "name": "stderr",
     "output_type": "stream",
     "text": [
      "C:\\ProgramData\\Anaconda3\\lib\\site-packages\\scipy\\stats\\_distn_infrastructure.py:903: RuntimeWarning: invalid value encountered in greater\n",
      "  return (a < x) & (x < b)\n",
      "C:\\ProgramData\\Anaconda3\\lib\\site-packages\\scipy\\stats\\_distn_infrastructure.py:903: RuntimeWarning: invalid value encountered in less\n",
      "  return (a < x) & (x < b)\n",
      "C:\\ProgramData\\Anaconda3\\lib\\site-packages\\scipy\\stats\\_distn_infrastructure.py:1912: RuntimeWarning: invalid value encountered in less_equal\n",
      "  cond2 = cond0 & (x <= _a)\n"
     ]
    }
   ],
   "source": [
    "# T-Test\n",
    "types_map = nycdf.dtypes.to_dict()\n",
    "num_columns = []\n",
    "for k,v in types_map.items():\n",
    "    if np.issubdtype(np.int64, v) or np.issubdtype(np.float64, v):\n",
    "        num_columns.append(k)\n",
    "\n",
    "print(num_columns)\n",
    "\n",
    "for i in range(len(num_columns)-1):\n",
    "    for j in range(i+1,len(num_columns)):\n",
    "        col1 = num_columns[i]\n",
    "        col2 = num_columns[j]\n",
    "        t_val, p_val = stats.ttest_ind(nycdf[col1], nycdf[col2])\n",
    "        print(\"(%s,%s) => t-value=%s, p-value=%s\" % (num_columns[i], num_columns[j], str(t_val), str(p_val)))"
   ]
  },
  {
   "cell_type": "markdown",
   "metadata": {},
   "source": [
    "Conducted t-test for between all numeric columns in our dataset and as shown in the results above all p-value for every pair turns out to be less than 0.05 (p-val < 0.05), infact its very small for every pair. Thus, there is a statistically significant difference between all above mentioned numeric columns"
   ]
  },
  {
   "cell_type": "markdown",
   "metadata": {},
   "source": [
    "\n",
    "# Annova 1"
   ]
  },
  {
   "cell_type": "code",
   "execution_count": 111,
   "metadata": {},
   "outputs": [
    {
     "name": "stdout",
     "output_type": "stream",
     "text": [
      "['BUILDING CLASS AT TIME OF SALE', 'LOT', 'EASE-MENT', 'TAX CLASS AT PRESENT', 'BUILDING CLASS AT PRESENT', 'LAND SQUARE FEET', 'NEIGHBORHOOD', 'ADDRESS', 'SALE PRICE', 'APARTMENT NUMBER', 'GROSS SQUARE FEET']\n",
      "['Unnamed: 0', 'BOROUGH', 'BLOCK', 'ZIP CODE', 'RESIDENTIAL UNITS', 'TOTAL UNITS', 'YEAR BUILT', 'TAX CLASS AT TIME OF SALE']\n",
      "\n",
      "Anova => Sale - BUILDING CLASS AT TIME OF SALE\n"
     ]
    },
    {
     "name": "stderr",
     "output_type": "stream",
     "text": [
      "C:\\ProgramData\\Anaconda3\\lib\\site-packages\\statsmodels\\base\\model.py:1832: ValueWarning: covariance of constraints does not have full rank. The number of constraints is 165, but rank is 160\n",
      "  'rank is %d' % (J, J_), ValueWarning)\n"
     ]
    },
    {
     "data": {
      "text/html": [
       "<div>\n",
       "<style scoped>\n",
       "    .dataframe tbody tr th:only-of-type {\n",
       "        vertical-align: middle;\n",
       "    }\n",
       "\n",
       "    .dataframe tbody tr th {\n",
       "        vertical-align: top;\n",
       "    }\n",
       "\n",
       "    .dataframe thead th {\n",
       "        text-align: right;\n",
       "    }\n",
       "</style>\n",
       "<table border=\"1\" class=\"dataframe\">\n",
       "  <thead>\n",
       "    <tr style=\"text-align: right;\">\n",
       "      <th></th>\n",
       "      <th>sum_sq</th>\n",
       "      <th>df</th>\n",
       "      <th>F</th>\n",
       "      <th>PR(&gt;F)</th>\n",
       "    </tr>\n",
       "  </thead>\n",
       "  <tbody>\n",
       "    <tr>\n",
       "      <th>C(Q(\"BUILDING CLASS AT TIME OF SALE\"))</th>\n",
       "      <td>2.866890e+18</td>\n",
       "      <td>165.0</td>\n",
       "      <td>191.853291</td>\n",
       "      <td>0.0</td>\n",
       "    </tr>\n",
       "    <tr>\n",
       "      <th>Residual</th>\n",
       "      <td>6.323754e+18</td>\n",
       "      <td>69826.0</td>\n",
       "      <td>NaN</td>\n",
       "      <td>NaN</td>\n",
       "    </tr>\n",
       "  </tbody>\n",
       "</table>\n",
       "</div>"
      ],
      "text/plain": [
       "                                              sum_sq       df           F  \\\n",
       "C(Q(\"BUILDING CLASS AT TIME OF SALE\"))  2.866890e+18    165.0  191.853291   \n",
       "Residual                                6.323754e+18  69826.0         NaN   \n",
       "\n",
       "                                        PR(>F)  \n",
       "C(Q(\"BUILDING CLASS AT TIME OF SALE\"))     0.0  \n",
       "Residual                                   NaN  "
      ]
     },
     "metadata": {},
     "output_type": "display_data"
    },
    {
     "ename": "ValueError",
     "evalue": "mismatch between column_names and columns coded by given terms",
     "output_type": "error",
     "traceback": [
      "\u001b[1;31m---------------------------------------------------------------------------\u001b[0m",
      "\u001b[1;31mValueError\u001b[0m                                Traceback (most recent call last)",
      "\u001b[1;32m<ipython-input-111-ba5b453da7ee>\u001b[0m in \u001b[0;36m<module>\u001b[1;34m\u001b[0m\n\u001b[0;32m     10\u001b[0m \u001b[1;32mfor\u001b[0m \u001b[0mi\u001b[0m \u001b[1;32min\u001b[0m \u001b[0mcategorical\u001b[0m\u001b[1;33m:\u001b[0m\u001b[1;33m\u001b[0m\u001b[1;33m\u001b[0m\u001b[0m\n\u001b[0;32m     11\u001b[0m     \u001b[0mnycdf\u001b[0m\u001b[1;33m[\u001b[0m\u001b[1;34m'Sale'\u001b[0m\u001b[1;33m]\u001b[0m \u001b[1;33m=\u001b[0m \u001b[0mpd\u001b[0m\u001b[1;33m.\u001b[0m\u001b[0mto_numeric\u001b[0m\u001b[1;33m(\u001b[0m\u001b[0mnycdf\u001b[0m\u001b[1;33m[\u001b[0m\u001b[1;34m'SALE PRICE'\u001b[0m\u001b[1;33m]\u001b[0m\u001b[1;33m,\u001b[0m\u001b[0merrors\u001b[0m\u001b[1;33m=\u001b[0m\u001b[1;34m'coerce'\u001b[0m\u001b[1;33m)\u001b[0m\u001b[1;33m\u001b[0m\u001b[1;33m\u001b[0m\u001b[0m\n\u001b[1;32m---> 12\u001b[1;33m     \u001b[0mmodel\u001b[0m \u001b[1;33m=\u001b[0m \u001b[0mols\u001b[0m\u001b[1;33m(\u001b[0m\u001b[1;34m'Sale ~ C(Q(\"%s\"))'\u001b[0m\u001b[1;33m%\u001b[0m \u001b[0mi\u001b[0m\u001b[1;33m,\u001b[0m \u001b[0mdata\u001b[0m\u001b[1;33m=\u001b[0m\u001b[0mnycdf\u001b[0m\u001b[1;33m)\u001b[0m\u001b[1;33m.\u001b[0m\u001b[0mfit\u001b[0m\u001b[1;33m(\u001b[0m\u001b[1;33m)\u001b[0m\u001b[1;33m\u001b[0m\u001b[1;33m\u001b[0m\u001b[0m\n\u001b[0m\u001b[0;32m     13\u001b[0m     \u001b[0manova_table\u001b[0m \u001b[1;33m=\u001b[0m \u001b[0msm\u001b[0m\u001b[1;33m.\u001b[0m\u001b[0mstats\u001b[0m\u001b[1;33m.\u001b[0m\u001b[0manova_lm\u001b[0m\u001b[1;33m(\u001b[0m\u001b[0mmodel\u001b[0m\u001b[1;33m,\u001b[0m \u001b[0mtyp\u001b[0m\u001b[1;33m=\u001b[0m\u001b[1;36m2\u001b[0m\u001b[1;33m)\u001b[0m\u001b[1;33m\u001b[0m\u001b[1;33m\u001b[0m\u001b[0m\n\u001b[0;32m     14\u001b[0m     \u001b[0mprint\u001b[0m \u001b[1;33m(\u001b[0m\u001b[1;34m\"\\nAnova => Sale - %s\"\u001b[0m \u001b[1;33m%\u001b[0m \u001b[0mi\u001b[0m\u001b[1;33m)\u001b[0m\u001b[1;33m\u001b[0m\u001b[1;33m\u001b[0m\u001b[0m\n",
      "\u001b[1;32mC:\\ProgramData\\Anaconda3\\lib\\site-packages\\statsmodels\\base\\model.py\u001b[0m in \u001b[0;36mfrom_formula\u001b[1;34m(cls, formula, data, subset, drop_cols, *args, **kwargs)\u001b[0m\n\u001b[0;32m    167\u001b[0m \u001b[1;33m\u001b[0m\u001b[0m\n\u001b[0;32m    168\u001b[0m         tmp = handle_formula_data(data, None, formula, depth=eval_env,\n\u001b[1;32m--> 169\u001b[1;33m                                   missing=missing)\n\u001b[0m\u001b[0;32m    170\u001b[0m         \u001b[1;33m(\u001b[0m\u001b[1;33m(\u001b[0m\u001b[0mendog\u001b[0m\u001b[1;33m,\u001b[0m \u001b[0mexog\u001b[0m\u001b[1;33m)\u001b[0m\u001b[1;33m,\u001b[0m \u001b[0mmissing_idx\u001b[0m\u001b[1;33m,\u001b[0m \u001b[0mdesign_info\u001b[0m\u001b[1;33m)\u001b[0m \u001b[1;33m=\u001b[0m \u001b[0mtmp\u001b[0m\u001b[1;33m\u001b[0m\u001b[1;33m\u001b[0m\u001b[0m\n\u001b[0;32m    171\u001b[0m         \u001b[0mmax_endog\u001b[0m \u001b[1;33m=\u001b[0m \u001b[0mcls\u001b[0m\u001b[1;33m.\u001b[0m\u001b[0m_formula_max_endog\u001b[0m\u001b[1;33m\u001b[0m\u001b[1;33m\u001b[0m\u001b[0m\n",
      "\u001b[1;32mC:\\ProgramData\\Anaconda3\\lib\\site-packages\\statsmodels\\formula\\formulatools.py\u001b[0m in \u001b[0;36mhandle_formula_data\u001b[1;34m(Y, X, formula, depth, missing)\u001b[0m\n\u001b[0;32m     63\u001b[0m         \u001b[1;32mif\u001b[0m \u001b[0mdata_util\u001b[0m\u001b[1;33m.\u001b[0m\u001b[0m_is_using_pandas\u001b[0m\u001b[1;33m(\u001b[0m\u001b[0mY\u001b[0m\u001b[1;33m,\u001b[0m \u001b[1;32mNone\u001b[0m\u001b[1;33m)\u001b[0m\u001b[1;33m:\u001b[0m\u001b[1;33m\u001b[0m\u001b[1;33m\u001b[0m\u001b[0m\n\u001b[0;32m     64\u001b[0m             result = dmatrices(formula, Y, depth, return_type='dataframe',\n\u001b[1;32m---> 65\u001b[1;33m                                NA_action=na_action)\n\u001b[0m\u001b[0;32m     66\u001b[0m         \u001b[1;32melse\u001b[0m\u001b[1;33m:\u001b[0m\u001b[1;33m\u001b[0m\u001b[1;33m\u001b[0m\u001b[0m\n\u001b[0;32m     67\u001b[0m             result = dmatrices(formula, Y, depth, return_type='dataframe',\n",
      "\u001b[1;32mC:\\ProgramData\\Anaconda3\\lib\\site-packages\\patsy\\highlevel.py\u001b[0m in \u001b[0;36mdmatrices\u001b[1;34m(formula_like, data, eval_env, NA_action, return_type)\u001b[0m\n\u001b[0;32m    308\u001b[0m     \u001b[0meval_env\u001b[0m \u001b[1;33m=\u001b[0m \u001b[0mEvalEnvironment\u001b[0m\u001b[1;33m.\u001b[0m\u001b[0mcapture\u001b[0m\u001b[1;33m(\u001b[0m\u001b[0meval_env\u001b[0m\u001b[1;33m,\u001b[0m \u001b[0mreference\u001b[0m\u001b[1;33m=\u001b[0m\u001b[1;36m1\u001b[0m\u001b[1;33m)\u001b[0m\u001b[1;33m\u001b[0m\u001b[1;33m\u001b[0m\u001b[0m\n\u001b[0;32m    309\u001b[0m     (lhs, rhs) = _do_highlevel_design(formula_like, data, eval_env,\n\u001b[1;32m--> 310\u001b[1;33m                                       NA_action, return_type)\n\u001b[0m\u001b[0;32m    311\u001b[0m     \u001b[1;32mif\u001b[0m \u001b[0mlhs\u001b[0m\u001b[1;33m.\u001b[0m\u001b[0mshape\u001b[0m\u001b[1;33m[\u001b[0m\u001b[1;36m1\u001b[0m\u001b[1;33m]\u001b[0m \u001b[1;33m==\u001b[0m \u001b[1;36m0\u001b[0m\u001b[1;33m:\u001b[0m\u001b[1;33m\u001b[0m\u001b[1;33m\u001b[0m\u001b[0m\n\u001b[0;32m    312\u001b[0m         \u001b[1;32mraise\u001b[0m \u001b[0mPatsyError\u001b[0m\u001b[1;33m(\u001b[0m\u001b[1;34m\"model is missing required outcome variables\"\u001b[0m\u001b[1;33m)\u001b[0m\u001b[1;33m\u001b[0m\u001b[1;33m\u001b[0m\u001b[0m\n",
      "\u001b[1;32mC:\\ProgramData\\Anaconda3\\lib\\site-packages\\patsy\\highlevel.py\u001b[0m in \u001b[0;36m_do_highlevel_design\u001b[1;34m(formula_like, data, eval_env, NA_action, return_type)\u001b[0m\n\u001b[0;32m    163\u001b[0m         \u001b[1;32mreturn\u001b[0m \u001b[0miter\u001b[0m\u001b[1;33m(\u001b[0m\u001b[1;33m[\u001b[0m\u001b[0mdata\u001b[0m\u001b[1;33m]\u001b[0m\u001b[1;33m)\u001b[0m\u001b[1;33m\u001b[0m\u001b[1;33m\u001b[0m\u001b[0m\n\u001b[0;32m    164\u001b[0m     design_infos = _try_incr_builders(formula_like, data_iter_maker, eval_env,\n\u001b[1;32m--> 165\u001b[1;33m                                       NA_action)\n\u001b[0m\u001b[0;32m    166\u001b[0m     \u001b[1;32mif\u001b[0m \u001b[0mdesign_infos\u001b[0m \u001b[1;32mis\u001b[0m \u001b[1;32mnot\u001b[0m \u001b[1;32mNone\u001b[0m\u001b[1;33m:\u001b[0m\u001b[1;33m\u001b[0m\u001b[1;33m\u001b[0m\u001b[0m\n\u001b[0;32m    167\u001b[0m         return build_design_matrices(design_infos, data,\n",
      "\u001b[1;32mC:\\ProgramData\\Anaconda3\\lib\\site-packages\\patsy\\highlevel.py\u001b[0m in \u001b[0;36m_try_incr_builders\u001b[1;34m(formula_like, data_iter_maker, eval_env, NA_action)\u001b[0m\n\u001b[0;32m     68\u001b[0m                                       \u001b[0mdata_iter_maker\u001b[0m\u001b[1;33m,\u001b[0m\u001b[1;33m\u001b[0m\u001b[1;33m\u001b[0m\u001b[0m\n\u001b[0;32m     69\u001b[0m                                       \u001b[0meval_env\u001b[0m\u001b[1;33m,\u001b[0m\u001b[1;33m\u001b[0m\u001b[1;33m\u001b[0m\u001b[0m\n\u001b[1;32m---> 70\u001b[1;33m                                       NA_action)\n\u001b[0m\u001b[0;32m     71\u001b[0m     \u001b[1;32melse\u001b[0m\u001b[1;33m:\u001b[0m\u001b[1;33m\u001b[0m\u001b[1;33m\u001b[0m\u001b[0m\n\u001b[0;32m     72\u001b[0m         \u001b[1;32mreturn\u001b[0m \u001b[1;32mNone\u001b[0m\u001b[1;33m\u001b[0m\u001b[1;33m\u001b[0m\u001b[0m\n",
      "\u001b[1;32mC:\\ProgramData\\Anaconda3\\lib\\site-packages\\patsy\\build.py\u001b[0m in \u001b[0;36mdesign_matrix_builders\u001b[1;34m(termlists, data_iter_maker, eval_env, NA_action)\u001b[0m\n\u001b[0;32m    734\u001b[0m         design_infos.append(DesignInfo(column_names,\n\u001b[0;32m    735\u001b[0m                                        \u001b[0mfactor_infos\u001b[0m\u001b[1;33m=\u001b[0m\u001b[0mthis_design_factor_infos\u001b[0m\u001b[1;33m,\u001b[0m\u001b[1;33m\u001b[0m\u001b[1;33m\u001b[0m\u001b[0m\n\u001b[1;32m--> 736\u001b[1;33m                                        term_codings=term_to_subterm_infos))\n\u001b[0m\u001b[0;32m    737\u001b[0m     \u001b[1;32mreturn\u001b[0m \u001b[0mdesign_infos\u001b[0m\u001b[1;33m\u001b[0m\u001b[1;33m\u001b[0m\u001b[0m\n\u001b[0;32m    738\u001b[0m \u001b[1;33m\u001b[0m\u001b[0m\n",
      "\u001b[1;32mC:\\ProgramData\\Anaconda3\\lib\\site-packages\\patsy\\design_info.py\u001b[0m in \u001b[0;36m__init__\u001b[1;34m(self, column_names, factor_infos, term_codings)\u001b[0m\n\u001b[0;32m    356\u001b[0m                 \u001b[0midx\u001b[0m \u001b[1;33m+=\u001b[0m \u001b[0mterm_columns\u001b[0m\u001b[1;33m\u001b[0m\u001b[1;33m\u001b[0m\u001b[0m\n\u001b[0;32m    357\u001b[0m             \u001b[1;32mif\u001b[0m \u001b[0midx\u001b[0m \u001b[1;33m!=\u001b[0m \u001b[0mlen\u001b[0m\u001b[1;33m(\u001b[0m\u001b[0mself\u001b[0m\u001b[1;33m.\u001b[0m\u001b[0mcolumn_names\u001b[0m\u001b[1;33m)\u001b[0m\u001b[1;33m:\u001b[0m\u001b[1;33m\u001b[0m\u001b[1;33m\u001b[0m\u001b[0m\n\u001b[1;32m--> 358\u001b[1;33m                 raise ValueError(\"mismatch between column_names and columns \"\n\u001b[0m\u001b[0;32m    359\u001b[0m                                  \"coded by given terms\")\n\u001b[0;32m    360\u001b[0m             self.term_name_slices = OrderedDict(\n",
      "\u001b[1;31mValueError\u001b[0m: mismatch between column_names and columns coded by given terms"
     ]
    }
   ],
   "source": [
    "categorical = list((set(nycdf.columns) - set(num_columns)) - set(['SALE DATE', 'YEAR BUILT']))\n",
    "print(categorical)\n",
    "print(num_columns)\n",
    "\n",
    "import scipy.stats as stats\n",
    "import statsmodels.api as sm\n",
    "from statsmodels.formula.api import ols\n",
    "\n",
    "# Taking 1-way anova of Sale with all categorical variables\n",
    "for i in categorical:\n",
    "    nycdf['Sale'] = pd.to_numeric(nycdf['SALE PRICE'],errors='coerce')\n",
    "    model = ols('Sale ~ C(Q(\"%s\"))'% i, data=nycdf).fit()\n",
    "    anova_table = sm.stats.anova_lm(model, typ=2)\n",
    "    print (\"\\nAnova => Sale - %s\" % i)\n",
    "    display(anova_table)\n"
   ]
  },
  {
   "cell_type": "markdown",
   "metadata": {},
   "source": [
    "# Q1. How many 1 to 3 family homes were sold in each neighborhood?"
   ]
  },
  {
   "cell_type": "code",
   "execution_count": 131,
   "metadata": {},
   "outputs": [
    {
     "data": {
      "text/plain": [
       "array([[<matplotlib.axes._subplots.AxesSubplot object at 0x0000027FE15EF188>]],\n",
       "      dtype=object)"
      ]
     },
     "execution_count": 131,
     "metadata": {},
     "output_type": "execute_result"
    },
    {
     "data": {
      "image/png": "[encoded data removed]",
      "text/plain": [
       "<Figure size 432x288 with 1 Axes>"
      ]
     },
     "metadata": {
      "needs_background": "light"
     },
     "output_type": "display_data"
    },
    {
     "data": {
      "image/png": "[encoded data removed]",
      "text/plain": [
       "<Figure size 1080x864 with 1 Axes>"
      ]
     },
     "metadata": {
      "needs_background": "light"
     },
     "output_type": "display_data"
    }
   ],
   "source": [
    "import matplotlib.pyplot as plt\n",
    "\n",
    "# # An \"interface\" to matplotlib.axes.Axes.hist() method\n",
    "# n, bins, patches = plt.hist(x=d, bins='auto', color='#0504aa',\n",
    "#                             alpha=0.7, rwidth=0.85)\n",
    "# plt.grid(axis='y', alpha=0.75)\n",
    "# plt.xlabel('RESIDENTIAL UNITS by NEIGHBORHOOD')\n",
    "# plt.ylabel('NEIGHBORHOOD')\n",
    "# plt.title('My Very Own Histogram')\n",
    "# plt.text(23, 45, r'$\\mu=15, b=3$')\n",
    "# maxfreq = n.max()\n",
    "# # Set a clean upper y-axis limit.\n",
    "# plt.ylim(ymax=np.ceil(maxfreq / 10) * 10 if maxfreq % 10 else maxfreq + 10)\n",
    "plt.bar('RESIDENTIAL UNITS', 'NEIGHBORHOOD')\n",
    "nycdf.hist(column=['RESIDENTIAL UNITS', 'NEIGHBORHOOD'],\n",
    "            bins=25, grid=False, figsize=(15,12), color='#86bf91', zorder=2, rwidth=0.9)"
   ]
  },
  {
   "cell_type": "markdown",
   "metadata": {},
   "source": [
    "i was trying to draw a bar chart of residential units vs neighbor hood as i did it on data studio and saw  that the vast majority of 1-3 family homes are in the more affluent neighborhoods of New York City. Case in point, the Upper West Side of Manhattan had sold approximately 670 properties in 2017 all of which were 1-3 family homes. but i was not able to draw it in python."
   ]
  },
  {
   "cell_type": "markdown",
   "metadata": {},
   "source": [
    "# Q2. For any property sold for over $1,000,000, when did the building boom associated with it occur?"
   ]
  },
  {
   "cell_type": "code",
   "execution_count": 133,
   "metadata": {},
   "outputs": [
    {
     "data": {
      "text/plain": [
       "array([[<matplotlib.axes._subplots.AxesSubplot object at 0x0000027FE1A23688>]],\n",
       "      dtype=object)"
      ]
     },
     "execution_count": 133,
     "metadata": {},
     "output_type": "execute_result"
    },
    {
     "data": {
      "image/png": "[encoded data removed]",
      "text/plain": [
       "<Figure size 1080x864 with 1 Axes>"
      ]
     },
     "metadata": {
      "needs_background": "light"
     },
     "output_type": "display_data"
    }
   ],
   "source": [
    "nycdf.hist(column=['YEAR BUILT', 'SALE DATE', 'SALE PRICE'],\n",
    "            bins=25, grid=False, figsize=(15,12), color='#86bf91', zorder=2, rwidth=0.9)"
   ]
  },
  {
   "cell_type": "code",
   "execution_count": 140,
   "metadata": {},
   "outputs": [
    {
     "ename": "KeyError",
     "evalue": "\"None of [Index([(6625000.0, nan, nan, 3936272.0, 8000000.0, nan, 3192840.0, nan, nan, 16232000.0, nan, 10350000.0, 1.0, 499000.0, 10.0, 529500.0, 423000.0, 501000.0, 450000.0, 510000.0, nan, 350000.0, 11900000.0, 11900000.0, 350000.0, 404000.0, 535000.0, 1400000.0, 866000.0, 355000.0, nan, 805000.0, 475000.0, 450000.0, 450000.0, 810000.0, nan, 300000.0, 300000.0, 579000.0, 1500000.0, 25000.0, 512000.0, 410000.0, 500000.0, 510000.0, 475000.0, 789019.0, nan, nan, 425000.0, 490000.0, 409000.0, 415000.0, 420000.0, 435000.0, 575000.0, 605000.0, 799000.0, 800000.0, 54993.0, 410000.0, 1475000.0, 335000.0, 490000.0, 750000.0, 780000.0, 2400000.0, 380000.0, 430000.0, 499900.0, 1400000.0, 694000.0, 28000000.0, 8058923.0, 52625000.0, 620000.0, nan, nan, 762669.0, 772851.0, 1034880.0, nan, nan, nan, 800000.0, 2295759.0, 875000.0, nan, nan, nan, nan, nan, nan, nan, 701341.0, nan, nan, nan, nan, ...)], dtype='object')] are in the [columns]\"",
     "output_type": "error",
     "traceback": [
      "\u001b[1;31m---------------------------------------------------------------------------\u001b[0m",
      "\u001b[1;31mKeyError\u001b[0m                                  Traceback (most recent call last)",
      "\u001b[1;32m<ipython-input-140-a3ad2457cf7e>\u001b[0m in \u001b[0;36m<module>\u001b[1;34m\u001b[0m\n\u001b[0;32m      1\u001b[0m nycdf.hist(column=[pd.to_numeric(nycdf['SALE PRICE'],errors='coerce')],\n\u001b[1;32m----> 2\u001b[1;33m             bins=25, grid=False, figsize=(15,12), color='#86bf91', zorder=2, rwidth=0.9)\n\u001b[0m",
      "\u001b[1;32mC:\\ProgramData\\Anaconda3\\lib\\site-packages\\pandas\\plotting\\_core.py\u001b[0m in \u001b[0;36mhist_frame\u001b[1;34m(data, column, by, grid, xlabelsize, xrot, ylabelsize, yrot, ax, sharex, sharey, figsize, layout, bins, backend, **kwargs)\u001b[0m\n\u001b[0;32m    206\u001b[0m         \u001b[0mlayout\u001b[0m\u001b[1;33m=\u001b[0m\u001b[0mlayout\u001b[0m\u001b[1;33m,\u001b[0m\u001b[1;33m\u001b[0m\u001b[1;33m\u001b[0m\u001b[0m\n\u001b[0;32m    207\u001b[0m         \u001b[0mbins\u001b[0m\u001b[1;33m=\u001b[0m\u001b[0mbins\u001b[0m\u001b[1;33m,\u001b[0m\u001b[1;33m\u001b[0m\u001b[1;33m\u001b[0m\u001b[0m\n\u001b[1;32m--> 208\u001b[1;33m         \u001b[1;33m**\u001b[0m\u001b[0mkwargs\u001b[0m\u001b[1;33m,\u001b[0m\u001b[1;33m\u001b[0m\u001b[1;33m\u001b[0m\u001b[0m\n\u001b[0m\u001b[0;32m    209\u001b[0m     )\n\u001b[0;32m    210\u001b[0m \u001b[1;33m\u001b[0m\u001b[0m\n",
      "\u001b[1;32mC:\\ProgramData\\Anaconda3\\lib\\site-packages\\pandas\\plotting\\_matplotlib\\hist.py\u001b[0m in \u001b[0;36mhist_frame\u001b[1;34m(data, column, by, grid, xlabelsize, xrot, ylabelsize, yrot, ax, sharex, sharey, figsize, layout, bins, **kwds)\u001b[0m\n\u001b[0;32m    382\u001b[0m         \u001b[1;32mif\u001b[0m \u001b[1;32mnot\u001b[0m \u001b[0misinstance\u001b[0m\u001b[1;33m(\u001b[0m\u001b[0mcolumn\u001b[0m\u001b[1;33m,\u001b[0m \u001b[1;33m(\u001b[0m\u001b[0mlist\u001b[0m\u001b[1;33m,\u001b[0m \u001b[0mnp\u001b[0m\u001b[1;33m.\u001b[0m\u001b[0mndarray\u001b[0m\u001b[1;33m,\u001b[0m \u001b[0mABCIndexClass\u001b[0m\u001b[1;33m)\u001b[0m\u001b[1;33m)\u001b[0m\u001b[1;33m:\u001b[0m\u001b[1;33m\u001b[0m\u001b[1;33m\u001b[0m\u001b[0m\n\u001b[0;32m    383\u001b[0m             \u001b[0mcolumn\u001b[0m \u001b[1;33m=\u001b[0m \u001b[1;33m[\u001b[0m\u001b[0mcolumn\u001b[0m\u001b[1;33m]\u001b[0m\u001b[1;33m\u001b[0m\u001b[1;33m\u001b[0m\u001b[0m\n\u001b[1;32m--> 384\u001b[1;33m         \u001b[0mdata\u001b[0m \u001b[1;33m=\u001b[0m \u001b[0mdata\u001b[0m\u001b[1;33m[\u001b[0m\u001b[0mcolumn\u001b[0m\u001b[1;33m]\u001b[0m\u001b[1;33m\u001b[0m\u001b[1;33m\u001b[0m\u001b[0m\n\u001b[0m\u001b[0;32m    385\u001b[0m     \u001b[0mdata\u001b[0m \u001b[1;33m=\u001b[0m \u001b[0mdata\u001b[0m\u001b[1;33m.\u001b[0m\u001b[0m_get_numeric_data\u001b[0m\u001b[1;33m(\u001b[0m\u001b[1;33m)\u001b[0m\u001b[1;33m\u001b[0m\u001b[1;33m\u001b[0m\u001b[0m\n\u001b[0;32m    386\u001b[0m     \u001b[0mnaxes\u001b[0m \u001b[1;33m=\u001b[0m \u001b[0mlen\u001b[0m\u001b[1;33m(\u001b[0m\u001b[0mdata\u001b[0m\u001b[1;33m.\u001b[0m\u001b[0mcolumns\u001b[0m\u001b[1;33m)\u001b[0m\u001b[1;33m\u001b[0m\u001b[1;33m\u001b[0m\u001b[0m\n",
      "\u001b[1;32mC:\\ProgramData\\Anaconda3\\lib\\site-packages\\pandas\\core\\frame.py\u001b[0m in \u001b[0;36m__getitem__\u001b[1;34m(self, key)\u001b[0m\n\u001b[0;32m   2804\u001b[0m             \u001b[1;32mif\u001b[0m \u001b[0mis_iterator\u001b[0m\u001b[1;33m(\u001b[0m\u001b[0mkey\u001b[0m\u001b[1;33m)\u001b[0m\u001b[1;33m:\u001b[0m\u001b[1;33m\u001b[0m\u001b[1;33m\u001b[0m\u001b[0m\n\u001b[0;32m   2805\u001b[0m                 \u001b[0mkey\u001b[0m \u001b[1;33m=\u001b[0m \u001b[0mlist\u001b[0m\u001b[1;33m(\u001b[0m\u001b[0mkey\u001b[0m\u001b[1;33m)\u001b[0m\u001b[1;33m\u001b[0m\u001b[1;33m\u001b[0m\u001b[0m\n\u001b[1;32m-> 2806\u001b[1;33m             \u001b[0mindexer\u001b[0m \u001b[1;33m=\u001b[0m \u001b[0mself\u001b[0m\u001b[1;33m.\u001b[0m\u001b[0mloc\u001b[0m\u001b[1;33m.\u001b[0m\u001b[0m_get_listlike_indexer\u001b[0m\u001b[1;33m(\u001b[0m\u001b[0mkey\u001b[0m\u001b[1;33m,\u001b[0m \u001b[0maxis\u001b[0m\u001b[1;33m=\u001b[0m\u001b[1;36m1\u001b[0m\u001b[1;33m,\u001b[0m \u001b[0mraise_missing\u001b[0m\u001b[1;33m=\u001b[0m\u001b[1;32mTrue\u001b[0m\u001b[1;33m)\u001b[0m\u001b[1;33m[\u001b[0m\u001b[1;36m1\u001b[0m\u001b[1;33m]\u001b[0m\u001b[1;33m\u001b[0m\u001b[1;33m\u001b[0m\u001b[0m\n\u001b[0m\u001b[0;32m   2807\u001b[0m \u001b[1;33m\u001b[0m\u001b[0m\n\u001b[0;32m   2808\u001b[0m         \u001b[1;31m# take() does not accept boolean indexers\u001b[0m\u001b[1;33m\u001b[0m\u001b[1;33m\u001b[0m\u001b[1;33m\u001b[0m\u001b[0m\n",
      "\u001b[1;32mC:\\ProgramData\\Anaconda3\\lib\\site-packages\\pandas\\core\\indexing.py\u001b[0m in \u001b[0;36m_get_listlike_indexer\u001b[1;34m(self, key, axis, raise_missing)\u001b[0m\n\u001b[0;32m   1550\u001b[0m \u001b[1;33m\u001b[0m\u001b[0m\n\u001b[0;32m   1551\u001b[0m         self._validate_read_indexer(\n\u001b[1;32m-> 1552\u001b[1;33m             \u001b[0mkeyarr\u001b[0m\u001b[1;33m,\u001b[0m \u001b[0mindexer\u001b[0m\u001b[1;33m,\u001b[0m \u001b[0mo\u001b[0m\u001b[1;33m.\u001b[0m\u001b[0m_get_axis_number\u001b[0m\u001b[1;33m(\u001b[0m\u001b[0maxis\u001b[0m\u001b[1;33m)\u001b[0m\u001b[1;33m,\u001b[0m \u001b[0mraise_missing\u001b[0m\u001b[1;33m=\u001b[0m\u001b[0mraise_missing\u001b[0m\u001b[1;33m\u001b[0m\u001b[1;33m\u001b[0m\u001b[0m\n\u001b[0m\u001b[0;32m   1553\u001b[0m         )\n\u001b[0;32m   1554\u001b[0m         \u001b[1;32mreturn\u001b[0m \u001b[0mkeyarr\u001b[0m\u001b[1;33m,\u001b[0m \u001b[0mindexer\u001b[0m\u001b[1;33m\u001b[0m\u001b[1;33m\u001b[0m\u001b[0m\n",
      "\u001b[1;32mC:\\ProgramData\\Anaconda3\\lib\\site-packages\\pandas\\core\\indexing.py\u001b[0m in \u001b[0;36m_validate_read_indexer\u001b[1;34m(self, key, indexer, axis, raise_missing)\u001b[0m\n\u001b[0;32m   1637\u001b[0m             \u001b[1;32mif\u001b[0m \u001b[0mmissing\u001b[0m \u001b[1;33m==\u001b[0m \u001b[0mlen\u001b[0m\u001b[1;33m(\u001b[0m\u001b[0mindexer\u001b[0m\u001b[1;33m)\u001b[0m\u001b[1;33m:\u001b[0m\u001b[1;33m\u001b[0m\u001b[1;33m\u001b[0m\u001b[0m\n\u001b[0;32m   1638\u001b[0m                 \u001b[0maxis_name\u001b[0m \u001b[1;33m=\u001b[0m \u001b[0mself\u001b[0m\u001b[1;33m.\u001b[0m\u001b[0mobj\u001b[0m\u001b[1;33m.\u001b[0m\u001b[0m_get_axis_name\u001b[0m\u001b[1;33m(\u001b[0m\u001b[0maxis\u001b[0m\u001b[1;33m)\u001b[0m\u001b[1;33m\u001b[0m\u001b[1;33m\u001b[0m\u001b[0m\n\u001b[1;32m-> 1639\u001b[1;33m                 \u001b[1;32mraise\u001b[0m \u001b[0mKeyError\u001b[0m\u001b[1;33m(\u001b[0m\u001b[1;34mf\"None of [{key}] are in the [{axis_name}]\"\u001b[0m\u001b[1;33m)\u001b[0m\u001b[1;33m\u001b[0m\u001b[1;33m\u001b[0m\u001b[0m\n\u001b[0m\u001b[0;32m   1640\u001b[0m \u001b[1;33m\u001b[0m\u001b[0m\n\u001b[0;32m   1641\u001b[0m             \u001b[1;31m# We (temporarily) allow for some missing keys with .loc, except in\u001b[0m\u001b[1;33m\u001b[0m\u001b[1;33m\u001b[0m\u001b[1;33m\u001b[0m\u001b[0m\n",
      "\u001b[1;31mKeyError\u001b[0m: \"None of [Index([(6625000.0, nan, nan, 3936272.0, 8000000.0, nan, 3192840.0, nan, nan, 16232000.0, nan, 10350000.0, 1.0, 499000.0, 10.0, 529500.0, 423000.0, 501000.0, 450000.0, 510000.0, nan, 350000.0, 11900000.0, 11900000.0, 350000.0, 404000.0, 535000.0, 1400000.0, 866000.0, 355000.0, nan, 805000.0, 475000.0, 450000.0, 450000.0, 810000.0, nan, 300000.0, 300000.0, 579000.0, 1500000.0, 25000.0, 512000.0, 410000.0, 500000.0, 510000.0, 475000.0, 789019.0, nan, nan, 425000.0, 490000.0, 409000.0, 415000.0, 420000.0, 435000.0, 575000.0, 605000.0, 799000.0, 800000.0, 54993.0, 410000.0, 1475000.0, 335000.0, 490000.0, 750000.0, 780000.0, 2400000.0, 380000.0, 430000.0, 499900.0, 1400000.0, 694000.0, 28000000.0, 8058923.0, 52625000.0, 620000.0, nan, nan, 762669.0, 772851.0, 1034880.0, nan, nan, nan, 800000.0, 2295759.0, 875000.0, nan, nan, nan, nan, nan, nan, nan, 701341.0, nan, nan, nan, nan, ...)], dtype='object')] are in the [columns]\""
     ]
    }
   ],
   "source": [
    "nycdf.hist(column=[pd.to_numeric(nycdf['SALE PRICE'],errors='coerce')],\n",
    "            bins=25, grid=False, figsize=(15,12), color='#86bf91', zorder=2, rwidth=0.9)"
   ]
  },
  {
   "cell_type": "markdown",
   "metadata": {},
   "source": [
    "Here again i did in data studio and saw that a great number of properties sold at a value exceeding $1,000,000 were built at the the 20th and the 21st centuries. \n",
    "but i was not able to draw the histogram again"
   ]
  },
  {
   "cell_type": "markdown",
   "metadata": {},
   "source": [
    "# Q3. What is the average square footage sold to each tax class?"
   ]
  },
  {
   "cell_type": "code",
   "execution_count": 142,
   "metadata": {},
   "outputs": [
    {
     "data": {
      "text/plain": [
       "array([[<matplotlib.axes._subplots.AxesSubplot object at 0x0000027F850E7D48>]],\n",
       "      dtype=object)"
      ]
     },
     "execution_count": 142,
     "metadata": {},
     "output_type": "execute_result"
    },
    {
     "data": {
      "image/png": "[encoded data removed]",
      "text/plain": [
       "<Figure size 1080x864 with 1 Axes>"
      ]
     },
     "metadata": {
      "needs_background": "light"
     },
     "output_type": "display_data"
    }
   ],
   "source": [
    "\n",
    "nycdf.hist(column=['GROSS SQUARE FEET', 'TAX CLASS AT TIME OF SALE'],\n",
    "            bins=25, grid=False, figsize=(15,12), color='#86bf91', zorder=2, rwidth=0.9)"
   ]
  },
  {
   "cell_type": "code",
   "execution_count": 138,
   "metadata": {},
   "outputs": [
    {
     "data": {
      "text/plain": [
       "Unnamed: 0                          int64\n",
       "BOROUGH                             int64\n",
       "NEIGHBORHOOD                       object\n",
       "TAX CLASS AT PRESENT               object\n",
       "BLOCK                             float64\n",
       "LOT                                object\n",
       "EASE-MENT                          object\n",
       "BUILDING CLASS AT PRESENT          object\n",
       "ADDRESS                            object\n",
       "APARTMENT NUMBER                   object\n",
       "ZIP CODE                          float64\n",
       "RESIDENTIAL UNITS                   int64\n",
       "TOTAL UNITS                         int64\n",
       "LAND SQUARE FEET                   object\n",
       "GROSS SQUARE FEET                  object\n",
       "YEAR BUILT                          int64\n",
       "TAX CLASS AT TIME OF SALE           int64\n",
       "BUILDING CLASS AT TIME OF SALE     object\n",
       "SALE PRICE                         object\n",
       "SALE DATE                          object\n",
       "Sale                              float64\n",
       "dtype: object"
      ]
     },
     "execution_count": 138,
     "metadata": {},
     "output_type": "execute_result"
    }
   ],
   "source": [
    "nycdf.dtypes"
   ]
  },
  {
   "cell_type": "markdown",
   "metadata": {},
   "source": [
    "Class 1, residential homes of 1-3 families have on average the lowest gross square footage in Manhattan, contrary to class 4 which includes offices, factories and warehouses. class 2 properties which include primarily residential properties such as apartment buildings constitute approximately 38% of the total properties sold in Manhattan. This information can be very useful to any real estate agent, buyer or seller of properties in NYC. \n",
    "again i was unable to draw in python but did in data studio and hence wrote the observation"
   ]
  },
  {
   "cell_type": "code",
   "execution_count": null,
   "metadata": {},
   "outputs": [],
   "source": []
  }
 ],
 "metadata": {
  "kernelspec": {
   "display_name": "Python 3",
   "language": "python",
   "name": "python3"
  },
  "language_info": {
   "codemirror_mode": {
    "name": "ipython",
    "version": 3
   },
   "file_extension": ".py",
   "mimetype": "text/x-python",
   "name": "python",
   "nbconvert_exporter": "python",
   "pygments_lexer": "ipython3",
   "version": "3.7.6"
  }
 },
 "nbformat": 4,
 "nbformat_minor": 4
}
