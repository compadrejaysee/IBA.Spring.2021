{
 "cells": [
  {
   "cell_type": "code",
   "execution_count": 64,
   "metadata": {},
   "outputs": [
    {
     "ename": "SyntaxError",
     "evalue": "invalid syntax (<ipython-input-64-23afaa5f1dbc>, line 14)",
     "output_type": "error",
     "traceback": [
      "\u001b[1;36m  File \u001b[1;32m\"<ipython-input-64-23afaa5f1dbc>\"\u001b[1;36m, line \u001b[1;32m14\u001b[0m\n\u001b[1;33m    from sklearn.tree import DecisionTreeClassifier as dtc, import DecisionTreeRegressor as dtr\u001b[0m\n\u001b[1;37m                                                            ^\u001b[0m\n\u001b[1;31mSyntaxError\u001b[0m\u001b[1;31m:\u001b[0m invalid syntax\n"
     ]
    }
   ],
   "source": [
    "!pip install missingno\n",
    "import seaborn as sb\n",
    "import pandas as pd \n",
    "import matplotlib.pyplot as plt\n",
    "import missingno as mano\n",
    "import numpy as np\n",
    "from scipy.stats import skew, kurtosis, spearmanr as spm, pearsonr as pe\n",
    "from sklearn.impute import KNNImputer, SimpleImputer\n",
    "import statsmodels.api as sm\n",
    "import pylab as py\n",
    "from sklearn.preprocessing import OrdinalEncoder as ordenc, OneHotEncoder as ohot\n",
    "from sklearn.metrics import confusion_matrix as confm, accuracy_score as acs, classification_report as crep, log_loss as logloss, mean_absolute_error as MAE, mean_squared_error as MSE, r2_score as r2 \n",
    "from sklearn.model_selection import train_test_split as tts\n",
    "from sklearn.tree import DecisionTreeClassifier as dtc, DecisionTreeRegressor as dtr\n",
    "from sklearn.linear_model import LinearRegression as LR"
   ]
  },
  {
   "cell_type": "markdown",
   "metadata": {},
   "source": [
    "# Function 1"
   ]
  },
  {
   "cell_type": "code",
   "execution_count": 37,
   "metadata": {},
   "outputs": [
    {
     "name": "stdout",
     "output_type": "stream",
     "text": [
      "What is the file type? (csv or excel)\n",
      "csv\n",
      "What is the filepath:House.Price.csv\n"
     ]
    }
   ],
   "source": [
    "def loadfile():\n",
    "    filetype = str(input(\"What is the file type? (csv or excel)\\n\"))\n",
    "    if filetype == 'csv':\n",
    "        filepath = str(input(\"What is the filepath:\"))\n",
    "        data = pd.read_csv(filepath, index_col = None, encoding = 'unicode_escape')\n",
    "        return data.head(10)\n",
    "    elif filetype == 'excel':\n",
    "        filepath = str(input(\"What is the filepath:\"))\n",
    "        data = pd.read_excel(filepath, index_col = None, encoding = 'unicode_escape')\n",
    "        return data.head(10)\n",
    "    else:\n",
    "        return None\n",
    "data = loadfile()"
   ]
  },
  {
   "cell_type": "markdown",
   "metadata": {},
   "source": [
    "# Function 2"
   ]
  },
  {
   "cell_type": "code",
   "execution_count": 38,
   "metadata": {},
   "outputs": [
    {
     "name": "stdout",
     "output_type": "stream",
     "text": [
      "The columns and rows of the dataset are (10, 81)\n",
      "The number of values in the dataset is 810\n",
      "   Id  MSSubClass MSZoning  LotFrontage  LotArea Street Alley LotShape  \\\n",
      "0   1          60       RL         65.0     8450   Pave   NaN      Reg   \n",
      "1   2          20       RL         80.0     9600   Pave   NaN      Reg   \n",
      "2   3          60       RL         68.0    11250   Pave   NaN      IR1   \n",
      "3   4          70       RL         60.0     9550   Pave   NaN      IR1   \n",
      "4   5          60       RL         84.0    14260   Pave   NaN      IR1   \n",
      "5   6          50       RL         85.0    14115   Pave   NaN      IR1   \n",
      "6   7          20       RL         75.0    10084   Pave   NaN      Reg   \n",
      "7   8          60       RL          NaN    10382   Pave   NaN      IR1   \n",
      "8   9          50       RM         51.0     6120   Pave   NaN      Reg   \n",
      "9  10         190       RL         50.0     7420   Pave   NaN      Reg   \n",
      "\n",
      "  LandContour Utilities  ... PoolArea PoolQC  Fence MiscFeature MiscVal  \\\n",
      "0         Lvl    AllPub  ...        0    NaN    NaN         NaN       0   \n",
      "1         Lvl    AllPub  ...        0    NaN    NaN         NaN       0   \n",
      "2         Lvl    AllPub  ...        0    NaN    NaN         NaN       0   \n",
      "3         Lvl    AllPub  ...        0    NaN    NaN         NaN       0   \n",
      "4         Lvl    AllPub  ...        0    NaN    NaN         NaN       0   \n",
      "5         Lvl    AllPub  ...        0    NaN  MnPrv        Shed     700   \n",
      "6         Lvl    AllPub  ...        0    NaN    NaN         NaN       0   \n",
      "7         Lvl    AllPub  ...        0    NaN    NaN        Shed     350   \n",
      "8         Lvl    AllPub  ...        0    NaN    NaN         NaN       0   \n",
      "9         Lvl    AllPub  ...        0    NaN    NaN         NaN       0   \n",
      "\n",
      "  MoSold YrSold  SaleType  SaleCondition  SalePrice  \n",
      "0      2   2008        WD         Normal     208500  \n",
      "1      5   2007        WD         Normal     181500  \n",
      "2      9   2008        WD         Normal     223500  \n",
      "3      2   2006        WD        Abnorml     140000  \n",
      "4     12   2008        WD         Normal     250000  \n",
      "5     10   2009        WD         Normal     143000  \n",
      "6      8   2007        WD         Normal     307000  \n",
      "7     11   2009        WD         Normal     200000  \n",
      "8      4   2008        WD        Abnorml     129900  \n",
      "9      1   2008        WD         Normal     118000  \n",
      "\n",
      "[10 rows x 81 columns]\n",
      "   Id  MSSubClass MSZoning  LotFrontage  LotArea Street Alley LotShape  \\\n",
      "0   1          60       RL         65.0     8450   Pave   NaN      Reg   \n",
      "1   2          20       RL         80.0     9600   Pave   NaN      Reg   \n",
      "2   3          60       RL         68.0    11250   Pave   NaN      IR1   \n",
      "3   4          70       RL         60.0     9550   Pave   NaN      IR1   \n",
      "4   5          60       RL         84.0    14260   Pave   NaN      IR1   \n",
      "5   6          50       RL         85.0    14115   Pave   NaN      IR1   \n",
      "6   7          20       RL         75.0    10084   Pave   NaN      Reg   \n",
      "7   8          60       RL          NaN    10382   Pave   NaN      IR1   \n",
      "8   9          50       RM         51.0     6120   Pave   NaN      Reg   \n",
      "9  10         190       RL         50.0     7420   Pave   NaN      Reg   \n",
      "\n",
      "  LandContour Utilities  ... PoolArea PoolQC  Fence MiscFeature MiscVal  \\\n",
      "0         Lvl    AllPub  ...        0    NaN    NaN         NaN       0   \n",
      "1         Lvl    AllPub  ...        0    NaN    NaN         NaN       0   \n",
      "2         Lvl    AllPub  ...        0    NaN    NaN         NaN       0   \n",
      "3         Lvl    AllPub  ...        0    NaN    NaN         NaN       0   \n",
      "4         Lvl    AllPub  ...        0    NaN    NaN         NaN       0   \n",
      "5         Lvl    AllPub  ...        0    NaN  MnPrv        Shed     700   \n",
      "6         Lvl    AllPub  ...        0    NaN    NaN         NaN       0   \n",
      "7         Lvl    AllPub  ...        0    NaN    NaN        Shed     350   \n",
      "8         Lvl    AllPub  ...        0    NaN    NaN         NaN       0   \n",
      "9         Lvl    AllPub  ...        0    NaN    NaN         NaN       0   \n",
      "\n",
      "  MoSold YrSold  SaleType  SaleCondition  SalePrice  \n",
      "0      2   2008        WD         Normal     208500  \n",
      "1      5   2007        WD         Normal     181500  \n",
      "2      9   2008        WD         Normal     223500  \n",
      "3      2   2006        WD        Abnorml     140000  \n",
      "4     12   2008        WD         Normal     250000  \n",
      "5     10   2009        WD         Normal     143000  \n",
      "6      8   2007        WD         Normal     307000  \n",
      "7     11   2009        WD         Normal     200000  \n",
      "8      4   2008        WD        Abnorml     129900  \n",
      "9      1   2008        WD         Normal     118000  \n",
      "\n",
      "[10 rows x 81 columns]\n",
      "Id                 int64\n",
      "MSSubClass         int64\n",
      "MSZoning          object\n",
      "LotFrontage      float64\n",
      "LotArea            int64\n",
      "                  ...   \n",
      "MoSold             int64\n",
      "YrSold             int64\n",
      "SaleType          object\n",
      "SaleCondition     object\n",
      "SalePrice          int64\n",
      "Length: 81, dtype: object\n",
      "Index(['Id', 'MSSubClass', 'MSZoning', 'LotFrontage', 'LotArea', 'Street',\n",
      "       'Alley', 'LotShape', 'LandContour', 'Utilities', 'LotConfig',\n",
      "       'LandSlope', 'Neighborhood', 'Condition1', 'Condition2', 'BldgType',\n",
      "       'HouseStyle', 'OverallQual', 'OverallCond', 'YearBuilt', 'YearRemodAdd',\n",
      "       'RoofStyle', 'RoofMatl', 'Exterior1st', 'Exterior2nd', 'MasVnrType',\n",
      "       'MasVnrArea', 'ExterQual', 'ExterCond', 'Foundation', 'BsmtQual',\n",
      "       'BsmtCond', 'BsmtExposure', 'BsmtFinType1', 'BsmtFinSF1',\n",
      "       'BsmtFinType2', 'BsmtFinSF2', 'BsmtUnfSF', 'TotalBsmtSF', 'Heating',\n",
      "       'HeatingQC', 'CentralAir', 'Electrical', '1stFlrSF', '2ndFlrSF',\n",
      "       'LowQualFinSF', 'GrLivArea', 'BsmtFullBath', 'BsmtHalfBath', 'FullBath',\n",
      "       'HalfBath', 'BedroomAbvGr', 'KitchenAbvGr', 'KitchenQual',\n",
      "       'TotRmsAbvGrd', 'Functional', 'Fireplaces', 'FireplaceQu', 'GarageType',\n",
      "       'GarageYrBlt', 'GarageFinish', 'GarageCars', 'GarageArea', 'GarageQual',\n",
      "       'GarageCond', 'PavedDrive', 'WoodDeckSF', 'OpenPorchSF',\n",
      "       'EnclosedPorch', '3SsnPorch', 'ScreenPorch', 'PoolArea', 'PoolQC',\n",
      "       'Fence', 'MiscFeature', 'MiscVal', 'MoSold', 'YrSold', 'SaleType',\n",
      "       'SaleCondition', 'SalePrice'],\n",
      "      dtype='object')\n"
     ]
    },
    {
     "data": {
      "text/html": [
       "<div>\n",
       "<style scoped>\n",
       "    .dataframe tbody tr th:only-of-type {\n",
       "        vertical-align: middle;\n",
       "    }\n",
       "\n",
       "    .dataframe tbody tr th {\n",
       "        vertical-align: top;\n",
       "    }\n",
       "\n",
       "    .dataframe thead th {\n",
       "        text-align: right;\n",
       "    }\n",
       "</style>\n",
       "<table border=\"1\" class=\"dataframe\">\n",
       "  <thead>\n",
       "    <tr style=\"text-align: right;\">\n",
       "      <th></th>\n",
       "      <th>Id</th>\n",
       "      <th>MSSubClass</th>\n",
       "      <th>LotFrontage</th>\n",
       "      <th>LotArea</th>\n",
       "      <th>OverallQual</th>\n",
       "      <th>OverallCond</th>\n",
       "      <th>YearBuilt</th>\n",
       "      <th>YearRemodAdd</th>\n",
       "      <th>MasVnrArea</th>\n",
       "      <th>BsmtFinSF1</th>\n",
       "      <th>...</th>\n",
       "      <th>WoodDeckSF</th>\n",
       "      <th>OpenPorchSF</th>\n",
       "      <th>EnclosedPorch</th>\n",
       "      <th>3SsnPorch</th>\n",
       "      <th>ScreenPorch</th>\n",
       "      <th>PoolArea</th>\n",
       "      <th>MiscVal</th>\n",
       "      <th>MoSold</th>\n",
       "      <th>YrSold</th>\n",
       "      <th>SalePrice</th>\n",
       "    </tr>\n",
       "  </thead>\n",
       "  <tbody>\n",
       "    <tr>\n",
       "      <th>count</th>\n",
       "      <td>10.00000</td>\n",
       "      <td>10.000000</td>\n",
       "      <td>9.000000</td>\n",
       "      <td>10.000000</td>\n",
       "      <td>10.00000</td>\n",
       "      <td>10.000000</td>\n",
       "      <td>10.000000</td>\n",
       "      <td>10.000000</td>\n",
       "      <td>10.000000</td>\n",
       "      <td>10.000000</td>\n",
       "      <td>...</td>\n",
       "      <td>10.000000</td>\n",
       "      <td>10.000000</td>\n",
       "      <td>10.00000</td>\n",
       "      <td>10.000000</td>\n",
       "      <td>10.0</td>\n",
       "      <td>10.0</td>\n",
       "      <td>10.000000</td>\n",
       "      <td>10.000000</td>\n",
       "      <td>10.000000</td>\n",
       "      <td>10.000000</td>\n",
       "    </tr>\n",
       "    <tr>\n",
       "      <th>mean</th>\n",
       "      <td>5.50000</td>\n",
       "      <td>64.000000</td>\n",
       "      <td>68.666667</td>\n",
       "      <td>10123.100000</td>\n",
       "      <td>6.70000</td>\n",
       "      <td>5.500000</td>\n",
       "      <td>1973.500000</td>\n",
       "      <td>1982.400000</td>\n",
       "      <td>113.400000</td>\n",
       "      <td>685.200000</td>\n",
       "      <td>...</td>\n",
       "      <td>111.000000</td>\n",
       "      <td>51.700000</td>\n",
       "      <td>70.50000</td>\n",
       "      <td>32.000000</td>\n",
       "      <td>0.0</td>\n",
       "      <td>0.0</td>\n",
       "      <td>105.000000</td>\n",
       "      <td>6.400000</td>\n",
       "      <td>2007.800000</td>\n",
       "      <td>190140.000000</td>\n",
       "    </tr>\n",
       "    <tr>\n",
       "      <th>std</th>\n",
       "      <td>3.02765</td>\n",
       "      <td>47.422451</td>\n",
       "      <td>13.322913</td>\n",
       "      <td>2605.988166</td>\n",
       "      <td>1.05935</td>\n",
       "      <td>0.971825</td>\n",
       "      <td>33.440661</td>\n",
       "      <td>21.526211</td>\n",
       "      <td>129.426255</td>\n",
       "      <td>386.418541</td>\n",
       "      <td>...</td>\n",
       "      <td>121.293034</td>\n",
       "      <td>60.385889</td>\n",
       "      <td>114.64462</td>\n",
       "      <td>101.192885</td>\n",
       "      <td>0.0</td>\n",
       "      <td>0.0</td>\n",
       "      <td>236.231995</td>\n",
       "      <td>4.087923</td>\n",
       "      <td>0.918937</td>\n",
       "      <td>60028.293329</td>\n",
       "    </tr>\n",
       "    <tr>\n",
       "      <th>min</th>\n",
       "      <td>1.00000</td>\n",
       "      <td>20.000000</td>\n",
       "      <td>50.000000</td>\n",
       "      <td>6120.000000</td>\n",
       "      <td>5.00000</td>\n",
       "      <td>5.000000</td>\n",
       "      <td>1915.000000</td>\n",
       "      <td>1950.000000</td>\n",
       "      <td>0.000000</td>\n",
       "      <td>0.000000</td>\n",
       "      <td>...</td>\n",
       "      <td>0.000000</td>\n",
       "      <td>0.000000</td>\n",
       "      <td>0.00000</td>\n",
       "      <td>0.000000</td>\n",
       "      <td>0.0</td>\n",
       "      <td>0.0</td>\n",
       "      <td>0.000000</td>\n",
       "      <td>1.000000</td>\n",
       "      <td>2006.000000</td>\n",
       "      <td>118000.000000</td>\n",
       "    </tr>\n",
       "    <tr>\n",
       "      <th>25%</th>\n",
       "      <td>3.25000</td>\n",
       "      <td>50.000000</td>\n",
       "      <td>60.000000</td>\n",
       "      <td>8725.000000</td>\n",
       "      <td>6.25000</td>\n",
       "      <td>5.000000</td>\n",
       "      <td>1947.500000</td>\n",
       "      <td>1970.750000</td>\n",
       "      <td>0.000000</td>\n",
       "      <td>528.250000</td>\n",
       "      <td>...</td>\n",
       "      <td>0.000000</td>\n",
       "      <td>10.500000</td>\n",
       "      <td>0.00000</td>\n",
       "      <td>0.000000</td>\n",
       "      <td>0.0</td>\n",
       "      <td>0.0</td>\n",
       "      <td>0.000000</td>\n",
       "      <td>2.500000</td>\n",
       "      <td>2007.250000</td>\n",
       "      <td>140750.000000</td>\n",
       "    </tr>\n",
       "    <tr>\n",
       "      <th>50%</th>\n",
       "      <td>5.50000</td>\n",
       "      <td>60.000000</td>\n",
       "      <td>68.000000</td>\n",
       "      <td>9842.000000</td>\n",
       "      <td>7.00000</td>\n",
       "      <td>5.000000</td>\n",
       "      <td>1984.500000</td>\n",
       "      <td>1985.500000</td>\n",
       "      <td>81.000000</td>\n",
       "      <td>719.000000</td>\n",
       "      <td>...</td>\n",
       "      <td>65.000000</td>\n",
       "      <td>38.500000</td>\n",
       "      <td>0.00000</td>\n",
       "      <td>0.000000</td>\n",
       "      <td>0.0</td>\n",
       "      <td>0.0</td>\n",
       "      <td>0.000000</td>\n",
       "      <td>6.500000</td>\n",
       "      <td>2008.000000</td>\n",
       "      <td>190750.000000</td>\n",
       "    </tr>\n",
       "    <tr>\n",
       "      <th>75%</th>\n",
       "      <td>7.75000</td>\n",
       "      <td>60.000000</td>\n",
       "      <td>80.000000</td>\n",
       "      <td>11033.000000</td>\n",
       "      <td>7.00000</td>\n",
       "      <td>5.750000</td>\n",
       "      <td>2000.750000</td>\n",
       "      <td>2001.500000</td>\n",
       "      <td>193.500000</td>\n",
       "      <td>857.000000</td>\n",
       "      <td>...</td>\n",
       "      <td>224.250000</td>\n",
       "      <td>60.000000</td>\n",
       "      <td>153.75000</td>\n",
       "      <td>0.000000</td>\n",
       "      <td>0.0</td>\n",
       "      <td>0.0</td>\n",
       "      <td>0.000000</td>\n",
       "      <td>9.750000</td>\n",
       "      <td>2008.000000</td>\n",
       "      <td>219750.000000</td>\n",
       "    </tr>\n",
       "    <tr>\n",
       "      <th>max</th>\n",
       "      <td>10.00000</td>\n",
       "      <td>190.000000</td>\n",
       "      <td>85.000000</td>\n",
       "      <td>14260.000000</td>\n",
       "      <td>8.00000</td>\n",
       "      <td>8.000000</td>\n",
       "      <td>2004.000000</td>\n",
       "      <td>2005.000000</td>\n",
       "      <td>350.000000</td>\n",
       "      <td>1369.000000</td>\n",
       "      <td>...</td>\n",
       "      <td>298.000000</td>\n",
       "      <td>204.000000</td>\n",
       "      <td>272.00000</td>\n",
       "      <td>320.000000</td>\n",
       "      <td>0.0</td>\n",
       "      <td>0.0</td>\n",
       "      <td>700.000000</td>\n",
       "      <td>12.000000</td>\n",
       "      <td>2009.000000</td>\n",
       "      <td>307000.000000</td>\n",
       "    </tr>\n",
       "  </tbody>\n",
       "</table>\n",
       "<p>8 rows × 38 columns</p>\n",
       "</div>"
      ],
      "text/plain": [
       "             Id  MSSubClass  LotFrontage       LotArea  OverallQual  \\\n",
       "count  10.00000   10.000000     9.000000     10.000000     10.00000   \n",
       "mean    5.50000   64.000000    68.666667  10123.100000      6.70000   \n",
       "std     3.02765   47.422451    13.322913   2605.988166      1.05935   \n",
       "min     1.00000   20.000000    50.000000   6120.000000      5.00000   \n",
       "25%     3.25000   50.000000    60.000000   8725.000000      6.25000   \n",
       "50%     5.50000   60.000000    68.000000   9842.000000      7.00000   \n",
       "75%     7.75000   60.000000    80.000000  11033.000000      7.00000   \n",
       "max    10.00000  190.000000    85.000000  14260.000000      8.00000   \n",
       "\n",
       "       OverallCond    YearBuilt  YearRemodAdd  MasVnrArea   BsmtFinSF1  ...  \\\n",
       "count    10.000000    10.000000     10.000000   10.000000    10.000000  ...   \n",
       "mean      5.500000  1973.500000   1982.400000  113.400000   685.200000  ...   \n",
       "std       0.971825    33.440661     21.526211  129.426255   386.418541  ...   \n",
       "min       5.000000  1915.000000   1950.000000    0.000000     0.000000  ...   \n",
       "25%       5.000000  1947.500000   1970.750000    0.000000   528.250000  ...   \n",
       "50%       5.000000  1984.500000   1985.500000   81.000000   719.000000  ...   \n",
       "75%       5.750000  2000.750000   2001.500000  193.500000   857.000000  ...   \n",
       "max       8.000000  2004.000000   2005.000000  350.000000  1369.000000  ...   \n",
       "\n",
       "       WoodDeckSF  OpenPorchSF  EnclosedPorch   3SsnPorch  ScreenPorch  \\\n",
       "count   10.000000    10.000000       10.00000   10.000000         10.0   \n",
       "mean   111.000000    51.700000       70.50000   32.000000          0.0   \n",
       "std    121.293034    60.385889      114.64462  101.192885          0.0   \n",
       "min      0.000000     0.000000        0.00000    0.000000          0.0   \n",
       "25%      0.000000    10.500000        0.00000    0.000000          0.0   \n",
       "50%     65.000000    38.500000        0.00000    0.000000          0.0   \n",
       "75%    224.250000    60.000000      153.75000    0.000000          0.0   \n",
       "max    298.000000   204.000000      272.00000  320.000000          0.0   \n",
       "\n",
       "       PoolArea     MiscVal     MoSold       YrSold      SalePrice  \n",
       "count      10.0   10.000000  10.000000    10.000000      10.000000  \n",
       "mean        0.0  105.000000   6.400000  2007.800000  190140.000000  \n",
       "std         0.0  236.231995   4.087923     0.918937   60028.293329  \n",
       "min         0.0    0.000000   1.000000  2006.000000  118000.000000  \n",
       "25%         0.0    0.000000   2.500000  2007.250000  140750.000000  \n",
       "50%         0.0    0.000000   6.500000  2008.000000  190750.000000  \n",
       "75%         0.0    0.000000   9.750000  2008.000000  219750.000000  \n",
       "max         0.0  700.000000  12.000000  2009.000000  307000.000000  \n",
       "\n",
       "[8 rows x 38 columns]"
      ]
     },
     "execution_count": 38,
     "metadata": {},
     "output_type": "execute_result"
    }
   ],
   "source": [
    "def description(name, rows):\n",
    "    print(\"The columns and rows of the dataset are\", name.shape)\n",
    "    print(\"The number of values in the dataset is\", name.size)\n",
    "    print(name.head(rows))\n",
    "    print(name.tail(rows))\n",
    "    print(name.dtypes)\n",
    "    print(name.columns)\n",
    "    return name.describe()\n",
    "description(data, 15)"
   ]
  },
  {
   "cell_type": "markdown",
   "metadata": {},
   "source": [
    "# Function 3"
   ]
  },
  {
   "cell_type": "code",
   "execution_count": 4,
   "metadata": {},
   "outputs": [
    {
     "name": "stdout",
     "output_type": "stream",
     "text": [
      "which column do you want to remove?\n",
      "LotArea\n",
      "which column do you want to remove?\n",
      "\n"
     ]
    }
   ],
   "source": [
    "def remcol(dataset):\n",
    "    colname = str(input(\"which column do you want to remove?\\n\"))\n",
    "    if colname != \"\":\n",
    "        del(dataset[colname])\n",
    "        return remcol(dataset)\n",
    "    else:\n",
    "        return\n",
    "remcol(data)"
   ]
  },
  {
   "cell_type": "markdown",
   "metadata": {},
   "source": [
    "# Function 4"
   ]
  },
  {
   "cell_type": "code",
   "execution_count": 47,
   "metadata": {},
   "outputs": [
    {
     "name": "stdout",
     "output_type": "stream",
     "text": [
      "which column values do you want to remove?\n",
      "all\n"
     ]
    }
   ],
   "source": [
    "def remrow(dataset):\n",
    "    colname = str(input(\"which column values do you want to remove?\\n\"))\n",
    "    if colname == 'all':\n",
    "        remrow.dataset = dataset.dropna(axis=0)\n",
    "    elif colname !=\"\":\n",
    "        row = (input(\"which row/s do you want to remove?\\n\"))\n",
    "        remrow.dataset = dataset[dataset[colname]!=row]\n",
    "        return remrow(dataset)\n",
    "    else:\n",
    "        return remrow.dataset\n",
    "remrow(data)\n",
    "newdata = remrow.dataset\n",
    "#renaming the dataset here, since the filtered dataset will only exist\n",
    "#as an attribute of the function"
   ]
  },
  {
   "cell_type": "markdown",
   "metadata": {},
   "source": [
    "# Function 5"
   ]
  },
  {
   "cell_type": "code",
   "execution_count": 48,
   "metadata": {},
   "outputs": [
    {
     "data": {
      "text/plain": [
       "Id               0\n",
       "MSSubClass       0\n",
       "MSZoning         0\n",
       "LotFrontage      0\n",
       "LotArea          0\n",
       "                ..\n",
       "MoSold           0\n",
       "YrSold           0\n",
       "SaleType         0\n",
       "SaleCondition    0\n",
       "SalePrice        0\n",
       "Length: 81, dtype: int64"
      ]
     },
     "execution_count": 48,
     "metadata": {},
     "output_type": "execute_result"
    }
   ],
   "source": [
    "def nullvalues(dataset):    \n",
    "    return dataset.isnull().sum()\n",
    "nullvalues(newdata)"
   ]
  },
  {
   "cell_type": "markdown",
   "metadata": {},
   "source": [
    "# Function 6"
   ]
  },
  {
   "cell_type": "code",
   "execution_count": 45,
   "metadata": {},
   "outputs": [
    {
     "name": "stdout",
     "output_type": "stream",
     "text": [
      "What analysis do you want to do? (missingval, totalmissingval, or correlation)corr\n"
     ]
    },
    {
     "data": {
      "image/png": "[encoded data removed]",
      "text/plain": [
       "<Figure size 1800x720 with 2 Axes>"
      ]
     },
     "metadata": {
      "needs_background": "light"
     },
     "output_type": "display_data"
    }
   ],
   "source": [
    "def missval(dataset):\n",
    "    x = str(input(\"What analysis do you want to do? (missingval, totalmissingval, or correlation, dendogram)\"))\n",
    "    if x == 'missingval' or 'missinval':\n",
    "        return mano.matrix(dataset)\n",
    "    elif x == 'totalmissingval' or 'totalmissinval':\n",
    "        return mano.bar(dataset)\n",
    "    elif x == 'correlation' or 'corr':\n",
    "        return mano.heatmap(dataset, figsize=(12,6))\n",
    "    elif x == 'dendo' or 'dendogram':\n",
    "        return mano.dendrogram(dataset)\n",
    "missval(data)"
   ]
  },
  {
   "cell_type": "markdown",
   "metadata": {},
   "source": [
    "# Function 7"
   ]
  },
  {
   "cell_type": "code",
   "execution_count": null,
   "metadata": {},
   "outputs": [],
   "source": [
    "def fillmissingvals(dataset):\n",
    "    method = str(input(\"which method do you want to use? (KNN, SimpleImp, Interpolation, mean, median, mode)\"))\n",
    "    colname = str(input(\"which column do you want to fill?\"))\n",
    "    if method == 'mode':\n",
    "        dataset[colname].value_counts()\n",
    "        mode = input(\"what is the most occurring value?\")\n",
    "        dataset[colname].fillna(mode, inplace=True)\n",
    "    elif method == 'mean':\n",
    "        dataset[colname].fillna(data[colname].mean)\n",
    "    elif method == 'median':\n",
    "        dataset[colname].fillna(data[colname].median)\n",
    "    elif method == 'knn' or 'KNN' or 'Knn':\n",
    "        neighbours = int(input(\"how many neighbours?\\n\"))\n",
    "        newcolname = str(input(\"what is the new column name?\\n\"))\n",
    "        imputer = KNNImputer (n_neighbors=neighbours)\n",
    "        dataset[newcolname] = imputer.fit_transform(dataset[newcolname])\n",
    "    elif method == 'simpleimp' or 'SimpleImp' or 'SimpleImputer' or 'simpleimputer':\n",
    "        newcolname = str(input(\"what is the new column name?\\n\"))\n",
    "        dataset[[newcolname]] = mean_imputation.fit_transform(dataset[[newcolname]])\n",
    "    elif method == 'Interpol' or 'Interp' or 'Interpolate' or 'interp' or 'interpol' or 'interpolate':\n",
    "        submethod = str(input(\"backwards or forwards?\"))\n",
    "        newcolname = str(input(\"what is the new column name?\\n\"))\n",
    "        if submethod == 'forwards' or 'forward':\n",
    "            dataset[newcolname] = dataset[colname].interpolate(method ='linear', limit_direction ='forward')\n",
    "        elif submethod == 'backwards' or 'backward':\n",
    "            dataset[newcolname] = dataset[colname].interpolate(method ='linear', limit_direction ='backward')"
   ]
  },
  {
   "cell_type": "markdown",
   "metadata": {},
   "source": [
    "# Function 8"
   ]
  },
  {
   "cell_type": "code",
   "execution_count": 55,
   "metadata": {},
   "outputs": [
    {
     "name": "stdout",
     "output_type": "stream",
     "text": [
      "which column do you want to analyze? Press enter if you want to analyze the entire dataset. MSSubClass\n",
      "What analysis do you want to do? (qqplot, histogram, describe, plot, boxplot, skew, kurtosis)skew\n"
     ]
    },
    {
     "data": {
      "text/plain": [
       "<AxesSubplot:>"
      ]
     },
     "execution_count": 55,
     "metadata": {},
     "output_type": "execute_result"
    },
    {
     "data": {
      "image/png": "[encoded data removed]",
      "text/plain": [
       "<Figure size 432x288 with 1 Axes>"
      ]
     },
     "metadata": {
      "needs_background": "light"
     },
     "output_type": "display_data"
    }
   ],
   "source": [
    "def cat_analysis(dataset):\n",
    "    colname = str(input(\"which column do you want to analyze? Press enter if you want to analyze the entire dataset. \"))\n",
    "    analysis_type = str(input(\"What analysis do you want to do? (qqplot, histogram, describe, plot, boxplot, skew, kurtosis)\"))\n",
    "    if analysis_type == 'line' or 'plot':\n",
    "        if colname != '':\n",
    "            return dataset[colname].plot()\n",
    "        else:\n",
    "            return dataset.plot()\n",
    "    elif analysis_type == 'describe':\n",
    "        if colname != '':\n",
    "            return dataset[colname].describe()\n",
    "        else:\n",
    "            return dataset.describe()\n",
    "    elif analysis_type == 'qqplot':\n",
    "        fit = str(input(\"what type of fit do you want the qqplot to be? (None, 45, s, r, or q)\\n\"))\n",
    "        if colname != '':\n",
    "            return sm.qqplot(dataset[colname], line = fit)\n",
    "        else:\n",
    "            return sm.qqplot(dataset, line = fit)\n",
    "    elif analysis_type == 'histogram':\n",
    "        if colname != '':\n",
    "            return plt.hist(dataset[colname])\n",
    "        else:\n",
    "            return plt.hist(dataset)\n",
    "    elif analysis_type == 'boxplot' or 'box plot' or 'box':\n",
    "        if colname != '':\n",
    "            return dataset[colname].plot.box()\n",
    "        else:\n",
    "            return dataset.plot.box()\n",
    "    elif analysis_type == 'skew':\n",
    "        if colname != '':\n",
    "            skewvalue = skew(dataset[colname])\n",
    "            print(skewvalue)\n",
    "            if skewvalue>-2 and skewvalue<2:\n",
    "                print(\"Normally skewed data\")\n",
    "            else:\n",
    "                print(\"Not normally skewed data\")\n",
    "        else:\n",
    "            skewvalue = skew(dataset)\n",
    "            print(skewvalue)\n",
    "            if skewvalue>-2 and skewvalue<2:\n",
    "                print(\"Normally skewed data\")\n",
    "            else:\n",
    "                print(\"Not normally skewed data\")\n",
    "    elif analysis_type == 'kurtosis':\n",
    "        if colname != '':\n",
    "            kurtosis_value = kurtosis(dataset[colname])\n",
    "            print(kurtosis_value)\n",
    "            if kurtosis_value>-7 and kurtosis_value<7:\n",
    "                print(\"Normal Kurtosis\")\n",
    "            else:\n",
    "                print(\"Not normal Kurtosis\")\n",
    "        else:\n",
    "            kurtosis_value = kurtosis(dataset)\n",
    "            print(kurtosis_value)\n",
    "            if kurtosis_value>-7 and kurtosis_value<7:\n",
    "                print(\"Normal Kurtosis\")\n",
    "            else:\n",
    "                print(\"Not normal Kurtosis\")\n",
    "    else:\n",
    "        print(\"Invalid Command\")\n",
    "        return cat_analysis(dataset)\n",
    "cat_analysis(data)"
   ]
  },
  {
   "cell_type": "markdown",
   "metadata": {},
   "source": [
    "# Function 9"
   ]
  },
  {
   "cell_type": "code",
   "execution_count": null,
   "metadata": {},
   "outputs": [],
   "source": [
    "def numanalysis(dataset):\n",
    "    colname = str(input(\"which column do you want to analyze? Press enter if you want to analyze the entire dataset. \"))\n",
    "    analysis_type = str(input(\"What analysis do you want to do? (bar charts, value counts?(barchart, value counts))\"))\n",
    "    if analysis_type == 'value counts' or 'valuecounts' or 'value count' or 'valuecount':\n",
    "        if colname != '':\n",
    "            return dataset[colname].value_counts()\n",
    "        else:\n",
    "            return dataset.value_counts()\n",
    "    elif analysis_type == 'bar chart' or 'barchart' or 'bar charts' or 'barcharts':\n",
    "        if colname != '':\n",
    "            return dataset[colname].plot.bar()\n",
    "        else:\n",
    "            return dataset[colname].plot.bar()\n",
    "numanalysis(data)"
   ]
  },
  {
   "cell_type": "markdown",
   "metadata": {},
   "source": [
    "# Function 10"
   ]
  },
  {
   "cell_type": "code",
   "execution_count": null,
   "metadata": {},
   "outputs": [],
   "source": [
    "def changedtype(dataset):\n",
    "    colname = str(input(\"which column do you want to change the data type for? Press enter if you want to change the data type for the entire dataset. \"))\n",
    "    if colname != '':\n",
    "        changetype = str(input(\"what data type do you want to set the column to? (string, numbers, datetime)\"))\n",
    "        if changetype == 'string':\n",
    "            dataset[colname].astype(str)\n",
    "        elif changetype == 'numbers' or 'numeric' or 'integers' or 'integer':\n",
    "            dataset[colname].astype(float) #converting to float to accomodate all types of numbers\n",
    "        elif changetype == 'boolean' or 'True/False':\n",
    "            dataset[colname].astype(bool)\n",
    "        elif changetype == 'datetime' or 'date' or 'time':\n",
    "            pd.to_datetime(dataset[colname])\n",
    "    else:\n",
    "        changetype = str(input(\"what data type do you want to set the column to? (string, numbers, datetime)\"))\n",
    "        if changetype == 'string':\n",
    "            dataset.astype(str)\n",
    "        elif changetype == 'numbers' or 'numeric' or 'integers' or 'integer':\n",
    "            dataset.astype(float) #converting to float to accomodate all types of numbers\n",
    "        elif changetype == 'boolean' or 'True/False':\n",
    "            dataset.astype(bool)\n",
    "        elif changetype == 'datetime' or 'date' or 'time':\n",
    "            pd.to_datetime(dataset)\n",
    "chngdata = changedtype(data)"
   ]
  },
  {
   "cell_type": "markdown",
   "metadata": {},
   "source": [
    "# Function 11"
   ]
  },
  {
   "cell_type": "code",
   "execution_count": null,
   "metadata": {},
   "outputs": [],
   "source": [
    "def rename(dataset):\n",
    "    colname = str(input(\"Which column do you want to rename?\\n\"))\n",
    "    newcolname = str(input(\"New name of the column?\\n\"))\n",
    "    dataset.rename(columns = {colname:newcolname}, inplace = True)\n",
    "    return rename(dataset)\n",
    "def remspace(dataset):\n",
    "    colname=str(input(\"Which column do you want to remove white space in?\\n\"))\n",
    "    where = str(input(\"where do you want to remove the whitespace from?\"))\n",
    "    if colname == \"\":\n",
    "        if where == \"\":\n",
    "            dataset.columns = dataset.columns.str.replace(' ', '')\n",
    "        if where == \"beginning\":\n",
    "            dataset.columns = dataset.columns.str.lstrip()\n",
    "        if where == \"end\":\n",
    "            dataset.columns = dataset.columns.str.rstrip()\n",
    "        if where == \"both\":\n",
    "            dataset.columns = dataset.columns.str.strip()\n",
    "    else:\n",
    "        if where == \"\":\n",
    "            dataset[colname].columns = dataset[colname].columns.str.replace(' ', '')\n",
    "        if where == \"beginning\":\n",
    "            dataset[colname].columns = dataset[colname].columns.str.lstrip()\n",
    "        if where == \"end\":\n",
    "            dataset[colname].columns = dataset[colname].columns.str.rstrip()\n",
    "        if where == \"both\":\n",
    "            dataset[colname].columns = dataset[colname].columns.str.strip()\n",
    "    \n",
    "def repspace(dataset):\n",
    "    colname=str(input(\"Which column do you want to replace white space in?\\n\"))\n",
    "    newvalue = str(input(\"what do you want to replace the white space with?\"))\n",
    "    where = str(input(\"where do you want to put the new value?\"))\n",
    "    if colname !=\"\":\n",
    "        if where == \"beginning\":\n",
    "            dataset[colname].str.replace('^ +', newvalue)\n",
    "        elif where == \"end\":\n",
    "            dataset[colname].str.replace(' +$', newvalue)\n",
    "        elif where == \"both\":\n",
    "            dataset[colname].str.replace('^ +| +$', newvalue)\n",
    "        elif where == \"\":\n",
    "            dataset[colname].str.replace(' ', newvalue)\n",
    "    else:\n",
    "        if where == \"beginning\":\n",
    "            dataset.str.replace('^ +', newvalue)\n",
    "        elif where == \"end\":\n",
    "            dataset.str.replace(' +$', newvalue)\n",
    "        elif where == \"both\":\n",
    "            dataset.str.replace('^ +| +$', newvalue)\n",
    "        elif where == \"\":\n",
    "            dataset.str.replace(' ', newvalue)\n",
    "        \n",
    "rename(data)"
   ]
  },
  {
   "cell_type": "markdown",
   "metadata": {},
   "source": [
    "# Function 12"
   ]
  },
  {
   "cell_type": "code",
   "execution_count": 56,
   "metadata": {},
   "outputs": [],
   "source": [
    "def extdmy(dataset):\n",
    "    colname = str(input(\"Which column do you want to extract from?\\n\"))\n",
    "    dataset['year'] = pd.DatetimeIndex(df[colname]).year\n",
    "    dataset['month'] = pd.DatetimeIndex(df[colname]).month"
   ]
  },
  {
   "cell_type": "markdown",
   "metadata": {},
   "source": [
    "# Function 13"
   ]
  },
  {
   "cell_type": "code",
   "execution_count": null,
   "metadata": {},
   "outputs": [],
   "source": [
    "def deepcopy(dataset):\n",
    "    return dataset.copy()\n",
    "copydata = deepcopy(data)"
   ]
  },
  {
   "cell_type": "markdown",
   "metadata": {},
   "source": [
    "# Function 14"
   ]
  },
  {
   "cell_type": "code",
   "execution_count": 57,
   "metadata": {
    "scrolled": true
   },
   "outputs": [],
   "source": [
    "def encoding(dataset):\n",
    "    print(dataset.dtypes)\n",
    "    method = str(input(\"what do you want to do?\"))\n",
    "    if method == \"label\":\n",
    "        colname = str(input(\"which column do you want to encode?\"))\n",
    "        dataset[colname] = dataset[colname].astype('category')\n",
    "        newcolname = str(input(\"set a new column name for encoded values\"))\n",
    "        dataset[newcolname] = dataset[colname].cat.codes\n",
    "    elif method == \"onehot\":\n",
    "        colname = str(input(\"which column do you want to encode?\"))\n",
    "        results = ohot.fit_transform(dataset[colname])\n",
    "        newdat = pd.DataFrame(results.toarray(), columns = ohot.categories_)\n",
    "        dataset = dataset.join(newdat)\n",
    "    elif method == \"ordinal\" or \"ord\":\n",
    "        colname = str(input(\"which column do you want to encode?\"))\n",
    "        newcolname = str(input(\"set a new column name for encoded values\"))\n",
    "        dataset[colname] = ordenc.fit_transform(dataset[newcolname])"
   ]
  },
  {
   "cell_type": "markdown",
   "metadata": {},
   "source": [
    "# Function 15"
   ]
  },
  {
   "cell_type": "code",
   "execution_count": 59,
   "metadata": {},
   "outputs": [
    {
     "name": "stdout",
     "output_type": "stream",
     "text": [
      "[208500 181500 223500 140000 250000 143000 307000 200000 129900 118000]\n"
     ]
    }
   ],
   "source": [
    "def splitting(dataset):\n",
    "    x = int(input(\"which column do the predictors begin from?\"))\n",
    "    y = int(input(\"which column do the predictors end on?\"))\n",
    "    z = int(input(\"which column is the label?\"))\n",
    "    predictors = dataset.values(:, x:y)\n",
    "    label = dataset.values(:, z)\n",
    "    algorithm = str(input(\"which algorithm do you want to apply?\\n\"))\n",
    "    if algorithm == \"decision tree\" or \"decisiontree\":\n",
    "        task = str(input(\"which task do you want to perform?\\n\"))\n",
    "        if task == \"classification\":\n",
    "            X_train, X_test, y_train, y_test = train_test_split(X, Y, test_size = 0.3, random_state = 100)\n",
    "            clf_entropy = dtc(criterion = \"entropy\", random_state = 100, max_depth = 3, min_samples_leaf = 5)\n",
    "            clf_entropy.fit(X_train, y_train)\n",
    "            print(clf_entropy)\n",
    "            y_pred = clf_object_predict(X-test)\n",
    "            print(\"These are the predicted values: \", y_pred)\n",
    "            print(\"The Confusion Matrix is\", confm(y_test, y_pred))\n",
    "            print(\"The Accuracy Score is\", acs(y_test, y_pred)*100)\n",
    "            print(\"The Classification Report is\", crep(y_test, y_pred))\n",
    "            print(\"The LogLoss is\", logloss(y_test, y_pred))\n",
    "            fpr, tpr, thresholds = metrics.roc_curve(y, pred, pos_label=2)\n",
    "            print(\"The Area Under the Curve is\",metrics.auc(fpr, tpr))\n",
    "        elif task == \"regression\":\n",
    "            colname1 = str(input(\"first column you want to relate\"))\n",
    "            colname2 = str(input(\"second column you want to relate\"))\n",
    "            regr_1 = dtr(max_depth=2)\n",
    "            regr_2 = dtr(max_depth=5)\n",
    "            regr_1.fit(dataset[colname1], dataset[colname2])\n",
    "            regr_2.fit(dataset[colname1], dataset[colname2])\n",
    "            X_test = (Y)\n",
    "            y_1 = regr_1.predict(X_test)\n",
    "            y_2 = regr_2.predict(X_test)\n",
    "            print(\"mean absolute error is\",MAE(y_1, y_2))\n",
    "            print(\"mean squared error is\", MSE(y_1, y_2))\n",
    "            print(\"r2 score is\", r2(y_1, y_2))\n",
    "            model = LR()\n",
    "            m,n = colname1, colname2\n",
    "            model.fit(colname1, colname2)\n",
    "            return (1 - (1-model.score(colname1, colname2))*(len(n)-1)/(len(n)-m.shape[1]-1))"
   ]
  },
  {
   "cell_type": "code",
   "execution_count": null,
   "metadata": {},
   "outputs": [],
   "source": [
    "logloss(data['MSSubClass'], data[''])"
   ]
  },
  {
   "cell_type": "markdown",
   "metadata": {},
   "source": [
    "# Function 16"
   ]
  },
  {
   "cell_type": "code",
   "execution_count": null,
   "metadata": {},
   "outputs": [],
   "source": [
    "def ANOVA(dataset):\n",
    "    colname1 = str(input(\"first column you want to relate\"))\n",
    "    colname2 = str(input(\"second column you want to relate\"))\n",
    "    covariance = np.cov(colname1, colname2)\n",
    "    print(\"The Covariance is \",covariance)\n",
    "    corr1, _ = sp(dataset[colname1], dataset[colname2])\n",
    "    print('Spearman correlation: %.2f' % corr)\n",
    "    corr2, _ = pe(dataset[colname1], dataset[colname2])\n",
    "    print('Pearsons correlation: %.2f' % corr)\n",
    "    print('The t-test value is')\n",
    "    return ((dataset[colname1].mean()-dataset[colname2].mean())/(math.sqrt((dataset[colname1].std()**2)/dataset[colname1].count() + (dataset[colname2].std()**2)/dataset[colname2].count()))"
   ]
  },
  {
   "cell_type": "markdown",
   "metadata": {},
   "source": [
    "# Function 17"
   ]
  },
  {
   "cell_type": "code",
   "execution_count": 52,
   "metadata": {},
   "outputs": [
    {
     "name": "stdout",
     "output_type": "stream",
     "text": [
      "Heatmap colour?\n",
      "rainbow\n",
      "which column do you want to analyze?\n",
      "MSSubClass\n"
     ]
    },
    {
     "ename": "ValueError",
     "evalue": "Must pass 2-d input. shape=()",
     "output_type": "error",
     "traceback": [
      "\u001b[1;31m---------------------------------------------------------------------------\u001b[0m",
      "\u001b[1;31mValueError\u001b[0m                                Traceback (most recent call last)",
      "\u001b[1;32m<ipython-input-52-766a3f737b7f>\u001b[0m in \u001b[0;36m<module>\u001b[1;34m\u001b[0m\n\u001b[0;32m     24\u001b[0m     \u001b[0mplt\u001b[0m\u001b[1;33m.\u001b[0m\u001b[0msetp\u001b[0m\u001b[1;33m(\u001b[0m\u001b[0mclmap\u001b[0m\u001b[1;33m.\u001b[0m\u001b[0max_heatmap\u001b[0m\u001b[1;33m.\u001b[0m\u001b[0myaxis\u001b[0m\u001b[1;33m.\u001b[0m\u001b[0mget_majorticklabels\u001b[0m\u001b[1;33m(\u001b[0m\u001b[1;33m)\u001b[0m\u001b[1;33m,\u001b[0m \u001b[0mrotation\u001b[0m \u001b[1;33m=\u001b[0m \u001b[1;36m0\u001b[0m\u001b[1;33m)\u001b[0m\u001b[1;33m\u001b[0m\u001b[1;33m\u001b[0m\u001b[0m\n\u001b[0;32m     25\u001b[0m     \u001b[1;32mreturn\u001b[0m \u001b[0mclmap\u001b[0m\u001b[1;33m\u001b[0m\u001b[1;33m\u001b[0m\u001b[0m\n\u001b[1;32m---> 26\u001b[1;33m \u001b[0mcorrheatmap\u001b[0m\u001b[1;33m(\u001b[0m\u001b[0mdata\u001b[0m\u001b[1;33m)\u001b[0m\u001b[1;33m\u001b[0m\u001b[1;33m\u001b[0m\u001b[0m\n\u001b[0m",
      "\u001b[1;32m<ipython-input-52-766a3f737b7f>\u001b[0m in \u001b[0;36mcorrheatmap\u001b[1;34m(dataset)\u001b[0m\n\u001b[0;32m     10\u001b[0m         \u001b[0mf\u001b[0m\u001b[1;33m,\u001b[0m \u001b[0maxis\u001b[0m \u001b[1;33m=\u001b[0m \u001b[0mplt\u001b[0m\u001b[1;33m.\u001b[0m\u001b[0msubplots\u001b[0m\u001b[1;33m(\u001b[0m\u001b[0mfigsize\u001b[0m \u001b[1;33m=\u001b[0m\u001b[1;33m(\u001b[0m\u001b[1;36m12\u001b[0m\u001b[1;33m,\u001b[0m \u001b[1;36m10\u001b[0m\u001b[1;33m)\u001b[0m\u001b[1;33m)\u001b[0m\u001b[1;33m\u001b[0m\u001b[1;33m\u001b[0m\u001b[0m\n\u001b[0;32m     11\u001b[0m \u001b[1;33m\u001b[0m\u001b[0m\n\u001b[1;32m---> 12\u001b[1;33m         return sb.heatmap(coeffs, ax = axis, cmap = colour, \n\u001b[0m\u001b[0;32m     13\u001b[0m                     \u001b[0mlinewidths\u001b[0m \u001b[1;33m=\u001b[0m \u001b[1;36m0.2\u001b[0m\u001b[1;33m,\u001b[0m \u001b[0myticklabels\u001b[0m \u001b[1;33m=\u001b[0m \u001b[0mcols\u001b[0m\u001b[1;33m.\u001b[0m\u001b[0mvalues\u001b[0m\u001b[1;33m,\u001b[0m\u001b[1;33m\u001b[0m\u001b[1;33m\u001b[0m\u001b[0m\n\u001b[0;32m     14\u001b[0m                                       xticklabels = cols.values) \n",
      "\u001b[1;32m~\\anaconda3\\lib\\site-packages\\seaborn\\_decorators.py\u001b[0m in \u001b[0;36minner_f\u001b[1;34m(*args, **kwargs)\u001b[0m\n\u001b[0;32m     44\u001b[0m             )\n\u001b[0;32m     45\u001b[0m         \u001b[0mkwargs\u001b[0m\u001b[1;33m.\u001b[0m\u001b[0mupdate\u001b[0m\u001b[1;33m(\u001b[0m\u001b[1;33m{\u001b[0m\u001b[0mk\u001b[0m\u001b[1;33m:\u001b[0m \u001b[0marg\u001b[0m \u001b[1;32mfor\u001b[0m \u001b[0mk\u001b[0m\u001b[1;33m,\u001b[0m \u001b[0marg\u001b[0m \u001b[1;32min\u001b[0m \u001b[0mzip\u001b[0m\u001b[1;33m(\u001b[0m\u001b[0msig\u001b[0m\u001b[1;33m.\u001b[0m\u001b[0mparameters\u001b[0m\u001b[1;33m,\u001b[0m \u001b[0margs\u001b[0m\u001b[1;33m)\u001b[0m\u001b[1;33m}\u001b[0m\u001b[1;33m)\u001b[0m\u001b[1;33m\u001b[0m\u001b[1;33m\u001b[0m\u001b[0m\n\u001b[1;32m---> 46\u001b[1;33m         \u001b[1;32mreturn\u001b[0m \u001b[0mf\u001b[0m\u001b[1;33m(\u001b[0m\u001b[1;33m**\u001b[0m\u001b[0mkwargs\u001b[0m\u001b[1;33m)\u001b[0m\u001b[1;33m\u001b[0m\u001b[1;33m\u001b[0m\u001b[0m\n\u001b[0m\u001b[0;32m     47\u001b[0m     \u001b[1;32mreturn\u001b[0m \u001b[0minner_f\u001b[0m\u001b[1;33m\u001b[0m\u001b[1;33m\u001b[0m\u001b[0m\n\u001b[0;32m     48\u001b[0m \u001b[1;33m\u001b[0m\u001b[0m\n",
      "\u001b[1;32m~\\anaconda3\\lib\\site-packages\\seaborn\\matrix.py\u001b[0m in \u001b[0;36mheatmap\u001b[1;34m(data, vmin, vmax, cmap, center, robust, annot, fmt, annot_kws, linewidths, linecolor, cbar, cbar_kws, cbar_ax, square, xticklabels, yticklabels, mask, ax, **kwargs)\u001b[0m\n\u001b[0;32m    543\u001b[0m     \"\"\"\n\u001b[0;32m    544\u001b[0m     \u001b[1;31m# Initialize the plotter object\u001b[0m\u001b[1;33m\u001b[0m\u001b[1;33m\u001b[0m\u001b[1;33m\u001b[0m\u001b[0m\n\u001b[1;32m--> 545\u001b[1;33m     plotter = _HeatMapper(data, vmin, vmax, cmap, center, robust, annot, fmt,\n\u001b[0m\u001b[0;32m    546\u001b[0m                           \u001b[0mannot_kws\u001b[0m\u001b[1;33m,\u001b[0m \u001b[0mcbar\u001b[0m\u001b[1;33m,\u001b[0m \u001b[0mcbar_kws\u001b[0m\u001b[1;33m,\u001b[0m \u001b[0mxticklabels\u001b[0m\u001b[1;33m,\u001b[0m\u001b[1;33m\u001b[0m\u001b[1;33m\u001b[0m\u001b[0m\n\u001b[0;32m    547\u001b[0m                           yticklabels, mask)\n",
      "\u001b[1;32m~\\anaconda3\\lib\\site-packages\\seaborn\\matrix.py\u001b[0m in \u001b[0;36m__init__\u001b[1;34m(self, data, vmin, vmax, cmap, center, robust, annot, fmt, annot_kws, cbar, cbar_kws, xticklabels, yticklabels, mask)\u001b[0m\n\u001b[0;32m    107\u001b[0m         \u001b[1;32melse\u001b[0m\u001b[1;33m:\u001b[0m\u001b[1;33m\u001b[0m\u001b[1;33m\u001b[0m\u001b[0m\n\u001b[0;32m    108\u001b[0m             \u001b[0mplot_data\u001b[0m \u001b[1;33m=\u001b[0m \u001b[0mnp\u001b[0m\u001b[1;33m.\u001b[0m\u001b[0masarray\u001b[0m\u001b[1;33m(\u001b[0m\u001b[0mdata\u001b[0m\u001b[1;33m)\u001b[0m\u001b[1;33m\u001b[0m\u001b[1;33m\u001b[0m\u001b[0m\n\u001b[1;32m--> 109\u001b[1;33m             \u001b[0mdata\u001b[0m \u001b[1;33m=\u001b[0m \u001b[0mpd\u001b[0m\u001b[1;33m.\u001b[0m\u001b[0mDataFrame\u001b[0m\u001b[1;33m(\u001b[0m\u001b[0mplot_data\u001b[0m\u001b[1;33m)\u001b[0m\u001b[1;33m\u001b[0m\u001b[1;33m\u001b[0m\u001b[0m\n\u001b[0m\u001b[0;32m    110\u001b[0m \u001b[1;33m\u001b[0m\u001b[0m\n\u001b[0;32m    111\u001b[0m         \u001b[1;31m# Validate the mask and convet to DataFrame\u001b[0m\u001b[1;33m\u001b[0m\u001b[1;33m\u001b[0m\u001b[1;33m\u001b[0m\u001b[0m\n",
      "\u001b[1;32m~\\anaconda3\\lib\\site-packages\\pandas\\core\\frame.py\u001b[0m in \u001b[0;36m__init__\u001b[1;34m(self, data, index, columns, dtype, copy)\u001b[0m\n\u001b[0;32m    495\u001b[0m                 \u001b[0mmgr\u001b[0m \u001b[1;33m=\u001b[0m \u001b[0minit_dict\u001b[0m\u001b[1;33m(\u001b[0m\u001b[1;33m{\u001b[0m\u001b[0mdata\u001b[0m\u001b[1;33m.\u001b[0m\u001b[0mname\u001b[0m\u001b[1;33m:\u001b[0m \u001b[0mdata\u001b[0m\u001b[1;33m}\u001b[0m\u001b[1;33m,\u001b[0m \u001b[0mindex\u001b[0m\u001b[1;33m,\u001b[0m \u001b[0mcolumns\u001b[0m\u001b[1;33m,\u001b[0m \u001b[0mdtype\u001b[0m\u001b[1;33m=\u001b[0m\u001b[0mdtype\u001b[0m\u001b[1;33m)\u001b[0m\u001b[1;33m\u001b[0m\u001b[1;33m\u001b[0m\u001b[0m\n\u001b[0;32m    496\u001b[0m             \u001b[1;32melse\u001b[0m\u001b[1;33m:\u001b[0m\u001b[1;33m\u001b[0m\u001b[1;33m\u001b[0m\u001b[0m\n\u001b[1;32m--> 497\u001b[1;33m                 \u001b[0mmgr\u001b[0m \u001b[1;33m=\u001b[0m \u001b[0minit_ndarray\u001b[0m\u001b[1;33m(\u001b[0m\u001b[0mdata\u001b[0m\u001b[1;33m,\u001b[0m \u001b[0mindex\u001b[0m\u001b[1;33m,\u001b[0m \u001b[0mcolumns\u001b[0m\u001b[1;33m,\u001b[0m \u001b[0mdtype\u001b[0m\u001b[1;33m=\u001b[0m\u001b[0mdtype\u001b[0m\u001b[1;33m,\u001b[0m \u001b[0mcopy\u001b[0m\u001b[1;33m=\u001b[0m\u001b[0mcopy\u001b[0m\u001b[1;33m)\u001b[0m\u001b[1;33m\u001b[0m\u001b[1;33m\u001b[0m\u001b[0m\n\u001b[0m\u001b[0;32m    498\u001b[0m \u001b[1;33m\u001b[0m\u001b[0m\n\u001b[0;32m    499\u001b[0m         \u001b[1;31m# For data is list-like, or Iterable (will consume into list)\u001b[0m\u001b[1;33m\u001b[0m\u001b[1;33m\u001b[0m\u001b[1;33m\u001b[0m\u001b[0m\n",
      "\u001b[1;32m~\\anaconda3\\lib\\site-packages\\pandas\\core\\internals\\construction.py\u001b[0m in \u001b[0;36minit_ndarray\u001b[1;34m(values, index, columns, dtype, copy)\u001b[0m\n\u001b[0;32m    188\u001b[0m     \u001b[1;31m# by definition an array here\u001b[0m\u001b[1;33m\u001b[0m\u001b[1;33m\u001b[0m\u001b[1;33m\u001b[0m\u001b[0m\n\u001b[0;32m    189\u001b[0m     \u001b[1;31m# the dtypes will be coerced to a single dtype\u001b[0m\u001b[1;33m\u001b[0m\u001b[1;33m\u001b[0m\u001b[1;33m\u001b[0m\u001b[0m\n\u001b[1;32m--> 190\u001b[1;33m     \u001b[0mvalues\u001b[0m \u001b[1;33m=\u001b[0m \u001b[0m_prep_ndarray\u001b[0m\u001b[1;33m(\u001b[0m\u001b[0mvalues\u001b[0m\u001b[1;33m,\u001b[0m \u001b[0mcopy\u001b[0m\u001b[1;33m=\u001b[0m\u001b[0mcopy\u001b[0m\u001b[1;33m)\u001b[0m\u001b[1;33m\u001b[0m\u001b[1;33m\u001b[0m\u001b[0m\n\u001b[0m\u001b[0;32m    191\u001b[0m \u001b[1;33m\u001b[0m\u001b[0m\n\u001b[0;32m    192\u001b[0m     \u001b[1;32mif\u001b[0m \u001b[0mdtype\u001b[0m \u001b[1;32mis\u001b[0m \u001b[1;32mnot\u001b[0m \u001b[1;32mNone\u001b[0m\u001b[1;33m:\u001b[0m\u001b[1;33m\u001b[0m\u001b[1;33m\u001b[0m\u001b[0m\n",
      "\u001b[1;32m~\\anaconda3\\lib\\site-packages\\pandas\\core\\internals\\construction.py\u001b[0m in \u001b[0;36m_prep_ndarray\u001b[1;34m(values, copy)\u001b[0m\n\u001b[0;32m    322\u001b[0m         \u001b[0mvalues\u001b[0m \u001b[1;33m=\u001b[0m \u001b[0mvalues\u001b[0m\u001b[1;33m.\u001b[0m\u001b[0mreshape\u001b[0m\u001b[1;33m(\u001b[0m\u001b[1;33m(\u001b[0m\u001b[0mvalues\u001b[0m\u001b[1;33m.\u001b[0m\u001b[0mshape\u001b[0m\u001b[1;33m[\u001b[0m\u001b[1;36m0\u001b[0m\u001b[1;33m]\u001b[0m\u001b[1;33m,\u001b[0m \u001b[1;36m1\u001b[0m\u001b[1;33m)\u001b[0m\u001b[1;33m)\u001b[0m\u001b[1;33m\u001b[0m\u001b[1;33m\u001b[0m\u001b[0m\n\u001b[0;32m    323\u001b[0m     \u001b[1;32melif\u001b[0m \u001b[0mvalues\u001b[0m\u001b[1;33m.\u001b[0m\u001b[0mndim\u001b[0m \u001b[1;33m!=\u001b[0m \u001b[1;36m2\u001b[0m\u001b[1;33m:\u001b[0m\u001b[1;33m\u001b[0m\u001b[1;33m\u001b[0m\u001b[0m\n\u001b[1;32m--> 324\u001b[1;33m         \u001b[1;32mraise\u001b[0m \u001b[0mValueError\u001b[0m\u001b[1;33m(\u001b[0m\u001b[1;34mf\"Must pass 2-d input. shape={values.shape}\"\u001b[0m\u001b[1;33m)\u001b[0m\u001b[1;33m\u001b[0m\u001b[1;33m\u001b[0m\u001b[0m\n\u001b[0m\u001b[0;32m    325\u001b[0m \u001b[1;33m\u001b[0m\u001b[0m\n\u001b[0;32m    326\u001b[0m     \u001b[1;32mreturn\u001b[0m \u001b[0mvalues\u001b[0m\u001b[1;33m\u001b[0m\u001b[1;33m\u001b[0m\u001b[0m\n",
      "\u001b[1;31mValueError\u001b[0m: Must pass 2-d input. shape=()"
     ]
    },
    {
     "data": {
      "image/png": "[encoded data removed]",
      "text/plain": [
       "<Figure size 864x720 with 1 Axes>"
      ]
     },
     "metadata": {
      "needs_background": "light"
     },
     "output_type": "display_data"
    }
   ],
   "source": [
    "def corrheatmap(dataset):\n",
    "    corrmatrix = dataset.corr()\n",
    "    numofrows = len(dataset.columns)\n",
    "    colour = str(input(\"Heatmap colour?\\n\"))\n",
    "    colname = str(input(\"which column do you want to analyze?\\n\"))\n",
    "    if colname != '':\n",
    "        cols = corrmatrix.nlargest(numofrows, colname)[colname].index \n",
    "\n",
    "        coeffs = np.corrcoef(dataset[colname].values.T) \n",
    "        f, axis = plt.subplots(figsize =(12, 10)) \n",
    "\n",
    "        return sb.heatmap(coeffs, ax = axis, cmap = colour, \n",
    "                    linewidths = 0.2, yticklabels = cols.values,  \n",
    "                                      xticklabels = cols.values) \n",
    "    else:\n",
    "        corrmatrix = dataset.corr()\n",
    "        f, axis = plt.subplots(figsize =(12, 10)) \n",
    "        sb.heatmap(corrmatrix, ax = axis, cmap = colour, linewidths = 0.2)\n",
    "def clheatmap(dataset):\n",
    "    corrmatrix = dataset.corr()\n",
    "    colour = str(input(\"Heatmap colour?\\n\"))\n",
    "    clmap = sb.clustermap(corrmatrix, cmap = colour, linewidths = 0.2); \n",
    "    f, axis = plt.subplots(figsize =(15, 10)) \n",
    "    plt.setp(clmap.ax_heatmap.yaxis.get_majorticklabels(), rotation = 0) \n",
    "    return clmap\n",
    "corrheatmap(data)"
   ]
  },
  {
   "cell_type": "markdown",
   "metadata": {},
   "source": [
    "# Function 18"
   ]
  },
  {
   "cell_type": "code",
   "execution_count": null,
   "metadata": {},
   "outputs": [],
   "source": [
    "def scatter(dataset):\n",
    "    ind = str(input(\"X-axis Value: \"))\n",
    "    dep = str(input(\"Y-axis Value: \"))\n",
    "    return dataset.plot.scatter(x = ind, y = dep,colormap='viridis')\n",
    "scatter(data)"
   ]
  },
  {
   "cell_type": "code",
   "execution_count": 26,
   "metadata": {},
   "outputs": [
    {
     "data": {
      "text/plain": [
       "<AxesSubplot:>"
      ]
     },
     "execution_count": 26,
     "metadata": {},
     "output_type": "execute_result"
    },
    {
     "data": {
      "image/png": "[encoded data removed]",
      "text/plain": [
       "<Figure size 720x432 with 2 Axes>"
      ]
     },
     "metadata": {
      "needs_background": "light"
     },
     "output_type": "display_data"
    }
   ],
   "source": [
    "mano.heatmap(data, figsize=(10,6))"
   ]
  },
  {
   "cell_type": "code",
   "execution_count": null,
   "metadata": {},
   "outputs": [],
   "source": []
  }
 ],
 "metadata": {
  "kernelspec": {
   "display_name": "Python 3",
   "language": "python",
   "name": "python3"
  },
  "language_info": {
   "codemirror_mode": {
    "name": "ipython",
    "version": 3
   },
   "file_extension": ".py",
   "mimetype": "text/x-python",
   "name": "python",
   "nbconvert_exporter": "python",
   "pygments_lexer": "ipython3",
   "version": "3.8.5"
  }
 },
 "nbformat": 4,
 "nbformat_minor": 4
}
