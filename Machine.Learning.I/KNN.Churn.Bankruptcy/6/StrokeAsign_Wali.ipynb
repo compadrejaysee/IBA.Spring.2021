{
 "cells": [
  {
   "cell_type": "code",
   "execution_count": 1,
   "metadata": {},
   "outputs": [],
   "source": [
    "import numpy as np\n",
    "import pandas as pd\n",
    "import pickle\n",
    "import numpy as np\n",
    "import pandas as pd\n",
    "from collections import defaultdict\n",
    "from scipy.stats import hmean\n",
    "from scipy.spatial.distance import cdist\n",
    "from scipy import stats\n",
    "import numbers\n",
    "from urllib.request import urlopen\n",
    "from numpy import loadtxt\n",
    "from numpy import unique\n",
    "import matplotlib.pyplot as plot\n",
    "import missingno as mano\n",
    "%matplotlib inline\n",
    "import numpy as np \n",
    "import statsmodels.api as sm \n",
    "import pylab as py \n",
    "import matplotlib.pyplot as plt \n",
    "import numpy as np \n",
    "import seaborn as sns\n",
    "from scipy.stats import shapiro\n",
    "\n",
    "import pandas as pd\n",
    "import numpy as np\n",
    "%matplotlib inline\n",
    "from scipy import stats\n",
    "import statsmodels.api as sm\n",
    "from statsmodels.formula.api import ols\n"
   ]
  },
  {
   "cell_type": "markdown",
   "metadata": {},
   "source": [
    "F1: loading data in a dataframe (either CSV or Excel - can be generalized for databases)"
   ]
  },
  {
   "cell_type": "code",
   "execution_count": 2,
   "metadata": {},
   "outputs": [
    {
     "data": {
      "text/html": [
       "<div>\n",
       "<style scoped>\n",
       "    .dataframe tbody tr th:only-of-type {\n",
       "        vertical-align: middle;\n",
       "    }\n",
       "\n",
       "    .dataframe tbody tr th {\n",
       "        vertical-align: top;\n",
       "    }\n",
       "\n",
       "    .dataframe thead th {\n",
       "        text-align: right;\n",
       "    }\n",
       "</style>\n",
       "<table border=\"1\" class=\"dataframe\">\n",
       "  <thead>\n",
       "    <tr style=\"text-align: right;\">\n",
       "      <th></th>\n",
       "      <th>id</th>\n",
       "      <th>gender</th>\n",
       "      <th>age</th>\n",
       "      <th>hypertension</th>\n",
       "      <th>heart_disease</th>\n",
       "      <th>ever_married</th>\n",
       "      <th>work_type</th>\n",
       "      <th>Residence_type</th>\n",
       "      <th>avg_glucose_level</th>\n",
       "      <th>bmi</th>\n",
       "      <th>smoking_status</th>\n",
       "      <th>stroke</th>\n",
       "    </tr>\n",
       "  </thead>\n",
       "  <tbody>\n",
       "    <tr>\n",
       "      <th>0</th>\n",
       "      <td>9046</td>\n",
       "      <td>Male</td>\n",
       "      <td>67.0</td>\n",
       "      <td>0</td>\n",
       "      <td>1</td>\n",
       "      <td>Yes</td>\n",
       "      <td>Private</td>\n",
       "      <td>Urban</td>\n",
       "      <td>228.69</td>\n",
       "      <td>36.6</td>\n",
       "      <td>formerly smoked</td>\n",
       "      <td>1</td>\n",
       "    </tr>\n",
       "    <tr>\n",
       "      <th>1</th>\n",
       "      <td>51676</td>\n",
       "      <td>Female</td>\n",
       "      <td>61.0</td>\n",
       "      <td>0</td>\n",
       "      <td>0</td>\n",
       "      <td>Yes</td>\n",
       "      <td>Self-employed</td>\n",
       "      <td>Rural</td>\n",
       "      <td>202.21</td>\n",
       "      <td>NaN</td>\n",
       "      <td>never smoked</td>\n",
       "      <td>1</td>\n",
       "    </tr>\n",
       "    <tr>\n",
       "      <th>2</th>\n",
       "      <td>31112</td>\n",
       "      <td>Male</td>\n",
       "      <td>80.0</td>\n",
       "      <td>0</td>\n",
       "      <td>1</td>\n",
       "      <td>Yes</td>\n",
       "      <td>Private</td>\n",
       "      <td>Rural</td>\n",
       "      <td>105.92</td>\n",
       "      <td>32.5</td>\n",
       "      <td>never smoked</td>\n",
       "      <td>1</td>\n",
       "    </tr>\n",
       "    <tr>\n",
       "      <th>3</th>\n",
       "      <td>60182</td>\n",
       "      <td>Female</td>\n",
       "      <td>49.0</td>\n",
       "      <td>0</td>\n",
       "      <td>0</td>\n",
       "      <td>Yes</td>\n",
       "      <td>Private</td>\n",
       "      <td>Urban</td>\n",
       "      <td>171.23</td>\n",
       "      <td>34.4</td>\n",
       "      <td>smokes</td>\n",
       "      <td>1</td>\n",
       "    </tr>\n",
       "    <tr>\n",
       "      <th>4</th>\n",
       "      <td>1665</td>\n",
       "      <td>Female</td>\n",
       "      <td>79.0</td>\n",
       "      <td>1</td>\n",
       "      <td>0</td>\n",
       "      <td>Yes</td>\n",
       "      <td>Self-employed</td>\n",
       "      <td>Rural</td>\n",
       "      <td>174.12</td>\n",
       "      <td>24.0</td>\n",
       "      <td>never smoked</td>\n",
       "      <td>1</td>\n",
       "    </tr>\n",
       "    <tr>\n",
       "      <th>...</th>\n",
       "      <td>...</td>\n",
       "      <td>...</td>\n",
       "      <td>...</td>\n",
       "      <td>...</td>\n",
       "      <td>...</td>\n",
       "      <td>...</td>\n",
       "      <td>...</td>\n",
       "      <td>...</td>\n",
       "      <td>...</td>\n",
       "      <td>...</td>\n",
       "      <td>...</td>\n",
       "      <td>...</td>\n",
       "    </tr>\n",
       "    <tr>\n",
       "      <th>5105</th>\n",
       "      <td>18234</td>\n",
       "      <td>Female</td>\n",
       "      <td>80.0</td>\n",
       "      <td>1</td>\n",
       "      <td>0</td>\n",
       "      <td>Yes</td>\n",
       "      <td>Private</td>\n",
       "      <td>Urban</td>\n",
       "      <td>83.75</td>\n",
       "      <td>NaN</td>\n",
       "      <td>never smoked</td>\n",
       "      <td>0</td>\n",
       "    </tr>\n",
       "    <tr>\n",
       "      <th>5106</th>\n",
       "      <td>44873</td>\n",
       "      <td>Female</td>\n",
       "      <td>81.0</td>\n",
       "      <td>0</td>\n",
       "      <td>0</td>\n",
       "      <td>Yes</td>\n",
       "      <td>Self-employed</td>\n",
       "      <td>Urban</td>\n",
       "      <td>125.20</td>\n",
       "      <td>40.0</td>\n",
       "      <td>never smoked</td>\n",
       "      <td>0</td>\n",
       "    </tr>\n",
       "    <tr>\n",
       "      <th>5107</th>\n",
       "      <td>19723</td>\n",
       "      <td>Female</td>\n",
       "      <td>35.0</td>\n",
       "      <td>0</td>\n",
       "      <td>0</td>\n",
       "      <td>Yes</td>\n",
       "      <td>Self-employed</td>\n",
       "      <td>Rural</td>\n",
       "      <td>82.99</td>\n",
       "      <td>30.6</td>\n",
       "      <td>never smoked</td>\n",
       "      <td>0</td>\n",
       "    </tr>\n",
       "    <tr>\n",
       "      <th>5108</th>\n",
       "      <td>37544</td>\n",
       "      <td>Male</td>\n",
       "      <td>51.0</td>\n",
       "      <td>0</td>\n",
       "      <td>0</td>\n",
       "      <td>Yes</td>\n",
       "      <td>Private</td>\n",
       "      <td>Rural</td>\n",
       "      <td>166.29</td>\n",
       "      <td>25.6</td>\n",
       "      <td>formerly smoked</td>\n",
       "      <td>0</td>\n",
       "    </tr>\n",
       "    <tr>\n",
       "      <th>5109</th>\n",
       "      <td>44679</td>\n",
       "      <td>Female</td>\n",
       "      <td>44.0</td>\n",
       "      <td>0</td>\n",
       "      <td>0</td>\n",
       "      <td>Yes</td>\n",
       "      <td>Govt_job</td>\n",
       "      <td>Urban</td>\n",
       "      <td>85.28</td>\n",
       "      <td>26.2</td>\n",
       "      <td>Unknown</td>\n",
       "      <td>0</td>\n",
       "    </tr>\n",
       "  </tbody>\n",
       "</table>\n",
       "<p>5110 rows × 12 columns</p>\n",
       "</div>"
      ],
      "text/plain": [
       "         id  gender   age  hypertension  heart_disease ever_married  \\\n",
       "0      9046    Male  67.0             0              1          Yes   \n",
       "1     51676  Female  61.0             0              0          Yes   \n",
       "2     31112    Male  80.0             0              1          Yes   \n",
       "3     60182  Female  49.0             0              0          Yes   \n",
       "4      1665  Female  79.0             1              0          Yes   \n",
       "...     ...     ...   ...           ...            ...          ...   \n",
       "5105  18234  Female  80.0             1              0          Yes   \n",
       "5106  44873  Female  81.0             0              0          Yes   \n",
       "5107  19723  Female  35.0             0              0          Yes   \n",
       "5108  37544    Male  51.0             0              0          Yes   \n",
       "5109  44679  Female  44.0             0              0          Yes   \n",
       "\n",
       "          work_type Residence_type  avg_glucose_level   bmi   smoking_status  \\\n",
       "0           Private          Urban             228.69  36.6  formerly smoked   \n",
       "1     Self-employed          Rural             202.21   NaN     never smoked   \n",
       "2           Private          Rural             105.92  32.5     never smoked   \n",
       "3           Private          Urban             171.23  34.4           smokes   \n",
       "4     Self-employed          Rural             174.12  24.0     never smoked   \n",
       "...             ...            ...                ...   ...              ...   \n",
       "5105        Private          Urban              83.75   NaN     never smoked   \n",
       "5106  Self-employed          Urban             125.20  40.0     never smoked   \n",
       "5107  Self-employed          Rural              82.99  30.6     never smoked   \n",
       "5108        Private          Rural             166.29  25.6  formerly smoked   \n",
       "5109       Govt_job          Urban              85.28  26.2          Unknown   \n",
       "\n",
       "      stroke  \n",
       "0          1  \n",
       "1          1  \n",
       "2          1  \n",
       "3          1  \n",
       "4          1  \n",
       "...      ...  \n",
       "5105       0  \n",
       "5106       0  \n",
       "5107       0  \n",
       "5108       0  \n",
       "5109       0  \n",
       "\n",
       "[5110 rows x 12 columns]"
      ]
     },
     "execution_count": 2,
     "metadata": {},
     "output_type": "execute_result"
    }
   ],
   "source": [
    "def load_file(filepath, ext):\n",
    "    ext=ext\n",
    "    if ext=='csv':\n",
    "        data =  []\n",
    "        col = []\n",
    "        checkcol = False\n",
    "        with open(filepath) as f:\n",
    "            for val in f.readlines():\n",
    "                val = val.replace(\"\\n\",\"\")\n",
    "                val = val.split(',')\n",
    "                if checkcol is False:\n",
    "                    col = val\n",
    "                    checkcol = True\n",
    "                else:\n",
    "                    data.append(val)\n",
    "        df = pd.DataFrame(data=data, columns=col)\n",
    "    elif ext=='xlsx':\n",
    "        df = pd.read_excel(filepath)\n",
    "    else:\n",
    "        df='No such file can be extracted'\n",
    "    return df\n",
    "\n",
    "df=load_file('C:\\\\Users\\\\waliullah\\\\Desktop\\\\Machine Learning\\\\Assignment-6\\\\Stroke\\\\health.xlsx','xlsx')\n",
    "df"
   ]
  },
  {
   "cell_type": "code",
   "execution_count": 3,
   "metadata": {},
   "outputs": [
    {
     "name": "stdout",
     "output_type": "stream",
     "text": [
      "id                     int64\n",
      "gender                object\n",
      "age                  float64\n",
      "hypertension           int64\n",
      "heart_disease          int64\n",
      "ever_married          object\n",
      "work_type             object\n",
      "Residence_type        object\n",
      "avg_glucose_level    float64\n",
      "bmi                  float64\n",
      "smoking_status        object\n",
      "stroke                 int64\n",
      "dtype: object\n"
     ]
    }
   ],
   "source": [
    "print(df.dtypes)"
   ]
  },
  {
   "cell_type": "markdown",
   "metadata": {},
   "source": [
    "Function-2: checking shape, column types, and see the first/last 'n' rows using head/tail (where n is one of the arguments of F2)\n"
   ]
  },
  {
   "cell_type": "code",
   "execution_count": 4,
   "metadata": {},
   "outputs": [
    {
     "name": "stdout",
     "output_type": "stream",
     "text": [
      "**** Shape of the Data ****\n",
      "(5110, 12)\n",
      "**** Columns Name ****\n",
      "Index(['id', 'gender', 'age', 'hypertension', 'heart_disease', 'ever_married',\n",
      "       'work_type', 'Residence_type', 'avg_glucose_level', 'bmi',\n",
      "       'smoking_status', 'stroke'],\n",
      "      dtype='object')\n",
      "**** Data Type of Columns ****\n",
      "id                     int64\n",
      "gender                object\n",
      "age                  float64\n",
      "hypertension           int64\n",
      "heart_disease          int64\n",
      "ever_married          object\n",
      "work_type             object\n",
      "Residence_type        object\n",
      "avg_glucose_level    float64\n",
      "bmi                  float64\n",
      "smoking_status        object\n",
      "stroke                 int64\n",
      "dtype: object\n",
      "**** Select first n Rows from a Dataframe using head() function ****\n",
      "First 10 rows of the Dataframe : \n",
      "      id  gender   age  hypertension  heart_disease ever_married  \\\n",
      "0   9046    Male  67.0             0              1          Yes   \n",
      "1  51676  Female  61.0             0              0          Yes   \n",
      "2  31112    Male  80.0             0              1          Yes   \n",
      "3  60182  Female  49.0             0              0          Yes   \n",
      "4   1665  Female  79.0             1              0          Yes   \n",
      "5  56669    Male  81.0             0              0          Yes   \n",
      "6  53882    Male  74.0             1              1          Yes   \n",
      "7  10434  Female  69.0             0              0           No   \n",
      "8  27419  Female  59.0             0              0          Yes   \n",
      "9  60491  Female  78.0             0              0          Yes   \n",
      "\n",
      "       work_type Residence_type  avg_glucose_level   bmi   smoking_status  \\\n",
      "0        Private          Urban             228.69  36.6  formerly smoked   \n",
      "1  Self-employed          Rural             202.21   NaN     never smoked   \n",
      "2        Private          Rural             105.92  32.5     never smoked   \n",
      "3        Private          Urban             171.23  34.4           smokes   \n",
      "4  Self-employed          Rural             174.12  24.0     never smoked   \n",
      "5        Private          Urban             186.21  29.0  formerly smoked   \n",
      "6        Private          Rural              70.09  27.4     never smoked   \n",
      "7        Private          Urban              94.39  22.8     never smoked   \n",
      "8        Private          Rural              76.15   NaN          Unknown   \n",
      "9        Private          Urban              58.57  24.2          Unknown   \n",
      "\n",
      "   stroke  \n",
      "0       1  \n",
      "1       1  \n",
      "2       1  \n",
      "3       1  \n",
      "4       1  \n",
      "5       1  \n",
      "6       1  \n",
      "7       1  \n",
      "8       1  \n",
      "9       1  \n",
      "**** Select last n Rows from a Dataframe using tail() function ****\n",
      "Last 10 rows of the Dataframe : \n",
      "         id  gender   age  hypertension  heart_disease ever_married  \\\n",
      "5100  68398    Male  82.0             1              0          Yes   \n",
      "5101  36901  Female  45.0             0              0          Yes   \n",
      "5102  45010  Female  57.0             0              0          Yes   \n",
      "5103  22127  Female  18.0             0              0           No   \n",
      "5104  14180  Female  13.0             0              0           No   \n",
      "5105  18234  Female  80.0             1              0          Yes   \n",
      "5106  44873  Female  81.0             0              0          Yes   \n",
      "5107  19723  Female  35.0             0              0          Yes   \n",
      "5108  37544    Male  51.0             0              0          Yes   \n",
      "5109  44679  Female  44.0             0              0          Yes   \n",
      "\n",
      "          work_type Residence_type  avg_glucose_level   bmi   smoking_status  \\\n",
      "5100  Self-employed          Rural              71.97  28.3     never smoked   \n",
      "5101        Private          Urban              97.95  24.5          Unknown   \n",
      "5102        Private          Rural              77.93  21.7     never smoked   \n",
      "5103        Private          Urban              82.85  46.9          Unknown   \n",
      "5104       children          Rural             103.08  18.6          Unknown   \n",
      "5105        Private          Urban              83.75   NaN     never smoked   \n",
      "5106  Self-employed          Urban             125.20  40.0     never smoked   \n",
      "5107  Self-employed          Rural              82.99  30.6     never smoked   \n",
      "5108        Private          Rural             166.29  25.6  formerly smoked   \n",
      "5109       Govt_job          Urban              85.28  26.2          Unknown   \n",
      "\n",
      "      stroke  \n",
      "5100       0  \n",
      "5101       0  \n",
      "5102       0  \n",
      "5103       0  \n",
      "5104       0  \n",
      "5105       0  \n",
      "5106       0  \n",
      "5107       0  \n",
      "5108       0  \n",
      "5109       0  \n"
     ]
    }
   ],
   "source": [
    "def data_display(data, n):\n",
    "    # Create a DataFrame object\n",
    "    df = pd.DataFrame(data)\n",
    "    #print(\"Contents of the Dataframe : \")\n",
    "    #print(df)\n",
    "    \n",
    "    print('**** Shape of the Data ****')\n",
    "    #df.shape\n",
    "    print(df.shape)\n",
    "    print('**** Columns Name ****')\n",
    "    print(df.columns)\n",
    "    print('**** Data Type of Columns ****')\n",
    "    print(df.dtypes)\n",
    "    \n",
    "    print('**** Select first n Rows from a Dataframe using head() function ****')\n",
    "    # Select the top n rows of the Dataframe\n",
    "    dfObj1 = df.head(n)\n",
    "    print(\"First\", n, \"rows of the Dataframe : \")\n",
    "    print(dfObj1)\n",
    "    print('**** Select last n Rows from a Dataframe using tail() function ****')\n",
    "    # Select the bottom n rows of the Dataframe\n",
    "    dfObj2 = df.tail(n)\n",
    "    print(\"Last\",n, \"rows of the Dataframe : \")\n",
    "    print(dfObj2)\n",
    "\n",
    "#call function\n",
    "data_display(df, 10)"
   ]
  },
  {
   "cell_type": "markdown",
   "metadata": {},
   "source": [
    "F5: determine the missing values in the whole dataset"
   ]
  },
  {
   "cell_type": "code",
   "execution_count": 5,
   "metadata": {},
   "outputs": [],
   "source": [
    "def misval(data):\n",
    "    df=data\n",
    "    print (df.isnull())\n",
    "    #print(df.isnull.sum())\n",
    "    mano.matrix(df)"
   ]
  },
  {
   "cell_type": "code",
   "execution_count": 6,
   "metadata": {},
   "outputs": [
    {
     "name": "stdout",
     "output_type": "stream",
     "text": [
      "         id  gender    age  hypertension  heart_disease  ever_married  \\\n",
      "0     False   False  False         False          False         False   \n",
      "1     False   False  False         False          False         False   \n",
      "2     False   False  False         False          False         False   \n",
      "3     False   False  False         False          False         False   \n",
      "4     False   False  False         False          False         False   \n",
      "...     ...     ...    ...           ...            ...           ...   \n",
      "5105  False   False  False         False          False         False   \n",
      "5106  False   False  False         False          False         False   \n",
      "5107  False   False  False         False          False         False   \n",
      "5108  False   False  False         False          False         False   \n",
      "5109  False   False  False         False          False         False   \n",
      "\n",
      "      work_type  Residence_type  avg_glucose_level    bmi  smoking_status  \\\n",
      "0         False           False              False  False           False   \n",
      "1         False           False              False   True           False   \n",
      "2         False           False              False  False           False   \n",
      "3         False           False              False  False           False   \n",
      "4         False           False              False  False           False   \n",
      "...         ...             ...                ...    ...             ...   \n",
      "5105      False           False              False   True           False   \n",
      "5106      False           False              False  False           False   \n",
      "5107      False           False              False  False           False   \n",
      "5108      False           False              False  False           False   \n",
      "5109      False           False              False  False           False   \n",
      "\n",
      "      stroke  \n",
      "0      False  \n",
      "1      False  \n",
      "2      False  \n",
      "3      False  \n",
      "4      False  \n",
      "...      ...  \n",
      "5105   False  \n",
      "5106   False  \n",
      "5107   False  \n",
      "5108   False  \n",
      "5109   False  \n",
      "\n",
      "[5110 rows x 12 columns]\n"
     ]
    },
    {
     "data": {
      "image/png": "[encoded data removed]",
      "text/plain": [
       "<Figure size 1800x720 with 2 Axes>"
      ]
     },
     "metadata": {
      "needs_background": "light"
     },
     "output_type": "display_data"
    }
   ],
   "source": [
    "misval(df)"
   ]
  },
  {
   "cell_type": "markdown",
   "metadata": {},
   "source": [
    "F6: analyze missing values of one or more columns using mano module"
   ]
  },
  {
   "cell_type": "code",
   "execution_count": 7,
   "metadata": {},
   "outputs": [
    {
     "data": {
      "image/png": "[encoded data removed]",
      "text/plain": [
       "<Figure size 1800x720 with 2 Axes>"
      ]
     },
     "metadata": {
      "needs_background": "light"
     },
     "output_type": "display_data"
    }
   ],
   "source": [
    "def misvalmano(data):\n",
    "    mano.matrix(data)\n",
    "\n",
    "    \n",
    "misvalmano(df)"
   ]
  },
  {
   "cell_type": "markdown",
   "metadata": {},
   "source": [
    "F7: cater for missing values (input the column with missing value, and the method through which you want to cater for the missing values)"
   ]
  },
  {
   "cell_type": "code",
   "execution_count": 8,
   "metadata": {},
   "outputs": [
    {
     "name": "stdout",
     "output_type": "stream",
     "text": [
      "Enter Column Name:bmi\n",
      "Choose among Mean, LinInter\n",
      "Enter Option Name:LinInter\n"
     ]
    }
   ],
   "source": [
    "def misvalfill(data):\n",
    "    col=input(\"Enter Column Name:\")\n",
    "    print(\"Choose among Mean, LinInter\")\n",
    "    option=input(\"Enter Option Name:\")\n",
    "    if option=='Mean':\n",
    "        data[col]=data[col].fillna(data[col].mean())\n",
    "    #elif option=='Mode':\n",
    "     #   data[col]=data[col].fillna(data[col].value_counts())\n",
    "    elif option=='LinInter':\n",
    "        data[col]=data[col].fillna(data[col].interpolate(method ='linear', limit_direction ='forward'))\n",
    "    return data\n",
    "\n",
    "df=misvalfill(df)"
   ]
  },
  {
   "cell_type": "code",
   "execution_count": 9,
   "metadata": {},
   "outputs": [
    {
     "data": {
      "image/png": "[encoded data removed]",
      "text/plain": [
       "<Figure size 1800x720 with 2 Axes>"
      ]
     },
     "metadata": {
      "needs_background": "light"
     },
     "output_type": "display_data"
    }
   ],
   "source": [
    "misvalmano(df)"
   ]
  },
  {
   "cell_type": "markdown",
   "metadata": {},
   "source": [
    "F8: Function for numerical data analysis - includes histogram, boxplot, qqplot, describe, and statistical tests for normality"
   ]
  },
  {
   "cell_type": "code",
   "execution_count": 10,
   "metadata": {},
   "outputs": [
    {
     "name": "stdout",
     "output_type": "stream",
     "text": [
      "Enter Column Name:stroke\n",
      "Histogram of stroke Data\n"
     ]
    },
    {
     "data": {
      "image/png": "[encoded data removed]",
      "text/plain": [
       "<Figure size 432x288 with 1 Axes>"
      ]
     },
     "metadata": {
      "needs_background": "light"
     },
     "output_type": "display_data"
    },
    {
     "name": "stdout",
     "output_type": "stream",
     "text": [
      "Boxplot of stroke Data\n"
     ]
    },
    {
     "data": {
      "image/png": "[encoded data removed]",
      "text/plain": [
       "<Figure size 432x288 with 1 Axes>"
      ]
     },
     "metadata": {
      "needs_background": "light"
     },
     "output_type": "display_data"
    },
    {
     "name": "stdout",
     "output_type": "stream",
     "text": [
      "QQPlot of stroke Data\n"
     ]
    },
    {
     "data": {
      "image/png": "[encoded data removed]",
      "text/plain": [
       "<Figure size 432x288 with 1 Axes>"
      ]
     },
     "metadata": {
      "needs_background": "light"
     },
     "output_type": "display_data"
    },
    {
     "name": "stdout",
     "output_type": "stream",
     "text": [
      "Discriptive Stat of stroke Data\n",
      "count    5110.000000\n",
      "mean        0.048728\n",
      "std         0.215320\n",
      "min         0.000000\n",
      "25%         0.000000\n",
      "50%         0.000000\n",
      "75%         0.000000\n",
      "max         1.000000\n",
      "Name: stroke, dtype: float64\n",
      "Normality Test of stroke Data\n",
      "Statistics=0.220, p=0.000\n",
      "Sample does not look Gaussian (reject H0)\n"
     ]
    },
    {
     "name": "stderr",
     "output_type": "stream",
     "text": [
      "C:\\Users\\waliullah\\Anaconda3\\lib\\site-packages\\scipy\\stats\\morestats.py:1681: UserWarning: p-value may not be accurate for N > 5000.\n",
      "  warnings.warn(\"p-value may not be accurate for N > 5000.\")\n"
     ]
    }
   ],
   "source": [
    "def visual(data):\n",
    "    col=input(\"Enter Column Name:\")\n",
    "    data[col].hist()\n",
    "    print(\"Histogram of\", col, \"Data\")\n",
    "    py.show()\n",
    "    sns.boxplot(data[col])\n",
    "    print(\"Boxplot of\", col, \"Data\")\n",
    "    py.show()\n",
    "    sm.qqplot(data[col], line ='45') \n",
    "    print(\"QQPlot of\", col, \"Data\")\n",
    "    py.show() \n",
    "    \n",
    "    print(\"Discriptive Stat of\", col, \"Data\")\n",
    "    print(data[col].describe())\n",
    "    #print(ddf1)\n",
    "    print(\"Normality Test of\", col, \"Data\")\n",
    "    # normality test\n",
    "    stat, p = shapiro(data[col])\n",
    "    print('Statistics=%.3f, p=%.3f' % (stat, p))\n",
    "# interpret\n",
    "    alpha = 0.05\n",
    "    if p > alpha:\n",
    "        print('Sample looks Gaussian (fail to reject H0)')\n",
    "    else:\n",
    "        print('Sample does not look Gaussian (reject H0)')\n",
    "\n",
    "        \n",
    "visual(df)"
   ]
  },
  {
   "cell_type": "markdown",
   "metadata": {},
   "source": [
    "F9: Function for categorical data analysis - includes value counts, and bar charts"
   ]
  },
  {
   "cell_type": "code",
   "execution_count": 11,
   "metadata": {},
   "outputs": [],
   "source": [
    "def visual2(data):\n",
    "    col=input(\"Enter Column Name:\")\n",
    "    count_no_sub = len(data[data[col]==0])\n",
    "    count_sub = len(data[data[col]==1])\n",
    "    pct_of_no_sub = count_no_sub/(count_no_sub+count_sub)\n",
    "    print('Number of Zero Catagory',count_no_sub)\n",
    "    print(\"percentage of no subscription is\", pct_of_no_sub*100)\n",
    "    pct_of_sub = count_sub/(count_no_sub+count_sub)\n",
    "    print('Number of One Catagory',count_sub)\n",
    "    print(\"percentage of subscription\", pct_of_sub*100)\n",
    "    \n",
    "    data[col].hist()\n",
    "    print(\"Histogram of\", col, \"Data\")\n",
    "    py.show()\n",
    "    print(\"Discriptive Stat of\", col, \"Data\")\n",
    "    print(data[col].describe())\n",
    "    print(\"Barplot of\", col, \"Data\")\n",
    "    sns.countplot(x=data[col], data=data, palette='hls')\n",
    "    plt.show()"
   ]
  },
  {
   "cell_type": "code",
   "execution_count": 12,
   "metadata": {},
   "outputs": [
    {
     "name": "stdout",
     "output_type": "stream",
     "text": [
      "Enter Column Name:stroke\n",
      "Number of Zero Catagory 4861\n",
      "percentage of no subscription is 95.12720156555773\n",
      "Number of One Catagory 249\n",
      "percentage of subscription 4.87279843444227\n",
      "Histogram of stroke Data\n"
     ]
    },
    {
     "data": {
      "image/png": "[encoded data removed]",
      "text/plain": [
       "<Figure size 432x288 with 1 Axes>"
      ]
     },
     "metadata": {
      "needs_background": "light"
     },
     "output_type": "display_data"
    },
    {
     "name": "stdout",
     "output_type": "stream",
     "text": [
      "Discriptive Stat of stroke Data\n",
      "count    5110.000000\n",
      "mean        0.048728\n",
      "std         0.215320\n",
      "min         0.000000\n",
      "25%         0.000000\n",
      "50%         0.000000\n",
      "75%         0.000000\n",
      "max         1.000000\n",
      "Name: stroke, dtype: float64\n",
      "Barplot of stroke Data\n"
     ]
    },
    {
     "data": {
      "image/png": "[encoded data removed]",
      "text/plain": [
       "<Figure size 432x288 with 1 Axes>"
      ]
     },
     "metadata": {
      "needs_background": "light"
     },
     "output_type": "display_data"
    }
   ],
   "source": [
    "visual2(df)"
   ]
  },
  {
   "cell_type": "markdown",
   "metadata": {},
   "source": [
    "F-10:Function to change the type of any column (input col name and the type you want)"
   ]
  },
  {
   "cell_type": "code",
   "execution_count": 13,
   "metadata": {},
   "outputs": [
    {
     "name": "stdout",
     "output_type": "stream",
     "text": [
      "Enter Column Name:gender\n",
      "Choose among Int, Float, String\n",
      "Enter Option Name:String\n"
     ]
    }
   ],
   "source": [
    "def change_type(data):\n",
    "    col=input(\"Enter Column Name:\")\n",
    "    print(\"Choose among Int, Float, String\")\n",
    "    option=input(\"Enter Option Name:\")\n",
    "    if option=='Int':\n",
    "        data[col]=data[col].astype(int).dtypes\n",
    "    elif option=='Flot':\n",
    "        data[col]=data[col].astype(float).dtypes\n",
    "    elif option=='String':\n",
    "        data[col]=data[col].astype(str).dtypes\n",
    "    return data\n",
    "\n",
    "df=change_type(df)"
   ]
  },
  {
   "cell_type": "markdown",
   "metadata": {},
   "source": [
    "F13: function to make a deep copy of a dataframe"
   ]
  },
  {
   "cell_type": "code",
   "execution_count": 57,
   "metadata": {},
   "outputs": [],
   "source": [
    "def deep_copy (data):\n",
    "    data_deepcopy = data.copy()\n",
    "    return data_deepcopy\n",
    "\n",
    "dfs=deep_copy(df)\n"
   ]
  },
  {
   "cell_type": "code",
   "execution_count": 15,
   "metadata": {},
   "outputs": [],
   "source": [
    "from sklearn.preprocessing import LabelEncoder\n",
    "from sklearn.preprocessing import OrdinalEncoder\n",
    "from sklearn.preprocessing import OneHotEncoder\n",
    "\n",
    "def ordinal_example(data):\n",
    "    oe = OrdinalEncoder()\n",
    "    oe.fit(data)\n",
    "    data_enc = oe.transform(data)\n",
    "    return data_enc\n",
    "\n",
    "def label_example(data):\n",
    "    oe = LabelEncoder()\n",
    "    oe.fit(data)\n",
    "    data_enc = oe.transform(data)\n",
    "    return data_enc\n",
    "\n",
    "def onehot_example(data):\n",
    "    oe = OneHotEncoder()\n",
    "    oe.fit(data)\n",
    "    data_enc = oe.transform(data)\n",
    "    return data_enc"
   ]
  },
  {
   "cell_type": "code",
   "execution_count": 16,
   "metadata": {},
   "outputs": [
    {
     "ename": "NameError",
     "evalue": "name 'strokedf' is not defined",
     "output_type": "error",
     "traceback": [
      "\u001b[1;31m---------------------------------------------------------------------------\u001b[0m",
      "\u001b[1;31mNameError\u001b[0m                                 Traceback (most recent call last)",
      "\u001b[1;32m<ipython-input-16-653c64036511>\u001b[0m in \u001b[0;36m<module>\u001b[1;34m\u001b[0m\n\u001b[1;32m----> 1\u001b[1;33m \u001b[0mstrokedf\u001b[0m\u001b[1;33m[\u001b[0m\u001b[1;34m'smoking_status'\u001b[0m\u001b[1;33m]\u001b[0m \u001b[1;33m=\u001b[0m \u001b[0mstrokedf\u001b[0m\u001b[1;33m[\u001b[0m\u001b[1;34m'smoking_status'\u001b[0m\u001b[1;33m]\u001b[0m\u001b[1;33m.\u001b[0m\u001b[0mreplace\u001b[0m\u001b[1;33m(\u001b[0m\u001b[1;33m{\u001b[0m\u001b[1;34m'never smoked'\u001b[0m\u001b[1;33m:\u001b[0m\u001b[1;34m'nsmoke'\u001b[0m\u001b[1;33m,\u001b[0m\u001b[1;34m'formerly smoked'\u001b[0m\u001b[1;33m:\u001b[0m\u001b[1;34m'fsmoked'\u001b[0m\u001b[1;33m}\u001b[0m\u001b[1;33m)\u001b[0m\u001b[1;33m\u001b[0m\u001b[1;33m\u001b[0m\u001b[0m\n\u001b[0m\u001b[0;32m      2\u001b[0m \u001b[0mstrokedf\u001b[0m\u001b[1;33m[\u001b[0m\u001b[1;34m'stroke'\u001b[0m\u001b[1;33m]\u001b[0m \u001b[1;33m=\u001b[0m \u001b[0mstrokedf\u001b[0m\u001b[1;33m[\u001b[0m\u001b[1;34m'stroke'\u001b[0m\u001b[1;33m]\u001b[0m\u001b[1;33m.\u001b[0m\u001b[0mastype\u001b[0m\u001b[1;33m(\u001b[0m\u001b[0mstr\u001b[0m\u001b[1;33m)\u001b[0m\u001b[1;33m\u001b[0m\u001b[1;33m\u001b[0m\u001b[0m\n\u001b[0;32m      3\u001b[0m \u001b[0mstrokedf\u001b[0m\u001b[1;33m[\u001b[0m\u001b[1;34m'stroke'\u001b[0m\u001b[1;33m]\u001b[0m \u001b[1;33m=\u001b[0m \u001b[0mstrokedf\u001b[0m\u001b[1;33m[\u001b[0m\u001b[1;34m'stroke'\u001b[0m\u001b[1;33m]\u001b[0m\u001b[1;33m.\u001b[0m\u001b[0mreplace\u001b[0m\u001b[1;33m(\u001b[0m\u001b[1;33m{\u001b[0m\u001b[1;34m'1'\u001b[0m\u001b[1;33m:\u001b[0m\u001b[1;34m'Yes'\u001b[0m\u001b[1;33m,\u001b[0m\u001b[1;34m'0'\u001b[0m\u001b[1;33m:\u001b[0m\u001b[1;34m'No'\u001b[0m\u001b[1;33m}\u001b[0m\u001b[1;33m)\u001b[0m\u001b[1;33m\u001b[0m\u001b[1;33m\u001b[0m\u001b[0m\n\u001b[0;32m      4\u001b[0m \u001b[0mcatdata\u001b[0m \u001b[1;33m=\u001b[0m \u001b[0mstrokedf\u001b[0m\u001b[1;33m[\u001b[0m\u001b[1;33m[\u001b[0m\u001b[1;34m'ever_married'\u001b[0m\u001b[1;33m,\u001b[0m\u001b[1;34m'work_type'\u001b[0m\u001b[1;33m,\u001b[0m\u001b[1;34m'smoking_status'\u001b[0m\u001b[1;33m,\u001b[0m\u001b[1;34m'Residence_type'\u001b[0m\u001b[1;33m]\u001b[0m\u001b[1;33m]\u001b[0m\u001b[1;33m\u001b[0m\u001b[1;33m\u001b[0m\u001b[0m\n\u001b[0;32m      5\u001b[0m \u001b[0mstrokedf\u001b[0m\u001b[1;33m[\u001b[0m\u001b[1;33m[\u001b[0m\u001b[1;34m'ever_married'\u001b[0m\u001b[1;33m,\u001b[0m\u001b[1;34m'work_type'\u001b[0m\u001b[1;33m,\u001b[0m\u001b[1;34m'smoking_status'\u001b[0m\u001b[1;33m,\u001b[0m\u001b[1;34m'Residence_type'\u001b[0m\u001b[1;33m]\u001b[0m\u001b[1;33m]\u001b[0m \u001b[1;33m=\u001b[0m \u001b[0mordinal_example\u001b[0m\u001b[1;33m(\u001b[0m\u001b[0mcatdata\u001b[0m\u001b[1;33m)\u001b[0m\u001b[1;33m\u001b[0m\u001b[1;33m\u001b[0m\u001b[0m\n",
      "\u001b[1;31mNameError\u001b[0m: name 'strokedf' is not defined"
     ]
    }
   ],
   "source": [
    "strokedf['smoking_status'] = strokedf['smoking_status'].replace({'never smoked':'nsmoke','formerly smoked':'fsmoked'})\n",
    "strokedf['stroke'] = strokedf['stroke'].astype(str)\n",
    "strokedf['stroke'] = strokedf['stroke'].replace({'1':'Yes','0':'No'})\n",
    "catdata = strokedf[['ever_married','work_type','smoking_status','Residence_type']]\n",
    "strokedf[['ever_married','work_type','smoking_status','Residence_type']] = ordinal_example(catdata)\n",
    "strokedf = strokedf.copy(deep=True)\n",
    "strokedf['ever_married'] = label_example(strokedf['ever_married'])\n",
    "strokedf['work_type'] = label_example(strokedf['work_type'])\n",
    "strokedf['smoking_status'] = label_example(strokedf['smoking_status'])\n",
    "strokedf['Residence_type'] = label_example(strokedf['Residence_type'])\n",
    "\n",
    "strokedf = strokedf.loc[:, strokedf.columns != 'stroke']\n",
    "strokedf = pd.get_dummies(strokedf)\n",
    "strokedf['hypertension'] = strokedf['hypertension'].astype(str)\n",
    "strokedf['hypertension'] = strokedf['hypertension'].replace({'1':'Yes','0':'No'})\n",
    "\n",
    "strokedf['heart_disease'] = strokedf['heart_disease'].astype(str)\n",
    "strokedf['heart_disease'] = strokedf['heart_disease'].replace({'1':'Yes','0':'No'})\n",
    "#strokedf['gender'] = strokedf['gender'].astype(str)\n",
    "#strokedf['gender'] = strokedf['gender'].replace({'Male':'Yes','Female':'No'})\n",
    "strokedf = pd.get_dummies(strokedf)\n",
    "strokedf.head(10)"
   ]
  },
  {
   "cell_type": "code",
   "execution_count": 58,
   "metadata": {},
   "outputs": [
    {
     "data": {
      "text/plain": [
       "(5110, 12)"
      ]
     },
     "execution_count": 58,
     "metadata": {},
     "output_type": "execute_result"
    }
   ],
   "source": [
    "dfs.shape"
   ]
  },
  {
   "cell_type": "markdown",
   "metadata": {},
   "source": [
    "F4: remove rows containing a particular value of a given column, e.g., in smoking_status column, I don't want to consider non-smokers in my ML problem so I remove all these rows."
   ]
  },
  {
   "cell_type": "code",
   "execution_count": 59,
   "metadata": {},
   "outputs": [
    {
     "name": "stdout",
     "output_type": "stream",
     "text": [
      "(5110, 12)\n"
     ]
    }
   ],
   "source": [
    "#Delete Rows which has value of a1 to be given as string\n",
    "#Delete rows with has the value a1\n",
    "#Delete Rows with outlier values specify column and value as a2\n",
    "def delrows(data, col, a2):\n",
    "    df=data\n",
    "    #delete the the outliers\n",
    "    df.drop(df[df[col] == a2].index, inplace = True)\n",
    "    print (df.shape)\n",
    "    return df\n",
    "\n",
    "\n",
    "dfs=delrows(dfs, 'gender', 'Other')\n"
   ]
  },
  {
   "cell_type": "code",
   "execution_count": null,
   "metadata": {},
   "outputs": [],
   "source": []
  },
  {
   "cell_type": "markdown",
   "metadata": {},
   "source": [
    "F14: function to encode categorical into numerical (label, ordinal, or onehot)"
   ]
  },
  {
   "cell_type": "code",
   "execution_count": 60,
   "metadata": {},
   "outputs": [],
   "source": [
    "def disc_cata(data):\n",
    "    col=input(\"Enter Column Name:\")\n",
    "    print(\"Choose among ReplaceValues, One-Hot, Binary\")\n",
    "    option=input(\"Enter Option Name:\")\n",
    "    if option=='ReplaceValues':\n",
    "        labels = data[col].astype('category').cat.categories.tolist()\n",
    "        replace_map_comp = {col : {k: v for k,v in zip(labels,list(range(1,len(labels)+1)))}}\n",
    "        print(replace_map_comp)\n",
    "        data.replace(replace_map_comp, inplace=True)\n",
    "    elif option=='One-Hot':\n",
    "        data= pd.get_dummies(data, columns=[col], prefix = ['col'])\n",
    "\n",
    "    elif option=='Binary':\n",
    "        df_flights_ce = data.copy()\n",
    "        encoder = ce.BinaryEncoder(cols=[col])\n",
    "        data = encoder.fit_transform(df_flights_ce)\n",
    "    return data"
   ]
  },
  {
   "cell_type": "code",
   "execution_count": 61,
   "metadata": {},
   "outputs": [
    {
     "name": "stdout",
     "output_type": "stream",
     "text": [
      "Enter Column Name:gender\n",
      "Choose among ReplaceValues, One-Hot, Binary\n",
      "Enter Option Name:One-Hot\n"
     ]
    }
   ],
   "source": [
    "dfs=disc_cata(dfs)    #gender binary"
   ]
  },
  {
   "cell_type": "code",
   "execution_count": 62,
   "metadata": {},
   "outputs": [
    {
     "name": "stdout",
     "output_type": "stream",
     "text": [
      "Enter Column Name:ever_married\n",
      "Choose among ReplaceValues, One-Hot, Binary\n",
      "Enter Option Name:Binary\n"
     ]
    }
   ],
   "source": [
    "dfs=disc_cata(dfs)    #ever_married binary"
   ]
  },
  {
   "cell_type": "code",
   "execution_count": 63,
   "metadata": {},
   "outputs": [
    {
     "name": "stdout",
     "output_type": "stream",
     "text": [
      "Enter Column Name:work_type\n",
      "Choose among ReplaceValues, One-Hot, Binary\n",
      "Enter Option Name:One-Hot\n"
     ]
    }
   ],
   "source": [
    "dfs=disc_cata(dfs)          #work_type one-hot"
   ]
  },
  {
   "cell_type": "code",
   "execution_count": 64,
   "metadata": {},
   "outputs": [
    {
     "name": "stdout",
     "output_type": "stream",
     "text": [
      "Enter Column Name:Residence_type\n",
      "Choose among ReplaceValues, One-Hot, Binary\n",
      "Enter Option Name:Binary\n"
     ]
    }
   ],
   "source": [
    "dfs=disc_cata(dfs)            #Residence_type binary"
   ]
  },
  {
   "cell_type": "code",
   "execution_count": 65,
   "metadata": {},
   "outputs": [
    {
     "name": "stdout",
     "output_type": "stream",
     "text": [
      "Enter Column Name:smoking_status\n",
      "Choose among ReplaceValues, One-Hot, Binary\n",
      "Enter Option Name:One-Hot\n"
     ]
    }
   ],
   "source": [
    "dfs=disc_cata(dfs)           #smoking_status   one hot\n"
   ]
  },
  {
   "cell_type": "code",
   "execution_count": 66,
   "metadata": {},
   "outputs": [],
   "source": [
    "dfs=dfs.drop(['id'], axis=1)"
   ]
  },
  {
   "cell_type": "code",
   "execution_count": 67,
   "metadata": {},
   "outputs": [],
   "source": [
    "dfs1=dfs.copy()"
   ]
  },
  {
   "cell_type": "code",
   "execution_count": 68,
   "metadata": {},
   "outputs": [],
   "source": [
    "import category_encoders as ce   # version 1.2.8\n",
    "from sklearn.preprocessing import LabelEncoder"
   ]
  },
  {
   "cell_type": "code",
   "execution_count": 69,
   "metadata": {},
   "outputs": [
    {
     "data": {
      "text/plain": [
       "Index(['age', 'hypertension', 'heart_disease', 'ever_married_0',\n",
       "       'ever_married_1', 'Residence_type_0', 'Residence_type_1',\n",
       "       'avg_glucose_level', 'bmi', 'stroke', 'col_object', 'col_Govt_job',\n",
       "       'col_Never_worked', 'col_Private', 'col_Self-employed', 'col_children',\n",
       "       'col_Unknown', 'col_formerly smoked', 'col_never smoked', 'col_smokes'],\n",
       "      dtype='object')"
      ]
     },
     "execution_count": 69,
     "metadata": {},
     "output_type": "execute_result"
    }
   ],
   "source": [
    "dfs1.columns"
   ]
  },
  {
   "cell_type": "code",
   "execution_count": 70,
   "metadata": {},
   "outputs": [
    {
     "data": {
      "text/html": [
       "<div>\n",
       "<style scoped>\n",
       "    .dataframe tbody tr th:only-of-type {\n",
       "        vertical-align: middle;\n",
       "    }\n",
       "\n",
       "    .dataframe tbody tr th {\n",
       "        vertical-align: top;\n",
       "    }\n",
       "\n",
       "    .dataframe thead th {\n",
       "        text-align: right;\n",
       "    }\n",
       "</style>\n",
       "<table border=\"1\" class=\"dataframe\">\n",
       "  <thead>\n",
       "    <tr style=\"text-align: right;\">\n",
       "      <th></th>\n",
       "      <th>age</th>\n",
       "      <th>hypertension</th>\n",
       "      <th>heart_disease</th>\n",
       "      <th>ever_married_0</th>\n",
       "      <th>ever_married_1</th>\n",
       "      <th>Residence_type_0</th>\n",
       "      <th>Residence_type_1</th>\n",
       "      <th>avg_glucose_level</th>\n",
       "      <th>bmi</th>\n",
       "      <th>stroke</th>\n",
       "      <th>col_object</th>\n",
       "      <th>col_Govt_job</th>\n",
       "      <th>col_Never_worked</th>\n",
       "      <th>col_Private</th>\n",
       "      <th>col_Self-employed</th>\n",
       "      <th>col_children</th>\n",
       "      <th>col_Unknown</th>\n",
       "      <th>col_formerly smoked</th>\n",
       "      <th>col_never smoked</th>\n",
       "      <th>col_smokes</th>\n",
       "    </tr>\n",
       "  </thead>\n",
       "  <tbody>\n",
       "    <tr>\n",
       "      <th>0</th>\n",
       "      <td>67.0</td>\n",
       "      <td>0</td>\n",
       "      <td>1</td>\n",
       "      <td>0</td>\n",
       "      <td>1</td>\n",
       "      <td>0</td>\n",
       "      <td>1</td>\n",
       "      <td>228.69</td>\n",
       "      <td>36.60</td>\n",
       "      <td>1</td>\n",
       "      <td>1</td>\n",
       "      <td>0</td>\n",
       "      <td>0</td>\n",
       "      <td>1</td>\n",
       "      <td>0</td>\n",
       "      <td>0</td>\n",
       "      <td>0</td>\n",
       "      <td>1</td>\n",
       "      <td>0</td>\n",
       "      <td>0</td>\n",
       "    </tr>\n",
       "    <tr>\n",
       "      <th>1</th>\n",
       "      <td>61.0</td>\n",
       "      <td>0</td>\n",
       "      <td>0</td>\n",
       "      <td>0</td>\n",
       "      <td>1</td>\n",
       "      <td>1</td>\n",
       "      <td>0</td>\n",
       "      <td>202.21</td>\n",
       "      <td>34.55</td>\n",
       "      <td>1</td>\n",
       "      <td>1</td>\n",
       "      <td>0</td>\n",
       "      <td>0</td>\n",
       "      <td>0</td>\n",
       "      <td>1</td>\n",
       "      <td>0</td>\n",
       "      <td>0</td>\n",
       "      <td>0</td>\n",
       "      <td>1</td>\n",
       "      <td>0</td>\n",
       "    </tr>\n",
       "    <tr>\n",
       "      <th>2</th>\n",
       "      <td>80.0</td>\n",
       "      <td>0</td>\n",
       "      <td>1</td>\n",
       "      <td>0</td>\n",
       "      <td>1</td>\n",
       "      <td>1</td>\n",
       "      <td>0</td>\n",
       "      <td>105.92</td>\n",
       "      <td>32.50</td>\n",
       "      <td>1</td>\n",
       "      <td>1</td>\n",
       "      <td>0</td>\n",
       "      <td>0</td>\n",
       "      <td>1</td>\n",
       "      <td>0</td>\n",
       "      <td>0</td>\n",
       "      <td>0</td>\n",
       "      <td>0</td>\n",
       "      <td>1</td>\n",
       "      <td>0</td>\n",
       "    </tr>\n",
       "    <tr>\n",
       "      <th>3</th>\n",
       "      <td>49.0</td>\n",
       "      <td>0</td>\n",
       "      <td>0</td>\n",
       "      <td>0</td>\n",
       "      <td>1</td>\n",
       "      <td>0</td>\n",
       "      <td>1</td>\n",
       "      <td>171.23</td>\n",
       "      <td>34.40</td>\n",
       "      <td>1</td>\n",
       "      <td>1</td>\n",
       "      <td>0</td>\n",
       "      <td>0</td>\n",
       "      <td>1</td>\n",
       "      <td>0</td>\n",
       "      <td>0</td>\n",
       "      <td>0</td>\n",
       "      <td>0</td>\n",
       "      <td>0</td>\n",
       "      <td>1</td>\n",
       "    </tr>\n",
       "    <tr>\n",
       "      <th>4</th>\n",
       "      <td>79.0</td>\n",
       "      <td>1</td>\n",
       "      <td>0</td>\n",
       "      <td>0</td>\n",
       "      <td>1</td>\n",
       "      <td>1</td>\n",
       "      <td>0</td>\n",
       "      <td>174.12</td>\n",
       "      <td>24.00</td>\n",
       "      <td>1</td>\n",
       "      <td>1</td>\n",
       "      <td>0</td>\n",
       "      <td>0</td>\n",
       "      <td>0</td>\n",
       "      <td>1</td>\n",
       "      <td>0</td>\n",
       "      <td>0</td>\n",
       "      <td>0</td>\n",
       "      <td>1</td>\n",
       "      <td>0</td>\n",
       "    </tr>\n",
       "    <tr>\n",
       "      <th>...</th>\n",
       "      <td>...</td>\n",
       "      <td>...</td>\n",
       "      <td>...</td>\n",
       "      <td>...</td>\n",
       "      <td>...</td>\n",
       "      <td>...</td>\n",
       "      <td>...</td>\n",
       "      <td>...</td>\n",
       "      <td>...</td>\n",
       "      <td>...</td>\n",
       "      <td>...</td>\n",
       "      <td>...</td>\n",
       "      <td>...</td>\n",
       "      <td>...</td>\n",
       "      <td>...</td>\n",
       "      <td>...</td>\n",
       "      <td>...</td>\n",
       "      <td>...</td>\n",
       "      <td>...</td>\n",
       "      <td>...</td>\n",
       "    </tr>\n",
       "    <tr>\n",
       "      <th>5105</th>\n",
       "      <td>80.0</td>\n",
       "      <td>1</td>\n",
       "      <td>0</td>\n",
       "      <td>0</td>\n",
       "      <td>1</td>\n",
       "      <td>0</td>\n",
       "      <td>1</td>\n",
       "      <td>83.75</td>\n",
       "      <td>29.30</td>\n",
       "      <td>0</td>\n",
       "      <td>1</td>\n",
       "      <td>0</td>\n",
       "      <td>0</td>\n",
       "      <td>1</td>\n",
       "      <td>0</td>\n",
       "      <td>0</td>\n",
       "      <td>0</td>\n",
       "      <td>0</td>\n",
       "      <td>1</td>\n",
       "      <td>0</td>\n",
       "    </tr>\n",
       "    <tr>\n",
       "      <th>5106</th>\n",
       "      <td>81.0</td>\n",
       "      <td>0</td>\n",
       "      <td>0</td>\n",
       "      <td>0</td>\n",
       "      <td>1</td>\n",
       "      <td>0</td>\n",
       "      <td>1</td>\n",
       "      <td>125.20</td>\n",
       "      <td>40.00</td>\n",
       "      <td>0</td>\n",
       "      <td>1</td>\n",
       "      <td>0</td>\n",
       "      <td>0</td>\n",
       "      <td>0</td>\n",
       "      <td>1</td>\n",
       "      <td>0</td>\n",
       "      <td>0</td>\n",
       "      <td>0</td>\n",
       "      <td>1</td>\n",
       "      <td>0</td>\n",
       "    </tr>\n",
       "    <tr>\n",
       "      <th>5107</th>\n",
       "      <td>35.0</td>\n",
       "      <td>0</td>\n",
       "      <td>0</td>\n",
       "      <td>0</td>\n",
       "      <td>1</td>\n",
       "      <td>1</td>\n",
       "      <td>0</td>\n",
       "      <td>82.99</td>\n",
       "      <td>30.60</td>\n",
       "      <td>0</td>\n",
       "      <td>1</td>\n",
       "      <td>0</td>\n",
       "      <td>0</td>\n",
       "      <td>0</td>\n",
       "      <td>1</td>\n",
       "      <td>0</td>\n",
       "      <td>0</td>\n",
       "      <td>0</td>\n",
       "      <td>1</td>\n",
       "      <td>0</td>\n",
       "    </tr>\n",
       "    <tr>\n",
       "      <th>5108</th>\n",
       "      <td>51.0</td>\n",
       "      <td>0</td>\n",
       "      <td>0</td>\n",
       "      <td>0</td>\n",
       "      <td>1</td>\n",
       "      <td>1</td>\n",
       "      <td>0</td>\n",
       "      <td>166.29</td>\n",
       "      <td>25.60</td>\n",
       "      <td>0</td>\n",
       "      <td>1</td>\n",
       "      <td>0</td>\n",
       "      <td>0</td>\n",
       "      <td>1</td>\n",
       "      <td>0</td>\n",
       "      <td>0</td>\n",
       "      <td>0</td>\n",
       "      <td>1</td>\n",
       "      <td>0</td>\n",
       "      <td>0</td>\n",
       "    </tr>\n",
       "    <tr>\n",
       "      <th>5109</th>\n",
       "      <td>44.0</td>\n",
       "      <td>0</td>\n",
       "      <td>0</td>\n",
       "      <td>0</td>\n",
       "      <td>1</td>\n",
       "      <td>0</td>\n",
       "      <td>1</td>\n",
       "      <td>85.28</td>\n",
       "      <td>26.20</td>\n",
       "      <td>0</td>\n",
       "      <td>1</td>\n",
       "      <td>1</td>\n",
       "      <td>0</td>\n",
       "      <td>0</td>\n",
       "      <td>0</td>\n",
       "      <td>0</td>\n",
       "      <td>1</td>\n",
       "      <td>0</td>\n",
       "      <td>0</td>\n",
       "      <td>0</td>\n",
       "    </tr>\n",
       "  </tbody>\n",
       "</table>\n",
       "<p>5110 rows × 20 columns</p>\n",
       "</div>"
      ],
      "text/plain": [
       "       age  hypertension  heart_disease  ever_married_0  ever_married_1  \\\n",
       "0     67.0             0              1               0               1   \n",
       "1     61.0             0              0               0               1   \n",
       "2     80.0             0              1               0               1   \n",
       "3     49.0             0              0               0               1   \n",
       "4     79.0             1              0               0               1   \n",
       "...    ...           ...            ...             ...             ...   \n",
       "5105  80.0             1              0               0               1   \n",
       "5106  81.0             0              0               0               1   \n",
       "5107  35.0             0              0               0               1   \n",
       "5108  51.0             0              0               0               1   \n",
       "5109  44.0             0              0               0               1   \n",
       "\n",
       "      Residence_type_0  Residence_type_1  avg_glucose_level    bmi  stroke  \\\n",
       "0                    0                 1             228.69  36.60       1   \n",
       "1                    1                 0             202.21  34.55       1   \n",
       "2                    1                 0             105.92  32.50       1   \n",
       "3                    0                 1             171.23  34.40       1   \n",
       "4                    1                 0             174.12  24.00       1   \n",
       "...                ...               ...                ...    ...     ...   \n",
       "5105                 0                 1              83.75  29.30       0   \n",
       "5106                 0                 1             125.20  40.00       0   \n",
       "5107                 1                 0              82.99  30.60       0   \n",
       "5108                 1                 0             166.29  25.60       0   \n",
       "5109                 0                 1              85.28  26.20       0   \n",
       "\n",
       "      col_object  col_Govt_job  col_Never_worked  col_Private  \\\n",
       "0              1             0                 0            1   \n",
       "1              1             0                 0            0   \n",
       "2              1             0                 0            1   \n",
       "3              1             0                 0            1   \n",
       "4              1             0                 0            0   \n",
       "...          ...           ...               ...          ...   \n",
       "5105           1             0                 0            1   \n",
       "5106           1             0                 0            0   \n",
       "5107           1             0                 0            0   \n",
       "5108           1             0                 0            1   \n",
       "5109           1             1                 0            0   \n",
       "\n",
       "      col_Self-employed  col_children  col_Unknown  col_formerly smoked  \\\n",
       "0                     0             0            0                    1   \n",
       "1                     1             0            0                    0   \n",
       "2                     0             0            0                    0   \n",
       "3                     0             0            0                    0   \n",
       "4                     1             0            0                    0   \n",
       "...                 ...           ...          ...                  ...   \n",
       "5105                  0             0            0                    0   \n",
       "5106                  1             0            0                    0   \n",
       "5107                  1             0            0                    0   \n",
       "5108                  0             0            0                    1   \n",
       "5109                  0             0            1                    0   \n",
       "\n",
       "      col_never smoked  col_smokes  \n",
       "0                    0           0  \n",
       "1                    1           0  \n",
       "2                    1           0  \n",
       "3                    0           1  \n",
       "4                    1           0  \n",
       "...                ...         ...  \n",
       "5105                 1           0  \n",
       "5106                 1           0  \n",
       "5107                 1           0  \n",
       "5108                 0           0  \n",
       "5109                 0           0  \n",
       "\n",
       "[5110 rows x 20 columns]"
      ]
     },
     "execution_count": 70,
     "metadata": {},
     "output_type": "execute_result"
    }
   ],
   "source": [
    "dfs1"
   ]
  },
  {
   "cell_type": "markdown",
   "metadata": {},
   "source": [
    "F15: function to split dataframe into X (predictors) and y (label), apply standard scaling on X, apply the desired ML algorithm and output the results:¶\n",
    "Â - input dataframe Â - input the algo name (e.g., decisiontree) Â - input whether this is a classification task or a regression task (then you should select either decisiontreeclassifier or decisiontreeregressor within the function) Â - for classification, output confusion matrix, AUC, logloss and classification report Â - for regression, output MAE, MSE, R-squared and adjusted R-squaredÂ Â - NB: you can add more metrics if available"
   ]
  },
  {
   "cell_type": "code",
   "execution_count": 31,
   "metadata": {},
   "outputs": [],
   "source": [
    "import pandas as pd\n",
    "import numpy as np\n",
    "import matplotlib.pyplot as plt\n",
    "%matplotlib inline\n",
    "from sklearn.model_selection import train_test_split\n",
    "from sklearn.tree import DecisionTreeClassifier\n",
    "from sklearn.metrics import classification_report, confusion_matrix\n",
    "import pandas as pd\n",
    "import numpy as np\n",
    "import matplotlib.pyplot as plt\n",
    "%matplotlib inline\n",
    "from sklearn.tree import DecisionTreeRegressor\n",
    "from sklearn import metrics\n",
    "from sklearn.naive_bayes import GaussianNB  \n",
    "from sklearn.naive_bayes import GaussianNB\n",
    "from sklearn.metrics import confusion_matrix \n",
    "from matplotlib.colors import ListedColormap\n",
    "from sklearn.neighbors import KNeighborsClassifier\n",
    "from sklearn.metrics import classification_report, confusion_matrix\n",
    "from sklearn.preprocessing import MinMaxScaler\n",
    "from sklearn.preprocessing import StandardScaler"
   ]
  },
  {
   "cell_type": "code",
   "execution_count": 32,
   "metadata": {},
   "outputs": [],
   "source": [
    "def LReg(x_train, x_test, y_train, y_test):\n",
    "    print('================================================================================')\n",
    "    print('Linear Regression Model Results')\n",
    "    print('_______________________________________________________________________________')\n",
    "    #LinearRegression model\n",
    "    LR = LinearRegression(normalize=True)\n",
    "\n",
    "    #fit\n",
    "    LR.fit(x_train, y_train)\n",
    "\n",
    "    #predict\n",
    "    y_predict = LR.predict(x_test)\n",
    "\n",
    "    #score variables\n",
    "    LR_MAE = round(MAE(y_test, y_predict),2)\n",
    "    LR_MSE = round(MSE(y_test, y_predict),2)\n",
    "    LR_R_2 = round(R2(y_test, y_predict),4)\n",
    "    LR_CS  = round(CVS(LR, x, y, cv=5).mean(),4)\n",
    "\n",
    "    print(f\" Mean Absolute Error: {LR_MAE}\\n\")\n",
    "    print(f\" Mean Squared Error: {LR_MSE}\\n\")\n",
    "    print(f\" R^2 Score: {LR_R_2}\\n\")\n",
    "    cross_val(LR,LinearRegression(),x,y,5)\n",
    "    Linear_Regression=pd.DataFrame({'y_test':y_test,'prediction':y_predict})\n",
    "    Linear_Regression\n",
    "    print('================================================================================')\n",
    "\n",
    "\n",
    "def LASOO(x_train, x_test, y_train, y_test):\n",
    "    #model\n",
    "    print('================================================================================')\n",
    "    print('Lasso Regression Model Results')\n",
    "    print('_______________________________________________________________________________')\n",
    "    LS = Lasso(alpha = 0.9)\n",
    "    #fit\n",
    "    LS.fit(x_train,y_train)\n",
    "\n",
    "    #predict\n",
    "    y_predict = LS.predict(x_test)\n",
    "\n",
    "    #score variables\n",
    "    LS_MAE = round(MAE(y_test, y_predict),2)\n",
    "    LS_MSE = round(MSE(y_test, y_predict),2)\n",
    "    LS_R_2 = round(R2(y_test, y_predict),4)\n",
    "    LS_CS  = round(CVS(LS, x, y, cv=5).mean(),4)\n",
    "\n",
    "    print(f\" Mean Absolute Error: {LS_MAE}\\n\")\n",
    "    print(f\" Mean Squared Error: {LS_MSE}\\n\")\n",
    "    print(f\" R^2 Score: {LS_R_2}\\n\")\n",
    "    cross_val(LS,Lasso(alpha = 0.05),x,y,5)\n",
    "    Lasso_Regressor=pd.DataFrame({'y_test':y_test,'prediction':y_predict})\n",
    "    Lasso_Regressor \n",
    "    print('================================================================================')\n",
    "\n",
    "    \n",
    "    \n",
    "#Decision Tree for Regression    \n",
    "    \n",
    "\n",
    "\n",
    "def DTReg(x_train, x_test, y_train, y_test):\n",
    "    #model\n",
    "    print('================================================================================')\n",
    "    print('Decision Tree Model Results for Regression Problem')\n",
    "    print('_______________________________________________________________________________')\n",
    "    \n",
    "    #from sklearn.tree import DecisionTreeRegressor\n",
    "    #from sklearn import metrics\n",
    "    regressor = DecisionTreeRegressor()\n",
    "    regressor.fit(x_train, y_train)\n",
    "    y_pred = regressor.predict(x_test)\n",
    "\n",
    "    df=pd.DataFrame({'Actual':y_test, 'Predicted':y_pred})\n",
    "    df\n",
    "    #from sklearn import metrics\n",
    "    print('Mean Absolute Error:', metrics.mean_absolute_error(y_test, y_pred))\n",
    "    print('Mean Squared Error:', metrics.mean_squared_error(y_test, y_pred))\n",
    "    print('Root Mean Squared Error:', np.sqrt(metrics.mean_squared_error(y_test, y_pred)))\n",
    "    dt_Regressor=pd.DataFrame({'y_test':y_test,'prediction':y_pred})\n",
    "    dt_Regressor \n",
    "    print('================================================================================')\n",
    "\n",
    "\n",
    "#KNN for Regression    \n",
    "def KNNReg(x_train, x_test, y_train, y_test):\n",
    "    #model\n",
    "    print('================================================================================')\n",
    "    print('KNN Model Results for Regression Problem')\n",
    "    print('_______________________________________________________________________________')  \n",
    "        \n",
    "    #from sklearn.neighbors import KNeighborsClassifier\n",
    "    knn_reg = KNeighborsRegressor(n_neighbors=5)\n",
    "    knn_reg.fit(x_train, y_train)\n",
    "    y_pred = knn_reg.predict(x_test)\n",
    "    \n",
    "    \n",
    "    df=pd.DataFrame({'Actual':y_test, 'Predicted':y_pred})\n",
    "    #df\n",
    "    #from sklearn import metrics\n",
    "    print('Mean Absolute Error:', metrics.mean_absolute_error(y_test, y_pred))\n",
    "    print('Mean Squared Error:', metrics.mean_squared_error(y_test, y_pred))\n",
    "    print('Root Mean Squared Error:', np.sqrt(metrics.mean_squared_error(y_test, y_pred)))\n",
    "    knn_Regressor=pd.DataFrame({'y_test':y_test,'prediction':y_pred})\n",
    "    knn_Regressor \n",
    "    print('================================================================================')\n",
    "\n",
    "    \n",
    "    error = []\n",
    "\n",
    "# Calculating error for K values between 1 and 40\n",
    "    for i in range(1, 40):\n",
    "        knn = KNeighborsRegressor(n_neighbors=i)\n",
    "        knn.fit(x_train, y_train)\n",
    "        pred_i = knn.predict(x_test)\n",
    "        error.append(np.mean(pred_i != y_test))\n",
    "    \n",
    "    plt.figure(figsize=(12, 6))\n",
    "    plt.plot(range(1, 40), error, color='red', linestyle='dashed', marker='o',\n",
    "         markerfacecolor='blue', markersize=10)\n",
    "    plt.title('Error Rate K Value')\n",
    "    plt.xlabel('K Value')\n",
    "    plt.ylabel('Mean Error')\n",
    "    print('================================================================================')\n",
    "\n",
    "    \n",
    "    \n",
    "    \n",
    "    \n",
    "    \n",
    "    \n",
    "    \n",
    "    \n",
    "    \n",
    "    \n",
    "    \n",
    "    \n",
    "    \n",
    "#Classification Functions\n",
    "\n",
    "#Decision Tree for Classification\n",
    "#from sklearn.tree import DecisionTreeClassifier\n",
    "#from sklearn.metrics import classification_report, confusion_matrix\n",
    "def DTClassification(x_train, x_test, y_train, y_test):\n",
    "    #model\n",
    "    print('================================================================================')\n",
    "    print('Decision Tree Model Results for Classification Problem')\n",
    "    print('_______________________________________________________________________________')\n",
    "    classifier = DecisionTreeClassifier()\n",
    "    classifier.fit(x_train, y_train)\n",
    "    y_pred = classifier.predict(x_test)\n",
    "#from sklearn.metrics import classification_report, confusion_matrix\n",
    "    print(confusion_matrix(y_test, y_pred))\n",
    "    print(classification_report(y_test, y_pred))\n",
    "    \n",
    "\n",
    "\n",
    "\n",
    "#Building Naive Bayes for Classification\n",
    "def NBClassification(x_train, x_test, y_train, y_test):\n",
    "    #model\n",
    "    print('================================================================================')\n",
    "    print('Naive Bayes Model Results for Classification Problem')\n",
    "    print('_______________________________________________________________________________')  \n",
    "    \n",
    "    # Fitting Naive Bayes to the Training set  \n",
    "#from sklearn.naive_bayes import GaussianNB  \n",
    "    classifier = GaussianNB()  \n",
    "    classifier.fit(x_train, y_train)  \n",
    "# Predicting the Test set results  \n",
    "    y_pred = classifier.predict(x_test) \n",
    "# Making the Confusion Matrix  \n",
    "#from sklearn.metrics import confusion_matrix  \n",
    "    cm = confusion_matrix(y_test, y_pred)  \n",
    "    print(confusion_matrix(y_test, y_pred))\n",
    "    #print(classification_report(y_test, y_pred))\n",
    "    print(y_test, y_pred)\n",
    "    print('================================================================================')\n",
    "\n",
    "#KNN for Classification    \n",
    "def KNNClassification(x_train, x_test, y_train, y_test):\n",
    "    #model\n",
    "    print('================================================================================')\n",
    "    print('KNN Model Results for Classification Problem')\n",
    "    print('_______________________________________________________________________________')  \n",
    "        \n",
    "    #from sklearn.neighbors import KNeighborsClassifier\n",
    "    classifier = KNeighborsClassifier(n_neighbors=5)\n",
    "    classifier.fit(x_train, y_train)\n",
    "    \n",
    "    y_pred = classifier.predict(x_test)\n",
    "    #from sklearn.metrics import classification_report, confusion_matrix\n",
    "    print(confusion_matrix(y_test, y_pred))\n",
    "    print(classification_report(y_test, y_pred))\n",
    "    \n",
    "    error = []\n",
    "\n",
    "# Calculating error for K values between 1 and 40\n",
    "    for i in range(1, 40):\n",
    "        knn = KNeighborsClassifier(n_neighbors=i)\n",
    "        knn.fit(x_train, y_train)\n",
    "        pred_i = knn.predict(x_test)\n",
    "        error.append(np.mean(pred_i != y_test))\n",
    "    \n",
    "    plt.figure(figsize=(12, 6))\n",
    "    plt.plot(range(1, 40), error, color='red', linestyle='dashed', marker='o',\n",
    "         markerfacecolor='blue', markersize=10)\n",
    "    plt.title('Error Rate K Value')\n",
    "    plt.xlabel('K Value')\n",
    "    plt.ylabel('Mean Error')\n",
    "    print('================================================================================')\n",
    "\n",
    "    \n",
    "    \n",
    "    \n",
    "    "
   ]
  },
  {
   "cell_type": "code",
   "execution_count": 51,
   "metadata": {},
   "outputs": [
    {
     "name": "stdout",
     "output_type": "stream",
     "text": [
      "The Label Variable:stroke\n"
     ]
    }
   ],
   "source": [
    "data=dfs1\n",
    "dep_var=input(\"The Label Variable:\")\n",
    "data_final_vars=data.columns.values.tolist()\n",
    "y=dep_var\n",
    "X=[i for i in data_final_vars if i not in y]"
   ]
  },
  {
   "cell_type": "code",
   "execution_count": 53,
   "metadata": {},
   "outputs": [
    {
     "data": {
      "text/plain": [
       "'stroke'"
      ]
     },
     "execution_count": 53,
     "metadata": {},
     "output_type": "execute_result"
    }
   ],
   "source": [
    "y"
   ]
  },
  {
   "cell_type": "code",
   "execution_count": null,
   "metadata": {},
   "outputs": [],
   "source": []
  },
  {
   "cell_type": "code",
   "execution_count": 78,
   "metadata": {},
   "outputs": [],
   "source": [
    "def ML_alg(data):\n",
    "    \n",
    "    print(\"Choose among KNN, DecisionTree, etc\")\n",
    "    alg=input(\"Enter Algorithm Name:\")\n",
    "    print(\"Choose C for Classification and R for Regression Problem\")\n",
    "    option=input(\"Is it Classification Probelem or Regression Task:\")\n",
    "    print(\"Choose The Label\")\n",
    "    dep_var=input(\"The Label Variable:\")\n",
    "    print('Choose Scaling Method i.e. MinMaxScaler, StandardScaler ')\n",
    "    transform=input(\"Enter the Scaling Method:\")\n",
    "    #Label and Predictors\n",
    "    data_final_vars=data.columns.values.tolist()\n",
    "    y1=dep_var\n",
    "    X1=[i for i in data_final_vars if i not in y1]\n",
    "    \n",
    "    y=data[y1]\n",
    "    X=data[X1]\n",
    "    #X = data.iloc[:, :-1].values\n",
    "    #y = data.iloc[:, 12].values\n",
    "    \n",
    "    if transform=='MinMaxScaler':\n",
    "        scaler = MinMaxScaler()\n",
    "        # transform data\n",
    "        X = scaler.fit_transform(X)\n",
    "    if transform=='StandardScaler':\n",
    "        scaler = StandardScaler()\n",
    "        # transform data\n",
    "        X = scaler.fit_transform(X)\n",
    "    \n",
    "    x_train, x_test, y_train, y_test = train_test_split(X, y, test_size = 0.25, random_state = 0)   \n",
    "        \n",
    "    \n",
    "    if option=='C':\n",
    "        if alg=='KNN':\n",
    "            #KNN Classification Algrotham\n",
    "            KNNClassification(x_train, x_test, y_train, y_test)\n",
    "        elif alg=='DecisionTree':\n",
    "            #Decision tree function for classification\n",
    "            DTClassification(x_train, x_test, y_train, y_test)\n",
    "        elif alg=='NaiveBayes':\n",
    "            #NaiveBayes function for NaiveBayes\n",
    "            NBClassification(x_train, x_test, y_train, y_test)\n",
    "        elif alg=='LogisticReg':\n",
    "            #Logistic Regression for Classification\n",
    "            print('not ready now')\n",
    "    elif option=='R':\n",
    "        if alg=='KNN':\n",
    "            #KNN Regrssion Algrotham\n",
    "            KNNReg(x_train, x_test, y_train, y_test)\n",
    "        elif alg=='DecisionTree':\n",
    "            #Decision tree function for Regression\n",
    "            DTReg(x_train, x_test, y_train, y_test)\n",
    "        elif alg=='OLS':\n",
    "            #OLS function for Regression\n",
    "            LReg(x_train, x_test, y_train, y_test)\n",
    "        elif alg=='Lasso':\n",
    "            #Lasso function for Regression\n",
    "            LASOO(x_train, x_test, y_train, y_test)\n",
    "        elif alg=='NaiveBayes':\n",
    "            print('Naive Bayse is only for Classification Problems')\n",
    "        elif alg=='LogisticReg':\n",
    "            print('Logistic Function is only for Classification Problems')\n",
    "            "
   ]
  },
  {
   "cell_type": "code",
   "execution_count": 79,
   "metadata": {},
   "outputs": [
    {
     "name": "stdout",
     "output_type": "stream",
     "text": [
      "Choose among KNN, DecisionTree, etc\n",
      "Enter Algorithm Name:KNN\n",
      "Choose C for Classification and R for Regression Problem\n",
      "Is it Classification Probelem or Regression Task:C\n",
      "Choose The Label\n",
      "The Label Variable:stroke\n",
      "Choose Scaling Method i.e. MinMaxScaler, StandardScaler \n",
      "Enter the Scaling Method:MinMaxScaler\n",
      "================================================================================\n",
      "KNN Model Results for Classification Problem\n",
      "_______________________________________________________________________________\n",
      "[[1205    8]\n",
      " [  63    2]]\n",
      "              precision    recall  f1-score   support\n",
      "\n",
      "           0       0.95      0.99      0.97      1213\n",
      "           1       0.20      0.03      0.05        65\n",
      "\n",
      "    accuracy                           0.94      1278\n",
      "   macro avg       0.58      0.51      0.51      1278\n",
      "weighted avg       0.91      0.94      0.92      1278\n",
      "\n",
      "================================================================================\n"
     ]
    },
    {
     "data": {
      "image/png": "[encoded data removed]",
      "text/plain": [
       "<Figure size 864x432 with 1 Axes>"
      ]
     },
     "metadata": {
      "needs_background": "light"
     },
     "output_type": "display_data"
    }
   ],
   "source": [
    "ML_alg(dfs1)"
   ]
  }
 ],
 "metadata": {
  "kernelspec": {
   "display_name": "Python 3",
   "language": "python",
   "name": "python3"
  },
  "language_info": {
   "codemirror_mode": {
    "name": "ipython",
    "version": 3
   },
   "file_extension": ".py",
   "mimetype": "text/x-python",
   "name": "python",
   "nbconvert_exporter": "python",
   "pygments_lexer": "ipython3",
   "version": "3.8.3"
  }
 },
 "nbformat": 4,
 "nbformat_minor": 4
}
