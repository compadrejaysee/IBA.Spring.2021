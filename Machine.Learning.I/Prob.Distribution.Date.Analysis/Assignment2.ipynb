{
 "cells": [
  {
   "cell_type": "markdown",
   "metadata": {},
   "source": [
    "# Part 1"
   ]
  },
  {
   "cell_type": "markdown",
   "metadata": {},
   "source": [
    "Consider the following corporate sectors:\n",
    "    \n",
    "Telecommunications, Banking, Retail/Supply Chain, Healthcare, Insurance.\n",
    "\n",
    "For each domain, determine one or more random variables which follow the Binomial, Poisson, and Exponential distribution (determine one RV for each distribution). Briefly explain why your RV follows the given distribution.\n"
   ]
  },
  {
   "cell_type": "markdown",
   "metadata": {},
   "source": [
    "##    1) Poisson Distribution:\n",
    "The Poisson distribution is used to model the number of events occurring within a given time interval.<br>\n",
    "The formula for the Poisson probability mass function is \n",
    "p(x:λ) = (λ^x.e^-λ) / x!   for x = 0,1,2,3,..... <br>\n",
    "λ is the parameter which gives the average number of event\n",
    "\n",
    "#### Telecom Sector:\n",
    "Telecommunication sector uses possion distribution to calculate the probability density function number of telephone calls made per unit time in a particlar area more specifically in cells in cellular communication to plan for bandwidth requirement and tower installation. \n",
    "\n",
    "#### Retail/Supply Chain:\n",
    "Use the Poisson formula to evaluate whether it is financially viable to keep a store open 24 hours a day. Calculate the average number of sales made by the store during the overnight shift. Using the distribution formula then, calculate the probable lowest number of sales that might be made during the overnight shift. Finally, determine whether that lowest probable sales figure represents sufficient revenue to cover all the costs (wages and salaries, electricity, etc.) of keeping the store open during that time period, while also providing a reasonable profit.\n",
    "\n",
    "#### Banking Sector:\n",
    "Possion distribution may be used in banking sector to calculate the probability density function for the number of bankruptcies that filed in a month. Then finding the probable maximum bankruptcies based on this keeping sufficient buffer and selecting their customers\n",
    "Or the number of services completed per unit time at a bank counter or any other service facility.\n",
    "\n",
    "#### Insurance Sector:\n",
    "Determine the average number of claims that occur each year and that are covered by the company’s insurance. Then do a Poisson probability calculation to determine the maximum and minimum numbers of claims that might reasonably be filed during any one year.\n",
    "Review the cost of your insurance premium and the coverage it provides. Consider whether perhaps your premium amount is sufficient enough,for paying the maximum probable coverage amount.\n",
    "\n",
    "#### Health Care:\n",
    "In health care sector poisson distribution can be used for efficient planing of doctors availability based on the ffollowing random variable.<br> \n",
    "    The number of patient arrivals in a given hour at a walk-in clinic. <br>\n",
    "    The number of beds occupied in a large hospital.\n",
    "\n"
   ]
  },
  {
   "cell_type": "markdown",
   "metadata": {},
   "source": [
    "## 2) Binomial Distribution:\n",
    "A binomial distribution can be thought of as simply the probability of a SUCCESS or FAILURE outcome in an experiment or survey that is repeated multiple times. The binomial is a type of distribution that has two possible outcomes (the prefix “bi” means two, or twice). For example, a coin toss has only two possible outcomes: heads or tails and taking a test could have two possible outcomes: pass or fail.<br>\n",
    "\n",
    "##### Examples\n",
    "\n",
    "1) In manufaturing and supply chain binomial distribution can be used to draw robability distribution of random varible following binomial distribution to estimate the used and unused raw material.\n",
    "    \n",
    "2) In helthcare random variable following binomial distribution can be used, suppose that 80% of adults with allergies report symptomatic relief with a specific medication. If the medication is given to 10 new patients with allergies, what is the probability that it is effective in exactly seven can be  modeled  using binomial distribution.\n",
    "    \n",
    "3) Calculating the probability distribution of the TRP of a channel show by taking survey from the household whether they watched the show or not, can be modelled using binomial distribution.\n",
    "    \n",
    "\n",
    "\n"
   ]
  },
  {
   "cell_type": "markdown",
   "metadata": {},
   "source": [
    "## 3)Exponential Distribution:\n",
    "The exponential distribution is often concerned with the amount of time until some specific event occurs. The probability density function (pdf) of an exponential distribution f(x:λ) is \n",
    "\n",
    " \\begin{cases}\\lambda e^{-\\lambda x}&x\\geq 0,\\\\0&x<0.\\end{cases}\n",
    "Here λ > 0 is the parameter of the distribution, often called the rate parameter. The distribution is supported on the interval (0, ∞). If a random variable X has this distribution, we write X ~ Exp(λ).\n",
    "\n",
    "##### Examples\n",
    "\n",
    "1) Exponential distribution may be used to find the duration in minutes, that how long duration telephone calls are made, based on distance. As the distance increases duration o call decreases. On the bases of this analysis telco may set the price of calls.\n",
    "\n",
    "2) Exponential distribution may be used to find the probability distribution of amount of money customers spend in one trip to the supermarket. There are more people who spend small amounts of money and fewer people who spend large amounts of money followinfg exponential distribution.\n"
   ]
  },
  {
   "cell_type": "markdown",
   "metadata": {},
   "source": [
    "# Part 2:"
   ]
  },
  {
   "cell_type": "markdown",
   "metadata": {},
   "source": [
    "In the datetime analysis file (uploaded on drive), try to find out the reason as to why there is an average 10 hour time between giving of orders and approving them. You need to create your own notebook and execute your own method of analysis with explanations."
   ]
  },
  {
   "cell_type": "code",
   "execution_count": 2,
   "metadata": {},
   "outputs": [],
   "source": [
    "# Code\n",
    "# Libraries\n",
    "import pandas as pd\n",
    "import numpy as np\n",
    "from matplotlib import pyplot as plt"
   ]
  },
  {
   "cell_type": "code",
   "execution_count": 3,
   "metadata": {},
   "outputs": [
    {
     "data": {
      "text/plain": [
       "order_time      datetime64[ns]\n",
       "approve_time    datetime64[ns]\n",
       "dtype: object"
      ]
     },
     "execution_count": 3,
     "metadata": {},
     "output_type": "execute_result"
    }
   ],
   "source": [
    "# Reading CSV file \"Must be in working directory\"\n",
    "orderdf = pd.read_csv(\"Orders.Data.csv\")\n",
    "# Trimming Dataframe to only required columns \n",
    "orderdf_trim = orderdf[['order_purchase_timestamp','order_approved_at']]\n",
    "# Renaming Column for easy understanding\n",
    "orderdf_trim = orderdf_trim.rename(columns = {'order_purchase_timestamp':'order_time','order_approved_at':'approve_time'})\n",
    "# Changing Data types to Datetime for further analysis\n",
    "orderdf_trim['order_time']   = pd.to_datetime(orderdf_trim['order_time'])\n",
    "orderdf_trim['approve_time'] = pd.to_datetime(orderdf_trim['approve_time'])\n",
    "\n",
    "orderdf_trim.dtypes\n",
    "\n"
   ]
  },
  {
   "cell_type": "code",
   "execution_count": 4,
   "metadata": {},
   "outputs": [
    {
     "data": {
      "text/html": [
       "<div>\n",
       "<style scoped>\n",
       "    .dataframe tbody tr th:only-of-type {\n",
       "        vertical-align: middle;\n",
       "    }\n",
       "\n",
       "    .dataframe tbody tr th {\n",
       "        vertical-align: top;\n",
       "    }\n",
       "\n",
       "    .dataframe thead th {\n",
       "        text-align: right;\n",
       "    }\n",
       "</style>\n",
       "<table border=\"1\" class=\"dataframe\">\n",
       "  <thead>\n",
       "    <tr style=\"text-align: right;\">\n",
       "      <th></th>\n",
       "      <th>order_time</th>\n",
       "      <th>approve_time</th>\n",
       "    </tr>\n",
       "  </thead>\n",
       "  <tbody>\n",
       "    <tr>\n",
       "      <th>0</th>\n",
       "      <td>2017-10-02 10:56:33</td>\n",
       "      <td>2017-10-02 11:07:15</td>\n",
       "    </tr>\n",
       "    <tr>\n",
       "      <th>1</th>\n",
       "      <td>2018-07-24 20:41:37</td>\n",
       "      <td>2018-07-26 03:24:27</td>\n",
       "    </tr>\n",
       "    <tr>\n",
       "      <th>2</th>\n",
       "      <td>2018-08-08 08:38:49</td>\n",
       "      <td>2018-08-08 08:55:23</td>\n",
       "    </tr>\n",
       "    <tr>\n",
       "      <th>3</th>\n",
       "      <td>2017-11-18 19:28:06</td>\n",
       "      <td>2017-11-18 19:45:59</td>\n",
       "    </tr>\n",
       "    <tr>\n",
       "      <th>4</th>\n",
       "      <td>2018-02-13 21:18:39</td>\n",
       "      <td>2018-02-13 22:20:29</td>\n",
       "    </tr>\n",
       "  </tbody>\n",
       "</table>\n",
       "</div>"
      ],
      "text/plain": [
       "           order_time        approve_time\n",
       "0 2017-10-02 10:56:33 2017-10-02 11:07:15\n",
       "1 2018-07-24 20:41:37 2018-07-26 03:24:27\n",
       "2 2018-08-08 08:38:49 2018-08-08 08:55:23\n",
       "3 2017-11-18 19:28:06 2017-11-18 19:45:59\n",
       "4 2018-02-13 21:18:39 2018-02-13 22:20:29"
      ]
     },
     "execution_count": 4,
     "metadata": {},
     "output_type": "execute_result"
    }
   ],
   "source": [
    "# Data Look like\n",
    "orderdf_trim.head(5)"
   ]
  },
  {
   "cell_type": "code",
   "execution_count": 5,
   "metadata": {},
   "outputs": [
    {
     "data": {
      "text/plain": [
       "0   0 days 00:10:42\n",
       "1   1 days 06:42:50\n",
       "2   0 days 00:16:34\n",
       "3   0 days 00:17:53\n",
       "4   0 days 01:01:50\n",
       "dtype: timedelta64[ns]"
      ]
     },
     "execution_count": 5,
     "metadata": {},
     "output_type": "execute_result"
    }
   ],
   "source": [
    "# Taking difference between Order Place and Approval\n",
    "delay_order_approve = orderdf_trim['approve_time'] - orderdf_trim['order_time']\n",
    "delay_order_approve.head(5)"
   ]
  },
  {
   "cell_type": "code",
   "execution_count": 6,
   "metadata": {},
   "outputs": [
    {
     "name": "stdout",
     "output_type": "stream",
     "text": [
      "Mean:  10.419094301919714\n",
      "Median:  0.3433333333333333\n"
     ]
    }
   ],
   "source": [
    "# Converting Date time difference into hours\n",
    "delay_order_approve = delay_order_approve.apply(lambda x: (x.total_seconds())/3600)\n",
    "# Mean Delay between order and approval\n",
    "print(\"Mean: \",delay_order_approve.mean())\n",
    "print(\"Median: \",delay_order_approve.median())"
   ]
  },
  {
   "cell_type": "code",
   "execution_count": 7,
   "metadata": {},
   "outputs": [
    {
     "data": {
      "text/html": [
       "<div>\n",
       "<style scoped>\n",
       "    .dataframe tbody tr th:only-of-type {\n",
       "        vertical-align: middle;\n",
       "    }\n",
       "\n",
       "    .dataframe tbody tr th {\n",
       "        vertical-align: top;\n",
       "    }\n",
       "\n",
       "    .dataframe thead th {\n",
       "        text-align: right;\n",
       "    }\n",
       "</style>\n",
       "<table border=\"1\" class=\"dataframe\">\n",
       "  <thead>\n",
       "    <tr style=\"text-align: right;\">\n",
       "      <th></th>\n",
       "      <th>order_time</th>\n",
       "      <th>approve_time</th>\n",
       "      <th>delay</th>\n",
       "    </tr>\n",
       "  </thead>\n",
       "  <tbody>\n",
       "    <tr>\n",
       "      <th>0</th>\n",
       "      <td>2017-10-02 10:56:33</td>\n",
       "      <td>2017-10-02 11:07:15</td>\n",
       "      <td>0.178333</td>\n",
       "    </tr>\n",
       "    <tr>\n",
       "      <th>1</th>\n",
       "      <td>2018-07-24 20:41:37</td>\n",
       "      <td>2018-07-26 03:24:27</td>\n",
       "      <td>30.713889</td>\n",
       "    </tr>\n",
       "    <tr>\n",
       "      <th>2</th>\n",
       "      <td>2018-08-08 08:38:49</td>\n",
       "      <td>2018-08-08 08:55:23</td>\n",
       "      <td>0.276111</td>\n",
       "    </tr>\n",
       "    <tr>\n",
       "      <th>3</th>\n",
       "      <td>2017-11-18 19:28:06</td>\n",
       "      <td>2017-11-18 19:45:59</td>\n",
       "      <td>0.298056</td>\n",
       "    </tr>\n",
       "    <tr>\n",
       "      <th>4</th>\n",
       "      <td>2018-02-13 21:18:39</td>\n",
       "      <td>2018-02-13 22:20:29</td>\n",
       "      <td>1.030556</td>\n",
       "    </tr>\n",
       "  </tbody>\n",
       "</table>\n",
       "</div>"
      ],
      "text/plain": [
       "           order_time        approve_time      delay\n",
       "0 2017-10-02 10:56:33 2017-10-02 11:07:15   0.178333\n",
       "1 2018-07-24 20:41:37 2018-07-26 03:24:27  30.713889\n",
       "2 2018-08-08 08:38:49 2018-08-08 08:55:23   0.276111\n",
       "3 2017-11-18 19:28:06 2017-11-18 19:45:59   0.298056\n",
       "4 2018-02-13 21:18:39 2018-02-13 22:20:29   1.030556"
      ]
     },
     "execution_count": 7,
     "metadata": {},
     "output_type": "execute_result"
    }
   ],
   "source": [
    "# Inserting this series our data frame\n",
    "orderdf_trim.insert(2, \"delay\", delay_order_approve, True) \n",
    "orderdf_trim.head(5)"
   ]
  },
  {
   "cell_type": "code",
   "execution_count": 8,
   "metadata": {},
   "outputs": [
    {
     "data": {
      "text/plain": [
       "<matplotlib.axes._subplots.AxesSubplot at 0x2419d2c39e8>"
      ]
     },
     "execution_count": 8,
     "metadata": {},
     "output_type": "execute_result"
    },
    {
     "data": {
      "image/png": "[encoded data removed]",
      "text/plain": [
       "<Figure size 432x288 with 1 Axes>"
      ]
     },
     "metadata": {
      "needs_background": "light"
     },
     "output_type": "display_data"
    }
   ],
   "source": [
    "# Ploting histogram\n",
    "orderdf_trim['delay'].hist()"
   ]
  },
  {
   "cell_type": "code",
   "execution_count": 9,
   "metadata": {},
   "outputs": [
    {
     "name": "stdout",
     "output_type": "stream",
     "text": [
      "Around  82.32117537032009 % of orders got approve within a day.\n",
      "Around  94.64406029706058 % of orders got approve two days(delay may be due to weekend or public holiday).\n"
     ]
    }
   ],
   "source": [
    "print(\"Around \",(((orderdf_trim['delay'].where(orderdf_trim['delay']<24).count())/99441)*100), \"% of orders got approve within a day.\")\n",
    "print(\"Around \",(((orderdf_trim['delay'].where(orderdf_trim['delay']<48).count())/99441)*100), \"% of orders got approve two days(delay may be due to weekend or public holiday).\")"
   ]
  },
  {
   "cell_type": "code",
   "execution_count": 10,
   "metadata": {},
   "outputs": [
    {
     "data": {
      "text/plain": [
       "<matplotlib.axes._subplots.AxesSubplot at 0x2419f370908>"
      ]
     },
     "execution_count": 10,
     "metadata": {},
     "output_type": "execute_result"
    },
    {
     "data": {
      "image/png": "[encoded data removed]",
      "text/plain": [
       "<Figure size 432x288 with 1 Axes>"
      ]
     },
     "metadata": {
      "needs_background": "light"
     },
     "output_type": "display_data"
    }
   ],
   "source": [
    "# There are outliers in our data( That a very few orders got very long time for approval)\n",
    "# ALso we can see in above calculation tha around 95% of order got approval within 48 hours\n",
    "# So Ploting histogram of order got approved within 48 hours\n",
    "orderdf_trim['delay'].where(orderdf_trim['delay']<48).hist()"
   ]
  },
  {
   "cell_type": "code",
   "execution_count": 11,
   "metadata": {},
   "outputs": [
    {
     "name": "stdout",
     "output_type": "stream",
     "text": [
      "63.78053318047888 % of orders got approve within an hour.\n"
     ]
    },
    {
     "data": {
      "text/plain": [
       "<matplotlib.axes._subplots.AxesSubplot at 0x2419d620b70>"
      ]
     },
     "execution_count": 11,
     "metadata": {},
     "output_type": "execute_result"
    },
    {
     "data": {
      "image/png": "[encoded data removed]",
      "text/plain": [
       "<Figure size 432x288 with 1 Axes>"
      ]
     },
     "metadata": {
      "needs_background": "light"
     },
     "output_type": "display_data"
    }
   ],
   "source": [
    "# In above histogram we can see a peak at start means most of the order got approval in short time\n",
    "print((((orderdf_trim['delay'].where(orderdf_trim['delay']<1).count())/99441)*100), \"% of orders got approve within an hour.\")\n",
    "# Histogram of values in an hour\n",
    "orderdf_trim['delay'].where(orderdf_trim['delay']<1).hist()"
   ]
  },
  {
   "cell_type": "code",
   "execution_count": 12,
   "metadata": {},
   "outputs": [
    {
     "data": {
      "text/plain": [
       "<matplotlib.axes._subplots.AxesSubplot at 0x2419d6974a8>"
      ]
     },
     "execution_count": 12,
     "metadata": {},
     "output_type": "execute_result"
    },
    {
     "data": {
      "image/png": "[encoded data removed]",
      "text/plain": [
       "<Figure size 432x288 with 1 Axes>"
      ]
     },
     "metadata": {
      "needs_background": "light"
     },
     "output_type": "display_data"
    }
   ],
   "source": [
    "# Ploting Box blot\n",
    "orderdf_trim.boxplot(column='delay', sym='o', return_type='axes')"
   ]
  },
  {
   "cell_type": "code",
   "execution_count": 13,
   "metadata": {},
   "outputs": [
    {
     "data": {
      "text/plain": [
       "<matplotlib.axes._subplots.AxesSubplot at 0x2419d77a9b0>"
      ]
     },
     "execution_count": 13,
     "metadata": {},
     "output_type": "execute_result"
    },
    {
     "data": {
      "image/png": "[encoded data removed]",
      "text/plain": [
       "<Figure size 432x288 with 1 Axes>"
      ]
     },
     "metadata": {
      "needs_background": "light"
     },
     "output_type": "display_data"
    }
   ],
   "source": [
    "# Ploting box plot by removing extreme value\n",
    "delay_box = orderdf_trim[orderdf_trim['delay']<48]\n",
    "delay_box.boxplot(column='delay', sym='o', return_type='axes')"
   ]
  },
  {
   "cell_type": "code",
   "execution_count": 14,
   "metadata": {},
   "outputs": [
    {
     "data": {
      "text/plain": [
       "<matplotlib.axes._subplots.AxesSubplot at 0x2419d7bf048>"
      ]
     },
     "execution_count": 14,
     "metadata": {},
     "output_type": "execute_result"
    },
    {
     "data": {
      "image/png": "[encoded data removed]",
      "text/plain": [
       "<Figure size 432x288 with 1 Axes>"
      ]
     },
     "metadata": {
      "needs_background": "light"
     },
     "output_type": "display_data"
    }
   ],
   "source": [
    "# Still we can see that there are some values outside maximum in box plot.\n",
    "delay_box = orderdf_trim[orderdf_trim['delay']<1]\n",
    "delay_box.boxplot(column='delay', sym='o', return_type='axes')"
   ]
  },
  {
   "cell_type": "markdown",
   "metadata": {},
   "source": [
    "## Explanation of Above Analysis\n",
    "\n",
    "First we get the difference in order time and approval time, then convert this time in hours.<br>\n",
    "The mean of the data is around 10 hour whereas **median is 0.343 hour**, showing that data have outliers on higher side. This point is also visible in histogram as well as in box plot.<br>\n",
    "Around 64 % of ordered are approved within an hour.<br>\n",
    "Around 82 % of orders got approve within a day.<br>\n",
    "Around 94 % of orders got approve within two days(delay may be due to weekend or public holiday).\n"
   ]
  },
  {
   "cell_type": "code",
   "execution_count": null,
   "metadata": {},
   "outputs": [],
   "source": []
  }
 ],
 "metadata": {
  "kernelspec": {
   "display_name": "Python 3",
   "language": "python",
   "name": "python3"
  },
  "language_info": {
   "codemirror_mode": {
    "name": "ipython",
    "version": 3
   },
   "file_extension": ".py",
   "mimetype": "text/x-python",
   "name": "python",
   "nbconvert_exporter": "python",
   "pygments_lexer": "ipython3",
   "version": "3.7.1"
  }
 },
 "nbformat": 4,
 "nbformat_minor": 2
}
