{
 "cells": [
  {
   "cell_type": "markdown",
   "metadata": {},
   "source": [
    "### Part 1\n",
    "\n",
    "Telecommunications:\n",
    "1. Binomial -The occurence of network error or fault happening given a call taking place in an area with less network      coverage i.e probabbility of a call facing no interruption due to network faults.\n",
    "    \n",
    "2. Poisson -The number of customers churning out over the period of time. Poisson distribution can be used to monitor   the number of people churning out of the telecommunication service and take action according if the average                     rate increases over time they may take some action to investigate.\n",
    "                 \n",
    "3. Exponential - The impact of a certain marketing activity on the company's profit over a specified period of time\n",
    "in te first few months it would be more but the impact in terms of monetery return would reduce\n",
    "\n",
    "Banking: \n",
    "1. Binomial -  In a given group of people probability of a person being credit worthy or not\n",
    "    \n",
    "2. Poisson -  The probability of a new customer being a potential investor given the persona of an investor\n",
    "    \n",
    "Retail/Supply Chain:\n",
    "\n",
    "Exponential - The area on which the marketing activity is impactful is that as you move away from the source area of the         marketing activity the impact of that activity on the ROI reduces.\n",
    "\n",
    "Healthcare:\n",
    "1. Binomial - Dignosing a patient diabetic or not diabetic over different groups of people\n",
    "    \n",
    "2. Poisson - The number of corona cases registering on a given day at each hour\n",
    "    \n",
    "3. Exponential - The length of time  it takes a virus population to diminish\n",
    "\n",
    "Insurance: \n",
    "1. Poisson - The probability of a catastrophic event occuring over a period of time for insurance claim can be modelled         using this distribution.\n",
    "    \n",
    "\n",
    "\n"
   ]
  },
  {
   "cell_type": "markdown",
   "metadata": {},
   "source": [
    "### Part 2: \n",
    "    In the datetime analysis file (uploaded on drive), try to find out the reason as to why there is an\n",
    "    average 10 hour time between giving of orders and approving them. You need to create your own notebook and\n",
    "    execute your own method of analysis\n",
    "    with explanations."
   ]
  },
  {
   "cell_type": "code",
   "execution_count": 1,
   "metadata": {},
   "outputs": [],
   "source": [
    "#importing the basic libraries\n",
    "import pandas as pd\n",
    "import numpy as np\n",
    "%matplotlib inline"
   ]
  },
  {
   "cell_type": "markdown",
   "metadata": {},
   "source": [
    "## Analysis is written in the end for part 2\n",
    "## Methodology\n",
    "1. First outliers were identified using the interquartile range formulae\n",
    "2. Second the analysis was done by remving the outliers\n",
    "3. Thirdly K Means Clustering was done to segment the times of difference between the order and approval\n"
   ]
  },
  {
   "cell_type": "code",
   "execution_count": 147,
   "metadata": {},
   "outputs": [
    {
     "name": "stdout",
     "output_type": "stream",
     "text": [
      "(99441, 8)\n",
      "order_id                         object\n",
      "customer_id                      object\n",
      "order_status                     object\n",
      "order_purchase_timestamp         object\n",
      "order_approved_at                object\n",
      "order_delivered_carrier_date     object\n",
      "order_delivered_customer_date    object\n",
      "order_estimated_delivery_date    object\n",
      "dtype: object\n"
     ]
    }
   ],
   "source": [
    "import pandas as pd\n",
    "#read the Orders CSV file\n",
    "ordersdf = pd.read_csv(\"Orders.Data.csv\")\n",
    "\n",
    "#print out the basic info\n",
    "print(ordersdf.shape)\n",
    "print(ordersdf.dtypes)"
   ]
  },
  {
   "cell_type": "code",
   "execution_count": 148,
   "metadata": {},
   "outputs": [
    {
     "data": {
      "text/html": [
       "<div>\n",
       "<style scoped>\n",
       "    .dataframe tbody tr th:only-of-type {\n",
       "        vertical-align: middle;\n",
       "    }\n",
       "\n",
       "    .dataframe tbody tr th {\n",
       "        vertical-align: top;\n",
       "    }\n",
       "\n",
       "    .dataframe thead th {\n",
       "        text-align: right;\n",
       "    }\n",
       "</style>\n",
       "<table border=\"1\" class=\"dataframe\">\n",
       "  <thead>\n",
       "    <tr style=\"text-align: right;\">\n",
       "      <th></th>\n",
       "      <th>order_id</th>\n",
       "      <th>customer_id</th>\n",
       "      <th>order_status</th>\n",
       "      <th>order_purchase_timestamp</th>\n",
       "      <th>order_approved_at</th>\n",
       "      <th>order_delivered_carrier_date</th>\n",
       "      <th>order_delivered_customer_date</th>\n",
       "      <th>order_estimated_delivery_date</th>\n",
       "    </tr>\n",
       "  </thead>\n",
       "  <tbody>\n",
       "    <tr>\n",
       "      <th>0</th>\n",
       "      <td>e481f51cbdc54678b7cc49136f2d6af7</td>\n",
       "      <td>9ef432eb6251297304e76186b10a928d</td>\n",
       "      <td>delivered</td>\n",
       "      <td>2017-10-02 10:56:33</td>\n",
       "      <td>2017-10-02 11:07:15</td>\n",
       "      <td>2017-10-04 19:55:00</td>\n",
       "      <td>2017-10-10 21:25:13</td>\n",
       "      <td>2017-10-18 00:00:00</td>\n",
       "    </tr>\n",
       "    <tr>\n",
       "      <th>1</th>\n",
       "      <td>53cdb2fc8bc7dce0b6741e2150273451</td>\n",
       "      <td>b0830fb4747a6c6d20dea0b8c802d7ef</td>\n",
       "      <td>delivered</td>\n",
       "      <td>2018-07-24 20:41:37</td>\n",
       "      <td>2018-07-26 03:24:27</td>\n",
       "      <td>2018-07-26 14:31:00</td>\n",
       "      <td>2018-08-07 15:27:45</td>\n",
       "      <td>2018-08-13 00:00:00</td>\n",
       "    </tr>\n",
       "    <tr>\n",
       "      <th>2</th>\n",
       "      <td>47770eb9100c2d0c44946d9cf07ec65d</td>\n",
       "      <td>41ce2a54c0b03bf3443c3d931a367089</td>\n",
       "      <td>delivered</td>\n",
       "      <td>2018-08-08 08:38:49</td>\n",
       "      <td>2018-08-08 08:55:23</td>\n",
       "      <td>2018-08-08 13:50:00</td>\n",
       "      <td>2018-08-17 18:06:29</td>\n",
       "      <td>2018-09-04 00:00:00</td>\n",
       "    </tr>\n",
       "    <tr>\n",
       "      <th>3</th>\n",
       "      <td>949d5b44dbf5de918fe9c16f97b45f8a</td>\n",
       "      <td>f88197465ea7920adcdbec7375364d82</td>\n",
       "      <td>delivered</td>\n",
       "      <td>2017-11-18 19:28:06</td>\n",
       "      <td>2017-11-18 19:45:59</td>\n",
       "      <td>2017-11-22 13:39:59</td>\n",
       "      <td>2017-12-02 00:28:42</td>\n",
       "      <td>2017-12-15 00:00:00</td>\n",
       "    </tr>\n",
       "    <tr>\n",
       "      <th>4</th>\n",
       "      <td>ad21c59c0840e6cb83a9ceb5573f8159</td>\n",
       "      <td>8ab97904e6daea8866dbdbc4fb7aad2c</td>\n",
       "      <td>delivered</td>\n",
       "      <td>2018-02-13 21:18:39</td>\n",
       "      <td>2018-02-13 22:20:29</td>\n",
       "      <td>2018-02-14 19:46:34</td>\n",
       "      <td>2018-02-16 18:17:02</td>\n",
       "      <td>2018-02-26 00:00:00</td>\n",
       "    </tr>\n",
       "    <tr>\n",
       "      <th>5</th>\n",
       "      <td>a4591c265e18cb1dcee52889e2d8acc3</td>\n",
       "      <td>503740e9ca751ccdda7ba28e9ab8f608</td>\n",
       "      <td>delivered</td>\n",
       "      <td>2017-07-09 21:57:05</td>\n",
       "      <td>2017-07-09 22:10:13</td>\n",
       "      <td>2017-07-11 14:58:04</td>\n",
       "      <td>2017-07-26 10:57:55</td>\n",
       "      <td>2017-08-01 00:00:00</td>\n",
       "    </tr>\n",
       "    <tr>\n",
       "      <th>6</th>\n",
       "      <td>136cce7faa42fdb2cefd53fdc79a6098</td>\n",
       "      <td>ed0271e0b7da060a393796590e7b737a</td>\n",
       "      <td>invoiced</td>\n",
       "      <td>2017-04-11 12:22:08</td>\n",
       "      <td>2017-04-13 13:25:17</td>\n",
       "      <td>NaN</td>\n",
       "      <td>NaN</td>\n",
       "      <td>2017-05-09 00:00:00</td>\n",
       "    </tr>\n",
       "    <tr>\n",
       "      <th>7</th>\n",
       "      <td>6514b8ad8028c9f2cc2374ded245783f</td>\n",
       "      <td>9bdf08b4b3b52b5526ff42d37d47f222</td>\n",
       "      <td>delivered</td>\n",
       "      <td>2017-05-16 13:10:30</td>\n",
       "      <td>2017-05-16 13:22:11</td>\n",
       "      <td>2017-05-22 10:07:46</td>\n",
       "      <td>2017-05-26 12:55:51</td>\n",
       "      <td>2017-06-07 00:00:00</td>\n",
       "    </tr>\n",
       "    <tr>\n",
       "      <th>8</th>\n",
       "      <td>76c6e866289321a7c93b82b54852dc33</td>\n",
       "      <td>f54a9f0e6b351c431402b8461ea51999</td>\n",
       "      <td>delivered</td>\n",
       "      <td>2017-01-23 18:29:09</td>\n",
       "      <td>2017-01-25 02:50:47</td>\n",
       "      <td>2017-01-26 14:16:31</td>\n",
       "      <td>2017-02-02 14:08:10</td>\n",
       "      <td>2017-03-06 00:00:00</td>\n",
       "    </tr>\n",
       "    <tr>\n",
       "      <th>9</th>\n",
       "      <td>e69bfb5eb88e0ed6a785585b27e16dbf</td>\n",
       "      <td>31ad1d1b63eb9962463f764d4e6e0c9d</td>\n",
       "      <td>delivered</td>\n",
       "      <td>2017-07-29 11:55:02</td>\n",
       "      <td>2017-07-29 12:05:32</td>\n",
       "      <td>2017-08-10 19:45:24</td>\n",
       "      <td>2017-08-16 17:14:30</td>\n",
       "      <td>2017-08-23 00:00:00</td>\n",
       "    </tr>\n",
       "  </tbody>\n",
       "</table>\n",
       "</div>"
      ],
      "text/plain": [
       "                           order_id                       customer_id  \\\n",
       "0  e481f51cbdc54678b7cc49136f2d6af7  9ef432eb6251297304e76186b10a928d   \n",
       "1  53cdb2fc8bc7dce0b6741e2150273451  b0830fb4747a6c6d20dea0b8c802d7ef   \n",
       "2  47770eb9100c2d0c44946d9cf07ec65d  41ce2a54c0b03bf3443c3d931a367089   \n",
       "3  949d5b44dbf5de918fe9c16f97b45f8a  f88197465ea7920adcdbec7375364d82   \n",
       "4  ad21c59c0840e6cb83a9ceb5573f8159  8ab97904e6daea8866dbdbc4fb7aad2c   \n",
       "5  a4591c265e18cb1dcee52889e2d8acc3  503740e9ca751ccdda7ba28e9ab8f608   \n",
       "6  136cce7faa42fdb2cefd53fdc79a6098  ed0271e0b7da060a393796590e7b737a   \n",
       "7  6514b8ad8028c9f2cc2374ded245783f  9bdf08b4b3b52b5526ff42d37d47f222   \n",
       "8  76c6e866289321a7c93b82b54852dc33  f54a9f0e6b351c431402b8461ea51999   \n",
       "9  e69bfb5eb88e0ed6a785585b27e16dbf  31ad1d1b63eb9962463f764d4e6e0c9d   \n",
       "\n",
       "  order_status order_purchase_timestamp    order_approved_at  \\\n",
       "0    delivered      2017-10-02 10:56:33  2017-10-02 11:07:15   \n",
       "1    delivered      2018-07-24 20:41:37  2018-07-26 03:24:27   \n",
       "2    delivered      2018-08-08 08:38:49  2018-08-08 08:55:23   \n",
       "3    delivered      2017-11-18 19:28:06  2017-11-18 19:45:59   \n",
       "4    delivered      2018-02-13 21:18:39  2018-02-13 22:20:29   \n",
       "5    delivered      2017-07-09 21:57:05  2017-07-09 22:10:13   \n",
       "6     invoiced      2017-04-11 12:22:08  2017-04-13 13:25:17   \n",
       "7    delivered      2017-05-16 13:10:30  2017-05-16 13:22:11   \n",
       "8    delivered      2017-01-23 18:29:09  2017-01-25 02:50:47   \n",
       "9    delivered      2017-07-29 11:55:02  2017-07-29 12:05:32   \n",
       "\n",
       "  order_delivered_carrier_date order_delivered_customer_date  \\\n",
       "0          2017-10-04 19:55:00           2017-10-10 21:25:13   \n",
       "1          2018-07-26 14:31:00           2018-08-07 15:27:45   \n",
       "2          2018-08-08 13:50:00           2018-08-17 18:06:29   \n",
       "3          2017-11-22 13:39:59           2017-12-02 00:28:42   \n",
       "4          2018-02-14 19:46:34           2018-02-16 18:17:02   \n",
       "5          2017-07-11 14:58:04           2017-07-26 10:57:55   \n",
       "6                          NaN                           NaN   \n",
       "7          2017-05-22 10:07:46           2017-05-26 12:55:51   \n",
       "8          2017-01-26 14:16:31           2017-02-02 14:08:10   \n",
       "9          2017-08-10 19:45:24           2017-08-16 17:14:30   \n",
       "\n",
       "  order_estimated_delivery_date  \n",
       "0           2017-10-18 00:00:00  \n",
       "1           2018-08-13 00:00:00  \n",
       "2           2018-09-04 00:00:00  \n",
       "3           2017-12-15 00:00:00  \n",
       "4           2018-02-26 00:00:00  \n",
       "5           2017-08-01 00:00:00  \n",
       "6           2017-05-09 00:00:00  \n",
       "7           2017-06-07 00:00:00  \n",
       "8           2017-03-06 00:00:00  \n",
       "9           2017-08-23 00:00:00  "
      ]
     },
     "execution_count": 148,
     "metadata": {},
     "output_type": "execute_result"
    }
   ],
   "source": [
    "#there are different dates regarding the ordering and delivery of a product\n",
    "#what if I want to find out the average timespan between order and delivery?\n",
    "ordersdf.head(10)"
   ]
  },
  {
   "cell_type": "code",
   "execution_count": 149,
   "metadata": {},
   "outputs": [
    {
     "data": {
      "text/html": [
       "<div>\n",
       "<style scoped>\n",
       "    .dataframe tbody tr th:only-of-type {\n",
       "        vertical-align: middle;\n",
       "    }\n",
       "\n",
       "    .dataframe tbody tr th {\n",
       "        vertical-align: top;\n",
       "    }\n",
       "\n",
       "    .dataframe thead th {\n",
       "        text-align: right;\n",
       "    }\n",
       "</style>\n",
       "<table border=\"1\" class=\"dataframe\">\n",
       "  <thead>\n",
       "    <tr style=\"text-align: right;\">\n",
       "      <th></th>\n",
       "      <th>order_id</th>\n",
       "      <th>customer_id</th>\n",
       "      <th>order_status</th>\n",
       "      <th>Purchased_At</th>\n",
       "      <th>Approved_At</th>\n",
       "      <th>Delivered_to_Carrier_On</th>\n",
       "      <th>Delivered_to_Customer_On</th>\n",
       "      <th>Estimated_Delivery_On</th>\n",
       "    </tr>\n",
       "  </thead>\n",
       "  <tbody>\n",
       "    <tr>\n",
       "      <th>0</th>\n",
       "      <td>e481f51cbdc54678b7cc49136f2d6af7</td>\n",
       "      <td>9ef432eb6251297304e76186b10a928d</td>\n",
       "      <td>delivered</td>\n",
       "      <td>2017-10-02 10:56:33</td>\n",
       "      <td>2017-10-02 11:07:15</td>\n",
       "      <td>2017-10-04 19:55:00</td>\n",
       "      <td>2017-10-10 21:25:13</td>\n",
       "      <td>2017-10-18 00:00:00</td>\n",
       "    </tr>\n",
       "    <tr>\n",
       "      <th>1</th>\n",
       "      <td>53cdb2fc8bc7dce0b6741e2150273451</td>\n",
       "      <td>b0830fb4747a6c6d20dea0b8c802d7ef</td>\n",
       "      <td>delivered</td>\n",
       "      <td>2018-07-24 20:41:37</td>\n",
       "      <td>2018-07-26 03:24:27</td>\n",
       "      <td>2018-07-26 14:31:00</td>\n",
       "      <td>2018-08-07 15:27:45</td>\n",
       "      <td>2018-08-13 00:00:00</td>\n",
       "    </tr>\n",
       "    <tr>\n",
       "      <th>2</th>\n",
       "      <td>47770eb9100c2d0c44946d9cf07ec65d</td>\n",
       "      <td>41ce2a54c0b03bf3443c3d931a367089</td>\n",
       "      <td>delivered</td>\n",
       "      <td>2018-08-08 08:38:49</td>\n",
       "      <td>2018-08-08 08:55:23</td>\n",
       "      <td>2018-08-08 13:50:00</td>\n",
       "      <td>2018-08-17 18:06:29</td>\n",
       "      <td>2018-09-04 00:00:00</td>\n",
       "    </tr>\n",
       "    <tr>\n",
       "      <th>3</th>\n",
       "      <td>949d5b44dbf5de918fe9c16f97b45f8a</td>\n",
       "      <td>f88197465ea7920adcdbec7375364d82</td>\n",
       "      <td>delivered</td>\n",
       "      <td>2017-11-18 19:28:06</td>\n",
       "      <td>2017-11-18 19:45:59</td>\n",
       "      <td>2017-11-22 13:39:59</td>\n",
       "      <td>2017-12-02 00:28:42</td>\n",
       "      <td>2017-12-15 00:00:00</td>\n",
       "    </tr>\n",
       "    <tr>\n",
       "      <th>4</th>\n",
       "      <td>ad21c59c0840e6cb83a9ceb5573f8159</td>\n",
       "      <td>8ab97904e6daea8866dbdbc4fb7aad2c</td>\n",
       "      <td>delivered</td>\n",
       "      <td>2018-02-13 21:18:39</td>\n",
       "      <td>2018-02-13 22:20:29</td>\n",
       "      <td>2018-02-14 19:46:34</td>\n",
       "      <td>2018-02-16 18:17:02</td>\n",
       "      <td>2018-02-26 00:00:00</td>\n",
       "    </tr>\n",
       "    <tr>\n",
       "      <th>5</th>\n",
       "      <td>a4591c265e18cb1dcee52889e2d8acc3</td>\n",
       "      <td>503740e9ca751ccdda7ba28e9ab8f608</td>\n",
       "      <td>delivered</td>\n",
       "      <td>2017-07-09 21:57:05</td>\n",
       "      <td>2017-07-09 22:10:13</td>\n",
       "      <td>2017-07-11 14:58:04</td>\n",
       "      <td>2017-07-26 10:57:55</td>\n",
       "      <td>2017-08-01 00:00:00</td>\n",
       "    </tr>\n",
       "    <tr>\n",
       "      <th>6</th>\n",
       "      <td>136cce7faa42fdb2cefd53fdc79a6098</td>\n",
       "      <td>ed0271e0b7da060a393796590e7b737a</td>\n",
       "      <td>invoiced</td>\n",
       "      <td>2017-04-11 12:22:08</td>\n",
       "      <td>2017-04-13 13:25:17</td>\n",
       "      <td>NaN</td>\n",
       "      <td>NaN</td>\n",
       "      <td>2017-05-09 00:00:00</td>\n",
       "    </tr>\n",
       "    <tr>\n",
       "      <th>7</th>\n",
       "      <td>6514b8ad8028c9f2cc2374ded245783f</td>\n",
       "      <td>9bdf08b4b3b52b5526ff42d37d47f222</td>\n",
       "      <td>delivered</td>\n",
       "      <td>2017-05-16 13:10:30</td>\n",
       "      <td>2017-05-16 13:22:11</td>\n",
       "      <td>2017-05-22 10:07:46</td>\n",
       "      <td>2017-05-26 12:55:51</td>\n",
       "      <td>2017-06-07 00:00:00</td>\n",
       "    </tr>\n",
       "    <tr>\n",
       "      <th>8</th>\n",
       "      <td>76c6e866289321a7c93b82b54852dc33</td>\n",
       "      <td>f54a9f0e6b351c431402b8461ea51999</td>\n",
       "      <td>delivered</td>\n",
       "      <td>2017-01-23 18:29:09</td>\n",
       "      <td>2017-01-25 02:50:47</td>\n",
       "      <td>2017-01-26 14:16:31</td>\n",
       "      <td>2017-02-02 14:08:10</td>\n",
       "      <td>2017-03-06 00:00:00</td>\n",
       "    </tr>\n",
       "    <tr>\n",
       "      <th>9</th>\n",
       "      <td>e69bfb5eb88e0ed6a785585b27e16dbf</td>\n",
       "      <td>31ad1d1b63eb9962463f764d4e6e0c9d</td>\n",
       "      <td>delivered</td>\n",
       "      <td>2017-07-29 11:55:02</td>\n",
       "      <td>2017-07-29 12:05:32</td>\n",
       "      <td>2017-08-10 19:45:24</td>\n",
       "      <td>2017-08-16 17:14:30</td>\n",
       "      <td>2017-08-23 00:00:00</td>\n",
       "    </tr>\n",
       "  </tbody>\n",
       "</table>\n",
       "</div>"
      ],
      "text/plain": [
       "                           order_id                       customer_id  \\\n",
       "0  e481f51cbdc54678b7cc49136f2d6af7  9ef432eb6251297304e76186b10a928d   \n",
       "1  53cdb2fc8bc7dce0b6741e2150273451  b0830fb4747a6c6d20dea0b8c802d7ef   \n",
       "2  47770eb9100c2d0c44946d9cf07ec65d  41ce2a54c0b03bf3443c3d931a367089   \n",
       "3  949d5b44dbf5de918fe9c16f97b45f8a  f88197465ea7920adcdbec7375364d82   \n",
       "4  ad21c59c0840e6cb83a9ceb5573f8159  8ab97904e6daea8866dbdbc4fb7aad2c   \n",
       "5  a4591c265e18cb1dcee52889e2d8acc3  503740e9ca751ccdda7ba28e9ab8f608   \n",
       "6  136cce7faa42fdb2cefd53fdc79a6098  ed0271e0b7da060a393796590e7b737a   \n",
       "7  6514b8ad8028c9f2cc2374ded245783f  9bdf08b4b3b52b5526ff42d37d47f222   \n",
       "8  76c6e866289321a7c93b82b54852dc33  f54a9f0e6b351c431402b8461ea51999   \n",
       "9  e69bfb5eb88e0ed6a785585b27e16dbf  31ad1d1b63eb9962463f764d4e6e0c9d   \n",
       "\n",
       "  order_status         Purchased_At          Approved_At  \\\n",
       "0    delivered  2017-10-02 10:56:33  2017-10-02 11:07:15   \n",
       "1    delivered  2018-07-24 20:41:37  2018-07-26 03:24:27   \n",
       "2    delivered  2018-08-08 08:38:49  2018-08-08 08:55:23   \n",
       "3    delivered  2017-11-18 19:28:06  2017-11-18 19:45:59   \n",
       "4    delivered  2018-02-13 21:18:39  2018-02-13 22:20:29   \n",
       "5    delivered  2017-07-09 21:57:05  2017-07-09 22:10:13   \n",
       "6     invoiced  2017-04-11 12:22:08  2017-04-13 13:25:17   \n",
       "7    delivered  2017-05-16 13:10:30  2017-05-16 13:22:11   \n",
       "8    delivered  2017-01-23 18:29:09  2017-01-25 02:50:47   \n",
       "9    delivered  2017-07-29 11:55:02  2017-07-29 12:05:32   \n",
       "\n",
       "  Delivered_to_Carrier_On Delivered_to_Customer_On Estimated_Delivery_On  \n",
       "0     2017-10-04 19:55:00      2017-10-10 21:25:13   2017-10-18 00:00:00  \n",
       "1     2018-07-26 14:31:00      2018-08-07 15:27:45   2018-08-13 00:00:00  \n",
       "2     2018-08-08 13:50:00      2018-08-17 18:06:29   2018-09-04 00:00:00  \n",
       "3     2017-11-22 13:39:59      2017-12-02 00:28:42   2017-12-15 00:00:00  \n",
       "4     2018-02-14 19:46:34      2018-02-16 18:17:02   2018-02-26 00:00:00  \n",
       "5     2017-07-11 14:58:04      2017-07-26 10:57:55   2017-08-01 00:00:00  \n",
       "6                     NaN                      NaN   2017-05-09 00:00:00  \n",
       "7     2017-05-22 10:07:46      2017-05-26 12:55:51   2017-06-07 00:00:00  \n",
       "8     2017-01-26 14:16:31      2017-02-02 14:08:10   2017-03-06 00:00:00  \n",
       "9     2017-08-10 19:45:24      2017-08-16 17:14:30   2017-08-23 00:00:00  "
      ]
     },
     "execution_count": 149,
     "metadata": {},
     "output_type": "execute_result"
    }
   ],
   "source": [
    "#all dates are objects so we have to convert them to datetime objects\n",
    "#lets change the column names first\n",
    "ordersdf = ordersdf.rename(columns = {\"order_purchase_timestamp\": \"Purchased_At\",\n",
    "                         \"order_approved_at\":\"Approved_At\",\n",
    "                         \"order_delivered_carrier_date\": \"Delivered_to_Carrier_On\",\n",
    "                         \"order_delivered_customer_date\": \"Delivered_to_Customer_On\",\n",
    "                         \"order_estimated_delivery_date\": \"Estimated_Delivery_On\"}) \n",
    "ordersdf.head(10)\n"
   ]
  },
  {
   "cell_type": "code",
   "execution_count": 150,
   "metadata": {},
   "outputs": [
    {
     "data": {
      "text/plain": [
       "order_id                            object\n",
       "customer_id                         object\n",
       "order_status                        object\n",
       "Purchased_At                datetime64[ns]\n",
       "Approved_At                 datetime64[ns]\n",
       "Delivered_to_Carrier_On     datetime64[ns]\n",
       "Delivered_to_Customer_On    datetime64[ns]\n",
       "Estimated_Delivery_On       datetime64[ns]\n",
       "dtype: object"
      ]
     },
     "execution_count": 150,
     "metadata": {},
     "output_type": "execute_result"
    }
   ],
   "source": [
    "#lets typecast to datetime\n",
    "ordersdf['Purchased_At'] = pd.to_datetime(ordersdf['Purchased_At'])\n",
    "ordersdf['Approved_At'] = pd.to_datetime(ordersdf['Approved_At'])\n",
    "ordersdf['Delivered_to_Carrier_On'] = pd.to_datetime(ordersdf['Delivered_to_Carrier_On'])\n",
    "ordersdf['Delivered_to_Customer_On'] = pd.to_datetime(ordersdf['Delivered_to_Customer_On'])\n",
    "ordersdf['Estimated_Delivery_On'] = pd.to_datetime(ordersdf['Estimated_Delivery_On'])\n",
    "ordersdf.dtypes"
   ]
  },
  {
   "cell_type": "code",
   "execution_count": 151,
   "metadata": {},
   "outputs": [],
   "source": [
    "#what is the average difference between order time and approval time\n",
    "ordersdf['between_order_approval'] = ordersdf['Approved_At'] - ordersdf['Purchased_At']"
   ]
  },
  {
   "cell_type": "code",
   "execution_count": 152,
   "metadata": {},
   "outputs": [
    {
     "data": {
      "text/plain": [
       "count                        99281\n",
       "mean     0 days 10:25:08.739486910\n",
       "std      1 days 02:02:16.813098347\n",
       "min                0 days 00:00:00\n",
       "25%                0 days 00:12:54\n",
       "50%                0 days 00:20:36\n",
       "75%                0 days 14:34:51\n",
       "max              187 days 21:10:50\n",
       "Name: between_order_approval, dtype: object"
      ]
     },
     "execution_count": 152,
     "metadata": {},
     "output_type": "execute_result"
    }
   ],
   "source": [
    "ordersdf['between_order_approval'].describe()"
   ]
  },
  {
   "cell_type": "code",
   "execution_count": 153,
   "metadata": {},
   "outputs": [],
   "source": [
    "ordersdf['Time']=between_order_approval.apply(lambda x: (x.total_seconds())/3600)\n",
    "\n",
    "#whoa... 10 hours is the average time between order and approval.. this seems a bit too much\n",
    "#we will dig this later"
   ]
  },
  {
   "cell_type": "code",
   "execution_count": 154,
   "metadata": {},
   "outputs": [
    {
     "data": {
      "text/plain": [
       "10.419094301919714"
      ]
     },
     "execution_count": 154,
     "metadata": {},
     "output_type": "execute_result"
    }
   ],
   "source": [
    "ordersdf['Time'].mean()"
   ]
  },
  {
   "cell_type": "code",
   "execution_count": 156,
   "metadata": {},
   "outputs": [
    {
     "data": {
      "text/plain": [
       "0         0.178333\n",
       "1        30.713889\n",
       "2         0.276111\n",
       "3         0.298056\n",
       "4         1.030556\n",
       "           ...    \n",
       "99436     0.000000\n",
       "99437     0.194167\n",
       "99438     0.292500\n",
       "99439     0.131667\n",
       "99440    14.382778\n",
       "Name: Time, Length: 99441, dtype: float64"
      ]
     },
     "execution_count": 156,
     "metadata": {},
     "output_type": "execute_result"
    }
   ],
   "source": [
    "ordersdf['Time']"
   ]
  },
  {
   "cell_type": "code",
   "execution_count": 157,
   "metadata": {},
   "outputs": [
    {
     "data": {
      "text/plain": [
       "count    99281.000000\n",
       "mean        10.419094\n",
       "std         26.038004\n",
       "min          0.000000\n",
       "25%          0.215000\n",
       "50%          0.343333\n",
       "75%         14.580833\n",
       "max       4509.180556\n",
       "Name: Time, dtype: float64"
      ]
     },
     "execution_count": 157,
     "metadata": {},
     "output_type": "execute_result"
    }
   ],
   "source": [
    "ordersdf['Time'].describe()"
   ]
  },
  {
   "cell_type": "code",
   "execution_count": 158,
   "metadata": {},
   "outputs": [
    {
     "data": {
      "text/plain": [
       "<AxesSubplot:xlabel='Time', ylabel='Count'>"
      ]
     },
     "execution_count": 158,
     "metadata": {},
     "output_type": "execute_result"
    },
    {
     "data": {
      "image/png": "[encoded data removed]",
      "text/plain": [
       "<Figure size 432x288 with 1 Axes>"
      ]
     },
     "metadata": {},
     "output_type": "display_data"
    }
   ],
   "source": [
    "import seaborn as sns\n",
    "sns.histplot(data=ordersdf, x=x, kde=True)"
   ]
  },
  {
   "cell_type": "code",
   "execution_count": 165,
   "metadata": {},
   "outputs": [
    {
     "data": {
      "image/png": "[encoded data removed]",
      "text/plain": [
       "<Figure size 432x288 with 1 Axes>"
      ]
     },
     "metadata": {},
     "output_type": "display_data"
    }
   ],
   "source": [
    "x=ordersdf['Time']\n",
    "sns.set_theme(style=\"whitegrid\")\n",
    "tips = sns.load_dataset(\"tips\")\n",
    "ax = sns.boxplot(x=ordersdf['Time'])"
   ]
  },
  {
   "cell_type": "code",
   "execution_count": 166,
   "metadata": {},
   "outputs": [
    {
     "name": "stdout",
     "output_type": "stream",
     "text": [
      "14.365833333333333\n"
     ]
    }
   ],
   "source": [
    "Q1 = x.quantile(0.25)\n",
    "Q3 = x.quantile(0.75)\n",
    "IQR = Q3 - Q1\n",
    "print(IQR)"
   ]
  },
  {
   "cell_type": "code",
   "execution_count": 167,
   "metadata": {},
   "outputs": [],
   "source": [
    "out_liers= x [(x < (Q1 - 1.5 * IQR)) |(x > (Q3 + 1.5 * IQR))]"
   ]
  },
  {
   "cell_type": "code",
   "execution_count": 168,
   "metadata": {},
   "outputs": [],
   "source": [
    "rows = out_liers.index\n",
    "\n"
   ]
  },
  {
   "cell_type": "code",
   "execution_count": 169,
   "metadata": {},
   "outputs": [],
   "source": [
    "x.drop(rows, inplace=True)"
   ]
  },
  {
   "cell_type": "code",
   "execution_count": 170,
   "metadata": {},
   "outputs": [
    {
     "data": {
      "text/plain": [
       "0         0.178333\n",
       "1        30.713889\n",
       "2         0.276111\n",
       "3         0.298056\n",
       "4         1.030556\n",
       "           ...    \n",
       "99436     0.000000\n",
       "99437     0.194167\n",
       "99438     0.292500\n",
       "99439     0.131667\n",
       "99440    14.382778\n",
       "Name: Time, Length: 90300, dtype: float64"
      ]
     },
     "execution_count": 170,
     "metadata": {},
     "output_type": "execute_result"
    }
   ],
   "source": [
    "x"
   ]
  },
  {
   "cell_type": "code",
   "execution_count": 171,
   "metadata": {},
   "outputs": [
    {
     "data": {
      "text/plain": [
       "(90300,)"
      ]
     },
     "execution_count": 171,
     "metadata": {},
     "output_type": "execute_result"
    }
   ],
   "source": [
    "x.shape"
   ]
  },
  {
   "cell_type": "code",
   "execution_count": 59,
   "metadata": {},
   "outputs": [
    {
     "name": "stdout",
     "output_type": "stream",
     "text": [
      "[nan nan nan ... nan nan nan]\n"
     ]
    }
   ],
   "source": [
    "from scipy import stats\n",
    "import numpy as np\n",
    "z = np.abs(stats.zscore(x))\n",
    "print(z)"
   ]
  },
  {
   "cell_type": "code",
   "execution_count": 175,
   "metadata": {},
   "outputs": [
    {
     "data": {
      "text/plain": [
       "<AxesSubplot:xlabel='Time', ylabel='Count'>"
      ]
     },
     "execution_count": 175,
     "metadata": {},
     "output_type": "execute_result"
    },
    {
     "data": {
      "image/png": "[encoded data removed]",
      "text/plain": [
       "<Figure size 432x288 with 1 Axes>"
      ]
     },
     "metadata": {},
     "output_type": "display_data"
    }
   ],
   "source": [
    "import seaborn as sns\n",
    "sns.histplot(data=ordersdf, x=x, kde=True)"
   ]
  },
  {
   "cell_type": "code",
   "execution_count": 176,
   "metadata": {},
   "outputs": [
    {
     "data": {
      "text/plain": [
       "5.204837105243709"
      ]
     },
     "execution_count": 176,
     "metadata": {},
     "output_type": "execute_result"
    }
   ],
   "source": [
    "x.mean()"
   ]
  },
  {
   "cell_type": "code",
   "execution_count": 177,
   "metadata": {},
   "outputs": [],
   "source": [
    "### After the removal of outliers the mean approval time is 5 hours"
   ]
  },
  {
   "cell_type": "code",
   "execution_count": 178,
   "metadata": {},
   "outputs": [],
   "source": [
    "#### Quartile Analysis"
   ]
  },
  {
   "cell_type": "code",
   "execution_count": 179,
   "metadata": {},
   "outputs": [
    {
     "data": {
      "text/plain": [
       "0.20833333333333334"
      ]
     },
     "execution_count": 179,
     "metadata": {},
     "output_type": "execute_result"
    }
   ],
   "source": [
    "Q1 = x.quantile(0.25)\n",
    "Q1"
   ]
  },
  {
   "cell_type": "code",
   "execution_count": 180,
   "metadata": {},
   "outputs": [],
   "source": [
    "Q1= x [(x < Q1) ]"
   ]
  },
  {
   "cell_type": "code",
   "execution_count": 181,
   "metadata": {},
   "outputs": [
    {
     "data": {
      "text/plain": [
       "9.667897967353005"
      ]
     },
     "execution_count": 181,
     "metadata": {},
     "output_type": "execute_result"
    }
   ],
   "source": [
    "Q1.mean()*60"
   ]
  },
  {
   "cell_type": "code",
   "execution_count": 182,
   "metadata": {},
   "outputs": [],
   "source": [
    "### ( 9 minutes is the average of the first quartile 25 percecent of the orders on average approval takes 9 minutes)"
   ]
  },
  {
   "cell_type": "code",
   "execution_count": 183,
   "metadata": {},
   "outputs": [],
   "source": [
    "Q1=Q1*60"
   ]
  },
  {
   "cell_type": "code",
   "execution_count": 184,
   "metadata": {},
   "outputs": [
    {
     "data": {
      "text/plain": [
       "9.667897967353088"
      ]
     },
     "execution_count": 184,
     "metadata": {},
     "output_type": "execute_result"
    }
   ],
   "source": [
    "Q1.mean()"
   ]
  },
  {
   "cell_type": "code",
   "execution_count": 185,
   "metadata": {},
   "outputs": [
    {
     "data": {
      "text/plain": [
       "0        10.700000\n",
       "7        11.683333\n",
       "9        10.500000\n",
       "10        9.133333\n",
       "11       11.950000\n",
       "           ...    \n",
       "99433     9.616667\n",
       "99435     9.983333\n",
       "99436     0.000000\n",
       "99437    11.650000\n",
       "99439     7.900000\n",
       "Name: Time, Length: 22483, dtype: float64"
      ]
     },
     "execution_count": 185,
     "metadata": {},
     "output_type": "execute_result"
    }
   ],
   "source": [
    "Q1"
   ]
  },
  {
   "cell_type": "code",
   "execution_count": 186,
   "metadata": {},
   "outputs": [
    {
     "data": {
      "text/plain": [
       "<AxesSubplot:xlabel='Time', ylabel='Count'>"
      ]
     },
     "execution_count": 186,
     "metadata": {},
     "output_type": "execute_result"
    },
    {
     "data": {
      "image/png": "[encoded data removed]",
      "text/plain": [
       "<Figure size 432x288 with 1 Axes>"
      ]
     },
     "metadata": {},
     "output_type": "display_data"
    }
   ],
   "source": [
    "import seaborn as sns\n",
    "sns.histplot(data=ordersdf, x=Q1, kde=True)"
   ]
  },
  {
   "cell_type": "code",
   "execution_count": 187,
   "metadata": {},
   "outputs": [],
   "source": [
    "#### 25 percent under 12 minutes are approved"
   ]
  },
  {
   "cell_type": "code",
   "execution_count": 188,
   "metadata": {},
   "outputs": [],
   "source": [
    "#### Now we looking at 50 percent of the data"
   ]
  },
  {
   "cell_type": "code",
   "execution_count": 189,
   "metadata": {},
   "outputs": [
    {
     "data": {
      "text/plain": [
       "0.3047222222222222"
      ]
     },
     "execution_count": 189,
     "metadata": {},
     "output_type": "execute_result"
    }
   ],
   "source": [
    "Q2 = x.quantile(0.5)\n",
    "Q2"
   ]
  },
  {
   "cell_type": "code",
   "execution_count": 190,
   "metadata": {},
   "outputs": [],
   "source": [
    "Q2= x [(x < Q2) ]"
   ]
  },
  {
   "cell_type": "code",
   "execution_count": 191,
   "metadata": {},
   "outputs": [],
   "source": [
    "Q2=Q2*60"
   ]
  },
  {
   "cell_type": "code",
   "execution_count": 192,
   "metadata": {},
   "outputs": [],
   "source": [
    "### ( 12 minutes is the average of the 50 percecent of the orders on average approval takes 12 minutes)"
   ]
  },
  {
   "cell_type": "code",
   "execution_count": 193,
   "metadata": {},
   "outputs": [
    {
     "data": {
      "text/plain": [
       "12.304367193512155"
      ]
     },
     "execution_count": 193,
     "metadata": {},
     "output_type": "execute_result"
    }
   ],
   "source": [
    "Q2.mean()"
   ]
  },
  {
   "cell_type": "code",
   "execution_count": 194,
   "metadata": {},
   "outputs": [
    {
     "data": {
      "text/plain": [
       "<AxesSubplot:xlabel='Time', ylabel='Count'>"
      ]
     },
     "execution_count": 194,
     "metadata": {},
     "output_type": "execute_result"
    },
    {
     "data": {
      "image/png": "[encoded data removed]",
      "text/plain": [
       "<Figure size 432x288 with 1 Axes>"
      ]
     },
     "metadata": {},
     "output_type": "display_data"
    }
   ],
   "source": [
    "import seaborn as sns\n",
    "sns.histplot(data=ordersdf, x=Q2, kde=True)"
   ]
  },
  {
   "cell_type": "code",
   "execution_count": 195,
   "metadata": {},
   "outputs": [],
   "source": [
    "#### 50 percent under 18 minutes are approved"
   ]
  },
  {
   "cell_type": "code",
   "execution_count": 196,
   "metadata": {},
   "outputs": [
    {
     "name": "stdout",
     "output_type": "stream",
     "text": [
      "21.656809900648614\n"
     ]
    },
    {
     "data": {
      "text/plain": [
       "<AxesSubplot:xlabel='Time', ylabel='Count'>"
      ]
     },
     "execution_count": 196,
     "metadata": {},
     "output_type": "execute_result"
    },
    {
     "data": {
      "image/png": "[encoded data removed]",
      "text/plain": [
       "<Figure size 432x288 with 1 Axes>"
      ]
     },
     "metadata": {},
     "output_type": "display_data"
    }
   ],
   "source": [
    "Q3 = x.quantile(0.75)\n",
    "Q3= x [(x < Q3) ] *60\n",
    "print(Q3.mean())\n",
    "import seaborn as sns\n",
    "sns.histplot(data=ordersdf, x=Q3, kde=True)\n"
   ]
  },
  {
   "cell_type": "code",
   "execution_count": 197,
   "metadata": {},
   "outputs": [
    {
     "ename": "SyntaxError",
     "evalue": "invalid syntax (<ipython-input-197-809ecefec787>, line 1)",
     "output_type": "error",
     "traceback": [
      "\u001b[1;36m  File \u001b[1;32m\"<ipython-input-197-809ecefec787>\"\u001b[1;36m, line \u001b[1;32m1\u001b[0m\n\u001b[1;33m    We can observe there are some values that is like 25 percent of order are taking more than an hour even aftaer other outliers are\u001b[0m\n\u001b[1;37m       ^\u001b[0m\n\u001b[1;31mSyntaxError\u001b[0m\u001b[1;31m:\u001b[0m invalid syntax\n"
     ]
    }
   ],
   "source": [
    "We can observe there are some values that is like 25 percent of order are taking more than an hour even aftaer other outliers are\n",
    "removed"
   ]
  },
  {
   "cell_type": "code",
   "execution_count": 198,
   "metadata": {},
   "outputs": [
    {
     "name": "stdout",
     "output_type": "stream",
     "text": [
      "46.15974294615763\n"
     ]
    },
    {
     "data": {
      "text/plain": [
       "<AxesSubplot:xlabel='Time', ylabel='Count'>"
      ]
     },
     "execution_count": 198,
     "metadata": {},
     "output_type": "execute_result"
    },
    {
     "data": {
      "image/png": "[encoded data removed]",
      "text/plain": [
       "<Figure size 432x288 with 1 Axes>"
      ]
     },
     "metadata": {},
     "output_type": "display_data"
    }
   ],
   "source": [
    "Q4 = x.quantile(0.8)\n",
    "Q4= x [(x < Q4) ] *60\n",
    "print(Q4.mean())\n",
    "import seaborn as sns\n",
    "sns.histplot(data=ordersdf, x=Q4, kde=True)"
   ]
  },
  {
   "cell_type": "code",
   "execution_count": 199,
   "metadata": {},
   "outputs": [
    {
     "name": "stdout",
     "output_type": "stream",
     "text": [
      "94.12533335943684\n"
     ]
    },
    {
     "data": {
      "text/plain": [
       "<AxesSubplot:xlabel='Time', ylabel='Count'>"
      ]
     },
     "execution_count": 199,
     "metadata": {},
     "output_type": "execute_result"
    },
    {
     "data": {
      "image/png": "[encoded data removed]",
      "text/plain": [
       "<Figure size 432x288 with 1 Axes>"
      ]
     },
     "metadata": {},
     "output_type": "display_data"
    }
   ],
   "source": [
    "Q5 = x.quantile(0.85)\n",
    "Q5= x [(x < Q5) ] *60\n",
    "print(Q5.mean())\n",
    "import seaborn as sns\n",
    "sns.histplot(data=ordersdf, x=Q5, kde=True)"
   ]
  },
  {
   "cell_type": "code",
   "execution_count": 200,
   "metadata": {},
   "outputs": [
    {
     "name": "stdout",
     "output_type": "stream",
     "text": [
      "156.95635762977153\n"
     ]
    },
    {
     "data": {
      "text/plain": [
       "<AxesSubplot:xlabel='Time', ylabel='Count'>"
      ]
     },
     "execution_count": 200,
     "metadata": {},
     "output_type": "execute_result"
    },
    {
     "data": {
      "image/png": "[encoded data removed]",
      "text/plain": [
       "<Figure size 432x288 with 1 Axes>"
      ]
     },
     "metadata": {},
     "output_type": "display_data"
    }
   ],
   "source": [
    "Q6 = x.quantile(0.90)\n",
    "Q6= x [(x < Q6) ] *60\n",
    "print(Q6.mean())\n",
    "import seaborn as sns\n",
    "sns.histplot(data=ordersdf, x=Q6, kde=True)"
   ]
  },
  {
   "cell_type": "code",
   "execution_count": 201,
   "metadata": {},
   "outputs": [
    {
     "name": "stdout",
     "output_type": "stream",
     "text": [
      "227.54962903709452\n"
     ]
    },
    {
     "data": {
      "text/plain": [
       "<AxesSubplot:xlabel='Time', ylabel='Count'>"
      ]
     },
     "execution_count": 201,
     "metadata": {},
     "output_type": "execute_result"
    },
    {
     "data": {
      "image/png": "[encoded data removed]",
      "text/plain": [
       "<Figure size 432x288 with 1 Axes>"
      ]
     },
     "metadata": {},
     "output_type": "display_data"
    }
   ],
   "source": [
    "Q7 = x.quantile(0.95)\n",
    "Q7= x [(x < Q7) ] *60\n",
    "print(Q7.mean())\n",
    "import seaborn as sns\n",
    "sns.histplot(data=ordersdf, x=Q7, kde=True)"
   ]
  },
  {
   "cell_type": "code",
   "execution_count": 202,
   "metadata": {},
   "outputs": [
    {
     "name": "stdout",
     "output_type": "stream",
     "text": [
      "5.204837105243709\n"
     ]
    },
    {
     "data": {
      "text/plain": [
       "<AxesSubplot:xlabel='Time', ylabel='Count'>"
      ]
     },
     "execution_count": 202,
     "metadata": {},
     "output_type": "execute_result"
    },
    {
     "data": {
      "image/png": "[encoded data removed]",
      "text/plain": [
       "<Figure size 432x288 with 1 Axes>"
      ]
     },
     "metadata": {},
     "output_type": "display_data"
    }
   ],
   "source": [
    "print(x.mean())\n",
    "import seaborn as sns\n",
    "sns.histplot(data=ordersdf, x=x, kde=True)"
   ]
  },
  {
   "cell_type": "code",
   "execution_count": 203,
   "metadata": {},
   "outputs": [
    {
     "name": "stdout",
     "output_type": "stream",
     "text": [
      "2.4725694444444444\n"
     ]
    }
   ],
   "source": [
    "Q1 = x.quantile(0.25)\n",
    "Q3 = x.quantile(0.75)\n",
    "IQR = Q3 - Q1\n",
    "print(IQR)"
   ]
  },
  {
   "cell_type": "code",
   "execution_count": 204,
   "metadata": {},
   "outputs": [],
   "source": [
    "out_liers1= x [(x < (Q1 - 1.5 * IQR)) |(x > (Q3 + 1.5 * IQR))]\n",
    "rows = out_liers1.index\n",
    "y=x.drop(rows).copy()"
   ]
  },
  {
   "cell_type": "code",
   "execution_count": 205,
   "metadata": {},
   "outputs": [
    {
     "data": {
      "text/plain": [
       "(69780,)"
      ]
     },
     "execution_count": 205,
     "metadata": {},
     "output_type": "execute_result"
    }
   ],
   "source": [
    "y.shape"
   ]
  },
  {
   "cell_type": "code",
   "execution_count": 129,
   "metadata": {},
   "outputs": [
    {
     "name": "stdout",
     "output_type": "stream",
     "text": [
      "28.10725342334574\n"
     ]
    },
    {
     "data": {
      "text/plain": [
       "<AxesSubplot:xlabel='Time', ylabel='Count'>"
      ]
     },
     "execution_count": 129,
     "metadata": {},
     "output_type": "execute_result"
    },
    {
     "data": {
      "image/png": "[encoded data removed]",
      "text/plain": [
       "<Figure size 432x288 with 1 Axes>"
      ]
     },
     "metadata": {},
     "output_type": "display_data"
    }
   ],
   "source": [
    "print(y.mean()*60)\n",
    "import seaborn as sns\n",
    "sns.histplot(data=ordersdf, x=y*60, kde=True)"
   ]
  },
  {
   "cell_type": "code",
   "execution_count": null,
   "metadata": {},
   "outputs": [],
   "source": [
    "\n",
    "#so these all can be considered as sort of outliers.. but the way the orders are being processed needs to be drilled down\n",
    "#i guess this has to do with different products. "
   ]
  },
  {
   "cell_type": "code",
   "execution_count": 219,
   "metadata": {},
   "outputs": [
    {
     "data": {
      "text/html": [
       "<div>\n",
       "<style scoped>\n",
       "    .dataframe tbody tr th:only-of-type {\n",
       "        vertical-align: middle;\n",
       "    }\n",
       "\n",
       "    .dataframe tbody tr th {\n",
       "        vertical-align: top;\n",
       "    }\n",
       "\n",
       "    .dataframe thead th {\n",
       "        text-align: right;\n",
       "    }\n",
       "</style>\n",
       "<table border=\"1\" class=\"dataframe\">\n",
       "  <thead>\n",
       "    <tr style=\"text-align: right;\">\n",
       "      <th></th>\n",
       "      <th>order_id</th>\n",
       "      <th>customer_id</th>\n",
       "      <th>order_status</th>\n",
       "      <th>Purchased_At</th>\n",
       "      <th>Approved_At</th>\n",
       "      <th>Delivered_to_Carrier_On</th>\n",
       "      <th>Delivered_to_Customer_On</th>\n",
       "      <th>Estimated_Delivery_On</th>\n",
       "      <th>between_order_approval</th>\n",
       "      <th>Time</th>\n",
       "    </tr>\n",
       "  </thead>\n",
       "  <tbody>\n",
       "    <tr>\n",
       "      <th>1</th>\n",
       "      <td>53cdb2fc8bc7dce0b6741e2150273451</td>\n",
       "      <td>b0830fb4747a6c6d20dea0b8c802d7ef</td>\n",
       "      <td>delivered</td>\n",
       "      <td>2018-07-24 20:41:37</td>\n",
       "      <td>2018-07-26 03:24:27</td>\n",
       "      <td>2018-07-26 14:31:00</td>\n",
       "      <td>2018-08-07 15:27:45</td>\n",
       "      <td>2018-08-13</td>\n",
       "      <td>1 days 06:42:50</td>\n",
       "      <td>30.713889</td>\n",
       "    </tr>\n",
       "    <tr>\n",
       "      <th>8</th>\n",
       "      <td>76c6e866289321a7c93b82b54852dc33</td>\n",
       "      <td>f54a9f0e6b351c431402b8461ea51999</td>\n",
       "      <td>delivered</td>\n",
       "      <td>2017-01-23 18:29:09</td>\n",
       "      <td>2017-01-25 02:50:47</td>\n",
       "      <td>2017-01-26 14:16:31</td>\n",
       "      <td>2017-02-02 14:08:10</td>\n",
       "      <td>2017-03-06</td>\n",
       "      <td>1 days 08:21:38</td>\n",
       "      <td>32.360556</td>\n",
       "    </tr>\n",
       "    <tr>\n",
       "      <th>20</th>\n",
       "      <td>203096f03d82e0dffbc41ebc2e2bcfb7</td>\n",
       "      <td>d2b091571da224a1b36412c18bc3bbfe</td>\n",
       "      <td>delivered</td>\n",
       "      <td>2017-09-18 14:31:30</td>\n",
       "      <td>2017-09-19 04:04:09</td>\n",
       "      <td>2017-10-06 17:50:03</td>\n",
       "      <td>2017-10-09 22:23:46</td>\n",
       "      <td>2017-09-28</td>\n",
       "      <td>0 days 13:32:39</td>\n",
       "      <td>13.544167</td>\n",
       "    </tr>\n",
       "    <tr>\n",
       "      <th>24</th>\n",
       "      <td>f3e7c359154d965827355f39d6b1fdac</td>\n",
       "      <td>62b423aab58096ca514ba6aa06be2f98</td>\n",
       "      <td>delivered</td>\n",
       "      <td>2018-08-09 11:44:40</td>\n",
       "      <td>2018-08-10 03:24:51</td>\n",
       "      <td>2018-08-10 12:29:00</td>\n",
       "      <td>2018-08-13 18:24:27</td>\n",
       "      <td>2018-08-17</td>\n",
       "      <td>0 days 15:40:11</td>\n",
       "      <td>15.669722</td>\n",
       "    </tr>\n",
       "    <tr>\n",
       "      <th>25</th>\n",
       "      <td>fbf9ac61453ac646ce8ad9783d7d0af6</td>\n",
       "      <td>3a874b4d4c4b6543206ff5d89287f0c3</td>\n",
       "      <td>delivered</td>\n",
       "      <td>2018-02-20 23:46:53</td>\n",
       "      <td>2018-02-22 02:30:46</td>\n",
       "      <td>2018-02-26 22:25:22</td>\n",
       "      <td>2018-03-21 22:03:54</td>\n",
       "      <td>2018-03-12</td>\n",
       "      <td>1 days 02:43:53</td>\n",
       "      <td>26.731389</td>\n",
       "    </tr>\n",
       "    <tr>\n",
       "      <th>...</th>\n",
       "      <td>...</td>\n",
       "      <td>...</td>\n",
       "      <td>...</td>\n",
       "      <td>...</td>\n",
       "      <td>...</td>\n",
       "      <td>...</td>\n",
       "      <td>...</td>\n",
       "      <td>...</td>\n",
       "      <td>...</td>\n",
       "      <td>...</td>\n",
       "    </tr>\n",
       "    <tr>\n",
       "      <th>99410</th>\n",
       "      <td>71c4b7b8844a031b7db8ca41c41d4aae</td>\n",
       "      <td>dce0014426964924f9564758e4fadcbf</td>\n",
       "      <td>delivered</td>\n",
       "      <td>2017-09-03 20:52:34</td>\n",
       "      <td>2017-09-05 04:10:34</td>\n",
       "      <td>2017-09-05 17:47:58</td>\n",
       "      <td>2017-09-14 15:49:47</td>\n",
       "      <td>2017-10-03</td>\n",
       "      <td>1 days 07:18:00</td>\n",
       "      <td>31.300000</td>\n",
       "    </tr>\n",
       "    <tr>\n",
       "      <th>99411</th>\n",
       "      <td>4a69678ecf74bfd34260031c04329b68</td>\n",
       "      <td>eb19f77ffd29917f353d12152b0c0de1</td>\n",
       "      <td>delivered</td>\n",
       "      <td>2018-07-22 16:58:38</td>\n",
       "      <td>2018-07-23 12:32:05</td>\n",
       "      <td>2018-07-23 15:12:00</td>\n",
       "      <td>2018-07-24 22:46:38</td>\n",
       "      <td>2018-07-31</td>\n",
       "      <td>0 days 19:33:27</td>\n",
       "      <td>19.557500</td>\n",
       "    </tr>\n",
       "    <tr>\n",
       "      <th>99420</th>\n",
       "      <td>f9e3402be5a5ea63344347582ca9f45f</td>\n",
       "      <td>6f2cf56878f7f82151b0ad02590192c0</td>\n",
       "      <td>delivered</td>\n",
       "      <td>2017-06-07 11:02:37</td>\n",
       "      <td>2017-06-08 02:45:24</td>\n",
       "      <td>2017-06-08 14:03:29</td>\n",
       "      <td>2017-06-19 19:19:30</td>\n",
       "      <td>2017-07-05</td>\n",
       "      <td>0 days 15:42:47</td>\n",
       "      <td>15.713056</td>\n",
       "    </tr>\n",
       "    <tr>\n",
       "      <th>99423</th>\n",
       "      <td>38e9133ce29f6bbe35aed9c3863dce01</td>\n",
       "      <td>ad312389a098ceff46ce92c4595c06d0</td>\n",
       "      <td>delivered</td>\n",
       "      <td>2017-10-12 20:54:11</td>\n",
       "      <td>2017-10-14 03:28:24</td>\n",
       "      <td>2017-10-17 17:04:42</td>\n",
       "      <td>2017-11-21 17:06:59</td>\n",
       "      <td>2017-10-31</td>\n",
       "      <td>1 days 06:34:13</td>\n",
       "      <td>30.570278</td>\n",
       "    </tr>\n",
       "    <tr>\n",
       "      <th>99440</th>\n",
       "      <td>66dea50a8b16d9b4dee7af250b4be1a5</td>\n",
       "      <td>edb027a75a1449115f6b43211ae02a24</td>\n",
       "      <td>delivered</td>\n",
       "      <td>2018-03-08 20:57:30</td>\n",
       "      <td>2018-03-09 11:20:28</td>\n",
       "      <td>2018-03-09 22:11:59</td>\n",
       "      <td>2018-03-16 13:08:30</td>\n",
       "      <td>2018-04-03</td>\n",
       "      <td>0 days 14:22:58</td>\n",
       "      <td>14.382778</td>\n",
       "    </tr>\n",
       "  </tbody>\n",
       "</table>\n",
       "<p>20520 rows × 10 columns</p>\n",
       "</div>"
      ],
      "text/plain": [
       "                               order_id                       customer_id  \\\n",
       "1      53cdb2fc8bc7dce0b6741e2150273451  b0830fb4747a6c6d20dea0b8c802d7ef   \n",
       "8      76c6e866289321a7c93b82b54852dc33  f54a9f0e6b351c431402b8461ea51999   \n",
       "20     203096f03d82e0dffbc41ebc2e2bcfb7  d2b091571da224a1b36412c18bc3bbfe   \n",
       "24     f3e7c359154d965827355f39d6b1fdac  62b423aab58096ca514ba6aa06be2f98   \n",
       "25     fbf9ac61453ac646ce8ad9783d7d0af6  3a874b4d4c4b6543206ff5d89287f0c3   \n",
       "...                                 ...                               ...   \n",
       "99410  71c4b7b8844a031b7db8ca41c41d4aae  dce0014426964924f9564758e4fadcbf   \n",
       "99411  4a69678ecf74bfd34260031c04329b68  eb19f77ffd29917f353d12152b0c0de1   \n",
       "99420  f9e3402be5a5ea63344347582ca9f45f  6f2cf56878f7f82151b0ad02590192c0   \n",
       "99423  38e9133ce29f6bbe35aed9c3863dce01  ad312389a098ceff46ce92c4595c06d0   \n",
       "99440  66dea50a8b16d9b4dee7af250b4be1a5  edb027a75a1449115f6b43211ae02a24   \n",
       "\n",
       "      order_status        Purchased_At         Approved_At  \\\n",
       "1        delivered 2018-07-24 20:41:37 2018-07-26 03:24:27   \n",
       "8        delivered 2017-01-23 18:29:09 2017-01-25 02:50:47   \n",
       "20       delivered 2017-09-18 14:31:30 2017-09-19 04:04:09   \n",
       "24       delivered 2018-08-09 11:44:40 2018-08-10 03:24:51   \n",
       "25       delivered 2018-02-20 23:46:53 2018-02-22 02:30:46   \n",
       "...            ...                 ...                 ...   \n",
       "99410    delivered 2017-09-03 20:52:34 2017-09-05 04:10:34   \n",
       "99411    delivered 2018-07-22 16:58:38 2018-07-23 12:32:05   \n",
       "99420    delivered 2017-06-07 11:02:37 2017-06-08 02:45:24   \n",
       "99423    delivered 2017-10-12 20:54:11 2017-10-14 03:28:24   \n",
       "99440    delivered 2018-03-08 20:57:30 2018-03-09 11:20:28   \n",
       "\n",
       "      Delivered_to_Carrier_On Delivered_to_Customer_On Estimated_Delivery_On  \\\n",
       "1         2018-07-26 14:31:00      2018-08-07 15:27:45            2018-08-13   \n",
       "8         2017-01-26 14:16:31      2017-02-02 14:08:10            2017-03-06   \n",
       "20        2017-10-06 17:50:03      2017-10-09 22:23:46            2017-09-28   \n",
       "24        2018-08-10 12:29:00      2018-08-13 18:24:27            2018-08-17   \n",
       "25        2018-02-26 22:25:22      2018-03-21 22:03:54            2018-03-12   \n",
       "...                       ...                      ...                   ...   \n",
       "99410     2017-09-05 17:47:58      2017-09-14 15:49:47            2017-10-03   \n",
       "99411     2018-07-23 15:12:00      2018-07-24 22:46:38            2018-07-31   \n",
       "99420     2017-06-08 14:03:29      2017-06-19 19:19:30            2017-07-05   \n",
       "99423     2017-10-17 17:04:42      2017-11-21 17:06:59            2017-10-31   \n",
       "99440     2018-03-09 22:11:59      2018-03-16 13:08:30            2018-04-03   \n",
       "\n",
       "      between_order_approval       Time  \n",
       "1            1 days 06:42:50  30.713889  \n",
       "8            1 days 08:21:38  32.360556  \n",
       "20           0 days 13:32:39  13.544167  \n",
       "24           0 days 15:40:11  15.669722  \n",
       "25           1 days 02:43:53  26.731389  \n",
       "...                      ...        ...  \n",
       "99410        1 days 07:18:00  31.300000  \n",
       "99411        0 days 19:33:27  19.557500  \n",
       "99420        0 days 15:42:47  15.713056  \n",
       "99423        1 days 06:34:13  30.570278  \n",
       "99440        0 days 14:22:58  14.382778  \n",
       "\n",
       "[20520 rows x 10 columns]"
      ]
     },
     "execution_count": 219,
     "metadata": {},
     "output_type": "execute_result"
    }
   ],
   "source": [
    "ordersdf.loc[out_liers1.index]"
   ]
  },
  {
   "cell_type": "code",
   "execution_count": 208,
   "metadata": {},
   "outputs": [],
   "source": [
    "fso=ordersdf.loc[out_liers.index]"
   ]
  },
  {
   "cell_type": "code",
   "execution_count": 220,
   "metadata": {},
   "outputs": [
    {
     "data": {
      "text/html": [
       "<div>\n",
       "<style scoped>\n",
       "    .dataframe tbody tr th:only-of-type {\n",
       "        vertical-align: middle;\n",
       "    }\n",
       "\n",
       "    .dataframe tbody tr th {\n",
       "        vertical-align: top;\n",
       "    }\n",
       "\n",
       "    .dataframe thead th {\n",
       "        text-align: right;\n",
       "    }\n",
       "</style>\n",
       "<table border=\"1\" class=\"dataframe\">\n",
       "  <thead>\n",
       "    <tr style=\"text-align: right;\">\n",
       "      <th></th>\n",
       "      <th>order_id</th>\n",
       "      <th>customer_id</th>\n",
       "      <th>order_status</th>\n",
       "      <th>Purchased_At</th>\n",
       "      <th>Approved_At</th>\n",
       "      <th>Delivered_to_Carrier_On</th>\n",
       "      <th>Delivered_to_Customer_On</th>\n",
       "      <th>Estimated_Delivery_On</th>\n",
       "      <th>between_order_approval</th>\n",
       "      <th>Time</th>\n",
       "    </tr>\n",
       "  </thead>\n",
       "  <tbody>\n",
       "    <tr>\n",
       "      <th>6</th>\n",
       "      <td>136cce7faa42fdb2cefd53fdc79a6098</td>\n",
       "      <td>ed0271e0b7da060a393796590e7b737a</td>\n",
       "      <td>invoiced</td>\n",
       "      <td>2017-04-11 12:22:08</td>\n",
       "      <td>2017-04-13 13:25:17</td>\n",
       "      <td>NaT</td>\n",
       "      <td>NaT</td>\n",
       "      <td>2017-05-09</td>\n",
       "      <td>2 days 01:03:09</td>\n",
       "      <td>49.052500</td>\n",
       "    </tr>\n",
       "    <tr>\n",
       "      <th>12</th>\n",
       "      <td>82566a660a982b15fb86e904c8d32918</td>\n",
       "      <td>d3e3b74c766bc6214e0c830b17ee2341</td>\n",
       "      <td>delivered</td>\n",
       "      <td>2018-06-07 10:06:19</td>\n",
       "      <td>2018-06-09 03:13:12</td>\n",
       "      <td>2018-06-11 13:29:00</td>\n",
       "      <td>2018-06-19 12:05:52</td>\n",
       "      <td>2018-07-18</td>\n",
       "      <td>1 days 17:06:53</td>\n",
       "      <td>41.114722</td>\n",
       "    </tr>\n",
       "    <tr>\n",
       "      <th>15</th>\n",
       "      <td>dcb36b511fcac050b97cd5c05de84dc3</td>\n",
       "      <td>3b6828a50ffe546942b7a473d70ac0fc</td>\n",
       "      <td>delivered</td>\n",
       "      <td>2018-06-07 19:03:12</td>\n",
       "      <td>2018-06-12 23:31:02</td>\n",
       "      <td>2018-06-11 14:54:00</td>\n",
       "      <td>2018-06-21 15:34:32</td>\n",
       "      <td>2018-07-04</td>\n",
       "      <td>5 days 04:27:50</td>\n",
       "      <td>124.463889</td>\n",
       "    </tr>\n",
       "    <tr>\n",
       "      <th>30</th>\n",
       "      <td>f70a0aff17df5a6cdd9a7196128bd354</td>\n",
       "      <td>456dc10730fbdba34615447ea195d643</td>\n",
       "      <td>delivered</td>\n",
       "      <td>2017-08-10 11:58:33</td>\n",
       "      <td>2017-08-12 02:45:24</td>\n",
       "      <td>2017-08-17 15:35:07</td>\n",
       "      <td>2017-08-18 14:28:02</td>\n",
       "      <td>2017-08-23</td>\n",
       "      <td>1 days 14:46:51</td>\n",
       "      <td>38.780833</td>\n",
       "    </tr>\n",
       "    <tr>\n",
       "      <th>32</th>\n",
       "      <td>989225ba6d0ebd5873335f7e01de2ae7</td>\n",
       "      <td>816f8653d5361cbf94e58c33f2502a5c</td>\n",
       "      <td>delivered</td>\n",
       "      <td>2017-12-12 13:56:04</td>\n",
       "      <td>2017-12-14 13:54:13</td>\n",
       "      <td>2017-12-16 00:18:57</td>\n",
       "      <td>2018-01-03 18:03:36</td>\n",
       "      <td>2018-01-08</td>\n",
       "      <td>1 days 23:58:09</td>\n",
       "      <td>47.969167</td>\n",
       "    </tr>\n",
       "    <tr>\n",
       "      <th>...</th>\n",
       "      <td>...</td>\n",
       "      <td>...</td>\n",
       "      <td>...</td>\n",
       "      <td>...</td>\n",
       "      <td>...</td>\n",
       "      <td>...</td>\n",
       "      <td>...</td>\n",
       "      <td>...</td>\n",
       "      <td>...</td>\n",
       "      <td>...</td>\n",
       "    </tr>\n",
       "    <tr>\n",
       "      <th>99388</th>\n",
       "      <td>c0524fb1b4c905d054adbddaffa2380c</td>\n",
       "      <td>92e8f9754238b9697d9dcbe02c20fc70</td>\n",
       "      <td>delivered</td>\n",
       "      <td>2017-11-24 16:44:08</td>\n",
       "      <td>2017-11-28 03:39:41</td>\n",
       "      <td>2017-12-01 17:29:06</td>\n",
       "      <td>2017-12-11 18:09:24</td>\n",
       "      <td>2017-12-22</td>\n",
       "      <td>3 days 10:55:33</td>\n",
       "      <td>82.925833</td>\n",
       "    </tr>\n",
       "    <tr>\n",
       "      <th>99391</th>\n",
       "      <td>e8455c3c0bc5471436a335a0de392761</td>\n",
       "      <td>3a4562b466aea32a6aa09fe85e67d400</td>\n",
       "      <td>delivered</td>\n",
       "      <td>2018-02-13 10:42:15</td>\n",
       "      <td>2018-02-15 03:47:45</td>\n",
       "      <td>2018-02-21 20:33:20</td>\n",
       "      <td>2018-03-02 00:28:57</td>\n",
       "      <td>2018-03-09</td>\n",
       "      <td>1 days 17:05:30</td>\n",
       "      <td>41.091667</td>\n",
       "    </tr>\n",
       "    <tr>\n",
       "      <th>99392</th>\n",
       "      <td>33baefa752f2d98a008d4330d306d3db</td>\n",
       "      <td>8b764335e86e1a8f8d3db9f119e03a79</td>\n",
       "      <td>delivered</td>\n",
       "      <td>2017-04-23 14:47:39</td>\n",
       "      <td>2017-04-25 08:11:27</td>\n",
       "      <td>2017-04-25 13:24:03</td>\n",
       "      <td>2017-05-05 13:26:31</td>\n",
       "      <td>2017-05-15</td>\n",
       "      <td>1 days 17:23:48</td>\n",
       "      <td>41.396667</td>\n",
       "    </tr>\n",
       "    <tr>\n",
       "      <th>99406</th>\n",
       "      <td>7fd85cb0143de098a4c5ab5a57bfbd91</td>\n",
       "      <td>d32034dfc685b1ae15dd4c78eace868e</td>\n",
       "      <td>delivered</td>\n",
       "      <td>2017-05-04 21:05:28</td>\n",
       "      <td>2017-05-09 22:33:28</td>\n",
       "      <td>2017-05-09 17:02:58</td>\n",
       "      <td>2017-05-18 06:34:38</td>\n",
       "      <td>2017-06-01</td>\n",
       "      <td>5 days 01:28:00</td>\n",
       "      <td>121.466667</td>\n",
       "    </tr>\n",
       "    <tr>\n",
       "      <th>99415</th>\n",
       "      <td>5fabc81b6322c8443648e1b21a6fef21</td>\n",
       "      <td>32c9df889d41b0ee8309a5efb6855dcb</td>\n",
       "      <td>unavailable</td>\n",
       "      <td>2017-10-10 10:50:03</td>\n",
       "      <td>2017-10-14 18:35:57</td>\n",
       "      <td>NaT</td>\n",
       "      <td>NaT</td>\n",
       "      <td>2017-10-23</td>\n",
       "      <td>4 days 07:45:54</td>\n",
       "      <td>103.765000</td>\n",
       "    </tr>\n",
       "  </tbody>\n",
       "</table>\n",
       "<p>9141 rows × 10 columns</p>\n",
       "</div>"
      ],
      "text/plain": [
       "                               order_id                       customer_id  \\\n",
       "6      136cce7faa42fdb2cefd53fdc79a6098  ed0271e0b7da060a393796590e7b737a   \n",
       "12     82566a660a982b15fb86e904c8d32918  d3e3b74c766bc6214e0c830b17ee2341   \n",
       "15     dcb36b511fcac050b97cd5c05de84dc3  3b6828a50ffe546942b7a473d70ac0fc   \n",
       "30     f70a0aff17df5a6cdd9a7196128bd354  456dc10730fbdba34615447ea195d643   \n",
       "32     989225ba6d0ebd5873335f7e01de2ae7  816f8653d5361cbf94e58c33f2502a5c   \n",
       "...                                 ...                               ...   \n",
       "99388  c0524fb1b4c905d054adbddaffa2380c  92e8f9754238b9697d9dcbe02c20fc70   \n",
       "99391  e8455c3c0bc5471436a335a0de392761  3a4562b466aea32a6aa09fe85e67d400   \n",
       "99392  33baefa752f2d98a008d4330d306d3db  8b764335e86e1a8f8d3db9f119e03a79   \n",
       "99406  7fd85cb0143de098a4c5ab5a57bfbd91  d32034dfc685b1ae15dd4c78eace868e   \n",
       "99415  5fabc81b6322c8443648e1b21a6fef21  32c9df889d41b0ee8309a5efb6855dcb   \n",
       "\n",
       "      order_status        Purchased_At         Approved_At  \\\n",
       "6         invoiced 2017-04-11 12:22:08 2017-04-13 13:25:17   \n",
       "12       delivered 2018-06-07 10:06:19 2018-06-09 03:13:12   \n",
       "15       delivered 2018-06-07 19:03:12 2018-06-12 23:31:02   \n",
       "30       delivered 2017-08-10 11:58:33 2017-08-12 02:45:24   \n",
       "32       delivered 2017-12-12 13:56:04 2017-12-14 13:54:13   \n",
       "...            ...                 ...                 ...   \n",
       "99388    delivered 2017-11-24 16:44:08 2017-11-28 03:39:41   \n",
       "99391    delivered 2018-02-13 10:42:15 2018-02-15 03:47:45   \n",
       "99392    delivered 2017-04-23 14:47:39 2017-04-25 08:11:27   \n",
       "99406    delivered 2017-05-04 21:05:28 2017-05-09 22:33:28   \n",
       "99415  unavailable 2017-10-10 10:50:03 2017-10-14 18:35:57   \n",
       "\n",
       "      Delivered_to_Carrier_On Delivered_to_Customer_On Estimated_Delivery_On  \\\n",
       "6                         NaT                      NaT            2017-05-09   \n",
       "12        2018-06-11 13:29:00      2018-06-19 12:05:52            2018-07-18   \n",
       "15        2018-06-11 14:54:00      2018-06-21 15:34:32            2018-07-04   \n",
       "30        2017-08-17 15:35:07      2017-08-18 14:28:02            2017-08-23   \n",
       "32        2017-12-16 00:18:57      2018-01-03 18:03:36            2018-01-08   \n",
       "...                       ...                      ...                   ...   \n",
       "99388     2017-12-01 17:29:06      2017-12-11 18:09:24            2017-12-22   \n",
       "99391     2018-02-21 20:33:20      2018-03-02 00:28:57            2018-03-09   \n",
       "99392     2017-04-25 13:24:03      2017-05-05 13:26:31            2017-05-15   \n",
       "99406     2017-05-09 17:02:58      2017-05-18 06:34:38            2017-06-01   \n",
       "99415                     NaT                      NaT            2017-10-23   \n",
       "\n",
       "      between_order_approval        Time  \n",
       "6            2 days 01:03:09   49.052500  \n",
       "12           1 days 17:06:53   41.114722  \n",
       "15           5 days 04:27:50  124.463889  \n",
       "30           1 days 14:46:51   38.780833  \n",
       "32           1 days 23:58:09   47.969167  \n",
       "...                      ...         ...  \n",
       "99388        3 days 10:55:33   82.925833  \n",
       "99391        1 days 17:05:30   41.091667  \n",
       "99392        1 days 17:23:48   41.396667  \n",
       "99406        5 days 01:28:00  121.466667  \n",
       "99415        4 days 07:45:54  103.765000  \n",
       "\n",
       "[9141 rows x 10 columns]"
      ]
     },
     "execution_count": 220,
     "metadata": {},
     "output_type": "execute_result"
    }
   ],
   "source": [
    "fso"
   ]
  },
  {
   "cell_type": "code",
   "execution_count": 210,
   "metadata": {},
   "outputs": [
    {
     "data": {
      "text/plain": [
       "order_id                    9141\n",
       "customer_id                 9141\n",
       "order_status                   7\n",
       "Purchased_At                9121\n",
       "Approved_At                 8299\n",
       "Delivered_to_Carrier_On     8574\n",
       "Delivered_to_Customer_On    8830\n",
       "Estimated_Delivery_On        424\n",
       "between_order_approval      8835\n",
       "Time                        8835\n",
       "dtype: int64"
      ]
     },
     "execution_count": 210,
     "metadata": {},
     "output_type": "execute_result"
    }
   ],
   "source": [
    "fso.nunique()"
   ]
  },
  {
   "cell_type": "code",
   "execution_count": 211,
   "metadata": {},
   "outputs": [
    {
     "data": {
      "text/plain": [
       "delivered      8834\n",
       "shipped         112\n",
       "unavailable      93\n",
       "canceled         46\n",
       "processing       33\n",
       "invoiced         22\n",
       "approved          1\n",
       "Name: order_status, dtype: int64"
      ]
     },
     "execution_count": 211,
     "metadata": {},
     "output_type": "execute_result"
    }
   ],
   "source": [
    "fso['order_status'].value_counts()"
   ]
  },
  {
   "cell_type": "code",
   "execution_count": 214,
   "metadata": {},
   "outputs": [
    {
     "data": {
      "text/plain": [
       "order_id                      0\n",
       "customer_id                   0\n",
       "order_status                  0\n",
       "Purchased_At                  0\n",
       "Approved_At                   0\n",
       "Delivered_to_Carrier_On     189\n",
       "Delivered_to_Customer_On    307\n",
       "Estimated_Delivery_On         0\n",
       "between_order_approval        0\n",
       "Time                          0\n",
       "dtype: int64"
      ]
     },
     "execution_count": 214,
     "metadata": {},
     "output_type": "execute_result"
    }
   ],
   "source": [
    "fso.isnull().sum()"
   ]
  },
  {
   "cell_type": "code",
   "execution_count": 217,
   "metadata": {},
   "outputs": [
    {
     "data": {
      "text/plain": [
       "<AxesSubplot:xlabel='Time', ylabel='Count'>"
      ]
     },
     "execution_count": 217,
     "metadata": {},
     "output_type": "execute_result"
    },
    {
     "data": {
      "image/png": "[encoded data removed]",
      "text/plain": [
       "<Figure size 432x288 with 1 Axes>"
      ]
     },
     "metadata": {},
     "output_type": "display_data"
    }
   ],
   "source": [
    "import seaborn as sns\n",
    "sns.histplot(data=fso, x='Time', kde=True)"
   ]
  },
  {
   "cell_type": "code",
   "execution_count": null,
   "metadata": {},
   "outputs": [],
   "source": []
  },
  {
   "cell_type": "code",
   "execution_count": 218,
   "metadata": {},
   "outputs": [
    {
     "data": {
      "text/plain": [
       "61.83722620306561"
      ]
     },
     "execution_count": 218,
     "metadata": {},
     "output_type": "execute_result"
    }
   ],
   "source": [
    "fso['Time'].mean()"
   ]
  },
  {
   "cell_type": "code",
   "execution_count": 222,
   "metadata": {},
   "outputs": [
    {
     "name": "stdout",
     "output_type": "stream",
     "text": [
      "30.397777777777776\n"
     ]
    }
   ],
   "source": [
    "m= fso['Time']\n",
    "Q1 = m.quantile(0.25)\n",
    "Q3 = m.quantile(0.75)\n",
    "IQR = Q3 - Q1\n",
    "print(IQR)\n",
    "out_liers2= m [(m < (Q1 - 1.5 * IQR)) |(m > (Q3 + 1.5 * IQR))]\n",
    "rows = out_liers2.index\n",
    "l=m.drop(rows).copy()"
   ]
  },
  {
   "cell_type": "code",
   "execution_count": 225,
   "metadata": {},
   "outputs": [
    {
     "data": {
      "text/plain": [
       "56.614667759729535"
      ]
     },
     "execution_count": 225,
     "metadata": {},
     "output_type": "execute_result"
    }
   ],
   "source": [
    "l.mean()"
   ]
  },
  {
   "cell_type": "code",
   "execution_count": 223,
   "metadata": {},
   "outputs": [
    {
     "data": {
      "text/plain": [
       "<AxesSubplot:xlabel='Time', ylabel='Count'>"
      ]
     },
     "execution_count": 223,
     "metadata": {},
     "output_type": "execute_result"
    },
    {
     "data": {
      "image/png": "[encoded data removed]",
      "text/plain": [
       "<Figure size 432x288 with 1 Axes>"
      ]
     },
     "metadata": {},
     "output_type": "display_data"
    }
   ],
   "source": [
    "import seaborn as sns\n",
    "sns.histplot(data=fso, x=l, kde=True)"
   ]
  },
  {
   "cell_type": "code",
   "execution_count": null,
   "metadata": {},
   "outputs": [],
   "source": [
    "## We can say looking at the results below what we are saying as an outlier might be a specific product which may\n",
    "## not have a frequent sales but its approval takes time as the outliers below show that "
   ]
  },
  {
   "cell_type": "code",
   "execution_count": 235,
   "metadata": {},
   "outputs": [],
   "source": [
    "b=fso.loc[out_liers2.index]"
   ]
  },
  {
   "cell_type": "code",
   "execution_count": 236,
   "metadata": {},
   "outputs": [
    {
     "data": {
      "text/html": [
       "<div>\n",
       "<style scoped>\n",
       "    .dataframe tbody tr th:only-of-type {\n",
       "        vertical-align: middle;\n",
       "    }\n",
       "\n",
       "    .dataframe tbody tr th {\n",
       "        vertical-align: top;\n",
       "    }\n",
       "\n",
       "    .dataframe thead th {\n",
       "        text-align: right;\n",
       "    }\n",
       "</style>\n",
       "<table border=\"1\" class=\"dataframe\">\n",
       "  <thead>\n",
       "    <tr style=\"text-align: right;\">\n",
       "      <th></th>\n",
       "      <th>order_id</th>\n",
       "      <th>customer_id</th>\n",
       "      <th>order_status</th>\n",
       "      <th>Purchased_At</th>\n",
       "      <th>Approved_At</th>\n",
       "      <th>Delivered_to_Carrier_On</th>\n",
       "      <th>Delivered_to_Customer_On</th>\n",
       "      <th>Estimated_Delivery_On</th>\n",
       "      <th>between_order_approval</th>\n",
       "      <th>Time</th>\n",
       "    </tr>\n",
       "  </thead>\n",
       "  <tbody>\n",
       "    <tr>\n",
       "      <th>15</th>\n",
       "      <td>dcb36b511fcac050b97cd5c05de84dc3</td>\n",
       "      <td>3b6828a50ffe546942b7a473d70ac0fc</td>\n",
       "      <td>delivered</td>\n",
       "      <td>2018-06-07 19:03:12</td>\n",
       "      <td>2018-06-12 23:31:02</td>\n",
       "      <td>2018-06-11 14:54:00</td>\n",
       "      <td>2018-06-21 15:34:32</td>\n",
       "      <td>2018-07-04</td>\n",
       "      <td>5 days 04:27:50</td>\n",
       "      <td>124.463889</td>\n",
       "    </tr>\n",
       "    <tr>\n",
       "      <th>199</th>\n",
       "      <td>58d4c4747ee059eeeb865b349b41f53a</td>\n",
       "      <td>1755fad7863475346bc6c3773fe055d3</td>\n",
       "      <td>delivered</td>\n",
       "      <td>2018-07-21 12:49:32</td>\n",
       "      <td>2018-07-26 23:31:53</td>\n",
       "      <td>2018-07-24 12:57:00</td>\n",
       "      <td>2018-07-25 23:58:19</td>\n",
       "      <td>2018-07-31</td>\n",
       "      <td>5 days 10:42:21</td>\n",
       "      <td>130.705833</td>\n",
       "    </tr>\n",
       "    <tr>\n",
       "      <th>415</th>\n",
       "      <td>56a4ac10a4a8f2ba7693523bb439eede</td>\n",
       "      <td>78438ba6ace7d2cb023dbbc81b083562</td>\n",
       "      <td>delivered</td>\n",
       "      <td>2018-07-22 13:04:47</td>\n",
       "      <td>2018-07-27 23:31:09</td>\n",
       "      <td>2018-07-24 14:03:00</td>\n",
       "      <td>2018-07-28 00:05:39</td>\n",
       "      <td>2018-08-06</td>\n",
       "      <td>5 days 10:26:22</td>\n",
       "      <td>130.439444</td>\n",
       "    </tr>\n",
       "    <tr>\n",
       "      <th>483</th>\n",
       "      <td>4df92d82d79c3b52c7138679fa9b07fc</td>\n",
       "      <td>ba0660bf3fffe505ee892e153a2fbd49</td>\n",
       "      <td>delivered</td>\n",
       "      <td>2018-07-24 11:32:11</td>\n",
       "      <td>2018-07-29 23:30:52</td>\n",
       "      <td>2018-07-26 14:46:00</td>\n",
       "      <td>2018-07-27 18:55:57</td>\n",
       "      <td>2018-08-06</td>\n",
       "      <td>5 days 11:58:41</td>\n",
       "      <td>131.978056</td>\n",
       "    </tr>\n",
       "    <tr>\n",
       "      <th>1437</th>\n",
       "      <td>d5292f531e571c16fcd72df9fc07336d</td>\n",
       "      <td>2ef9aa87865d1090e352dcc1b116ac23</td>\n",
       "      <td>delivered</td>\n",
       "      <td>2017-04-26 10:48:55</td>\n",
       "      <td>2017-05-01 22:34:22</td>\n",
       "      <td>2017-05-05 10:38:40</td>\n",
       "      <td>2017-05-18 12:20:09</td>\n",
       "      <td>2017-05-19</td>\n",
       "      <td>5 days 11:45:27</td>\n",
       "      <td>131.757500</td>\n",
       "    </tr>\n",
       "    <tr>\n",
       "      <th>...</th>\n",
       "      <td>...</td>\n",
       "      <td>...</td>\n",
       "      <td>...</td>\n",
       "      <td>...</td>\n",
       "      <td>...</td>\n",
       "      <td>...</td>\n",
       "      <td>...</td>\n",
       "      <td>...</td>\n",
       "      <td>...</td>\n",
       "      <td>...</td>\n",
       "    </tr>\n",
       "    <tr>\n",
       "      <th>98884</th>\n",
       "      <td>67884ec2877808808c25211dce58689b</td>\n",
       "      <td>08ab9916d3e6d664efe2862d1a764d88</td>\n",
       "      <td>delivered</td>\n",
       "      <td>2017-05-07 12:31:08</td>\n",
       "      <td>2017-05-12 21:33:56</td>\n",
       "      <td>2017-05-10 11:43:58</td>\n",
       "      <td>2017-05-16 07:57:33</td>\n",
       "      <td>2017-05-29</td>\n",
       "      <td>5 days 09:02:48</td>\n",
       "      <td>129.046667</td>\n",
       "    </tr>\n",
       "    <tr>\n",
       "      <th>99266</th>\n",
       "      <td>76a948cd55bf22799753720d4545dd2d</td>\n",
       "      <td>3f20a07b28aa252d0502fe7f7eb030a9</td>\n",
       "      <td>delivered</td>\n",
       "      <td>2018-01-30 02:41:30</td>\n",
       "      <td>2018-02-04 23:31:46</td>\n",
       "      <td>2018-01-31 18:11:58</td>\n",
       "      <td>2018-03-18 20:08:50</td>\n",
       "      <td>2018-03-02</td>\n",
       "      <td>5 days 20:50:16</td>\n",
       "      <td>140.837778</td>\n",
       "    </tr>\n",
       "    <tr>\n",
       "      <th>99290</th>\n",
       "      <td>017cf0b342401318dcaeb25478e13a6f</td>\n",
       "      <td>131227776a8b159a13938a0abfa95c5f</td>\n",
       "      <td>delivered</td>\n",
       "      <td>2017-12-30 02:09:39</td>\n",
       "      <td>2018-01-04 23:17:29</td>\n",
       "      <td>2018-01-09 23:16:11</td>\n",
       "      <td>2018-01-13 17:04:53</td>\n",
       "      <td>2018-02-01</td>\n",
       "      <td>5 days 21:07:50</td>\n",
       "      <td>141.130556</td>\n",
       "    </tr>\n",
       "    <tr>\n",
       "      <th>99348</th>\n",
       "      <td>a69ba794cc7deb415c3e15a0a3877e69</td>\n",
       "      <td>726f0894b5becdf952ea537d5266e543</td>\n",
       "      <td>unavailable</td>\n",
       "      <td>2017-08-23 16:28:04</td>\n",
       "      <td>2017-08-28 15:44:47</td>\n",
       "      <td>NaT</td>\n",
       "      <td>NaT</td>\n",
       "      <td>2017-09-15</td>\n",
       "      <td>4 days 23:16:43</td>\n",
       "      <td>119.278611</td>\n",
       "    </tr>\n",
       "    <tr>\n",
       "      <th>99406</th>\n",
       "      <td>7fd85cb0143de098a4c5ab5a57bfbd91</td>\n",
       "      <td>d32034dfc685b1ae15dd4c78eace868e</td>\n",
       "      <td>delivered</td>\n",
       "      <td>2017-05-04 21:05:28</td>\n",
       "      <td>2017-05-09 22:33:28</td>\n",
       "      <td>2017-05-09 17:02:58</td>\n",
       "      <td>2017-05-18 06:34:38</td>\n",
       "      <td>2017-06-01</td>\n",
       "      <td>5 days 01:28:00</td>\n",
       "      <td>121.466667</td>\n",
       "    </tr>\n",
       "  </tbody>\n",
       "</table>\n",
       "<p>399 rows × 10 columns</p>\n",
       "</div>"
      ],
      "text/plain": [
       "                               order_id                       customer_id  \\\n",
       "15     dcb36b511fcac050b97cd5c05de84dc3  3b6828a50ffe546942b7a473d70ac0fc   \n",
       "199    58d4c4747ee059eeeb865b349b41f53a  1755fad7863475346bc6c3773fe055d3   \n",
       "415    56a4ac10a4a8f2ba7693523bb439eede  78438ba6ace7d2cb023dbbc81b083562   \n",
       "483    4df92d82d79c3b52c7138679fa9b07fc  ba0660bf3fffe505ee892e153a2fbd49   \n",
       "1437   d5292f531e571c16fcd72df9fc07336d  2ef9aa87865d1090e352dcc1b116ac23   \n",
       "...                                 ...                               ...   \n",
       "98884  67884ec2877808808c25211dce58689b  08ab9916d3e6d664efe2862d1a764d88   \n",
       "99266  76a948cd55bf22799753720d4545dd2d  3f20a07b28aa252d0502fe7f7eb030a9   \n",
       "99290  017cf0b342401318dcaeb25478e13a6f  131227776a8b159a13938a0abfa95c5f   \n",
       "99348  a69ba794cc7deb415c3e15a0a3877e69  726f0894b5becdf952ea537d5266e543   \n",
       "99406  7fd85cb0143de098a4c5ab5a57bfbd91  d32034dfc685b1ae15dd4c78eace868e   \n",
       "\n",
       "      order_status        Purchased_At         Approved_At  \\\n",
       "15       delivered 2018-06-07 19:03:12 2018-06-12 23:31:02   \n",
       "199      delivered 2018-07-21 12:49:32 2018-07-26 23:31:53   \n",
       "415      delivered 2018-07-22 13:04:47 2018-07-27 23:31:09   \n",
       "483      delivered 2018-07-24 11:32:11 2018-07-29 23:30:52   \n",
       "1437     delivered 2017-04-26 10:48:55 2017-05-01 22:34:22   \n",
       "...            ...                 ...                 ...   \n",
       "98884    delivered 2017-05-07 12:31:08 2017-05-12 21:33:56   \n",
       "99266    delivered 2018-01-30 02:41:30 2018-02-04 23:31:46   \n",
       "99290    delivered 2017-12-30 02:09:39 2018-01-04 23:17:29   \n",
       "99348  unavailable 2017-08-23 16:28:04 2017-08-28 15:44:47   \n",
       "99406    delivered 2017-05-04 21:05:28 2017-05-09 22:33:28   \n",
       "\n",
       "      Delivered_to_Carrier_On Delivered_to_Customer_On Estimated_Delivery_On  \\\n",
       "15        2018-06-11 14:54:00      2018-06-21 15:34:32            2018-07-04   \n",
       "199       2018-07-24 12:57:00      2018-07-25 23:58:19            2018-07-31   \n",
       "415       2018-07-24 14:03:00      2018-07-28 00:05:39            2018-08-06   \n",
       "483       2018-07-26 14:46:00      2018-07-27 18:55:57            2018-08-06   \n",
       "1437      2017-05-05 10:38:40      2017-05-18 12:20:09            2017-05-19   \n",
       "...                       ...                      ...                   ...   \n",
       "98884     2017-05-10 11:43:58      2017-05-16 07:57:33            2017-05-29   \n",
       "99266     2018-01-31 18:11:58      2018-03-18 20:08:50            2018-03-02   \n",
       "99290     2018-01-09 23:16:11      2018-01-13 17:04:53            2018-02-01   \n",
       "99348                     NaT                      NaT            2017-09-15   \n",
       "99406     2017-05-09 17:02:58      2017-05-18 06:34:38            2017-06-01   \n",
       "\n",
       "      between_order_approval        Time  \n",
       "15           5 days 04:27:50  124.463889  \n",
       "199          5 days 10:42:21  130.705833  \n",
       "415          5 days 10:26:22  130.439444  \n",
       "483          5 days 11:58:41  131.978056  \n",
       "1437         5 days 11:45:27  131.757500  \n",
       "...                      ...         ...  \n",
       "98884        5 days 09:02:48  129.046667  \n",
       "99266        5 days 20:50:16  140.837778  \n",
       "99290        5 days 21:07:50  141.130556  \n",
       "99348        4 days 23:16:43  119.278611  \n",
       "99406        5 days 01:28:00  121.466667  \n",
       "\n",
       "[399 rows x 10 columns]"
      ]
     },
     "execution_count": 236,
     "metadata": {},
     "output_type": "execute_result"
    }
   ],
   "source": [
    "b"
   ]
  },
  {
   "cell_type": "code",
   "execution_count": 237,
   "metadata": {},
   "outputs": [
    {
     "data": {
      "text/plain": [
       "<AxesSubplot:xlabel='Time', ylabel='Count'>"
      ]
     },
     "execution_count": 237,
     "metadata": {},
     "output_type": "execute_result"
    },
    {
     "data": {
      "image/png": "[encoded data removed]",
      "text/plain": [
       "<Figure size 432x288 with 1 Axes>"
      ]
     },
     "metadata": {},
     "output_type": "display_data"
    }
   ],
   "source": [
    "import seaborn as sns\n",
    "sns.histplot(data=b, x='Time', kde=True)"
   ]
  },
  {
   "cell_type": "code",
   "execution_count": 238,
   "metadata": {},
   "outputs": [
    {
     "data": {
      "text/plain": [
       "176.26230367585626"
      ]
     },
     "execution_count": 238,
     "metadata": {},
     "output_type": "execute_result"
    }
   ],
   "source": [
    "b['Time'].mean()"
   ]
  },
  {
   "cell_type": "code",
   "execution_count": null,
   "metadata": {},
   "outputs": [],
   "source": [
    "### Orders status which are unavailable and who are outliers can be dropped"
   ]
  },
  {
   "cell_type": "code",
   "execution_count": 215,
   "metadata": {},
   "outputs": [
    {
     "data": {
      "text/html": [
       "<div>\n",
       "<style scoped>\n",
       "    .dataframe tbody tr th:only-of-type {\n",
       "        vertical-align: middle;\n",
       "    }\n",
       "\n",
       "    .dataframe tbody tr th {\n",
       "        vertical-align: top;\n",
       "    }\n",
       "\n",
       "    .dataframe thead th {\n",
       "        text-align: right;\n",
       "    }\n",
       "</style>\n",
       "<table border=\"1\" class=\"dataframe\">\n",
       "  <thead>\n",
       "    <tr style=\"text-align: right;\">\n",
       "      <th></th>\n",
       "      <th>order_id</th>\n",
       "      <th>customer_id</th>\n",
       "      <th>order_status</th>\n",
       "      <th>Purchased_At</th>\n",
       "      <th>Approved_At</th>\n",
       "      <th>Delivered_to_Carrier_On</th>\n",
       "      <th>Delivered_to_Customer_On</th>\n",
       "      <th>Estimated_Delivery_On</th>\n",
       "      <th>between_order_approval</th>\n",
       "      <th>Time</th>\n",
       "    </tr>\n",
       "  </thead>\n",
       "  <tbody>\n",
       "    <tr>\n",
       "      <th>687</th>\n",
       "      <td>37553832a3a89c9b2db59701c357ca67</td>\n",
       "      <td>7607cd563696c27ede287e515812d528</td>\n",
       "      <td>unavailable</td>\n",
       "      <td>2017-08-14 17:38:02</td>\n",
       "      <td>2017-08-17 00:15:18</td>\n",
       "      <td>NaT</td>\n",
       "      <td>NaT</td>\n",
       "      <td>2017-09-05</td>\n",
       "      <td>2 days 06:37:16</td>\n",
       "      <td>54.621111</td>\n",
       "    </tr>\n",
       "    <tr>\n",
       "      <th>4089</th>\n",
       "      <td>1ff6183537eb3a189de77b309ed28ad1</td>\n",
       "      <td>52ac1d5c2063338b5a45f69a14528c9b</td>\n",
       "      <td>unavailable</td>\n",
       "      <td>2018-01-02 17:31:02</td>\n",
       "      <td>2018-01-04 11:57:21</td>\n",
       "      <td>NaT</td>\n",
       "      <td>NaT</td>\n",
       "      <td>2018-01-31</td>\n",
       "      <td>1 days 18:26:19</td>\n",
       "      <td>42.438611</td>\n",
       "    </tr>\n",
       "    <tr>\n",
       "      <th>6290</th>\n",
       "      <td>9d4e334ddde795cd4fbee24dc4b68cfe</td>\n",
       "      <td>63531fc8d878fe9a0ac4fd07a4d8a7b1</td>\n",
       "      <td>unavailable</td>\n",
       "      <td>2017-11-27 16:03:51</td>\n",
       "      <td>2017-11-29 16:22:32</td>\n",
       "      <td>NaT</td>\n",
       "      <td>NaT</td>\n",
       "      <td>2017-12-22</td>\n",
       "      <td>2 days 00:18:41</td>\n",
       "      <td>48.311389</td>\n",
       "    </tr>\n",
       "    <tr>\n",
       "      <th>8278</th>\n",
       "      <td>0bde826daa0bd10393e958cf5d69dd26</td>\n",
       "      <td>dc9e4413d260758a6e889a0f87aefa7d</td>\n",
       "      <td>unavailable</td>\n",
       "      <td>2017-02-04 10:28:25</td>\n",
       "      <td>2017-02-07 04:10:23</td>\n",
       "      <td>NaT</td>\n",
       "      <td>NaT</td>\n",
       "      <td>2017-03-01</td>\n",
       "      <td>2 days 17:41:58</td>\n",
       "      <td>65.699444</td>\n",
       "    </tr>\n",
       "    <tr>\n",
       "      <th>10928</th>\n",
       "      <td>97b22dcad89f4916db427544e655d1b2</td>\n",
       "      <td>a746c825432e5eaf2b8eeece33ca54b7</td>\n",
       "      <td>unavailable</td>\n",
       "      <td>2017-05-15 10:57:13</td>\n",
       "      <td>2017-05-17 04:02:11</td>\n",
       "      <td>NaT</td>\n",
       "      <td>NaT</td>\n",
       "      <td>2017-05-24</td>\n",
       "      <td>1 days 17:04:58</td>\n",
       "      <td>41.082778</td>\n",
       "    </tr>\n",
       "    <tr>\n",
       "      <th>...</th>\n",
       "      <td>...</td>\n",
       "      <td>...</td>\n",
       "      <td>...</td>\n",
       "      <td>...</td>\n",
       "      <td>...</td>\n",
       "      <td>...</td>\n",
       "      <td>...</td>\n",
       "      <td>...</td>\n",
       "      <td>...</td>\n",
       "      <td>...</td>\n",
       "    </tr>\n",
       "    <tr>\n",
       "      <th>98492</th>\n",
       "      <td>abc371fa4448846ac98855c256ab235f</td>\n",
       "      <td>2ae960d0b2a92913f76520f59d0749b4</td>\n",
       "      <td>unavailable</td>\n",
       "      <td>2017-02-11 19:26:28</td>\n",
       "      <td>2017-02-13 14:05:15</td>\n",
       "      <td>NaT</td>\n",
       "      <td>NaT</td>\n",
       "      <td>2017-03-10</td>\n",
       "      <td>1 days 18:38:47</td>\n",
       "      <td>42.646389</td>\n",
       "    </tr>\n",
       "    <tr>\n",
       "      <th>98853</th>\n",
       "      <td>2d57932a94a64e0729ec5b88b4860d0d</td>\n",
       "      <td>18ee349e6fe0fa105ac44232ac1f4d06</td>\n",
       "      <td>unavailable</td>\n",
       "      <td>2018-03-31 19:08:47</td>\n",
       "      <td>2018-04-03 05:27:48</td>\n",
       "      <td>NaT</td>\n",
       "      <td>NaT</td>\n",
       "      <td>2018-04-23</td>\n",
       "      <td>2 days 10:19:01</td>\n",
       "      <td>58.316944</td>\n",
       "    </tr>\n",
       "    <tr>\n",
       "      <th>99147</th>\n",
       "      <td>6cf5c427fb11bc5fe8abefa86aa7ba0b</td>\n",
       "      <td>91ac14a1e50bc022eeecf0c2ba37006a</td>\n",
       "      <td>unavailable</td>\n",
       "      <td>2017-10-17 10:53:48</td>\n",
       "      <td>2017-10-19 03:12:43</td>\n",
       "      <td>NaT</td>\n",
       "      <td>NaT</td>\n",
       "      <td>2017-10-27</td>\n",
       "      <td>1 days 16:18:55</td>\n",
       "      <td>40.315278</td>\n",
       "    </tr>\n",
       "    <tr>\n",
       "      <th>99348</th>\n",
       "      <td>a69ba794cc7deb415c3e15a0a3877e69</td>\n",
       "      <td>726f0894b5becdf952ea537d5266e543</td>\n",
       "      <td>unavailable</td>\n",
       "      <td>2017-08-23 16:28:04</td>\n",
       "      <td>2017-08-28 15:44:47</td>\n",
       "      <td>NaT</td>\n",
       "      <td>NaT</td>\n",
       "      <td>2017-09-15</td>\n",
       "      <td>4 days 23:16:43</td>\n",
       "      <td>119.278611</td>\n",
       "    </tr>\n",
       "    <tr>\n",
       "      <th>99415</th>\n",
       "      <td>5fabc81b6322c8443648e1b21a6fef21</td>\n",
       "      <td>32c9df889d41b0ee8309a5efb6855dcb</td>\n",
       "      <td>unavailable</td>\n",
       "      <td>2017-10-10 10:50:03</td>\n",
       "      <td>2017-10-14 18:35:57</td>\n",
       "      <td>NaT</td>\n",
       "      <td>NaT</td>\n",
       "      <td>2017-10-23</td>\n",
       "      <td>4 days 07:45:54</td>\n",
       "      <td>103.765000</td>\n",
       "    </tr>\n",
       "  </tbody>\n",
       "</table>\n",
       "<p>93 rows × 10 columns</p>\n",
       "</div>"
      ],
      "text/plain": [
       "                               order_id                       customer_id  \\\n",
       "687    37553832a3a89c9b2db59701c357ca67  7607cd563696c27ede287e515812d528   \n",
       "4089   1ff6183537eb3a189de77b309ed28ad1  52ac1d5c2063338b5a45f69a14528c9b   \n",
       "6290   9d4e334ddde795cd4fbee24dc4b68cfe  63531fc8d878fe9a0ac4fd07a4d8a7b1   \n",
       "8278   0bde826daa0bd10393e958cf5d69dd26  dc9e4413d260758a6e889a0f87aefa7d   \n",
       "10928  97b22dcad89f4916db427544e655d1b2  a746c825432e5eaf2b8eeece33ca54b7   \n",
       "...                                 ...                               ...   \n",
       "98492  abc371fa4448846ac98855c256ab235f  2ae960d0b2a92913f76520f59d0749b4   \n",
       "98853  2d57932a94a64e0729ec5b88b4860d0d  18ee349e6fe0fa105ac44232ac1f4d06   \n",
       "99147  6cf5c427fb11bc5fe8abefa86aa7ba0b  91ac14a1e50bc022eeecf0c2ba37006a   \n",
       "99348  a69ba794cc7deb415c3e15a0a3877e69  726f0894b5becdf952ea537d5266e543   \n",
       "99415  5fabc81b6322c8443648e1b21a6fef21  32c9df889d41b0ee8309a5efb6855dcb   \n",
       "\n",
       "      order_status        Purchased_At         Approved_At  \\\n",
       "687    unavailable 2017-08-14 17:38:02 2017-08-17 00:15:18   \n",
       "4089   unavailable 2018-01-02 17:31:02 2018-01-04 11:57:21   \n",
       "6290   unavailable 2017-11-27 16:03:51 2017-11-29 16:22:32   \n",
       "8278   unavailable 2017-02-04 10:28:25 2017-02-07 04:10:23   \n",
       "10928  unavailable 2017-05-15 10:57:13 2017-05-17 04:02:11   \n",
       "...            ...                 ...                 ...   \n",
       "98492  unavailable 2017-02-11 19:26:28 2017-02-13 14:05:15   \n",
       "98853  unavailable 2018-03-31 19:08:47 2018-04-03 05:27:48   \n",
       "99147  unavailable 2017-10-17 10:53:48 2017-10-19 03:12:43   \n",
       "99348  unavailable 2017-08-23 16:28:04 2017-08-28 15:44:47   \n",
       "99415  unavailable 2017-10-10 10:50:03 2017-10-14 18:35:57   \n",
       "\n",
       "      Delivered_to_Carrier_On Delivered_to_Customer_On Estimated_Delivery_On  \\\n",
       "687                       NaT                      NaT            2017-09-05   \n",
       "4089                      NaT                      NaT            2018-01-31   \n",
       "6290                      NaT                      NaT            2017-12-22   \n",
       "8278                      NaT                      NaT            2017-03-01   \n",
       "10928                     NaT                      NaT            2017-05-24   \n",
       "...                       ...                      ...                   ...   \n",
       "98492                     NaT                      NaT            2017-03-10   \n",
       "98853                     NaT                      NaT            2018-04-23   \n",
       "99147                     NaT                      NaT            2017-10-27   \n",
       "99348                     NaT                      NaT            2017-09-15   \n",
       "99415                     NaT                      NaT            2017-10-23   \n",
       "\n",
       "      between_order_approval        Time  \n",
       "687          2 days 06:37:16   54.621111  \n",
       "4089         1 days 18:26:19   42.438611  \n",
       "6290         2 days 00:18:41   48.311389  \n",
       "8278         2 days 17:41:58   65.699444  \n",
       "10928        1 days 17:04:58   41.082778  \n",
       "...                      ...         ...  \n",
       "98492        1 days 18:38:47   42.646389  \n",
       "98853        2 days 10:19:01   58.316944  \n",
       "99147        1 days 16:18:55   40.315278  \n",
       "99348        4 days 23:16:43  119.278611  \n",
       "99415        4 days 07:45:54  103.765000  \n",
       "\n",
       "[93 rows x 10 columns]"
      ]
     },
     "execution_count": 215,
     "metadata": {},
     "output_type": "execute_result"
    }
   ],
   "source": [
    "fso[fso['order_status']=='unavailable']"
   ]
  },
  {
   "cell_type": "code",
   "execution_count": 240,
   "metadata": {},
   "outputs": [
    {
     "data": {
      "text/plain": [
       "0         0.178333\n",
       "1        30.713889\n",
       "2         0.276111\n",
       "3         0.298056\n",
       "4         1.030556\n",
       "           ...    \n",
       "99436     0.000000\n",
       "99437     0.194167\n",
       "99438     0.292500\n",
       "99439     0.131667\n",
       "99440    14.382778\n",
       "Name: Time, Length: 99441, dtype: float64"
      ]
     },
     "execution_count": 240,
     "metadata": {},
     "output_type": "execute_result"
    }
   ],
   "source": [
    "ordersdf['Time']"
   ]
  },
  {
   "cell_type": "code",
   "execution_count": 253,
   "metadata": {},
   "outputs": [
    {
     "data": {
      "text/html": [
       "<div>\n",
       "<style scoped>\n",
       "    .dataframe tbody tr th:only-of-type {\n",
       "        vertical-align: middle;\n",
       "    }\n",
       "\n",
       "    .dataframe tbody tr th {\n",
       "        vertical-align: top;\n",
       "    }\n",
       "\n",
       "    .dataframe thead th {\n",
       "        text-align: right;\n",
       "    }\n",
       "</style>\n",
       "<table border=\"1\" class=\"dataframe\">\n",
       "  <thead>\n",
       "    <tr style=\"text-align: right;\">\n",
       "      <th></th>\n",
       "      <th>Time</th>\n",
       "    </tr>\n",
       "  </thead>\n",
       "  <tbody>\n",
       "    <tr>\n",
       "      <th>0</th>\n",
       "      <td>11.0</td>\n",
       "    </tr>\n",
       "    <tr>\n",
       "      <th>1</th>\n",
       "      <td>1843.0</td>\n",
       "    </tr>\n",
       "    <tr>\n",
       "      <th>2</th>\n",
       "      <td>17.0</td>\n",
       "    </tr>\n",
       "    <tr>\n",
       "      <th>3</th>\n",
       "      <td>18.0</td>\n",
       "    </tr>\n",
       "    <tr>\n",
       "      <th>4</th>\n",
       "      <td>62.0</td>\n",
       "    </tr>\n",
       "    <tr>\n",
       "      <th>...</th>\n",
       "      <td>...</td>\n",
       "    </tr>\n",
       "    <tr>\n",
       "      <th>99436</th>\n",
       "      <td>0.0</td>\n",
       "    </tr>\n",
       "    <tr>\n",
       "      <th>99437</th>\n",
       "      <td>12.0</td>\n",
       "    </tr>\n",
       "    <tr>\n",
       "      <th>99438</th>\n",
       "      <td>18.0</td>\n",
       "    </tr>\n",
       "    <tr>\n",
       "      <th>99439</th>\n",
       "      <td>8.0</td>\n",
       "    </tr>\n",
       "    <tr>\n",
       "      <th>99440</th>\n",
       "      <td>863.0</td>\n",
       "    </tr>\n",
       "  </tbody>\n",
       "</table>\n",
       "<p>99281 rows × 1 columns</p>\n",
       "</div>"
      ],
      "text/plain": [
       "         Time\n",
       "0        11.0\n",
       "1      1843.0\n",
       "2        17.0\n",
       "3        18.0\n",
       "4        62.0\n",
       "...       ...\n",
       "99436     0.0\n",
       "99437    12.0\n",
       "99438    18.0\n",
       "99439     8.0\n",
       "99440   863.0\n",
       "\n",
       "[99281 rows x 1 columns]"
      ]
     },
     "execution_count": 253,
     "metadata": {},
     "output_type": "execute_result"
    }
   ],
   "source": [
    "round(ordersdf[['Time']]*60,0).dropna()"
   ]
  },
  {
   "cell_type": "code",
   "execution_count": 295,
   "metadata": {},
   "outputs": [],
   "source": [
    "from sklearn.cluster import KMeans\n",
    "#here you select your columns\n",
    "X = round(ordersdf[['Time']]*60,0).dropna()\n",
    "kmeans = KMeans(n_clusters=15, random_state=0).fit(X)\n",
    "#this will give you the groups back\n",
    "label=kmeans.predict(X)"
   ]
  },
  {
   "cell_type": "code",
   "execution_count": 296,
   "metadata": {},
   "outputs": [],
   "source": [
    "X['label']=label\n",
    "ca=X.copy()"
   ]
  },
  {
   "cell_type": "code",
   "execution_count": 297,
   "metadata": {},
   "outputs": [
    {
     "data": {
      "image/png": "[encoded data removed]",
      "text/plain": [
       "<Figure size 432x288 with 1 Axes>"
      ]
     },
     "metadata": {},
     "output_type": "display_data"
    }
   ],
   "source": [
    "#Getting unique labels\n",
    "import matplotlib.pyplot as plt\n",
    "u_labels = np.unique(label)\n",
    "X=np.array(X) \n",
    "#plotting the results:\n",
    " \n",
    "for i in u_labels:\n",
    "    plt.scatter(X[label == i,0] ,X[label == i , 1] , label = i)\n",
    "plt.legend()\n",
    "plt.show()"
   ]
  },
  {
   "cell_type": "code",
   "execution_count": 298,
   "metadata": {},
   "outputs": [
    {
     "data": {
      "text/plain": [
       "array([ 0,  1,  2,  3,  4,  5,  6,  7,  8,  9, 10, 11, 12, 13, 14])"
      ]
     },
     "execution_count": 298,
     "metadata": {},
     "output_type": "execute_result"
    }
   ],
   "source": [
    "np.unique(label)"
   ]
  },
  {
   "cell_type": "code",
   "execution_count": 301,
   "metadata": {},
   "outputs": [],
   "source": [
    "df=ca.groupby(['label']).Time.agg([\"mean\",\"count\"]).reset_index().sort_values(by=['mean'])"
   ]
  },
  {
   "cell_type": "code",
   "execution_count": 310,
   "metadata": {},
   "outputs": [
    {
     "data": {
      "text/html": [
       "<div>\n",
       "<style scoped>\n",
       "    .dataframe tbody tr th:only-of-type {\n",
       "        vertical-align: middle;\n",
       "    }\n",
       "\n",
       "    .dataframe tbody tr th {\n",
       "        vertical-align: top;\n",
       "    }\n",
       "\n",
       "    .dataframe thead th {\n",
       "        text-align: right;\n",
       "    }\n",
       "</style>\n",
       "<table border=\"1\" class=\"dataframe\">\n",
       "  <thead>\n",
       "    <tr style=\"text-align: right;\">\n",
       "      <th></th>\n",
       "      <th>label</th>\n",
       "      <th>mean</th>\n",
       "      <th>count</th>\n",
       "      <th>mean in hours</th>\n",
       "      <th>Total Percentage</th>\n",
       "    </tr>\n",
       "  </thead>\n",
       "  <tbody>\n",
       "    <tr>\n",
       "      <th>0</th>\n",
       "      <td>0</td>\n",
       "      <td>25.773348</td>\n",
       "      <td>69106</td>\n",
       "      <td>0.429556</td>\n",
       "      <td>0.694945</td>\n",
       "    </tr>\n",
       "    <tr>\n",
       "      <th>14</th>\n",
       "      <td>14</td>\n",
       "      <td>570.391704</td>\n",
       "      <td>4026</td>\n",
       "      <td>9.506528</td>\n",
       "      <td>0.040486</td>\n",
       "    </tr>\n",
       "    <tr>\n",
       "      <th>7</th>\n",
       "      <td>7</td>\n",
       "      <td>981.119898</td>\n",
       "      <td>5855</td>\n",
       "      <td>16.351998</td>\n",
       "      <td>0.058879</td>\n",
       "    </tr>\n",
       "    <tr>\n",
       "      <th>13</th>\n",
       "      <td>13</td>\n",
       "      <td>1448.914435</td>\n",
       "      <td>6498</td>\n",
       "      <td>24.148574</td>\n",
       "      <td>0.065345</td>\n",
       "    </tr>\n",
       "    <tr>\n",
       "      <th>3</th>\n",
       "      <td>3</td>\n",
       "      <td>1899.486517</td>\n",
       "      <td>4376</td>\n",
       "      <td>31.658109</td>\n",
       "      <td>0.044006</td>\n",
       "    </tr>\n",
       "    <tr>\n",
       "      <th>11</th>\n",
       "      <td>11</td>\n",
       "      <td>2377.050325</td>\n",
       "      <td>3696</td>\n",
       "      <td>39.617505</td>\n",
       "      <td>0.037168</td>\n",
       "    </tr>\n",
       "    <tr>\n",
       "      <th>9</th>\n",
       "      <td>9</td>\n",
       "      <td>3062.454231</td>\n",
       "      <td>2021</td>\n",
       "      <td>51.040904</td>\n",
       "      <td>0.020324</td>\n",
       "    </tr>\n",
       "    <tr>\n",
       "      <th>1</th>\n",
       "      <td>1</td>\n",
       "      <td>3949.833831</td>\n",
       "      <td>1673</td>\n",
       "      <td>65.830564</td>\n",
       "      <td>0.016824</td>\n",
       "    </tr>\n",
       "    <tr>\n",
       "      <th>12</th>\n",
       "      <td>12</td>\n",
       "      <td>5205.700000</td>\n",
       "      <td>1470</td>\n",
       "      <td>86.761667</td>\n",
       "      <td>0.014783</td>\n",
       "    </tr>\n",
       "    <tr>\n",
       "      <th>5</th>\n",
       "      <td>5</td>\n",
       "      <td>7298.953642</td>\n",
       "      <td>453</td>\n",
       "      <td>121.649227</td>\n",
       "      <td>0.004555</td>\n",
       "    </tr>\n",
       "    <tr>\n",
       "      <th>10</th>\n",
       "      <td>10</td>\n",
       "      <td>10523.465517</td>\n",
       "      <td>58</td>\n",
       "      <td>175.391092</td>\n",
       "      <td>0.000583</td>\n",
       "    </tr>\n",
       "    <tr>\n",
       "      <th>6</th>\n",
       "      <td>6</td>\n",
       "      <td>16712.894737</td>\n",
       "      <td>38</td>\n",
       "      <td>278.548246</td>\n",
       "      <td>0.000382</td>\n",
       "    </tr>\n",
       "    <tr>\n",
       "      <th>4</th>\n",
       "      <td>4</td>\n",
       "      <td>41242.888889</td>\n",
       "      <td>9</td>\n",
       "      <td>687.381481</td>\n",
       "      <td>0.000091</td>\n",
       "    </tr>\n",
       "    <tr>\n",
       "      <th>8</th>\n",
       "      <td>8</td>\n",
       "      <td>87052.000000</td>\n",
       "      <td>1</td>\n",
       "      <td>1450.866667</td>\n",
       "      <td>0.000010</td>\n",
       "    </tr>\n",
       "    <tr>\n",
       "      <th>2</th>\n",
       "      <td>2</td>\n",
       "      <td>270551.000000</td>\n",
       "      <td>1</td>\n",
       "      <td>4509.183333</td>\n",
       "      <td>0.000010</td>\n",
       "    </tr>\n",
       "  </tbody>\n",
       "</table>\n",
       "</div>"
      ],
      "text/plain": [
       "    label           mean  count  mean in hours  Total Percentage\n",
       "0       0      25.773348  69106       0.429556          0.694945\n",
       "14     14     570.391704   4026       9.506528          0.040486\n",
       "7       7     981.119898   5855      16.351998          0.058879\n",
       "13     13    1448.914435   6498      24.148574          0.065345\n",
       "3       3    1899.486517   4376      31.658109          0.044006\n",
       "11     11    2377.050325   3696      39.617505          0.037168\n",
       "9       9    3062.454231   2021      51.040904          0.020324\n",
       "1       1    3949.833831   1673      65.830564          0.016824\n",
       "12     12    5205.700000   1470      86.761667          0.014783\n",
       "5       5    7298.953642    453     121.649227          0.004555\n",
       "10     10   10523.465517     58     175.391092          0.000583\n",
       "6       6   16712.894737     38     278.548246          0.000382\n",
       "4       4   41242.888889      9     687.381481          0.000091\n",
       "8       8   87052.000000      1    1450.866667          0.000010\n",
       "2       2  270551.000000      1    4509.183333          0.000010"
      ]
     },
     "execution_count": 310,
     "metadata": {},
     "output_type": "execute_result"
    }
   ],
   "source": [
    "df"
   ]
  },
  {
   "cell_type": "code",
   "execution_count": 305,
   "metadata": {},
   "outputs": [],
   "source": [
    "df['mean in hours']=df['mean']/60"
   ]
  },
  {
   "cell_type": "code",
   "execution_count": 311,
   "metadata": {},
   "outputs": [],
   "source": [
    "df['Total Percentage']=df['count']/ordersdf.shape[0]*100"
   ]
  },
  {
   "cell_type": "code",
   "execution_count": 312,
   "metadata": {},
   "outputs": [
    {
     "data": {
      "text/html": [
       "<div>\n",
       "<style scoped>\n",
       "    .dataframe tbody tr th:only-of-type {\n",
       "        vertical-align: middle;\n",
       "    }\n",
       "\n",
       "    .dataframe tbody tr th {\n",
       "        vertical-align: top;\n",
       "    }\n",
       "\n",
       "    .dataframe thead th {\n",
       "        text-align: right;\n",
       "    }\n",
       "</style>\n",
       "<table border=\"1\" class=\"dataframe\">\n",
       "  <thead>\n",
       "    <tr style=\"text-align: right;\">\n",
       "      <th></th>\n",
       "      <th>label</th>\n",
       "      <th>mean</th>\n",
       "      <th>count</th>\n",
       "      <th>mean in hours</th>\n",
       "      <th>Total Percentage</th>\n",
       "    </tr>\n",
       "  </thead>\n",
       "  <tbody>\n",
       "    <tr>\n",
       "      <th>0</th>\n",
       "      <td>0</td>\n",
       "      <td>25.773348</td>\n",
       "      <td>69106</td>\n",
       "      <td>0.429556</td>\n",
       "      <td>69.494474</td>\n",
       "    </tr>\n",
       "    <tr>\n",
       "      <th>14</th>\n",
       "      <td>14</td>\n",
       "      <td>570.391704</td>\n",
       "      <td>4026</td>\n",
       "      <td>9.506528</td>\n",
       "      <td>4.048632</td>\n",
       "    </tr>\n",
       "    <tr>\n",
       "      <th>7</th>\n",
       "      <td>7</td>\n",
       "      <td>981.119898</td>\n",
       "      <td>5855</td>\n",
       "      <td>16.351998</td>\n",
       "      <td>5.887913</td>\n",
       "    </tr>\n",
       "    <tr>\n",
       "      <th>13</th>\n",
       "      <td>13</td>\n",
       "      <td>1448.914435</td>\n",
       "      <td>6498</td>\n",
       "      <td>24.148574</td>\n",
       "      <td>6.534528</td>\n",
       "    </tr>\n",
       "    <tr>\n",
       "      <th>3</th>\n",
       "      <td>3</td>\n",
       "      <td>1899.486517</td>\n",
       "      <td>4376</td>\n",
       "      <td>31.658109</td>\n",
       "      <td>4.400599</td>\n",
       "    </tr>\n",
       "    <tr>\n",
       "      <th>11</th>\n",
       "      <td>11</td>\n",
       "      <td>2377.050325</td>\n",
       "      <td>3696</td>\n",
       "      <td>39.617505</td>\n",
       "      <td>3.716777</td>\n",
       "    </tr>\n",
       "    <tr>\n",
       "      <th>9</th>\n",
       "      <td>9</td>\n",
       "      <td>3062.454231</td>\n",
       "      <td>2021</td>\n",
       "      <td>51.040904</td>\n",
       "      <td>2.032361</td>\n",
       "    </tr>\n",
       "    <tr>\n",
       "      <th>1</th>\n",
       "      <td>1</td>\n",
       "      <td>3949.833831</td>\n",
       "      <td>1673</td>\n",
       "      <td>65.830564</td>\n",
       "      <td>1.682405</td>\n",
       "    </tr>\n",
       "    <tr>\n",
       "      <th>12</th>\n",
       "      <td>12</td>\n",
       "      <td>5205.700000</td>\n",
       "      <td>1470</td>\n",
       "      <td>86.761667</td>\n",
       "      <td>1.478263</td>\n",
       "    </tr>\n",
       "    <tr>\n",
       "      <th>5</th>\n",
       "      <td>5</td>\n",
       "      <td>7298.953642</td>\n",
       "      <td>453</td>\n",
       "      <td>121.649227</td>\n",
       "      <td>0.455547</td>\n",
       "    </tr>\n",
       "    <tr>\n",
       "      <th>10</th>\n",
       "      <td>10</td>\n",
       "      <td>10523.465517</td>\n",
       "      <td>58</td>\n",
       "      <td>175.391092</td>\n",
       "      <td>0.058326</td>\n",
       "    </tr>\n",
       "    <tr>\n",
       "      <th>6</th>\n",
       "      <td>6</td>\n",
       "      <td>16712.894737</td>\n",
       "      <td>38</td>\n",
       "      <td>278.548246</td>\n",
       "      <td>0.038214</td>\n",
       "    </tr>\n",
       "    <tr>\n",
       "      <th>4</th>\n",
       "      <td>4</td>\n",
       "      <td>41242.888889</td>\n",
       "      <td>9</td>\n",
       "      <td>687.381481</td>\n",
       "      <td>0.009051</td>\n",
       "    </tr>\n",
       "    <tr>\n",
       "      <th>8</th>\n",
       "      <td>8</td>\n",
       "      <td>87052.000000</td>\n",
       "      <td>1</td>\n",
       "      <td>1450.866667</td>\n",
       "      <td>0.001006</td>\n",
       "    </tr>\n",
       "    <tr>\n",
       "      <th>2</th>\n",
       "      <td>2</td>\n",
       "      <td>270551.000000</td>\n",
       "      <td>1</td>\n",
       "      <td>4509.183333</td>\n",
       "      <td>0.001006</td>\n",
       "    </tr>\n",
       "  </tbody>\n",
       "</table>\n",
       "</div>"
      ],
      "text/plain": [
       "    label           mean  count  mean in hours  Total Percentage\n",
       "0       0      25.773348  69106       0.429556         69.494474\n",
       "14     14     570.391704   4026       9.506528          4.048632\n",
       "7       7     981.119898   5855      16.351998          5.887913\n",
       "13     13    1448.914435   6498      24.148574          6.534528\n",
       "3       3    1899.486517   4376      31.658109          4.400599\n",
       "11     11    2377.050325   3696      39.617505          3.716777\n",
       "9       9    3062.454231   2021      51.040904          2.032361\n",
       "1       1    3949.833831   1673      65.830564          1.682405\n",
       "12     12    5205.700000   1470      86.761667          1.478263\n",
       "5       5    7298.953642    453     121.649227          0.455547\n",
       "10     10   10523.465517     58     175.391092          0.058326\n",
       "6       6   16712.894737     38     278.548246          0.038214\n",
       "4       4   41242.888889      9     687.381481          0.009051\n",
       "8       8   87052.000000      1    1450.866667          0.001006\n",
       "2       2  270551.000000      1    4509.183333          0.001006"
      ]
     },
     "execution_count": 312,
     "metadata": {},
     "output_type": "execute_result"
    }
   ],
   "source": [
    "df"
   ]
  },
  {
   "cell_type": "markdown",
   "metadata": {},
   "source": [
    "1.  From this analysis we can see that the bulk of the orders on average were approved before 10 hours about 70 percent on average took upto 25 minutes to be approved. \n",
    "2. Of the remaining 30 percent half of the orders took more than 25 minutes but less than a day\n",
    "3. The other remaining orders can further be investigated by knowing the product type they maybe outliers but a definite analysis can only be done if we know the product they correpnd to"
   ]
  },
  {
   "cell_type": "code",
   "execution_count": null,
   "metadata": {},
   "outputs": [],
   "source": []
  }
 ],
 "metadata": {
  "kernelspec": {
   "display_name": "Python 3",
   "language": "python",
   "name": "python3"
  },
  "language_info": {
   "codemirror_mode": {
    "name": "ipython",
    "version": 3
   },
   "file_extension": ".py",
   "mimetype": "text/x-python",
   "name": "python",
   "nbconvert_exporter": "python",
   "pygments_lexer": "ipython3",
   "version": "3.8.5"
  }
 },
 "nbformat": 4,
 "nbformat_minor": 4
}
