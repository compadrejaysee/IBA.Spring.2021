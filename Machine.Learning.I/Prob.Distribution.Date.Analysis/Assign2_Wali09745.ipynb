{
 "cells": [
  {
   "cell_type": "markdown",
   "metadata": {},
   "source": [
    "## Date Manipulation with Orders Data"
   ]
  },
  {
   "cell_type": "code",
   "execution_count": 178,
   "metadata": {},
   "outputs": [],
   "source": [
    "#importing the basic libraries\n",
    "import pandas as pd\n",
    "import numpy as np\n",
    "%matplotlib inline"
   ]
  },
  {
   "cell_type": "code",
   "execution_count": 118,
   "metadata": {},
   "outputs": [
    {
     "data": {
      "text/html": [
       "<div>\n",
       "<style scoped>\n",
       "    .dataframe tbody tr th:only-of-type {\n",
       "        vertical-align: middle;\n",
       "    }\n",
       "\n",
       "    .dataframe tbody tr th {\n",
       "        vertical-align: top;\n",
       "    }\n",
       "\n",
       "    .dataframe thead th {\n",
       "        text-align: right;\n",
       "    }\n",
       "</style>\n",
       "<table border=\"1\" class=\"dataframe\">\n",
       "  <thead>\n",
       "    <tr style=\"text-align: right;\">\n",
       "      <th></th>\n",
       "      <th>Purchased_At</th>\n",
       "      <th>Approved_At</th>\n",
       "      <th>Delivered_to_Carrier_On</th>\n",
       "      <th>Delivered_to_Customer_On</th>\n",
       "      <th>Estimated_Delivery_On</th>\n",
       "    </tr>\n",
       "  </thead>\n",
       "  <tbody>\n",
       "    <tr>\n",
       "      <th>0</th>\n",
       "      <td>2017-10-02 10:56:33</td>\n",
       "      <td>2017-10-02 11:07:15</td>\n",
       "      <td>2017-10-04 19:55:00</td>\n",
       "      <td>2017-10-10 21:25:13</td>\n",
       "      <td>2017-10-18</td>\n",
       "    </tr>\n",
       "    <tr>\n",
       "      <th>1</th>\n",
       "      <td>2018-07-24 20:41:37</td>\n",
       "      <td>2018-07-26 03:24:27</td>\n",
       "      <td>2018-07-26 14:31:00</td>\n",
       "      <td>2018-08-07 15:27:45</td>\n",
       "      <td>2018-08-13</td>\n",
       "    </tr>\n",
       "    <tr>\n",
       "      <th>2</th>\n",
       "      <td>2018-08-08 08:38:49</td>\n",
       "      <td>2018-08-08 08:55:23</td>\n",
       "      <td>2018-08-08 13:50:00</td>\n",
       "      <td>2018-08-17 18:06:29</td>\n",
       "      <td>2018-09-04</td>\n",
       "    </tr>\n",
       "    <tr>\n",
       "      <th>3</th>\n",
       "      <td>2017-11-18 19:28:06</td>\n",
       "      <td>2017-11-18 19:45:59</td>\n",
       "      <td>2017-11-22 13:39:59</td>\n",
       "      <td>2017-12-02 00:28:42</td>\n",
       "      <td>2017-12-15</td>\n",
       "    </tr>\n",
       "    <tr>\n",
       "      <th>4</th>\n",
       "      <td>2018-02-13 21:18:39</td>\n",
       "      <td>2018-02-13 22:20:29</td>\n",
       "      <td>2018-02-14 19:46:34</td>\n",
       "      <td>2018-02-16 18:17:02</td>\n",
       "      <td>2018-02-26</td>\n",
       "    </tr>\n",
       "    <tr>\n",
       "      <th>...</th>\n",
       "      <td>...</td>\n",
       "      <td>...</td>\n",
       "      <td>...</td>\n",
       "      <td>...</td>\n",
       "      <td>...</td>\n",
       "    </tr>\n",
       "    <tr>\n",
       "      <th>99436</th>\n",
       "      <td>2017-03-09 09:54:05</td>\n",
       "      <td>2017-03-09 09:54:05</td>\n",
       "      <td>2017-03-10 11:18:03</td>\n",
       "      <td>2017-03-17 15:08:01</td>\n",
       "      <td>2017-03-28</td>\n",
       "    </tr>\n",
       "    <tr>\n",
       "      <th>99437</th>\n",
       "      <td>2018-02-06 12:58:58</td>\n",
       "      <td>2018-02-06 13:10:37</td>\n",
       "      <td>2018-02-07 23:22:42</td>\n",
       "      <td>2018-02-28 17:37:56</td>\n",
       "      <td>2018-03-02</td>\n",
       "    </tr>\n",
       "    <tr>\n",
       "      <th>99438</th>\n",
       "      <td>2017-08-27 14:46:43</td>\n",
       "      <td>2017-08-27 15:04:16</td>\n",
       "      <td>2017-08-28 20:52:26</td>\n",
       "      <td>2017-09-21 11:24:17</td>\n",
       "      <td>2017-09-27</td>\n",
       "    </tr>\n",
       "    <tr>\n",
       "      <th>99439</th>\n",
       "      <td>2018-01-08 21:28:27</td>\n",
       "      <td>2018-01-08 21:36:21</td>\n",
       "      <td>2018-01-12 15:35:03</td>\n",
       "      <td>2018-01-25 23:32:54</td>\n",
       "      <td>2018-02-15</td>\n",
       "    </tr>\n",
       "    <tr>\n",
       "      <th>99440</th>\n",
       "      <td>2018-03-08 20:57:30</td>\n",
       "      <td>2018-03-09 11:20:28</td>\n",
       "      <td>2018-03-09 22:11:59</td>\n",
       "      <td>2018-03-16 13:08:30</td>\n",
       "      <td>2018-04-03</td>\n",
       "    </tr>\n",
       "  </tbody>\n",
       "</table>\n",
       "<p>99441 rows × 5 columns</p>\n",
       "</div>"
      ],
      "text/plain": [
       "             Purchased_At         Approved_At Delivered_to_Carrier_On  \\\n",
       "0     2017-10-02 10:56:33 2017-10-02 11:07:15     2017-10-04 19:55:00   \n",
       "1     2018-07-24 20:41:37 2018-07-26 03:24:27     2018-07-26 14:31:00   \n",
       "2     2018-08-08 08:38:49 2018-08-08 08:55:23     2018-08-08 13:50:00   \n",
       "3     2017-11-18 19:28:06 2017-11-18 19:45:59     2017-11-22 13:39:59   \n",
       "4     2018-02-13 21:18:39 2018-02-13 22:20:29     2018-02-14 19:46:34   \n",
       "...                   ...                 ...                     ...   \n",
       "99436 2017-03-09 09:54:05 2017-03-09 09:54:05     2017-03-10 11:18:03   \n",
       "99437 2018-02-06 12:58:58 2018-02-06 13:10:37     2018-02-07 23:22:42   \n",
       "99438 2017-08-27 14:46:43 2017-08-27 15:04:16     2017-08-28 20:52:26   \n",
       "99439 2018-01-08 21:28:27 2018-01-08 21:36:21     2018-01-12 15:35:03   \n",
       "99440 2018-03-08 20:57:30 2018-03-09 11:20:28     2018-03-09 22:11:59   \n",
       "\n",
       "      Delivered_to_Customer_On Estimated_Delivery_On  \n",
       "0          2017-10-10 21:25:13            2017-10-18  \n",
       "1          2018-08-07 15:27:45            2018-08-13  \n",
       "2          2018-08-17 18:06:29            2018-09-04  \n",
       "3          2017-12-02 00:28:42            2017-12-15  \n",
       "4          2018-02-16 18:17:02            2018-02-26  \n",
       "...                        ...                   ...  \n",
       "99436      2017-03-17 15:08:01            2017-03-28  \n",
       "99437      2018-02-28 17:37:56            2018-03-02  \n",
       "99438      2017-09-21 11:24:17            2017-09-27  \n",
       "99439      2018-01-25 23:32:54            2018-02-15  \n",
       "99440      2018-03-16 13:08:30            2018-04-03  \n",
       "\n",
       "[99441 rows x 5 columns]"
      ]
     },
     "execution_count": 118,
     "metadata": {},
     "output_type": "execute_result"
    }
   ],
   "source": [
    "#Orders data CSV file\n",
    "ordersdf = pd.read_csv(\"Orders.Data.csv\")\n",
    "#Renaming Columns\n",
    "ordersdf = ordersdf.rename(columns = {\"order_purchase_timestamp\": \"Purchased_At\",\n",
    "                         \"order_approved_at\":\"Approved_At\",\n",
    "                         \"order_delivered_carrier_date\": \"Delivered_to_Carrier_On\",\n",
    "                         \"order_delivered_customer_date\": \"Delivered_to_Customer_On\",\n",
    "                         \"order_estimated_delivery_date\": \"Estimated_Delivery_On\"}) \n",
    "# Select columns of interest\n",
    "\n",
    "ordersdf = ordersdf[['Purchased_At', 'Approved_At', 'Delivered_to_Carrier_On', 'Delivered_to_Customer_On', 'Estimated_Delivery_On']]\n",
    "# Changing variables type\n",
    "ordersdf['Purchased_At'] = pd.to_datetime(ordersdf['Purchased_At'])\n",
    "ordersdf['Approved_At'] = pd.to_datetime(ordersdf['Approved_At'])\n",
    "ordersdf['Delivered_to_Carrier_On'] = pd.to_datetime(ordersdf['Delivered_to_Carrier_On'])\n",
    "ordersdf['Delivered_to_Customer_On'] = pd.to_datetime(ordersdf['Delivered_to_Customer_On'])\n",
    "ordersdf['Estimated_Delivery_On'] = pd.to_datetime(ordersdf['Estimated_Delivery_On'])\n",
    "\n",
    "ordersdf\n"
   ]
  },
  {
   "cell_type": "code",
   "execution_count": 119,
   "metadata": {},
   "outputs": [
    {
     "data": {
      "text/plain": [
       "10.419094301919714"
      ]
     },
     "execution_count": 119,
     "metadata": {},
     "output_type": "execute_result"
    }
   ],
   "source": [
    "#Average delay in order approval\n",
    "between_order_approval = ordersdf['Approved_At'] - ordersdf['Purchased_At']\n",
    "\n",
    "between_order_approval.apply(lambda x: (x.total_seconds())/3600).mean()\n"
   ]
  },
  {
   "cell_type": "markdown",
   "metadata": {},
   "source": [
    "Q2: try to find out the reason as to why there is an average 10 hour time between giving of orders and approving them. "
   ]
  },
  {
   "cell_type": "markdown",
   "metadata": {},
   "source": [
    "I will first see and visualize the data through \n",
    "1. Display of Data (not helpful because we have about 99 thousands rows)\n",
    "2. Discribe the data (describe) to see max, min etc (for this I will convert the data to integer or float type-measured in hours\n",
    "3. Visualize the integer type data (in hours) through Box Plot, Bar Plot, Histogram (All of them indicate that there are ouliers)"
   ]
  },
  {
   "cell_type": "code",
   "execution_count": 120,
   "metadata": {},
   "outputs": [
    {
     "data": {
      "text/plain": [
       "0       0 days 00:10:42\n",
       "1       1 days 06:42:50\n",
       "2       0 days 00:16:34\n",
       "3       0 days 00:17:53\n",
       "4       0 days 01:01:50\n",
       "              ...      \n",
       "99436   0 days 00:00:00\n",
       "99437   0 days 00:11:39\n",
       "99438   0 days 00:17:33\n",
       "99439   0 days 00:07:54\n",
       "99440   0 days 14:22:58\n",
       "Length: 99441, dtype: timedelta64[ns]"
      ]
     },
     "execution_count": 120,
     "metadata": {},
     "output_type": "execute_result"
    }
   ],
   "source": [
    "# Step1\n",
    "between_order_approval"
   ]
  },
  {
   "cell_type": "code",
   "execution_count": 122,
   "metadata": {},
   "outputs": [
    {
     "data": {
      "text/plain": [
       "0       0 days 00:10:42\n",
       "1       1 days 06:42:50\n",
       "2       0 days 00:16:34\n",
       "3       0 days 00:17:53\n",
       "4       0 days 01:01:50\n",
       "              ...      \n",
       "99436   0 days 00:00:00\n",
       "99437   0 days 00:11:39\n",
       "99438   0 days 00:17:33\n",
       "99439   0 days 00:07:54\n",
       "99440   0 days 14:22:58\n",
       "Length: 99281, dtype: timedelta64[ns]"
      ]
     },
     "execution_count": 122,
     "metadata": {},
     "output_type": "execute_result"
    }
   ],
   "source": [
    "#Remove the missing values\n",
    "df1 = between_order_approval.dropna(axis = 0, how ='any')\n",
    "df1\n"
   ]
  },
  {
   "cell_type": "markdown",
   "metadata": {},
   "source": [
    "By removing the missing values, about 250 rows are deleted"
   ]
  },
  {
   "cell_type": "code",
   "execution_count": 134,
   "metadata": {},
   "outputs": [
    {
     "data": {
      "text/html": [
       "<div>\n",
       "<style scoped>\n",
       "    .dataframe tbody tr th:only-of-type {\n",
       "        vertical-align: middle;\n",
       "    }\n",
       "\n",
       "    .dataframe tbody tr th {\n",
       "        vertical-align: top;\n",
       "    }\n",
       "\n",
       "    .dataframe thead th {\n",
       "        text-align: right;\n",
       "    }\n",
       "</style>\n",
       "<table border=\"1\" class=\"dataframe\">\n",
       "  <thead>\n",
       "    <tr style=\"text-align: right;\">\n",
       "      <th></th>\n",
       "      <th>ODelay</th>\n",
       "    </tr>\n",
       "  </thead>\n",
       "  <tbody>\n",
       "    <tr>\n",
       "      <th>0</th>\n",
       "      <td>0.178333</td>\n",
       "    </tr>\n",
       "    <tr>\n",
       "      <th>1</th>\n",
       "      <td>30.713889</td>\n",
       "    </tr>\n",
       "    <tr>\n",
       "      <th>2</th>\n",
       "      <td>0.276111</td>\n",
       "    </tr>\n",
       "    <tr>\n",
       "      <th>3</th>\n",
       "      <td>0.298056</td>\n",
       "    </tr>\n",
       "    <tr>\n",
       "      <th>4</th>\n",
       "      <td>1.030556</td>\n",
       "    </tr>\n",
       "    <tr>\n",
       "      <th>...</th>\n",
       "      <td>...</td>\n",
       "    </tr>\n",
       "    <tr>\n",
       "      <th>99436</th>\n",
       "      <td>0.000000</td>\n",
       "    </tr>\n",
       "    <tr>\n",
       "      <th>99437</th>\n",
       "      <td>0.194167</td>\n",
       "    </tr>\n",
       "    <tr>\n",
       "      <th>99438</th>\n",
       "      <td>0.292500</td>\n",
       "    </tr>\n",
       "    <tr>\n",
       "      <th>99439</th>\n",
       "      <td>0.131667</td>\n",
       "    </tr>\n",
       "    <tr>\n",
       "      <th>99440</th>\n",
       "      <td>14.382778</td>\n",
       "    </tr>\n",
       "  </tbody>\n",
       "</table>\n",
       "<p>99281 rows × 1 columns</p>\n",
       "</div>"
      ],
      "text/plain": [
       "          ODelay\n",
       "0       0.178333\n",
       "1      30.713889\n",
       "2       0.276111\n",
       "3       0.298056\n",
       "4       1.030556\n",
       "...          ...\n",
       "99436   0.000000\n",
       "99437   0.194167\n",
       "99438   0.292500\n",
       "99439   0.131667\n",
       "99440  14.382778\n",
       "\n",
       "[99281 rows x 1 columns]"
      ]
     },
     "execution_count": 134,
     "metadata": {},
     "output_type": "execute_result"
    }
   ],
   "source": [
    "# Converting into Hours and put into dataframe\n",
    "\n",
    "df2 = df1.apply(lambda x: (x.total_seconds())/3600)\n",
    "df3=pd.DataFrame(df2, columns = ['ODelay'])\n",
    "df3"
   ]
  },
  {
   "cell_type": "code",
   "execution_count": 135,
   "metadata": {},
   "outputs": [
    {
     "data": {
      "text/html": [
       "<div>\n",
       "<style scoped>\n",
       "    .dataframe tbody tr th:only-of-type {\n",
       "        vertical-align: middle;\n",
       "    }\n",
       "\n",
       "    .dataframe tbody tr th {\n",
       "        vertical-align: top;\n",
       "    }\n",
       "\n",
       "    .dataframe thead th {\n",
       "        text-align: right;\n",
       "    }\n",
       "</style>\n",
       "<table border=\"1\" class=\"dataframe\">\n",
       "  <thead>\n",
       "    <tr style=\"text-align: right;\">\n",
       "      <th></th>\n",
       "      <th>ODelay</th>\n",
       "    </tr>\n",
       "  </thead>\n",
       "  <tbody>\n",
       "    <tr>\n",
       "      <th>count</th>\n",
       "      <td>99281.000000</td>\n",
       "    </tr>\n",
       "    <tr>\n",
       "      <th>mean</th>\n",
       "      <td>10.419094</td>\n",
       "    </tr>\n",
       "    <tr>\n",
       "      <th>std</th>\n",
       "      <td>26.038004</td>\n",
       "    </tr>\n",
       "    <tr>\n",
       "      <th>min</th>\n",
       "      <td>0.000000</td>\n",
       "    </tr>\n",
       "    <tr>\n",
       "      <th>25%</th>\n",
       "      <td>0.215000</td>\n",
       "    </tr>\n",
       "    <tr>\n",
       "      <th>50%</th>\n",
       "      <td>0.343333</td>\n",
       "    </tr>\n",
       "    <tr>\n",
       "      <th>75%</th>\n",
       "      <td>14.580833</td>\n",
       "    </tr>\n",
       "    <tr>\n",
       "      <th>max</th>\n",
       "      <td>4509.180556</td>\n",
       "    </tr>\n",
       "  </tbody>\n",
       "</table>\n",
       "</div>"
      ],
      "text/plain": [
       "             ODelay\n",
       "count  99281.000000\n",
       "mean      10.419094\n",
       "std       26.038004\n",
       "min        0.000000\n",
       "25%        0.215000\n",
       "50%        0.343333\n",
       "75%       14.580833\n",
       "max     4509.180556"
      ]
     },
     "execution_count": 135,
     "metadata": {},
     "output_type": "execute_result"
    }
   ],
   "source": [
    "df3.describe()\n",
    "\n",
    "#max is too high (outliers)"
   ]
  },
  {
   "cell_type": "code",
   "execution_count": 138,
   "metadata": {},
   "outputs": [
    {
     "data": {
      "text/plain": [
       "<AxesSubplot:xlabel='ODelay'>"
      ]
     },
     "execution_count": 138,
     "metadata": {},
     "output_type": "execute_result"
    },
    {
     "data": {
      "image/png": "[encoded data removed]",
      "text/plain": [
       "<Figure size 432x288 with 1 Axes>"
      ]
     },
     "metadata": {
      "needs_background": "light"
     },
     "output_type": "display_data"
    }
   ],
   "source": [
    "import seaborn as sns\n",
    "sns.boxplot(x=df3['ODelay'])\n",
    "\n",
    "#One extreme and some modrate level extremes are in the data"
   ]
  },
  {
   "cell_type": "code",
   "execution_count": 146,
   "metadata": {},
   "outputs": [
    {
     "name": "stdout",
     "output_type": "stream",
     "text": [
      "Values Greater than 2000 Hours\n",
      "(array([47469], dtype=int64), array([0], dtype=int64))\n",
      "Values Greater than 1000 Hours\n",
      "(array([47469, 62185], dtype=int64), array([0, 0], dtype=int64))\n",
      "Values Greater than 500 Hours\n",
      "(array([ 4387,  4532, 10050, 43618, 47469, 53383, 55609, 62185, 83010,\n",
      "       88529, 96098], dtype=int64), array([0, 0, 0, 0, 0, 0, 0, 0, 0, 0, 0], dtype=int64))\n"
     ]
    }
   ],
   "source": [
    "print('Values Greater than 2000 Hours')\n",
    "print(np.where(df3 > 2000))\n",
    "#shows that row number 47469 has Delay Hours higher than 2000\n",
    "print('Values Greater than 1000 Hours')\n",
    "print(np.where(df3 > 1000))\n",
    "#Two rows have Delay Hours hugher than 1000\n",
    "print('Values Greater than 500 Hours')\n",
    "print(np.where(df3 > 500))\n",
    "#Evelen rows have Delay Hours hugher than 500"
   ]
  },
  {
   "cell_type": "code",
   "execution_count": 147,
   "metadata": {},
   "outputs": [
    {
     "data": {
      "text/plain": [
       "<AxesSubplot:>"
      ]
     },
     "execution_count": 147,
     "metadata": {},
     "output_type": "execute_result"
    },
    {
     "data": {
      "image/png": "[encoded data removed]",
      "text/plain": [
       "<Figure size 432x288 with 1 Axes>"
      ]
     },
     "metadata": {
      "needs_background": "light"
     },
     "output_type": "display_data"
    }
   ],
   "source": [
    "df3.plot()"
   ]
  },
  {
   "cell_type": "code",
   "execution_count": 148,
   "metadata": {},
   "outputs": [
    {
     "data": {
      "text/plain": [
       "array([[<AxesSubplot:title={'center':'ODelay'}>]], dtype=object)"
      ]
     },
     "execution_count": 148,
     "metadata": {},
     "output_type": "execute_result"
    },
    {
     "data": {
      "image/png": "[encoded data removed]",
      "text/plain": [
       "<Figure size 432x288 with 1 Axes>"
      ]
     },
     "metadata": {
      "needs_background": "light"
     },
     "output_type": "display_data"
    }
   ],
   "source": [
    "df3.hist()"
   ]
  },
  {
   "cell_type": "markdown",
   "metadata": {},
   "source": [
    "All above indicate that there extreme values in the data and we should use some statistical tools to normalize the data. There are many ways, such as Z-score, interquartile, replacing with median values, trimming and winsorization. However, I am focusing only the first two methods\n"
   ]
  },
  {
   "cell_type": "markdown",
   "metadata": {},
   "source": [
    "Working with Outliers: Correcting, Removing"
   ]
  },
  {
   "cell_type": "markdown",
   "metadata": {},
   "source": [
    "Z-Score Method\n",
    "\n",
    "The Z-score describes the data by finding its relationship with the Standard Normal Distribution. In calculating the Z-score we re-scale and center the data and look for data points which are too far from zero. These data points which are too far from zero will be treated as the outliers. In most of the cases a threshold of 3 or -3 is used i.e if the Z-score value is greater than or less than 3 or -3 respectively, that data point will be identified as outliers."
   ]
  },
  {
   "cell_type": "code",
   "execution_count": 149,
   "metadata": {},
   "outputs": [
    {
     "name": "stdout",
     "output_type": "stream",
     "text": [
      "[[0.39330252]\n",
      " [0.77943367]\n",
      " [0.38954731]\n",
      " ...\n",
      " [0.38891788]\n",
      " [0.39509478]\n",
      " [0.15222762]]\n"
     ]
    }
   ],
   "source": [
    "from scipy import stats\n",
    "import numpy as np\n",
    "z = np.abs(stats.zscore(df3))\n",
    "print(z)"
   ]
  },
  {
   "cell_type": "code",
   "execution_count": 156,
   "metadata": {},
   "outputs": [
    {
     "data": {
      "text/plain": [
       "<AxesSubplot:>"
      ]
     },
     "execution_count": 156,
     "metadata": {},
     "output_type": "execute_result"
    },
    {
     "data": {
      "image/png": "[encoded data removed]",
      "text/plain": [
       "<Figure size 432x288 with 1 Axes>"
      ]
     },
     "metadata": {
      "needs_background": "light"
     },
     "output_type": "display_data"
    }
   ],
   "source": [
    "dd=pd.DataFrame(z, columns = ['ODelay'])\n",
    "#dd.hist()\n",
    "#dd.boxplot()\n",
    "dd.plot()"
   ]
  },
  {
   "cell_type": "code",
   "execution_count": 157,
   "metadata": {},
   "outputs": [
    {
     "name": "stdout",
     "output_type": "stream",
     "text": [
      "(array([   15,   150,   186, ..., 99217, 99246, 99255], dtype=int64), array([0, 0, 0, ..., 0, 0, 0], dtype=int64))\n"
     ]
    }
   ],
   "source": [
    "threshold = 3\n",
    "print(np.where(z > 3))"
   ]
  },
  {
   "cell_type": "code",
   "execution_count": 158,
   "metadata": {},
   "outputs": [
    {
     "name": "stdout",
     "output_type": "stream",
     "text": [
      "29.595696080724917\n"
     ]
    }
   ],
   "source": [
    "print(z[4387][0])"
   ]
  },
  {
   "cell_type": "code",
   "execution_count": 168,
   "metadata": {},
   "outputs": [
    {
     "name": "stdout",
     "output_type": "stream",
     "text": [
      "Date Shape with Outliers\n",
      "(99281, 1)\n",
      "Date Shape without Outliers\n",
      "(98186, 1)\n"
     ]
    }
   ],
   "source": [
    "df4= df3[(z<3).all(axis=1)]\n",
    "print('Date Shape with Outliers')\n",
    "print(df3.shape)\n",
    "print('Date Shape without Outliers')\n",
    "print(df4.shape)"
   ]
  },
  {
   "cell_type": "code",
   "execution_count": 169,
   "metadata": {},
   "outputs": [
    {
     "name": "stdout",
     "output_type": "stream",
     "text": [
      "Mean Delay  of Date with Outliers\n",
      "ODelay    10.419094\n",
      "dtype: float64\n",
      "Mean Delay  of Date without Outliers\n",
      "ODelay    9.122073\n",
      "dtype: float64\n"
     ]
    }
   ],
   "source": [
    "print('Mean Delay  of Date with Outliers')\n",
    "print(df3.mean())\n",
    "print('Mean Delay  of Date without Outliers')\n",
    "print(df4.mean())\n"
   ]
  },
  {
   "cell_type": "markdown",
   "metadata": {},
   "source": [
    "The result in above cell shows that there is no significant difference. Since the Z-Score method does not work in this case.\n",
    "Next I am trying the interquartile range (IQR), which is a measure of statistical dispersion, being equal to the difference between 75th and 25th percentiles."
   ]
  },
  {
   "cell_type": "code",
   "execution_count": 170,
   "metadata": {},
   "outputs": [
    {
     "name": "stdout",
     "output_type": "stream",
     "text": [
      "ODelay    14.365833\n",
      "dtype: float64\n"
     ]
    }
   ],
   "source": [
    "Q1 = df3.quantile(0.25)\n",
    "Q3 = df3.quantile(0.75)\n",
    "IQR = Q3 - Q1\n",
    "print(IQR)"
   ]
  },
  {
   "cell_type": "code",
   "execution_count": 174,
   "metadata": {},
   "outputs": [
    {
     "data": {
      "text/html": [
       "<div>\n",
       "<style scoped>\n",
       "    .dataframe tbody tr th:only-of-type {\n",
       "        vertical-align: middle;\n",
       "    }\n",
       "\n",
       "    .dataframe tbody tr th {\n",
       "        vertical-align: top;\n",
       "    }\n",
       "\n",
       "    .dataframe thead th {\n",
       "        text-align: right;\n",
       "    }\n",
       "</style>\n",
       "<table border=\"1\" class=\"dataframe\">\n",
       "  <thead>\n",
       "    <tr style=\"text-align: right;\">\n",
       "      <th></th>\n",
       "      <th>ODelay</th>\n",
       "    </tr>\n",
       "  </thead>\n",
       "  <tbody>\n",
       "    <tr>\n",
       "      <th>0</th>\n",
       "      <td>False</td>\n",
       "    </tr>\n",
       "    <tr>\n",
       "      <th>1</th>\n",
       "      <td>False</td>\n",
       "    </tr>\n",
       "    <tr>\n",
       "      <th>2</th>\n",
       "      <td>False</td>\n",
       "    </tr>\n",
       "    <tr>\n",
       "      <th>3</th>\n",
       "      <td>False</td>\n",
       "    </tr>\n",
       "    <tr>\n",
       "      <th>4</th>\n",
       "      <td>False</td>\n",
       "    </tr>\n",
       "    <tr>\n",
       "      <th>...</th>\n",
       "      <td>...</td>\n",
       "    </tr>\n",
       "    <tr>\n",
       "      <th>99436</th>\n",
       "      <td>False</td>\n",
       "    </tr>\n",
       "    <tr>\n",
       "      <th>99437</th>\n",
       "      <td>False</td>\n",
       "    </tr>\n",
       "    <tr>\n",
       "      <th>99438</th>\n",
       "      <td>False</td>\n",
       "    </tr>\n",
       "    <tr>\n",
       "      <th>99439</th>\n",
       "      <td>False</td>\n",
       "    </tr>\n",
       "    <tr>\n",
       "      <th>99440</th>\n",
       "      <td>False</td>\n",
       "    </tr>\n",
       "  </tbody>\n",
       "</table>\n",
       "<p>99281 rows × 1 columns</p>\n",
       "</div>"
      ],
      "text/plain": [
       "       ODelay\n",
       "0       False\n",
       "1       False\n",
       "2       False\n",
       "3       False\n",
       "4       False\n",
       "...       ...\n",
       "99436   False\n",
       "99437   False\n",
       "99438   False\n",
       "99439   False\n",
       "99440   False\n",
       "\n",
       "[99281 rows x 1 columns]"
      ]
     },
     "execution_count": 174,
     "metadata": {},
     "output_type": "execute_result"
    }
   ],
   "source": [
    "df4=(df3 < (Q1 - 1.5 * IQR)) |(df3 > (Q3 + 1.5 * IQR))\n",
    "df4\n",
    "#The data point where we have False that means these values are valid whereas True indicates presence of an outlier."
   ]
  },
  {
   "cell_type": "markdown",
   "metadata": {},
   "source": [
    "As we now have the IQR scores, it’s time to get hold on outliers. The below code will give an output with some true and false values. The data point where we have False that means these values are valid whereas True indicates presence of an outlier."
   ]
  },
  {
   "cell_type": "code",
   "execution_count": 175,
   "metadata": {},
   "outputs": [
    {
     "data": {
      "text/plain": [
       "(90140, 1)"
      ]
     },
     "execution_count": 175,
     "metadata": {},
     "output_type": "execute_result"
    }
   ],
   "source": [
    "#Removing the outliers\n",
    "df5 = df3[~((df3 < (Q1 - 1.5 * IQR)) |(df3 > (Q3 + 1.5 * IQR))).any(axis=1)]\n",
    "df5.shape"
   ]
  },
  {
   "cell_type": "code",
   "execution_count": 176,
   "metadata": {},
   "outputs": [
    {
     "name": "stdout",
     "output_type": "stream",
     "text": [
      "Date Shape with Outliers\n",
      "(99281, 1)\n",
      "Date Shape without Outliers\n",
      "(90140, 1)\n"
     ]
    }
   ],
   "source": [
    "print('Date Shape with Outliers')\n",
    "print(df3.shape)\n",
    "print('Date Shape without Outliers')\n",
    "print(df5.shape)"
   ]
  },
  {
   "cell_type": "code",
   "execution_count": 177,
   "metadata": {},
   "outputs": [
    {
     "name": "stdout",
     "output_type": "stream",
     "text": [
      "Mean Delay  of Date with Outliers\n",
      "ODelay    10.419094\n",
      "dtype: float64\n",
      "Mean Delay  of Date without Outliers\n",
      "ODelay    5.204837\n",
      "dtype: float64\n"
     ]
    }
   ],
   "source": [
    "print('Mean Delay  of Date with Outliers')\n",
    "print(df3.mean())\n",
    "print('Mean Delay  of Date without Outliers')\n",
    "print(df5.mean())"
   ]
  },
  {
   "cell_type": "markdown",
   "metadata": {},
   "source": [
    "The average delay in this case reduced to 5"
   ]
  }
 ],
 "metadata": {
  "kernelspec": {
   "display_name": "Python 3",
   "language": "python",
   "name": "python3"
  },
  "language_info": {
   "codemirror_mode": {
    "name": "ipython",
    "version": 3
   },
   "file_extension": ".py",
   "mimetype": "text/x-python",
   "name": "python",
   "nbconvert_exporter": "python",
   "pygments_lexer": "ipython3",
   "version": "3.8.3"
  }
 },
 "nbformat": 4,
 "nbformat_minor": 4
}
