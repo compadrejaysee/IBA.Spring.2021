{
 "cells": [
  {
   "cell_type": "markdown",
   "metadata": {},
   "source": [
    "## Multivariate LSTM Forecast Model"
   ]
  },
  {
   "cell_type": "code",
   "execution_count": 57,
   "metadata": {},
   "outputs": [],
   "source": [
    "# import related libraries\n",
    "from sklearn.preprocessing import MinMaxScaler\n",
    "from sklearn.preprocessing import LabelEncoder\n",
    "from sklearn.metrics import mean_squared_error\n",
    "from keras.models import Sequential\n",
    "from keras.layers import Dense\n",
    "from keras.layers import LSTM\n",
    "from sklearn.preprocessing import LabelEncoder\n",
    "from sklearn.preprocessing import MinMaxScaler\n",
    "import pandas as pd\n",
    "import numpy as np\n",
    "import seaborn as sns\n",
    "from matplotlib import pyplot as plt\n",
    "import math \n",
    "from pandas import DataFrame\n",
    "from pandas import concat\n",
    "from numpy import concatenate"
   ]
  },
  {
   "cell_type": "code",
   "execution_count": 58,
   "metadata": {},
   "outputs": [],
   "source": [
    "import warnings\n",
    "warnings.filterwarnings(\"ignore\")"
   ]
  },
  {
   "cell_type": "code",
   "execution_count": 59,
   "metadata": {},
   "outputs": [],
   "source": [
    "# Reading File\n",
    "df =  pd.read_excel('CPI_Urban.xls')"
   ]
  },
  {
   "cell_type": "code",
   "execution_count": 60,
   "metadata": {},
   "outputs": [],
   "source": [
    "df = df.set_index('Date')\n",
    "df = df.dropna()"
   ]
  },
  {
   "cell_type": "code",
   "execution_count": 61,
   "metadata": {},
   "outputs": [],
   "source": [
    "def series_to_supervised(data, n_in=1, n_out=1, dropnan=True):\n",
    "    n_vars = 1 if type(data) is list else data.shape[1]\n",
    "    df = DataFrame(data)\n",
    "    cols, names = list(), list()\n",
    "    # input sequence (t-n, ... t-1)\n",
    "    for i in range(n_in, 0, -1):\n",
    "        cols.append(df.shift(i))\n",
    "        names += [('var%d(t-%d)' % (j+1, i)) for j in range(n_vars)]\n",
    "    # forecast sequence (t, t+1, ... t+n)\n",
    "    for i in range(0, n_out):\n",
    "        cols.append(df.shift(-i))\n",
    "        if i == 0:\n",
    "            names += [('var%d(t)' % (j+1)) for j in range(n_vars)]\n",
    "        else:\n",
    "            names += [('var%d(t+%d)' % (j+1, i)) for j in range(n_vars)]\n",
    "    # put it all together\n",
    "    agg = concat(cols, axis=1)\n",
    "    agg.columns = names\n",
    "    # drop rows with NaN values\n",
    "    if dropnan:\n",
    "        agg.dropna(inplace=True)\n",
    "    return agg"
   ]
  },
  {
   "cell_type": "code",
   "execution_count": 62,
   "metadata": {},
   "outputs": [
    {
     "data": {
      "text/plain": [
       "array([[0.00000000e+00, 0.00000000e+00, 0.00000000e+00, ...,\n",
       "        6.31178956e-03, 0.00000000e+00, 8.87167101e-02],\n",
       "       [0.00000000e+00, 5.19262411e-04, 3.68649927e-04, ...,\n",
       "        1.07514639e-02, 0.00000000e+00, 1.03937898e-01],\n",
       "       [0.00000000e+00, 2.94389464e-03, 1.36683664e-03, ...,\n",
       "        1.38152005e-02, 0.00000000e+00, 1.18357971e-01],\n",
       "       ...,\n",
       "       [9.82532343e-01, 9.69150692e-01, 9.66522536e-01, ...,\n",
       "        4.97045362e-01, 1.00000000e+00, 9.29439743e-01],\n",
       "       [9.85418303e-01, 9.18420718e-01, 9.68870117e-01, ...,\n",
       "        5.04508927e-01, 1.00000000e+00, 9.49853142e-01],\n",
       "       [1.00000000e+00, 8.99225593e-01, 1.00000000e+00, ...,\n",
       "        5.33439387e-01, 1.00000000e+00, 7.87777515e-01]])"
      ]
     },
     "execution_count": 62,
     "metadata": {},
     "output_type": "execute_result"
    }
   ],
   "source": [
    "# normalize features\n",
    "scaler = MinMaxScaler(feature_range=(0, 1))\n",
    "scaled = scaler.fit_transform(df)\n",
    "scaled"
   ]
  },
  {
   "cell_type": "code",
   "execution_count": 63,
   "metadata": {},
   "outputs": [],
   "source": [
    "# frame as supervised learning\n",
    "reframed = series_to_supervised(scaled, 1, 1)"
   ]
  },
  {
   "cell_type": "code",
   "execution_count": 64,
   "metadata": {},
   "outputs": [
    {
     "data": {
      "text/html": [
       "<div>\n",
       "<style scoped>\n",
       "    .dataframe tbody tr th:only-of-type {\n",
       "        vertical-align: middle;\n",
       "    }\n",
       "\n",
       "    .dataframe tbody tr th {\n",
       "        vertical-align: top;\n",
       "    }\n",
       "\n",
       "    .dataframe thead th {\n",
       "        text-align: right;\n",
       "    }\n",
       "</style>\n",
       "<table border=\"1\" class=\"dataframe\">\n",
       "  <thead>\n",
       "    <tr style=\"text-align: right;\">\n",
       "      <th></th>\n",
       "      <th>var1(t-1)</th>\n",
       "      <th>var2(t-1)</th>\n",
       "      <th>var3(t-1)</th>\n",
       "      <th>var4(t-1)</th>\n",
       "      <th>var5(t-1)</th>\n",
       "      <th>var6(t-1)</th>\n",
       "      <th>var7(t-1)</th>\n",
       "      <th>var8(t-1)</th>\n",
       "      <th>var9(t-1)</th>\n",
       "      <th>var10(t-1)</th>\n",
       "      <th>...</th>\n",
       "      <th>var10(t)</th>\n",
       "      <th>var11(t)</th>\n",
       "      <th>var12(t)</th>\n",
       "      <th>var13(t)</th>\n",
       "      <th>var14(t)</th>\n",
       "      <th>var15(t)</th>\n",
       "      <th>var16(t)</th>\n",
       "      <th>var17(t)</th>\n",
       "      <th>var18(t)</th>\n",
       "      <th>var19(t)</th>\n",
       "    </tr>\n",
       "  </thead>\n",
       "  <tbody>\n",
       "    <tr>\n",
       "      <th>1</th>\n",
       "      <td>0.0</td>\n",
       "      <td>0.000000</td>\n",
       "      <td>0.000000</td>\n",
       "      <td>0.000000</td>\n",
       "      <td>0.003603</td>\n",
       "      <td>0.027522</td>\n",
       "      <td>0.102578</td>\n",
       "      <td>0.407773</td>\n",
       "      <td>0.298246</td>\n",
       "      <td>0.076283</td>\n",
       "      <td>...</td>\n",
       "      <td>0.035898</td>\n",
       "      <td>0.003982</td>\n",
       "      <td>0.000290</td>\n",
       "      <td>0.000073</td>\n",
       "      <td>0.557675</td>\n",
       "      <td>0.035639</td>\n",
       "      <td>0.000251</td>\n",
       "      <td>0.010751</td>\n",
       "      <td>0.0</td>\n",
       "      <td>0.103938</td>\n",
       "    </tr>\n",
       "    <tr>\n",
       "      <th>2</th>\n",
       "      <td>0.0</td>\n",
       "      <td>0.000519</td>\n",
       "      <td>0.000369</td>\n",
       "      <td>0.000091</td>\n",
       "      <td>0.003603</td>\n",
       "      <td>0.022119</td>\n",
       "      <td>0.079005</td>\n",
       "      <td>0.407773</td>\n",
       "      <td>0.298246</td>\n",
       "      <td>0.035898</td>\n",
       "      <td>...</td>\n",
       "      <td>0.039161</td>\n",
       "      <td>0.000000</td>\n",
       "      <td>0.000513</td>\n",
       "      <td>0.001186</td>\n",
       "      <td>0.557675</td>\n",
       "      <td>0.000000</td>\n",
       "      <td>0.000000</td>\n",
       "      <td>0.013815</td>\n",
       "      <td>0.0</td>\n",
       "      <td>0.118358</td>\n",
       "    </tr>\n",
       "    <tr>\n",
       "      <th>3</th>\n",
       "      <td>0.0</td>\n",
       "      <td>0.002944</td>\n",
       "      <td>0.001367</td>\n",
       "      <td>0.000165</td>\n",
       "      <td>0.003603</td>\n",
       "      <td>0.018717</td>\n",
       "      <td>0.087863</td>\n",
       "      <td>0.407773</td>\n",
       "      <td>0.298246</td>\n",
       "      <td>0.039161</td>\n",
       "      <td>...</td>\n",
       "      <td>0.043241</td>\n",
       "      <td>0.001991</td>\n",
       "      <td>0.000419</td>\n",
       "      <td>0.001347</td>\n",
       "      <td>0.557675</td>\n",
       "      <td>0.035838</td>\n",
       "      <td>0.001476</td>\n",
       "      <td>0.016846</td>\n",
       "      <td>0.0</td>\n",
       "      <td>0.095126</td>\n",
       "    </tr>\n",
       "    <tr>\n",
       "      <th>4</th>\n",
       "      <td>0.0</td>\n",
       "      <td>0.007682</td>\n",
       "      <td>0.001359</td>\n",
       "      <td>0.000258</td>\n",
       "      <td>0.003603</td>\n",
       "      <td>0.018994</td>\n",
       "      <td>0.029573</td>\n",
       "      <td>0.472634</td>\n",
       "      <td>0.298246</td>\n",
       "      <td>0.043241</td>\n",
       "      <td>...</td>\n",
       "      <td>0.047728</td>\n",
       "      <td>0.005973</td>\n",
       "      <td>0.000224</td>\n",
       "      <td>0.001290</td>\n",
       "      <td>0.557675</td>\n",
       "      <td>0.054988</td>\n",
       "      <td>0.002776</td>\n",
       "      <td>0.019668</td>\n",
       "      <td>0.0</td>\n",
       "      <td>0.074777</td>\n",
       "    </tr>\n",
       "    <tr>\n",
       "      <th>5</th>\n",
       "      <td>0.0</td>\n",
       "      <td>0.011053</td>\n",
       "      <td>0.001848</td>\n",
       "      <td>0.000369</td>\n",
       "      <td>0.003603</td>\n",
       "      <td>0.022585</td>\n",
       "      <td>0.022573</td>\n",
       "      <td>0.508494</td>\n",
       "      <td>0.298246</td>\n",
       "      <td>0.047728</td>\n",
       "      <td>...</td>\n",
       "      <td>0.043649</td>\n",
       "      <td>0.011946</td>\n",
       "      <td>0.001769</td>\n",
       "      <td>0.000965</td>\n",
       "      <td>0.557675</td>\n",
       "      <td>0.021924</td>\n",
       "      <td>0.002956</td>\n",
       "      <td>0.022323</td>\n",
       "      <td>0.0</td>\n",
       "      <td>0.076540</td>\n",
       "    </tr>\n",
       "  </tbody>\n",
       "</table>\n",
       "<p>5 rows × 38 columns</p>\n",
       "</div>"
      ],
      "text/plain": [
       "   var1(t-1)  var2(t-1)  var3(t-1)  var4(t-1)  var5(t-1)  var6(t-1)  \\\n",
       "1        0.0   0.000000   0.000000   0.000000   0.003603   0.027522   \n",
       "2        0.0   0.000519   0.000369   0.000091   0.003603   0.022119   \n",
       "3        0.0   0.002944   0.001367   0.000165   0.003603   0.018717   \n",
       "4        0.0   0.007682   0.001359   0.000258   0.003603   0.018994   \n",
       "5        0.0   0.011053   0.001848   0.000369   0.003603   0.022585   \n",
       "\n",
       "   var7(t-1)  var8(t-1)  var9(t-1)  var10(t-1)  ...  var10(t)  var11(t)  \\\n",
       "1   0.102578   0.407773   0.298246    0.076283  ...  0.035898  0.003982   \n",
       "2   0.079005   0.407773   0.298246    0.035898  ...  0.039161  0.000000   \n",
       "3   0.087863   0.407773   0.298246    0.039161  ...  0.043241  0.001991   \n",
       "4   0.029573   0.472634   0.298246    0.043241  ...  0.047728  0.005973   \n",
       "5   0.022573   0.508494   0.298246    0.047728  ...  0.043649  0.011946   \n",
       "\n",
       "   var12(t)  var13(t)  var14(t)  var15(t)  var16(t)  var17(t)  var18(t)  \\\n",
       "1  0.000290  0.000073  0.557675  0.035639  0.000251  0.010751       0.0   \n",
       "2  0.000513  0.001186  0.557675  0.000000  0.000000  0.013815       0.0   \n",
       "3  0.000419  0.001347  0.557675  0.035838  0.001476  0.016846       0.0   \n",
       "4  0.000224  0.001290  0.557675  0.054988  0.002776  0.019668       0.0   \n",
       "5  0.001769  0.000965  0.557675  0.021924  0.002956  0.022323       0.0   \n",
       "\n",
       "   var19(t)  \n",
       "1  0.103938  \n",
       "2  0.118358  \n",
       "3  0.095126  \n",
       "4  0.074777  \n",
       "5  0.076540  \n",
       "\n",
       "[5 rows x 38 columns]"
      ]
     },
     "execution_count": 64,
     "metadata": {},
     "output_type": "execute_result"
    }
   ],
   "source": [
    "reframed.head(5)"
   ]
  },
  {
   "cell_type": "code",
   "execution_count": 65,
   "metadata": {},
   "outputs": [
    {
     "data": {
      "text/plain": [
       "var1(t-1)     float64\n",
       "var2(t-1)     float64\n",
       "var3(t-1)     float64\n",
       "var4(t-1)     float64\n",
       "var5(t-1)     float64\n",
       "var6(t-1)     float64\n",
       "var7(t-1)     float64\n",
       "var8(t-1)     float64\n",
       "var9(t-1)     float64\n",
       "var10(t-1)    float64\n",
       "var11(t-1)    float64\n",
       "var12(t-1)    float64\n",
       "var13(t-1)    float64\n",
       "var14(t-1)    float64\n",
       "var15(t-1)    float64\n",
       "var16(t-1)    float64\n",
       "var17(t-1)    float64\n",
       "var18(t-1)    float64\n",
       "var19(t-1)    float64\n",
       "var1(t)       float64\n",
       "var2(t)       float64\n",
       "var3(t)       float64\n",
       "var4(t)       float64\n",
       "var5(t)       float64\n",
       "var6(t)       float64\n",
       "var7(t)       float64\n",
       "var8(t)       float64\n",
       "var9(t)       float64\n",
       "var10(t)      float64\n",
       "var11(t)      float64\n",
       "var12(t)      float64\n",
       "var13(t)      float64\n",
       "var14(t)      float64\n",
       "var15(t)      float64\n",
       "var16(t)      float64\n",
       "var17(t)      float64\n",
       "var18(t)      float64\n",
       "var19(t)      float64\n",
       "dtype: object"
      ]
     },
     "execution_count": 65,
     "metadata": {},
     "output_type": "execute_result"
    }
   ],
   "source": [
    "reframed.dtypes"
   ]
  },
  {
   "cell_type": "code",
   "execution_count": 66,
   "metadata": {},
   "outputs": [
    {
     "data": {
      "text/plain": [
       "var1(t-1)     float64\n",
       "var2(t-1)     float64\n",
       "var3(t-1)     float64\n",
       "var4(t-1)     float64\n",
       "var5(t-1)     float64\n",
       "var6(t-1)     float64\n",
       "var7(t-1)     float64\n",
       "var8(t-1)     float64\n",
       "var9(t-1)     float64\n",
       "var10(t-1)    float64\n",
       "var11(t-1)    float64\n",
       "var12(t-1)    float64\n",
       "var13(t-1)    float64\n",
       "var14(t-1)    float64\n",
       "var15(t-1)    float64\n",
       "var16(t-1)    float64\n",
       "var17(t-1)    float64\n",
       "var18(t-1)    float64\n",
       "var19(t-1)    float64\n",
       "var1(t)       float64\n",
       "dtype: object"
      ]
     },
     "execution_count": 66,
     "metadata": {},
     "output_type": "execute_result"
    }
   ],
   "source": [
    "a = range(20,38,1)\n",
    "reframed.drop(reframed.columns[a], axis=1, inplace=True)\n",
    "reframed.dtypes"
   ]
  },
  {
   "cell_type": "code",
   "execution_count": 73,
   "metadata": {},
   "outputs": [
    {
     "name": "stdout",
     "output_type": "stream",
     "text": [
      "(351, 1, 19) (351,) (12, 1, 19) (12,)\n"
     ]
    }
   ],
   "source": [
    "values = reframed.values\n",
    "train = values[:-12, :]\n",
    "test = values[-12:]\n",
    "# split into input and outputs\n",
    "train_X, train_y = train[:, :-1], train[:, -1]\n",
    "test_X, test_y = test[:, :-1], test[:, -1]\n",
    "# reshape input to be 3D [samples, timesteps, features]\n",
    "train_X = train_X.reshape((train_X.shape[0], 1, train_X.shape[1]))\n",
    "test_X = test_X.reshape((test_X.shape[0], 1, test_X.shape[1]))\n",
    "print(train_X.shape, train_y.shape, test_X.shape, test_y.shape)"
   ]
  },
  {
   "cell_type": "code",
   "execution_count": 68,
   "metadata": {},
   "outputs": [
    {
     "name": "stdout",
     "output_type": "stream",
     "text": [
      "Train on 351 samples, validate on 12 samples\n",
      "Epoch 1/50\n",
      " - 1s - loss: 0.3129 - val_loss: 0.8686\n",
      "Epoch 2/50\n",
      " - 0s - loss: 0.2290 - val_loss: 0.7250\n",
      "Epoch 3/50\n",
      " - 0s - loss: 0.1625 - val_loss: 0.5863\n",
      "Epoch 4/50\n",
      " - 0s - loss: 0.1206 - val_loss: 0.4601\n",
      "Epoch 5/50\n",
      " - 0s - loss: 0.1020 - val_loss: 0.3509\n",
      "Epoch 6/50\n",
      " - 0s - loss: 0.0889 - val_loss: 0.2620\n",
      "Epoch 7/50\n",
      " - 0s - loss: 0.0815 - val_loss: 0.1950\n",
      "Epoch 8/50\n",
      " - 0s - loss: 0.0715 - val_loss: 0.1459\n",
      "Epoch 9/50\n",
      " - 0s - loss: 0.0594 - val_loss: 0.1146\n",
      "Epoch 10/50\n",
      " - 0s - loss: 0.0450 - val_loss: 0.1055\n",
      "Epoch 11/50\n",
      " - 0s - loss: 0.0343 - val_loss: 0.0906\n",
      "Epoch 12/50\n",
      " - 0s - loss: 0.0302 - val_loss: 0.0556\n",
      "Epoch 13/50\n",
      " - 0s - loss: 0.0301 - val_loss: 0.0291\n",
      "Epoch 14/50\n",
      " - 0s - loss: 0.0286 - val_loss: 0.0257\n",
      "Epoch 15/50\n",
      " - 0s - loss: 0.0254 - val_loss: 0.0333\n",
      "Epoch 16/50\n",
      " - 0s - loss: 0.0235 - val_loss: 0.0339\n",
      "Epoch 17/50\n",
      " - 0s - loss: 0.0215 - val_loss: 0.0235\n",
      "Epoch 18/50\n",
      " - 0s - loss: 0.0202 - val_loss: 0.0177\n",
      "Epoch 19/50\n",
      " - 0s - loss: 0.0187 - val_loss: 0.0165\n",
      "Epoch 20/50\n",
      " - 0s - loss: 0.0174 - val_loss: 0.0174\n",
      "Epoch 21/50\n",
      " - 0s - loss: 0.0167 - val_loss: 0.0176\n",
      "Epoch 22/50\n",
      " - 0s - loss: 0.0160 - val_loss: 0.0184\n",
      "Epoch 23/50\n",
      " - 0s - loss: 0.0164 - val_loss: 0.0163\n",
      "Epoch 24/50\n",
      " - 0s - loss: 0.0148 - val_loss: 0.0204\n",
      "Epoch 25/50\n",
      " - 0s - loss: 0.0143 - val_loss: 0.0179\n",
      "Epoch 26/50\n",
      " - 0s - loss: 0.0137 - val_loss: 0.0191\n",
      "Epoch 27/50\n",
      " - 0s - loss: 0.0132 - val_loss: 0.0191\n",
      "Epoch 28/50\n",
      " - 0s - loss: 0.0129 - val_loss: 0.0173\n",
      "Epoch 29/50\n",
      " - 0s - loss: 0.0122 - val_loss: 0.0185\n",
      "Epoch 30/50\n",
      " - 0s - loss: 0.0118 - val_loss: 0.0162\n",
      "Epoch 31/50\n",
      " - 0s - loss: 0.0113 - val_loss: 0.0169\n",
      "Epoch 32/50\n",
      " - 0s - loss: 0.0109 - val_loss: 0.0160\n",
      "Epoch 33/50\n",
      " - 0s - loss: 0.0107 - val_loss: 0.0155\n",
      "Epoch 34/50\n",
      " - 0s - loss: 0.0104 - val_loss: 0.0149\n",
      "Epoch 35/50\n",
      " - 0s - loss: 0.0103 - val_loss: 0.0148\n",
      "Epoch 36/50\n",
      " - 0s - loss: 0.0105 - val_loss: 0.0146\n",
      "Epoch 37/50\n",
      " - 0s - loss: 0.0121 - val_loss: 0.0131\n",
      "Epoch 38/50\n",
      " - 0s - loss: 0.0127 - val_loss: 0.0177\n",
      "Epoch 39/50\n",
      " - 0s - loss: 0.0123 - val_loss: 0.0127\n",
      "Epoch 40/50\n",
      " - 0s - loss: 0.0120 - val_loss: 0.0189\n",
      "Epoch 41/50\n",
      " - 0s - loss: 0.0112 - val_loss: 0.0128\n",
      "Epoch 42/50\n",
      " - 0s - loss: 0.0107 - val_loss: 0.0179\n",
      "Epoch 43/50\n",
      " - 0s - loss: 0.0104 - val_loss: 0.0122\n",
      "Epoch 44/50\n",
      " - 0s - loss: 0.0097 - val_loss: 0.0152\n",
      "Epoch 45/50\n",
      " - 0s - loss: 0.0102 - val_loss: 0.0120\n",
      "Epoch 46/50\n",
      " - 0s - loss: 0.0099 - val_loss: 0.0137\n",
      "Epoch 47/50\n",
      " - 0s - loss: 0.0114 - val_loss: 0.0120\n",
      "Epoch 48/50\n",
      " - 0s - loss: 0.0119 - val_loss: 0.0167\n",
      "Epoch 49/50\n",
      " - 0s - loss: 0.0108 - val_loss: 0.0120\n",
      "Epoch 50/50\n",
      " - 0s - loss: 0.0104 - val_loss: 0.0161\n"
     ]
    },
    {
     "data": {
      "image/png": "[encoded data removed]",
      "text/plain": [
       "<Figure size 432x288 with 1 Axes>"
      ]
     },
     "metadata": {
      "needs_background": "light"
     },
     "output_type": "display_data"
    }
   ],
   "source": [
    "model = Sequential()\n",
    "model.add(LSTM(50, input_shape=(train_X.shape[1], train_X.shape[2])))\n",
    "model.add(Dense(1))\n",
    "model.compile(loss='mae', optimizer='adam')\n",
    "# fit network\n",
    "history = model.fit(train_X, train_y, epochs=50, batch_size=72, validation_data=(test_X, test_y), verbose=2, shuffle=False)\n",
    "# plot history\n",
    "plt.plot(history.history['loss'], label='train')\n",
    "plt.plot(history.history['val_loss'], label='test')\n",
    "plt.legend()\n",
    "plt.show()"
   ]
  },
  {
   "cell_type": "code",
   "execution_count": 69,
   "metadata": {},
   "outputs": [
    {
     "name": "stdout",
     "output_type": "stream",
     "text": [
      "Test RMSE: 2.352\n"
     ]
    }
   ],
   "source": [
    "#make a prediction\n",
    "yhat = model.predict(test_X)\n",
    "test_X = test_X.reshape((test_X.shape[0], test_X.shape[2]))\n",
    "# invert scaling for forecast\n",
    "inv_yhat = concatenate((yhat, test_X[:, 1:]), axis=1)\n",
    "inv_yhat = scaler.inverse_transform(inv_yhat)\n",
    "inv_yhat = inv_yhat[:,0]\n",
    "# invert scaling for actual\n",
    "test_y = test_y.reshape((len(test_y), 1))\n",
    "inv_y = concatenate((test_y, test_X[:, 1:]), axis=1)\n",
    "inv_y = scaler.inverse_transform(inv_y)\n",
    "inv_y = inv_y[:,0]\n",
    "# calculate RMSE\n",
    "rmse = math.sqrt(mean_squared_error(inv_y, inv_yhat))\n",
    "print('Test RMSE: %.3f' % rmse)"
   ]
  },
  {
   "cell_type": "code",
   "execution_count": 70,
   "metadata": {},
   "outputs": [
    {
     "data": {
      "image/png": "[encoded data removed]",
      "text/plain": [
       "<Figure size 432x288 with 1 Axes>"
      ]
     },
     "metadata": {
      "needs_background": "light"
     },
     "output_type": "display_data"
    }
   ],
   "source": [
    "#Ploting Fitted and Actual values\n",
    "plt.plot(inv_y,color=\"gray\")\n",
    "plt.plot(inv_yhat,color=\"red\")\n",
    "plt.show()"
   ]
  },
  {
   "cell_type": "code",
   "execution_count": null,
   "metadata": {},
   "outputs": [],
   "source": []
  }
 ],
 "metadata": {
  "kernelspec": {
   "display_name": "Python 3.6 (tensorflow)",
   "language": "python",
   "name": "tensorflow"
  },
  "language_info": {
   "codemirror_mode": {
    "name": "ipython",
    "version": 3
   },
   "file_extension": ".py",
   "mimetype": "text/x-python",
   "name": "python",
   "nbconvert_exporter": "python",
   "pygments_lexer": "ipython3",
   "version": "3.6.8"
  }
 },
 "nbformat": 4,
 "nbformat_minor": 2
}
